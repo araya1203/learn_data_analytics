{
  "nbformat": 4,
  "nbformat_minor": 0,
  "metadata": {
    "colab": {
      "name": "년간 전국 기온변화.ipynb",
      "provenance": [],
      "collapsed_sections": [],
      "include_colab_link": true
    },
    "kernelspec": {
      "name": "python3",
      "display_name": "Python 3"
    },
    "language_info": {
      "name": "python"
    }
  },
  "cells": [
    {
      "cell_type": "markdown",
      "metadata": {
        "id": "view-in-github",
        "colab_type": "text"
      },
      "source": [
        "<a href=\"https://colab.research.google.com/github/SanghunOh/with_data_analytics/blob/main/codes/%EB%85%84%EA%B0%84_%EC%A0%84%EA%B5%AD_%EA%B8%B0%EC%98%A8%EB%B3%80%ED%99%94.ipynb\" target=\"_parent\"><img src=\"https://colab.research.google.com/assets/colab-badge.svg\" alt=\"Open In Colab\"/></a>"
      ]
    },
    {
      "cell_type": "markdown",
      "source": [
        "##Connect google Drive"
      ],
      "metadata": {
        "id": "uWoRiKEZTbe9"
      }
    },
    {
      "cell_type": "code",
      "source": [
        "from google.colab import drive\n",
        "drive.mount('/content/drive')"
      ],
      "metadata": {
        "colab": {
          "base_uri": "https://localhost:8080/"
        },
        "id": "hkkFQ-vxIkn4",
        "outputId": "89181dbb-8708-41ce-b225-aa09061d2a7a"
      },
      "execution_count": 1,
      "outputs": [
        {
          "output_type": "stream",
          "name": "stdout",
          "text": [
            "Mounted at /content/drive\n"
          ]
        }
      ]
    },
    {
      "cell_type": "code",
      "source": [
        "path_root = '/content/drive/MyDrive/datas/'\n",
        "\n",
        "# 작업 경로 설정\n",
        "import os\n",
        "os.chdir(path_root)\n",
        "!pwd"
      ],
      "metadata": {
        "colab": {
          "base_uri": "https://localhost:8080/"
        },
        "id": "02oWGnwTTe4Q",
        "outputId": "50252dfa-73c7-4d85-de0f-735d76bf1e84"
      },
      "execution_count": 2,
      "outputs": [
        {
          "output_type": "stream",
          "name": "stdout",
          "text": [
            "/content/drive/.shortcut-targets-by-id/1tHYgEz3lQF-LmtFPXRgMBDh4UN54qeAs/datas\n"
          ]
        }
      ]
    },
    {
      "cell_type": "code",
      "source": [
        "import glob\n",
        "\n",
        "filename_list = []\n",
        "for file_name in glob.glob(\"./kma_ASOS_*.csv\"):\n",
        "    filename_list.append(file_name)\n",
        "filename_list"
      ],
      "metadata": {
        "colab": {
          "base_uri": "https://localhost:8080/"
        },
        "id": "K1w3joZRODfE",
        "outputId": "7d974679-1f8b-4064-d73d-c2d67f8cc8cb"
      },
      "execution_count": 3,
      "outputs": [
        {
          "output_type": "execute_result",
          "data": {
            "text/plain": [
              "['./kma_ASOS_1945_1954.csv', './kma_ASOS_1955_1964.csv']"
            ]
          },
          "metadata": {},
          "execution_count": 3
        }
      ]
    },
    {
      "cell_type": "markdown",
      "source": [
        "##read csv from files and concat DataFrammes"
      ],
      "metadata": {
        "id": "JdYfl8_4UUJ5"
      }
    },
    {
      "cell_type": "code",
      "execution_count": 4,
      "metadata": {
        "id": "3nLb2XpUmdcH"
      },
      "outputs": [],
      "source": [
        "import pandas as pd"
      ]
    },
    {
      "cell_type": "code",
      "source": [
        "df_csv_list = list()\n",
        "for file_name in filename_list:\n",
        "  df_csv_list.append(pd.read_csv(file_name, encoding='cp949'))\n",
        "\n",
        "df_concat = pd.concat(df_csv_list)\n",
        "# df_concat"
      ],
      "metadata": {
        "id": "aTBPwfjpO1Xz"
      },
      "execution_count": 6,
      "outputs": []
    },
    {
      "cell_type": "code",
      "source": [
        "# show all rows\n",
        "# pd.options.display.max_rows = df_concat.shape[0]\n",
        "df_concat"
      ],
      "metadata": {
        "colab": {
          "base_uri": "https://localhost:8080/",
          "height": 659
        },
        "id": "T_KMKG4hUGB-",
        "outputId": "6c0570ec-4039-4b2b-cabd-0585e77f8438"
      },
      "execution_count": 7,
      "outputs": [
        {
          "output_type": "execute_result",
          "data": {
            "text/plain": [
              "        지점  지점명          일시  평균기온(°C)  최저기온(°C)  최저기온 시각(hhmi)  최고기온(°C)  \\\n",
              "0      105   강릉  1945-01-01      -3.2      -6.8            NaN       0.7   \n",
              "1      105   강릉  1945-01-02      -3.6      -8.4            NaN       0.5   \n",
              "2      105   강릉  1945-01-03       0.9      -4.0            NaN       5.0   \n",
              "3      105   강릉  1945-01-04       1.1      -3.2            NaN       4.9   \n",
              "4      105   강릉  1945-01-05      -5.7      -9.1            NaN      -1.4   \n",
              "...    ...  ...         ...       ...       ...            ...       ...   \n",
              "52963  189  서귀포  1964-12-27       9.3       4.4         2307.0      14.1   \n",
              "52964  189  서귀포  1964-12-28       8.6       3.2          323.0      13.2   \n",
              "52965  189  서귀포  1964-12-29       8.4       3.6          602.0      15.1   \n",
              "52966  189  서귀포  1964-12-30      10.1       3.8         2348.0      14.5   \n",
              "52967  189  서귀포  1964-12-31       7.0       3.2           36.0      10.4   \n",
              "\n",
              "       최고기온 시각(hhmi)  \n",
              "0                NaN  \n",
              "1                NaN  \n",
              "2                NaN  \n",
              "3                NaN  \n",
              "4                NaN  \n",
              "...              ...  \n",
              "52963         1227.0  \n",
              "52964         1238.0  \n",
              "52965         1318.0  \n",
              "52966         1328.0  \n",
              "52967         1115.0  \n",
              "\n",
              "[97719 rows x 8 columns]"
            ],
            "text/html": [
              "\n",
              "  <div id=\"df-3c80efab-782f-4f99-a9d8-4babc67e30e7\">\n",
              "    <div class=\"colab-df-container\">\n",
              "      <div>\n",
              "<style scoped>\n",
              "    .dataframe tbody tr th:only-of-type {\n",
              "        vertical-align: middle;\n",
              "    }\n",
              "\n",
              "    .dataframe tbody tr th {\n",
              "        vertical-align: top;\n",
              "    }\n",
              "\n",
              "    .dataframe thead th {\n",
              "        text-align: right;\n",
              "    }\n",
              "</style>\n",
              "<table border=\"1\" class=\"dataframe\">\n",
              "  <thead>\n",
              "    <tr style=\"text-align: right;\">\n",
              "      <th></th>\n",
              "      <th>지점</th>\n",
              "      <th>지점명</th>\n",
              "      <th>일시</th>\n",
              "      <th>평균기온(°C)</th>\n",
              "      <th>최저기온(°C)</th>\n",
              "      <th>최저기온 시각(hhmi)</th>\n",
              "      <th>최고기온(°C)</th>\n",
              "      <th>최고기온 시각(hhmi)</th>\n",
              "    </tr>\n",
              "  </thead>\n",
              "  <tbody>\n",
              "    <tr>\n",
              "      <th>0</th>\n",
              "      <td>105</td>\n",
              "      <td>강릉</td>\n",
              "      <td>1945-01-01</td>\n",
              "      <td>-3.2</td>\n",
              "      <td>-6.8</td>\n",
              "      <td>NaN</td>\n",
              "      <td>0.7</td>\n",
              "      <td>NaN</td>\n",
              "    </tr>\n",
              "    <tr>\n",
              "      <th>1</th>\n",
              "      <td>105</td>\n",
              "      <td>강릉</td>\n",
              "      <td>1945-01-02</td>\n",
              "      <td>-3.6</td>\n",
              "      <td>-8.4</td>\n",
              "      <td>NaN</td>\n",
              "      <td>0.5</td>\n",
              "      <td>NaN</td>\n",
              "    </tr>\n",
              "    <tr>\n",
              "      <th>2</th>\n",
              "      <td>105</td>\n",
              "      <td>강릉</td>\n",
              "      <td>1945-01-03</td>\n",
              "      <td>0.9</td>\n",
              "      <td>-4.0</td>\n",
              "      <td>NaN</td>\n",
              "      <td>5.0</td>\n",
              "      <td>NaN</td>\n",
              "    </tr>\n",
              "    <tr>\n",
              "      <th>3</th>\n",
              "      <td>105</td>\n",
              "      <td>강릉</td>\n",
              "      <td>1945-01-04</td>\n",
              "      <td>1.1</td>\n",
              "      <td>-3.2</td>\n",
              "      <td>NaN</td>\n",
              "      <td>4.9</td>\n",
              "      <td>NaN</td>\n",
              "    </tr>\n",
              "    <tr>\n",
              "      <th>4</th>\n",
              "      <td>105</td>\n",
              "      <td>강릉</td>\n",
              "      <td>1945-01-05</td>\n",
              "      <td>-5.7</td>\n",
              "      <td>-9.1</td>\n",
              "      <td>NaN</td>\n",
              "      <td>-1.4</td>\n",
              "      <td>NaN</td>\n",
              "    </tr>\n",
              "    <tr>\n",
              "      <th>...</th>\n",
              "      <td>...</td>\n",
              "      <td>...</td>\n",
              "      <td>...</td>\n",
              "      <td>...</td>\n",
              "      <td>...</td>\n",
              "      <td>...</td>\n",
              "      <td>...</td>\n",
              "      <td>...</td>\n",
              "    </tr>\n",
              "    <tr>\n",
              "      <th>52963</th>\n",
              "      <td>189</td>\n",
              "      <td>서귀포</td>\n",
              "      <td>1964-12-27</td>\n",
              "      <td>9.3</td>\n",
              "      <td>4.4</td>\n",
              "      <td>2307.0</td>\n",
              "      <td>14.1</td>\n",
              "      <td>1227.0</td>\n",
              "    </tr>\n",
              "    <tr>\n",
              "      <th>52964</th>\n",
              "      <td>189</td>\n",
              "      <td>서귀포</td>\n",
              "      <td>1964-12-28</td>\n",
              "      <td>8.6</td>\n",
              "      <td>3.2</td>\n",
              "      <td>323.0</td>\n",
              "      <td>13.2</td>\n",
              "      <td>1238.0</td>\n",
              "    </tr>\n",
              "    <tr>\n",
              "      <th>52965</th>\n",
              "      <td>189</td>\n",
              "      <td>서귀포</td>\n",
              "      <td>1964-12-29</td>\n",
              "      <td>8.4</td>\n",
              "      <td>3.6</td>\n",
              "      <td>602.0</td>\n",
              "      <td>15.1</td>\n",
              "      <td>1318.0</td>\n",
              "    </tr>\n",
              "    <tr>\n",
              "      <th>52966</th>\n",
              "      <td>189</td>\n",
              "      <td>서귀포</td>\n",
              "      <td>1964-12-30</td>\n",
              "      <td>10.1</td>\n",
              "      <td>3.8</td>\n",
              "      <td>2348.0</td>\n",
              "      <td>14.5</td>\n",
              "      <td>1328.0</td>\n",
              "    </tr>\n",
              "    <tr>\n",
              "      <th>52967</th>\n",
              "      <td>189</td>\n",
              "      <td>서귀포</td>\n",
              "      <td>1964-12-31</td>\n",
              "      <td>7.0</td>\n",
              "      <td>3.2</td>\n",
              "      <td>36.0</td>\n",
              "      <td>10.4</td>\n",
              "      <td>1115.0</td>\n",
              "    </tr>\n",
              "  </tbody>\n",
              "</table>\n",
              "<p>97719 rows × 8 columns</p>\n",
              "</div>\n",
              "      <button class=\"colab-df-convert\" onclick=\"convertToInteractive('df-3c80efab-782f-4f99-a9d8-4babc67e30e7')\"\n",
              "              title=\"Convert this dataframe to an interactive table.\"\n",
              "              style=\"display:none;\">\n",
              "        \n",
              "  <svg xmlns=\"http://www.w3.org/2000/svg\" height=\"24px\"viewBox=\"0 0 24 24\"\n",
              "       width=\"24px\">\n",
              "    <path d=\"M0 0h24v24H0V0z\" fill=\"none\"/>\n",
              "    <path d=\"M18.56 5.44l.94 2.06.94-2.06 2.06-.94-2.06-.94-.94-2.06-.94 2.06-2.06.94zm-11 1L8.5 8.5l.94-2.06 2.06-.94-2.06-.94L8.5 2.5l-.94 2.06-2.06.94zm10 10l.94 2.06.94-2.06 2.06-.94-2.06-.94-.94-2.06-.94 2.06-2.06.94z\"/><path d=\"M17.41 7.96l-1.37-1.37c-.4-.4-.92-.59-1.43-.59-.52 0-1.04.2-1.43.59L10.3 9.45l-7.72 7.72c-.78.78-.78 2.05 0 2.83L4 21.41c.39.39.9.59 1.41.59.51 0 1.02-.2 1.41-.59l7.78-7.78 2.81-2.81c.8-.78.8-2.07 0-2.86zM5.41 20L4 18.59l7.72-7.72 1.47 1.35L5.41 20z\"/>\n",
              "  </svg>\n",
              "      </button>\n",
              "      \n",
              "  <style>\n",
              "    .colab-df-container {\n",
              "      display:flex;\n",
              "      flex-wrap:wrap;\n",
              "      gap: 12px;\n",
              "    }\n",
              "\n",
              "    .colab-df-convert {\n",
              "      background-color: #E8F0FE;\n",
              "      border: none;\n",
              "      border-radius: 50%;\n",
              "      cursor: pointer;\n",
              "      display: none;\n",
              "      fill: #1967D2;\n",
              "      height: 32px;\n",
              "      padding: 0 0 0 0;\n",
              "      width: 32px;\n",
              "    }\n",
              "\n",
              "    .colab-df-convert:hover {\n",
              "      background-color: #E2EBFA;\n",
              "      box-shadow: 0px 1px 2px rgba(60, 64, 67, 0.3), 0px 1px 3px 1px rgba(60, 64, 67, 0.15);\n",
              "      fill: #174EA6;\n",
              "    }\n",
              "\n",
              "    [theme=dark] .colab-df-convert {\n",
              "      background-color: #3B4455;\n",
              "      fill: #D2E3FC;\n",
              "    }\n",
              "\n",
              "    [theme=dark] .colab-df-convert:hover {\n",
              "      background-color: #434B5C;\n",
              "      box-shadow: 0px 1px 3px 1px rgba(0, 0, 0, 0.15);\n",
              "      filter: drop-shadow(0px 1px 2px rgba(0, 0, 0, 0.3));\n",
              "      fill: #FFFFFF;\n",
              "    }\n",
              "  </style>\n",
              "\n",
              "      <script>\n",
              "        const buttonEl =\n",
              "          document.querySelector('#df-3c80efab-782f-4f99-a9d8-4babc67e30e7 button.colab-df-convert');\n",
              "        buttonEl.style.display =\n",
              "          google.colab.kernel.accessAllowed ? 'block' : 'none';\n",
              "\n",
              "        async function convertToInteractive(key) {\n",
              "          const element = document.querySelector('#df-3c80efab-782f-4f99-a9d8-4babc67e30e7');\n",
              "          const dataTable =\n",
              "            await google.colab.kernel.invokeFunction('convertToInteractive',\n",
              "                                                     [key], {});\n",
              "          if (!dataTable) return;\n",
              "\n",
              "          const docLinkHtml = 'Like what you see? Visit the ' +\n",
              "            '<a target=\"_blank\" href=https://colab.research.google.com/notebooks/data_table.ipynb>data table notebook</a>'\n",
              "            + ' to learn more about interactive tables.';\n",
              "          element.innerHTML = '';\n",
              "          dataTable['output_type'] = 'display_data';\n",
              "          await google.colab.output.renderOutput(dataTable, element);\n",
              "          const docLink = document.createElement('div');\n",
              "          docLink.innerHTML = docLinkHtml;\n",
              "          element.appendChild(docLink);\n",
              "        }\n",
              "      </script>\n",
              "    </div>\n",
              "  </div>\n",
              "  "
            ]
          },
          "metadata": {},
          "execution_count": 7
        }
      ]
    },
    {
      "cell_type": "code",
      "source": [
        "df_concat.loc[0]"
      ],
      "metadata": {
        "colab": {
          "base_uri": "https://localhost:8080/",
          "height": 208
        },
        "id": "MdUEXK61Jo5p",
        "outputId": "4b3a8ea5-2991-41f8-e951-73c9b4f000b2"
      },
      "execution_count": 10,
      "outputs": [
        {
          "output_type": "execute_result",
          "data": {
            "text/plain": [
              "    지점 지점명          일시  평균기온(°C)  최저기온(°C)  최저기온 시각(hhmi)  최고기온(°C)  \\\n",
              "0  105  강릉  1945-01-01      -3.2      -6.8            NaN       0.7   \n",
              "0  105  강릉  1955-01-01       0.0      -4.7            NaN       5.6   \n",
              "\n",
              "   최고기온 시각(hhmi)  \n",
              "0            NaN  \n",
              "0            NaN  "
            ],
            "text/html": [
              "\n",
              "  <div id=\"df-927dc216-092a-4b3f-8fee-e50cb5ea9860\">\n",
              "    <div class=\"colab-df-container\">\n",
              "      <div>\n",
              "<style scoped>\n",
              "    .dataframe tbody tr th:only-of-type {\n",
              "        vertical-align: middle;\n",
              "    }\n",
              "\n",
              "    .dataframe tbody tr th {\n",
              "        vertical-align: top;\n",
              "    }\n",
              "\n",
              "    .dataframe thead th {\n",
              "        text-align: right;\n",
              "    }\n",
              "</style>\n",
              "<table border=\"1\" class=\"dataframe\">\n",
              "  <thead>\n",
              "    <tr style=\"text-align: right;\">\n",
              "      <th></th>\n",
              "      <th>지점</th>\n",
              "      <th>지점명</th>\n",
              "      <th>일시</th>\n",
              "      <th>평균기온(°C)</th>\n",
              "      <th>최저기온(°C)</th>\n",
              "      <th>최저기온 시각(hhmi)</th>\n",
              "      <th>최고기온(°C)</th>\n",
              "      <th>최고기온 시각(hhmi)</th>\n",
              "    </tr>\n",
              "  </thead>\n",
              "  <tbody>\n",
              "    <tr>\n",
              "      <th>0</th>\n",
              "      <td>105</td>\n",
              "      <td>강릉</td>\n",
              "      <td>1945-01-01</td>\n",
              "      <td>-3.2</td>\n",
              "      <td>-6.8</td>\n",
              "      <td>NaN</td>\n",
              "      <td>0.7</td>\n",
              "      <td>NaN</td>\n",
              "    </tr>\n",
              "    <tr>\n",
              "      <th>0</th>\n",
              "      <td>105</td>\n",
              "      <td>강릉</td>\n",
              "      <td>1955-01-01</td>\n",
              "      <td>0.0</td>\n",
              "      <td>-4.7</td>\n",
              "      <td>NaN</td>\n",
              "      <td>5.6</td>\n",
              "      <td>NaN</td>\n",
              "    </tr>\n",
              "  </tbody>\n",
              "</table>\n",
              "</div>\n",
              "      <button class=\"colab-df-convert\" onclick=\"convertToInteractive('df-927dc216-092a-4b3f-8fee-e50cb5ea9860')\"\n",
              "              title=\"Convert this dataframe to an interactive table.\"\n",
              "              style=\"display:none;\">\n",
              "        \n",
              "  <svg xmlns=\"http://www.w3.org/2000/svg\" height=\"24px\"viewBox=\"0 0 24 24\"\n",
              "       width=\"24px\">\n",
              "    <path d=\"M0 0h24v24H0V0z\" fill=\"none\"/>\n",
              "    <path d=\"M18.56 5.44l.94 2.06.94-2.06 2.06-.94-2.06-.94-.94-2.06-.94 2.06-2.06.94zm-11 1L8.5 8.5l.94-2.06 2.06-.94-2.06-.94L8.5 2.5l-.94 2.06-2.06.94zm10 10l.94 2.06.94-2.06 2.06-.94-2.06-.94-.94-2.06-.94 2.06-2.06.94z\"/><path d=\"M17.41 7.96l-1.37-1.37c-.4-.4-.92-.59-1.43-.59-.52 0-1.04.2-1.43.59L10.3 9.45l-7.72 7.72c-.78.78-.78 2.05 0 2.83L4 21.41c.39.39.9.59 1.41.59.51 0 1.02-.2 1.41-.59l7.78-7.78 2.81-2.81c.8-.78.8-2.07 0-2.86zM5.41 20L4 18.59l7.72-7.72 1.47 1.35L5.41 20z\"/>\n",
              "  </svg>\n",
              "      </button>\n",
              "      \n",
              "  <style>\n",
              "    .colab-df-container {\n",
              "      display:flex;\n",
              "      flex-wrap:wrap;\n",
              "      gap: 12px;\n",
              "    }\n",
              "\n",
              "    .colab-df-convert {\n",
              "      background-color: #E8F0FE;\n",
              "      border: none;\n",
              "      border-radius: 50%;\n",
              "      cursor: pointer;\n",
              "      display: none;\n",
              "      fill: #1967D2;\n",
              "      height: 32px;\n",
              "      padding: 0 0 0 0;\n",
              "      width: 32px;\n",
              "    }\n",
              "\n",
              "    .colab-df-convert:hover {\n",
              "      background-color: #E2EBFA;\n",
              "      box-shadow: 0px 1px 2px rgba(60, 64, 67, 0.3), 0px 1px 3px 1px rgba(60, 64, 67, 0.15);\n",
              "      fill: #174EA6;\n",
              "    }\n",
              "\n",
              "    [theme=dark] .colab-df-convert {\n",
              "      background-color: #3B4455;\n",
              "      fill: #D2E3FC;\n",
              "    }\n",
              "\n",
              "    [theme=dark] .colab-df-convert:hover {\n",
              "      background-color: #434B5C;\n",
              "      box-shadow: 0px 1px 3px 1px rgba(0, 0, 0, 0.15);\n",
              "      filter: drop-shadow(0px 1px 2px rgba(0, 0, 0, 0.3));\n",
              "      fill: #FFFFFF;\n",
              "    }\n",
              "  </style>\n",
              "\n",
              "      <script>\n",
              "        const buttonEl =\n",
              "          document.querySelector('#df-927dc216-092a-4b3f-8fee-e50cb5ea9860 button.colab-df-convert');\n",
              "        buttonEl.style.display =\n",
              "          google.colab.kernel.accessAllowed ? 'block' : 'none';\n",
              "\n",
              "        async function convertToInteractive(key) {\n",
              "          const element = document.querySelector('#df-927dc216-092a-4b3f-8fee-e50cb5ea9860');\n",
              "          const dataTable =\n",
              "            await google.colab.kernel.invokeFunction('convertToInteractive',\n",
              "                                                     [key], {});\n",
              "          if (!dataTable) return;\n",
              "\n",
              "          const docLinkHtml = 'Like what you see? Visit the ' +\n",
              "            '<a target=\"_blank\" href=https://colab.research.google.com/notebooks/data_table.ipynb>data table notebook</a>'\n",
              "            + ' to learn more about interactive tables.';\n",
              "          element.innerHTML = '';\n",
              "          dataTable['output_type'] = 'display_data';\n",
              "          await google.colab.output.renderOutput(dataTable, element);\n",
              "          const docLink = document.createElement('div');\n",
              "          docLink.innerHTML = docLinkHtml;\n",
              "          element.appendChild(docLink);\n",
              "        }\n",
              "      </script>\n",
              "    </div>\n",
              "  </div>\n",
              "  "
            ]
          },
          "metadata": {},
          "execution_count": 10
        }
      ]
    },
    {
      "cell_type": "markdown",
      "source": [
        "###데이터타입으로 변경 : 일시 object"
      ],
      "metadata": {
        "id": "YkcXiQl1KRSy"
      }
    },
    {
      "cell_type": "code",
      "source": [
        "df_concat.columns, df_concat.dtypes"
      ],
      "metadata": {
        "colab": {
          "base_uri": "https://localhost:8080/"
        },
        "id": "UczxSZ7xP3b8",
        "outputId": "589af9cf-0f30-4ca6-ab1b-5f142aad6b15"
      },
      "execution_count": 13,
      "outputs": [
        {
          "output_type": "execute_result",
          "data": {
            "text/plain": [
              "(Index(['지점', '지점명', '일시', '평균기온(°C)', '최저기온(°C)', '최저기온 시각(hhmi)', '최고기온(°C)',\n",
              "        '최고기온 시각(hhmi)'],\n",
              "       dtype='object'), 지점                 int64\n",
              " 지점명               object\n",
              " 일시                object\n",
              " 평균기온(°C)         float64\n",
              " 최저기온(°C)         float64\n",
              " 최저기온 시각(hhmi)    float64\n",
              " 최고기온(°C)         float64\n",
              " 최고기온 시각(hhmi)    float64\n",
              " dtype: object)"
            ]
          },
          "metadata": {},
          "execution_count": 13
        }
      ]
    },
    {
      "cell_type": "code",
      "source": [
        "df_concat['일시'] = pd.to_datetime(df_concat['일시'])\n",
        "df_concat.dtypes"
      ],
      "metadata": {
        "colab": {
          "base_uri": "https://localhost:8080/"
        },
        "id": "uPytwkGrKrnB",
        "outputId": "0179151d-de97-4216-8075-ed55a6b06eb8"
      },
      "execution_count": 15,
      "outputs": [
        {
          "output_type": "execute_result",
          "data": {
            "text/plain": [
              "지점                        int64\n",
              "지점명                      object\n",
              "일시               datetime64[ns]\n",
              "평균기온(°C)                float64\n",
              "최저기온(°C)                float64\n",
              "최저기온 시각(hhmi)           float64\n",
              "최고기온(°C)                float64\n",
              "최고기온 시각(hhmi)           float64\n",
              "dtype: object"
            ]
          },
          "metadata": {},
          "execution_count": 15
        }
      ]
    },
    {
      "cell_type": "markdown",
      "source": [
        "##EDA"
      ],
      "metadata": {
        "id": "g3ZV5odxLpK3"
      }
    },
    {
      "cell_type": "code",
      "source": [
        "df_concat.info()"
      ],
      "metadata": {
        "colab": {
          "base_uri": "https://localhost:8080/"
        },
        "id": "WeflCQEmLGdG",
        "outputId": "e4ac850b-f890-4afb-b67c-a32347116abb"
      },
      "execution_count": 17,
      "outputs": [
        {
          "output_type": "stream",
          "name": "stdout",
          "text": [
            "<class 'pandas.core.frame.DataFrame'>\n",
            "Int64Index: 97719 entries, 0 to 52967\n",
            "Data columns (total 8 columns):\n",
            " #   Column         Non-Null Count  Dtype         \n",
            "---  ------         --------------  -----         \n",
            " 0   지점             97719 non-null  int64         \n",
            " 1   지점명            97719 non-null  object        \n",
            " 2   일시             97719 non-null  datetime64[ns]\n",
            " 3   평균기온(°C)       97715 non-null  float64       \n",
            " 4   최저기온(°C)       97652 non-null  float64       \n",
            " 5   최저기온 시각(hhmi)  63242 non-null  float64       \n",
            " 6   최고기온(°C)       97673 non-null  float64       \n",
            " 7   최고기온 시각(hhmi)  63264 non-null  float64       \n",
            "dtypes: datetime64[ns](1), float64(5), int64(1), object(1)\n",
            "memory usage: 8.7+ MB\n"
          ]
        }
      ]
    },
    {
      "cell_type": "code",
      "source": [
        "df_concat['지점명'].unique(), #df_concat['지점명'].nunique(), "
      ],
      "metadata": {
        "colab": {
          "base_uri": "https://localhost:8080/"
        },
        "id": "BMdplT55LxrK",
        "outputId": "16e08c6b-505c-46c6-dd9a-17eb3b1f0a4a"
      },
      "execution_count": 24,
      "outputs": [
        {
          "output_type": "execute_result",
          "data": {
            "text/plain": [
              "(array(['강릉', '서울', '인천', '울릉도', '추풍령', '포항', '대구', '전주', '울산', '광주', '부산',\n",
              "        '목포', '여수', '제주', '수원', '서귀포'], dtype=object),)"
            ]
          },
          "metadata": {},
          "execution_count": 24
        }
      ]
    },
    {
      "cell_type": "code",
      "source": [
        "df_concat['일시'].dt.year.unique()"
      ],
      "metadata": {
        "colab": {
          "base_uri": "https://localhost:8080/"
        },
        "id": "LEXzapjtMVQG",
        "outputId": "dd45cf95-8917-489a-c4d4-7c308d37b2f8"
      },
      "execution_count": 26,
      "outputs": [
        {
          "output_type": "execute_result",
          "data": {
            "text/plain": [
              "array([1945, 1946, 1947, 1948, 1949, 1950, 1951, 1952, 1953, 1954, 1955,\n",
              "       1956, 1957, 1958, 1959, 1960, 1961, 1962, 1963, 1964])"
            ]
          },
          "metadata": {},
          "execution_count": 26
        }
      ]
    },
    {
      "cell_type": "code",
      "source": [
        "df_concat['일시'].dt.year.value_counts().sort_index()"
      ],
      "metadata": {
        "colab": {
          "base_uri": "https://localhost:8080/"
        },
        "id": "Ro2uUV7tMjw0",
        "outputId": "9df0d084-ccfd-4215-95fc-cccc55577d91"
      },
      "execution_count": 33,
      "outputs": [
        {
          "output_type": "execute_result",
          "data": {
            "text/plain": [
              "1945    4019\n",
              "1946    4380\n",
              "1947    4380\n",
              "1948    4387\n",
              "1949    5110\n",
              "1950    4212\n",
              "1951    3864\n",
              "1952    4513\n",
              "1953    4776\n",
              "1954    5110\n",
              "1955    5110\n",
              "1956    5124\n",
              "1957    5110\n",
              "1958    5110\n",
              "1959    5110\n",
              "1960    5124\n",
              "1961    5474\n",
              "1962    5475\n",
              "1963    5475\n",
              "1964    5856\n",
              "Name: 일시, dtype: int64"
            ]
          },
          "metadata": {},
          "execution_count": 33
        }
      ]
    },
    {
      "cell_type": "code",
      "source": [
        "df_concat['지점명'].value_counts().sort_values()"
      ],
      "metadata": {
        "colab": {
          "base_uri": "https://localhost:8080/"
        },
        "id": "fGfZM1T7M7FK",
        "outputId": "86e786c0-74af-442e-af3d-08bfdef51691"
      },
      "execution_count": 34,
      "outputs": [
        {
          "output_type": "execute_result",
          "data": {
            "text/plain": [
              "수원      366\n",
              "서귀포    1460\n",
              "추풍령    5020\n",
              "포항     5691\n",
              "서울     6118\n",
              "인천     6818\n",
              "울산     6944\n",
              "강릉     6990\n",
              "여수     7177\n",
              "울릉도    7305\n",
              "대구     7305\n",
              "전주     7305\n",
              "광주     7305\n",
              "부산     7305\n",
              "목포     7305\n",
              "제주     7305\n",
              "Name: 지점명, dtype: int64"
            ]
          },
          "metadata": {},
          "execution_count": 34
        }
      ]
    },
    {
      "cell_type": "markdown",
      "source": [
        "##서울시 기온 데이터 분석\n"
      ],
      "metadata": {
        "id": "nq7bi_WGO-Yg"
      }
    },
    {
      "cell_type": "code",
      "source": [
        "seoul_df = df_concat[df_concat['지점명']=='서울'].copy()\n",
        "seoul_df.shape"
      ],
      "metadata": {
        "id": "MPPXGJcMZjp1",
        "colab": {
          "base_uri": "https://localhost:8080/"
        },
        "outputId": "2c08f657-e225-46ac-fda2-1a8ad1e44343"
      },
      "execution_count": 37,
      "outputs": [
        {
          "output_type": "execute_result",
          "data": {
            "text/plain": [
              "(6118, 8)"
            ]
          },
          "metadata": {},
          "execution_count": 37
        }
      ]
    },
    {
      "cell_type": "code",
      "source": [
        "seoul_df.isnull().sum()"
      ],
      "metadata": {
        "colab": {
          "base_uri": "https://localhost:8080/"
        },
        "id": "w71tYAAhPlHZ",
        "outputId": "0caadf79-9fdc-4cd8-86a2-7c774558c846"
      },
      "execution_count": 38,
      "outputs": [
        {
          "output_type": "execute_result",
          "data": {
            "text/plain": [
              "지점                 0\n",
              "지점명                0\n",
              "일시                 0\n",
              "평균기온(°C)           0\n",
              "최저기온(°C)           0\n",
              "최저기온 시각(hhmi)    298\n",
              "최고기온(°C)           0\n",
              "최고기온 시각(hhmi)    290\n",
              "dtype: int64"
            ]
          },
          "metadata": {},
          "execution_count": 38
        }
      ]
    },
    {
      "cell_type": "markdown",
      "source": [
        "###누락데이터 확인(1951, 1952년)"
      ],
      "metadata": {
        "id": "P9kxa_1KSRax"
      }
    },
    {
      "cell_type": "code",
      "source": [
        "seoul_df['일시'].dt.year.value_counts().sort_index()"
      ],
      "metadata": {
        "colab": {
          "base_uri": "https://localhost:8080/"
        },
        "id": "HChT4ikXP5yi",
        "outputId": "cc4713b6-d550-44a9-aa68-198e65a061f5"
      },
      "execution_count": 42,
      "outputs": [
        {
          "output_type": "execute_result",
          "data": {
            "text/plain": [
              "1945    365\n",
              "1946    365\n",
              "1947    365\n",
              "1948    366\n",
              "1949    365\n",
              "1950    243\n",
              "1953     31\n",
              "1954    365\n",
              "1955    365\n",
              "1956    366\n",
              "1957    365\n",
              "1958    365\n",
              "1959    365\n",
              "1960    366\n",
              "1961    365\n",
              "1962    365\n",
              "1963    365\n",
              "1964    366\n",
              "Name: 일시, dtype: int64"
            ]
          },
          "metadata": {},
          "execution_count": 42
        }
      ]
    },
    {
      "cell_type": "code",
      "source": [
        "condition = (seoul_df['일시'].dt.year == 1951) # (seoul_df['일시'].dt.year == 1952)\n",
        "seoul_df[condition]"
      ],
      "metadata": {
        "colab": {
          "base_uri": "https://localhost:8080/",
          "height": 93
        },
        "id": "PEopN0GBSjaB",
        "outputId": "63268259-e500-49d1-ff8b-4b3d7283bd5e"
      },
      "execution_count": 49,
      "outputs": [
        {
          "output_type": "execute_result",
          "data": {
            "text/plain": [
              "Empty DataFrame\n",
              "Columns: [지점, 지점명, 일시, 평균기온(°C), 최저기온(°C), 최저기온 시각(hhmi), 최고기온(°C), 최고기온 시각(hhmi)]\n",
              "Index: []"
            ],
            "text/html": [
              "\n",
              "  <div id=\"df-22464842-61a7-46df-ab24-b0c6adfb523e\">\n",
              "    <div class=\"colab-df-container\">\n",
              "      <div>\n",
              "<style scoped>\n",
              "    .dataframe tbody tr th:only-of-type {\n",
              "        vertical-align: middle;\n",
              "    }\n",
              "\n",
              "    .dataframe tbody tr th {\n",
              "        vertical-align: top;\n",
              "    }\n",
              "\n",
              "    .dataframe thead th {\n",
              "        text-align: right;\n",
              "    }\n",
              "</style>\n",
              "<table border=\"1\" class=\"dataframe\">\n",
              "  <thead>\n",
              "    <tr style=\"text-align: right;\">\n",
              "      <th></th>\n",
              "      <th>지점</th>\n",
              "      <th>지점명</th>\n",
              "      <th>일시</th>\n",
              "      <th>평균기온(°C)</th>\n",
              "      <th>최저기온(°C)</th>\n",
              "      <th>최저기온 시각(hhmi)</th>\n",
              "      <th>최고기온(°C)</th>\n",
              "      <th>최고기온 시각(hhmi)</th>\n",
              "    </tr>\n",
              "  </thead>\n",
              "  <tbody>\n",
              "  </tbody>\n",
              "</table>\n",
              "</div>\n",
              "      <button class=\"colab-df-convert\" onclick=\"convertToInteractive('df-22464842-61a7-46df-ab24-b0c6adfb523e')\"\n",
              "              title=\"Convert this dataframe to an interactive table.\"\n",
              "              style=\"display:none;\">\n",
              "        \n",
              "  <svg xmlns=\"http://www.w3.org/2000/svg\" height=\"24px\"viewBox=\"0 0 24 24\"\n",
              "       width=\"24px\">\n",
              "    <path d=\"M0 0h24v24H0V0z\" fill=\"none\"/>\n",
              "    <path d=\"M18.56 5.44l.94 2.06.94-2.06 2.06-.94-2.06-.94-.94-2.06-.94 2.06-2.06.94zm-11 1L8.5 8.5l.94-2.06 2.06-.94-2.06-.94L8.5 2.5l-.94 2.06-2.06.94zm10 10l.94 2.06.94-2.06 2.06-.94-2.06-.94-.94-2.06-.94 2.06-2.06.94z\"/><path d=\"M17.41 7.96l-1.37-1.37c-.4-.4-.92-.59-1.43-.59-.52 0-1.04.2-1.43.59L10.3 9.45l-7.72 7.72c-.78.78-.78 2.05 0 2.83L4 21.41c.39.39.9.59 1.41.59.51 0 1.02-.2 1.41-.59l7.78-7.78 2.81-2.81c.8-.78.8-2.07 0-2.86zM5.41 20L4 18.59l7.72-7.72 1.47 1.35L5.41 20z\"/>\n",
              "  </svg>\n",
              "      </button>\n",
              "      \n",
              "  <style>\n",
              "    .colab-df-container {\n",
              "      display:flex;\n",
              "      flex-wrap:wrap;\n",
              "      gap: 12px;\n",
              "    }\n",
              "\n",
              "    .colab-df-convert {\n",
              "      background-color: #E8F0FE;\n",
              "      border: none;\n",
              "      border-radius: 50%;\n",
              "      cursor: pointer;\n",
              "      display: none;\n",
              "      fill: #1967D2;\n",
              "      height: 32px;\n",
              "      padding: 0 0 0 0;\n",
              "      width: 32px;\n",
              "    }\n",
              "\n",
              "    .colab-df-convert:hover {\n",
              "      background-color: #E2EBFA;\n",
              "      box-shadow: 0px 1px 2px rgba(60, 64, 67, 0.3), 0px 1px 3px 1px rgba(60, 64, 67, 0.15);\n",
              "      fill: #174EA6;\n",
              "    }\n",
              "\n",
              "    [theme=dark] .colab-df-convert {\n",
              "      background-color: #3B4455;\n",
              "      fill: #D2E3FC;\n",
              "    }\n",
              "\n",
              "    [theme=dark] .colab-df-convert:hover {\n",
              "      background-color: #434B5C;\n",
              "      box-shadow: 0px 1px 3px 1px rgba(0, 0, 0, 0.15);\n",
              "      filter: drop-shadow(0px 1px 2px rgba(0, 0, 0, 0.3));\n",
              "      fill: #FFFFFF;\n",
              "    }\n",
              "  </style>\n",
              "\n",
              "      <script>\n",
              "        const buttonEl =\n",
              "          document.querySelector('#df-22464842-61a7-46df-ab24-b0c6adfb523e button.colab-df-convert');\n",
              "        buttonEl.style.display =\n",
              "          google.colab.kernel.accessAllowed ? 'block' : 'none';\n",
              "\n",
              "        async function convertToInteractive(key) {\n",
              "          const element = document.querySelector('#df-22464842-61a7-46df-ab24-b0c6adfb523e');\n",
              "          const dataTable =\n",
              "            await google.colab.kernel.invokeFunction('convertToInteractive',\n",
              "                                                     [key], {});\n",
              "          if (!dataTable) return;\n",
              "\n",
              "          const docLinkHtml = 'Like what you see? Visit the ' +\n",
              "            '<a target=\"_blank\" href=https://colab.research.google.com/notebooks/data_table.ipynb>data table notebook</a>'\n",
              "            + ' to learn more about interactive tables.';\n",
              "          element.innerHTML = '';\n",
              "          dataTable['output_type'] = 'display_data';\n",
              "          await google.colab.output.renderOutput(dataTable, element);\n",
              "          const docLink = document.createElement('div');\n",
              "          docLink.innerHTML = docLinkHtml;\n",
              "          element.appendChild(docLink);\n",
              "        }\n",
              "      </script>\n",
              "    </div>\n",
              "  </div>\n",
              "  "
            ]
          },
          "metadata": {},
          "execution_count": 49
        }
      ]
    },
    {
      "cell_type": "code",
      "source": [
        "!sudo apt-get install -y fonts-nanum\n",
        "!sudo fc-cache -fv\n",
        "!rm ~/.cache/matplotlib -rf"
      ],
      "metadata": {
        "id": "ibAL8gihcY36"
      },
      "execution_count": null,
      "outputs": []
    },
    {
      "cell_type": "code",
      "source": [
        "import matplotlib.pyplot as plt\n",
        "plt.rc('font', family='NanumBarunGothic') \n",
        "\n",
        "plt.figure(figsize=(10,5))\n",
        "plt.bar(seoul_df['일시'], seoul_df['평균기온(°C)'])\n",
        "plt.show()"
      ],
      "metadata": {
        "colab": {
          "base_uri": "https://localhost:8080/",
          "height": 320
        },
        "id": "Shhnf7kVa5ES",
        "outputId": "a8f88faa-7efa-41de-eb41-3693f16e5b0d"
      },
      "execution_count": 45,
      "outputs": [
        {
          "output_type": "display_data",
          "data": {
            "text/plain": [
              "<Figure size 720x360 with 1 Axes>"
            ],
            "image/png": "[encoded data removed]"
          },
          "metadata": {
            "needs_background": "light"
          }
        }
      ]
    },
    {
      "cell_type": "markdown",
      "source": [
        "##서울시 연간 평균기온, 최저기온, 최고기온 변화 시각화"
      ],
      "metadata": {
        "id": "wFltuXBeTWR3"
      }
    },
    {
      "cell_type": "code",
      "source": [
        "##"
      ],
      "metadata": {
        "id": "O3d0q7ldR2nR"
      },
      "execution_count": null,
      "outputs": []
    }
  ]
}