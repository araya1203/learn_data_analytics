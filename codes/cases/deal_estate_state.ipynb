{
  "nbformat": 4,
  "nbformat_minor": 0,
  "metadata": {
    "colab": {
      "name": "deal_estate_state.ipynb",
      "provenance": [],
      "authorship_tag": "ABX9TyMYvsB1Psd/OLXjAcaS9RQY",
      "include_colab_link": true
    },
    "kernelspec": {
      "name": "python3",
      "display_name": "Python 3"
    },
    "language_info": {
      "name": "python"
    }
  },
  "cells": [
    {
      "cell_type": "markdown",
      "metadata": {
        "id": "view-in-github",
        "colab_type": "text"
      },
      "source": [
        "<a href=\"https://colab.research.google.com/github/SanghunOh/with_data_analytics/blob/main/codes/deal_estate_state.ipynb\" target=\"_parent\"><img src=\"https://colab.research.google.com/assets/colab-badge.svg\" alt=\"Open In Colab\"/></a>"
      ]
    },
    {
      "cell_type": "markdown",
      "source": [
        "##국토교통부_연립다세대 매매 실거래자료 : https://www.data.go.kr/tcs/dss/selectApiDataDetailView.do?publicDataPk=15058038"
      ],
      "metadata": {
        "id": "iM3ctFqUhMyo"
      }
    },
    {
      "cell_type": "markdown",
      "source": [
        "###xml to json"
      ],
      "metadata": {
        "id": "3axa5zPhiqXn"
      }
    },
    {
      "cell_type": "code",
      "source": [
        "!pip install xmltodict"
      ],
      "metadata": {
        "colab": {
          "base_uri": "https://localhost:8080/"
        },
        "id": "6zbUEA4MjFeN",
        "outputId": "7eea55cb-1c91-4027-8508-d4339a4df661"
      },
      "execution_count": 5,
      "outputs": [
        {
          "output_type": "stream",
          "name": "stdout",
          "text": [
            "Looking in indexes: https://pypi.org/simple, https://us-python.pkg.dev/colab-wheels/public/simple/\n",
            "Collecting xmltodict\n",
            "  Downloading xmltodict-0.13.0-py2.py3-none-any.whl (10.0 kB)\n",
            "Installing collected packages: xmltodict\n",
            "Successfully installed xmltodict-0.13.0\n"
          ]
        }
      ]
    },
    {
      "cell_type": "code",
      "source": [
        "import xmltodict\n",
        "import requests\n",
        "import pandas as pd\n",
        "\n",
        "def getSaleVila(url, params):\n",
        "  response = requests.get(url, params=params)\n",
        "  # print(response.content)\n",
        "  contents_dict = xmltodict.parse(response.content)\n",
        "  result_df = pd.DataFrame.from_dict(contents_dict['response']['body']['items']['item'])\n",
        "  return result_df"
      ],
      "metadata": {
        "id": "ZIhzbKV3ix9R"
      },
      "execution_count": 39,
      "outputs": []
    },
    {
      "cell_type": "code",
      "source": [
        "# type(contents_dict), contents_dict['response']['body'].keys(), contents_dict['response']['body']['items'].keys()"
      ],
      "metadata": {
        "id": "959XTfPekAwF"
      },
      "execution_count": 40,
      "outputs": []
    },
    {
      "cell_type": "code",
      "source": [
        "url = 'http://openapi.molit.go.kr:8081/OpenAPI_ToolInstallPackage/service/rest/RTMSOBJSvc/getRTMSDataSvcRHTrade'\n",
        "serviceKey = 'BoygPZjC27pxm92hSposjnSob2u36vziS1rzIzxkrL9QxmlhB0SMARwLfNlBE3wrE7nnw34zLmmv0a6amvW4xg=='\n",
        "\n",
        "params ={'serviceKey' : serviceKey, 'LAWD_CD' : '11110', 'DEAL_YMD' : '201512' }\n",
        "getSaleVila(url, params)"
      ],
      "metadata": {
        "id": "oc7iaEhyhn7l"
      },
      "execution_count": null,
      "outputs": []
    },
    {
      "cell_type": "code",
      "source": [
        ""
      ],
      "metadata": {
        "id": "wy1ML06jo-UU"
      },
      "execution_count": null,
      "outputs": []
    }
  ]
}