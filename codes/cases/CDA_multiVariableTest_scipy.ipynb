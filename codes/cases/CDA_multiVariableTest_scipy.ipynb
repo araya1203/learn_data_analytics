{
  "cells": [
    {
      "cell_type": "markdown",
      "metadata": {
        "id": "view-in-github",
        "colab_type": "text"
      },
      "source": [
        "<a href=\"https://colab.research.google.com/github/yojulab/learn_data_analytics/blob/main/codes/cases/CDA_multiVariableTest_scipy.ipynb\" target=\"_parent\"><img src=\"https://colab.research.google.com/assets/colab-badge.svg\" alt=\"Open In Colab\"/></a>"
      ]
    },
    {
      "cell_type": "markdown",
      "source": [
        "#### refer url : https://blog.naver.com/data_station/222493268636"
      ],
      "metadata": {
        "id": "Z0Vsl96Iuynr"
      },
      "id": "Z0Vsl96Iuynr"
    },
    {
      "cell_type": "code",
      "execution_count": 20,
      "id": "3ccf82a2",
      "metadata": {
        "id": "3ccf82a2"
      },
      "outputs": [],
      "source": [
        "import pandas as pd\n",
        "import seaborn as sns\n",
        "from scipy import stats"
      ]
    },
    {
      "cell_type": "code",
      "execution_count": 21,
      "id": "cf8a3ec7",
      "metadata": {
        "collapsed": true,
        "colab": {
          "base_uri": "https://localhost:8080/",
          "height": 696
        },
        "id": "cf8a3ec7",
        "outputId": "977a9417-7352-4827-8b3b-21c5ff8ee9b2"
      },
      "outputs": [
        {
          "output_type": "execute_result",
          "data": {
            "text/plain": [
              "             id type_of_contract type_of_contract2 channel    datetime  Term  \\\n",
              "0      66758234               렌탈            Normal  서비스 방문  2019-10-20    60   \n",
              "1      66755948               렌탈  Extension_Rental  서비스 방문  2019-10-20    60   \n",
              "2      66756657               렌탈            Normal  홈쇼핑/방송  2019-10-20    60   \n",
              "3      66423450              멤버십               TAS   렌탈재계약  2019-10-20    12   \n",
              "4      66423204              멤버십               TAS   렌탈재계약  2019-10-20    12   \n",
              "...         ...              ...               ...     ...         ...   ...   \n",
              "51299  66579515              NaN         Promotion   R관리방판  2020-02-03    60   \n",
              "51300  66799558               렌탈            Normal    영업방판  2020-02-03    60   \n",
              "51301  66799197               렌탈         Promotion  홈쇼핑/방송  2020-02-03    39   \n",
              "51302  66792778              NaN            Normal    렌탈총판  2020-02-03    60   \n",
              "51303  66799607               렌탈            Normal    하이마트  2020-02-03    60   \n",
              "\n",
              "      payment_type product  amount state  overdue_count overdue  \\\n",
              "0              CMS      K1   96900  계약확정              0      없음   \n",
              "1             카드이체      K1  102900  계약확정              0      없음   \n",
              "2              CMS      K1   96900  계약확정              0      없음   \n",
              "3              CMS      K1   66900  계약확정              0      없음   \n",
              "4              CMS      K1   66900  해약확정             12      있음   \n",
              "...            ...     ...     ...   ...            ...     ...   \n",
              "51299          무통장      K3   96900  계약확정              0      없음   \n",
              "51300         카드이체      K1   96900  해약확정              0      없음   \n",
              "51301          무통장      K5  120900  해약확정              0      없음   \n",
              "51302         카드이체      K1   96900  계약확정              0      없음   \n",
              "51303          CMS      K1   96900  해약확정              0      없음   \n",
              "\n",
              "       credit rating   bank cancellation   age  Mileage  \n",
              "0                9.0  새마을금고           정상  43.0   1862.0  \n",
              "1                2.0   현대카드           정상  62.0   2532.0  \n",
              "2                8.0   우리은행           정상  60.0   2363.0  \n",
              "3                5.0   농협은행           정상  60.0   2449.0  \n",
              "4                8.0   농협은행           해약  51.0   1942.0  \n",
              "...              ...    ...          ...   ...      ...  \n",
              "51299            NaN   롯데카드           정상   NaN      NaN  \n",
              "51300            8.0   롯데카드           해약  39.0   1753.0  \n",
              "51301            1.0    NaN           해약  51.0   2217.0  \n",
              "51302            2.0   신한카드           정상  64.0   2588.0  \n",
              "51303            8.0   농협은행           해약  53.0   2130.0  \n",
              "\n",
              "[51304 rows x 17 columns]"
            ],
            "text/html": [
              "\n",
              "\n",
              "  <div id=\"df-eee4469a-aa4f-42a4-9f74-e833b507604c\">\n",
              "    <div class=\"colab-df-container\">\n",
              "      <div>\n",
              "<style scoped>\n",
              "    .dataframe tbody tr th:only-of-type {\n",
              "        vertical-align: middle;\n",
              "    }\n",
              "\n",
              "    .dataframe tbody tr th {\n",
              "        vertical-align: top;\n",
              "    }\n",
              "\n",
              "    .dataframe thead th {\n",
              "        text-align: right;\n",
              "    }\n",
              "</style>\n",
              "<table border=\"1\" class=\"dataframe\">\n",
              "  <thead>\n",
              "    <tr style=\"text-align: right;\">\n",
              "      <th></th>\n",
              "      <th>id</th>\n",
              "      <th>type_of_contract</th>\n",
              "      <th>type_of_contract2</th>\n",
              "      <th>channel</th>\n",
              "      <th>datetime</th>\n",
              "      <th>Term</th>\n",
              "      <th>payment_type</th>\n",
              "      <th>product</th>\n",
              "      <th>amount</th>\n",
              "      <th>state</th>\n",
              "      <th>overdue_count</th>\n",
              "      <th>overdue</th>\n",
              "      <th>credit rating</th>\n",
              "      <th>bank</th>\n",
              "      <th>cancellation</th>\n",
              "      <th>age</th>\n",
              "      <th>Mileage</th>\n",
              "    </tr>\n",
              "  </thead>\n",
              "  <tbody>\n",
              "    <tr>\n",
              "      <th>0</th>\n",
              "      <td>66758234</td>\n",
              "      <td>렌탈</td>\n",
              "      <td>Normal</td>\n",
              "      <td>서비스 방문</td>\n",
              "      <td>2019-10-20</td>\n",
              "      <td>60</td>\n",
              "      <td>CMS</td>\n",
              "      <td>K1</td>\n",
              "      <td>96900</td>\n",
              "      <td>계약확정</td>\n",
              "      <td>0</td>\n",
              "      <td>없음</td>\n",
              "      <td>9.0</td>\n",
              "      <td>새마을금고</td>\n",
              "      <td>정상</td>\n",
              "      <td>43.0</td>\n",
              "      <td>1862.0</td>\n",
              "    </tr>\n",
              "    <tr>\n",
              "      <th>1</th>\n",
              "      <td>66755948</td>\n",
              "      <td>렌탈</td>\n",
              "      <td>Extension_Rental</td>\n",
              "      <td>서비스 방문</td>\n",
              "      <td>2019-10-20</td>\n",
              "      <td>60</td>\n",
              "      <td>카드이체</td>\n",
              "      <td>K1</td>\n",
              "      <td>102900</td>\n",
              "      <td>계약확정</td>\n",
              "      <td>0</td>\n",
              "      <td>없음</td>\n",
              "      <td>2.0</td>\n",
              "      <td>현대카드</td>\n",
              "      <td>정상</td>\n",
              "      <td>62.0</td>\n",
              "      <td>2532.0</td>\n",
              "    </tr>\n",
              "    <tr>\n",
              "      <th>2</th>\n",
              "      <td>66756657</td>\n",
              "      <td>렌탈</td>\n",
              "      <td>Normal</td>\n",
              "      <td>홈쇼핑/방송</td>\n",
              "      <td>2019-10-20</td>\n",
              "      <td>60</td>\n",
              "      <td>CMS</td>\n",
              "      <td>K1</td>\n",
              "      <td>96900</td>\n",
              "      <td>계약확정</td>\n",
              "      <td>0</td>\n",
              "      <td>없음</td>\n",
              "      <td>8.0</td>\n",
              "      <td>우리은행</td>\n",
              "      <td>정상</td>\n",
              "      <td>60.0</td>\n",
              "      <td>2363.0</td>\n",
              "    </tr>\n",
              "    <tr>\n",
              "      <th>3</th>\n",
              "      <td>66423450</td>\n",
              "      <td>멤버십</td>\n",
              "      <td>TAS</td>\n",
              "      <td>렌탈재계약</td>\n",
              "      <td>2019-10-20</td>\n",
              "      <td>12</td>\n",
              "      <td>CMS</td>\n",
              "      <td>K1</td>\n",
              "      <td>66900</td>\n",
              "      <td>계약확정</td>\n",
              "      <td>0</td>\n",
              "      <td>없음</td>\n",
              "      <td>5.0</td>\n",
              "      <td>농협은행</td>\n",
              "      <td>정상</td>\n",
              "      <td>60.0</td>\n",
              "      <td>2449.0</td>\n",
              "    </tr>\n",
              "    <tr>\n",
              "      <th>4</th>\n",
              "      <td>66423204</td>\n",
              "      <td>멤버십</td>\n",
              "      <td>TAS</td>\n",
              "      <td>렌탈재계약</td>\n",
              "      <td>2019-10-20</td>\n",
              "      <td>12</td>\n",
              "      <td>CMS</td>\n",
              "      <td>K1</td>\n",
              "      <td>66900</td>\n",
              "      <td>해약확정</td>\n",
              "      <td>12</td>\n",
              "      <td>있음</td>\n",
              "      <td>8.0</td>\n",
              "      <td>농협은행</td>\n",
              "      <td>해약</td>\n",
              "      <td>51.0</td>\n",
              "      <td>1942.0</td>\n",
              "    </tr>\n",
              "    <tr>\n",
              "      <th>...</th>\n",
              "      <td>...</td>\n",
              "      <td>...</td>\n",
              "      <td>...</td>\n",
              "      <td>...</td>\n",
              "      <td>...</td>\n",
              "      <td>...</td>\n",
              "      <td>...</td>\n",
              "      <td>...</td>\n",
              "      <td>...</td>\n",
              "      <td>...</td>\n",
              "      <td>...</td>\n",
              "      <td>...</td>\n",
              "      <td>...</td>\n",
              "      <td>...</td>\n",
              "      <td>...</td>\n",
              "      <td>...</td>\n",
              "      <td>...</td>\n",
              "    </tr>\n",
              "    <tr>\n",
              "      <th>51299</th>\n",
              "      <td>66579515</td>\n",
              "      <td>NaN</td>\n",
              "      <td>Promotion</td>\n",
              "      <td>R관리방판</td>\n",
              "      <td>2020-02-03</td>\n",
              "      <td>60</td>\n",
              "      <td>무통장</td>\n",
              "      <td>K3</td>\n",
              "      <td>96900</td>\n",
              "      <td>계약확정</td>\n",
              "      <td>0</td>\n",
              "      <td>없음</td>\n",
              "      <td>NaN</td>\n",
              "      <td>롯데카드</td>\n",
              "      <td>정상</td>\n",
              "      <td>NaN</td>\n",
              "      <td>NaN</td>\n",
              "    </tr>\n",
              "    <tr>\n",
              "      <th>51300</th>\n",
              "      <td>66799558</td>\n",
              "      <td>렌탈</td>\n",
              "      <td>Normal</td>\n",
              "      <td>영업방판</td>\n",
              "      <td>2020-02-03</td>\n",
              "      <td>60</td>\n",
              "      <td>카드이체</td>\n",
              "      <td>K1</td>\n",
              "      <td>96900</td>\n",
              "      <td>해약확정</td>\n",
              "      <td>0</td>\n",
              "      <td>없음</td>\n",
              "      <td>8.0</td>\n",
              "      <td>롯데카드</td>\n",
              "      <td>해약</td>\n",
              "      <td>39.0</td>\n",
              "      <td>1753.0</td>\n",
              "    </tr>\n",
              "    <tr>\n",
              "      <th>51301</th>\n",
              "      <td>66799197</td>\n",
              "      <td>렌탈</td>\n",
              "      <td>Promotion</td>\n",
              "      <td>홈쇼핑/방송</td>\n",
              "      <td>2020-02-03</td>\n",
              "      <td>39</td>\n",
              "      <td>무통장</td>\n",
              "      <td>K5</td>\n",
              "      <td>120900</td>\n",
              "      <td>해약확정</td>\n",
              "      <td>0</td>\n",
              "      <td>없음</td>\n",
              "      <td>1.0</td>\n",
              "      <td>NaN</td>\n",
              "      <td>해약</td>\n",
              "      <td>51.0</td>\n",
              "      <td>2217.0</td>\n",
              "    </tr>\n",
              "    <tr>\n",
              "      <th>51302</th>\n",
              "      <td>66792778</td>\n",
              "      <td>NaN</td>\n",
              "      <td>Normal</td>\n",
              "      <td>렌탈총판</td>\n",
              "      <td>2020-02-03</td>\n",
              "      <td>60</td>\n",
              "      <td>카드이체</td>\n",
              "      <td>K1</td>\n",
              "      <td>96900</td>\n",
              "      <td>계약확정</td>\n",
              "      <td>0</td>\n",
              "      <td>없음</td>\n",
              "      <td>2.0</td>\n",
              "      <td>신한카드</td>\n",
              "      <td>정상</td>\n",
              "      <td>64.0</td>\n",
              "      <td>2588.0</td>\n",
              "    </tr>\n",
              "    <tr>\n",
              "      <th>51303</th>\n",
              "      <td>66799607</td>\n",
              "      <td>렌탈</td>\n",
              "      <td>Normal</td>\n",
              "      <td>하이마트</td>\n",
              "      <td>2020-02-03</td>\n",
              "      <td>60</td>\n",
              "      <td>CMS</td>\n",
              "      <td>K1</td>\n",
              "      <td>96900</td>\n",
              "      <td>해약확정</td>\n",
              "      <td>0</td>\n",
              "      <td>없음</td>\n",
              "      <td>8.0</td>\n",
              "      <td>농협은행</td>\n",
              "      <td>해약</td>\n",
              "      <td>53.0</td>\n",
              "      <td>2130.0</td>\n",
              "    </tr>\n",
              "  </tbody>\n",
              "</table>\n",
              "<p>51304 rows × 17 columns</p>\n",
              "</div>\n",
              "      <button class=\"colab-df-convert\" onclick=\"convertToInteractive('df-eee4469a-aa4f-42a4-9f74-e833b507604c')\"\n",
              "              title=\"Convert this dataframe to an interactive table.\"\n",
              "              style=\"display:none;\">\n",
              "\n",
              "  <svg xmlns=\"http://www.w3.org/2000/svg\" height=\"24px\"viewBox=\"0 0 24 24\"\n",
              "       width=\"24px\">\n",
              "    <path d=\"M0 0h24v24H0V0z\" fill=\"none\"/>\n",
              "    <path d=\"M18.56 5.44l.94 2.06.94-2.06 2.06-.94-2.06-.94-.94-2.06-.94 2.06-2.06.94zm-11 1L8.5 8.5l.94-2.06 2.06-.94-2.06-.94L8.5 2.5l-.94 2.06-2.06.94zm10 10l.94 2.06.94-2.06 2.06-.94-2.06-.94-.94-2.06-.94 2.06-2.06.94z\"/><path d=\"M17.41 7.96l-1.37-1.37c-.4-.4-.92-.59-1.43-.59-.52 0-1.04.2-1.43.59L10.3 9.45l-7.72 7.72c-.78.78-.78 2.05 0 2.83L4 21.41c.39.39.9.59 1.41.59.51 0 1.02-.2 1.41-.59l7.78-7.78 2.81-2.81c.8-.78.8-2.07 0-2.86zM5.41 20L4 18.59l7.72-7.72 1.47 1.35L5.41 20z\"/>\n",
              "  </svg>\n",
              "      </button>\n",
              "\n",
              "\n",
              "\n",
              "    <div id=\"df-195c38f0-9577-4dab-b786-c7952c948549\">\n",
              "      <button class=\"colab-df-quickchart\" onclick=\"quickchart('df-195c38f0-9577-4dab-b786-c7952c948549')\"\n",
              "              title=\"Suggest charts.\"\n",
              "              style=\"display:none;\">\n",
              "\n",
              "<svg xmlns=\"http://www.w3.org/2000/svg\" height=\"24px\"viewBox=\"0 0 24 24\"\n",
              "     width=\"24px\">\n",
              "    <g>\n",
              "        <path d=\"M19 3H5c-1.1 0-2 .9-2 2v14c0 1.1.9 2 2 2h14c1.1 0 2-.9 2-2V5c0-1.1-.9-2-2-2zM9 17H7v-7h2v7zm4 0h-2V7h2v10zm4 0h-2v-4h2v4z\"/>\n",
              "    </g>\n",
              "</svg>\n",
              "      </button>\n",
              "    </div>\n",
              "\n",
              "<style>\n",
              "  .colab-df-quickchart {\n",
              "    background-color: #E8F0FE;\n",
              "    border: none;\n",
              "    border-radius: 50%;\n",
              "    cursor: pointer;\n",
              "    display: none;\n",
              "    fill: #1967D2;\n",
              "    height: 32px;\n",
              "    padding: 0 0 0 0;\n",
              "    width: 32px;\n",
              "  }\n",
              "\n",
              "  .colab-df-quickchart:hover {\n",
              "    background-color: #E2EBFA;\n",
              "    box-shadow: 0px 1px 2px rgba(60, 64, 67, 0.3), 0px 1px 3px 1px rgba(60, 64, 67, 0.15);\n",
              "    fill: #174EA6;\n",
              "  }\n",
              "\n",
              "  [theme=dark] .colab-df-quickchart {\n",
              "    background-color: #3B4455;\n",
              "    fill: #D2E3FC;\n",
              "  }\n",
              "\n",
              "  [theme=dark] .colab-df-quickchart:hover {\n",
              "    background-color: #434B5C;\n",
              "    box-shadow: 0px 1px 3px 1px rgba(0, 0, 0, 0.15);\n",
              "    filter: drop-shadow(0px 1px 2px rgba(0, 0, 0, 0.3));\n",
              "    fill: #FFFFFF;\n",
              "  }\n",
              "</style>\n",
              "\n",
              "    <script>\n",
              "      async function quickchart(key) {\n",
              "        const containerElement = document.querySelector('#' + key);\n",
              "        const charts = await google.colab.kernel.invokeFunction(\n",
              "            'suggestCharts', [key], {});\n",
              "      }\n",
              "    </script>\n",
              "\n",
              "      <script>\n",
              "\n",
              "function displayQuickchartButton(domScope) {\n",
              "  let quickchartButtonEl =\n",
              "    domScope.querySelector('#df-195c38f0-9577-4dab-b786-c7952c948549 button.colab-df-quickchart');\n",
              "  quickchartButtonEl.style.display =\n",
              "    google.colab.kernel.accessAllowed ? 'block' : 'none';\n",
              "}\n",
              "\n",
              "        displayQuickchartButton(document);\n",
              "      </script>\n",
              "      <style>\n",
              "    .colab-df-container {\n",
              "      display:flex;\n",
              "      flex-wrap:wrap;\n",
              "      gap: 12px;\n",
              "    }\n",
              "\n",
              "    .colab-df-convert {\n",
              "      background-color: #E8F0FE;\n",
              "      border: none;\n",
              "      border-radius: 50%;\n",
              "      cursor: pointer;\n",
              "      display: none;\n",
              "      fill: #1967D2;\n",
              "      height: 32px;\n",
              "      padding: 0 0 0 0;\n",
              "      width: 32px;\n",
              "    }\n",
              "\n",
              "    .colab-df-convert:hover {\n",
              "      background-color: #E2EBFA;\n",
              "      box-shadow: 0px 1px 2px rgba(60, 64, 67, 0.3), 0px 1px 3px 1px rgba(60, 64, 67, 0.15);\n",
              "      fill: #174EA6;\n",
              "    }\n",
              "\n",
              "    [theme=dark] .colab-df-convert {\n",
              "      background-color: #3B4455;\n",
              "      fill: #D2E3FC;\n",
              "    }\n",
              "\n",
              "    [theme=dark] .colab-df-convert:hover {\n",
              "      background-color: #434B5C;\n",
              "      box-shadow: 0px 1px 3px 1px rgba(0, 0, 0, 0.15);\n",
              "      filter: drop-shadow(0px 1px 2px rgba(0, 0, 0, 0.3));\n",
              "      fill: #FFFFFF;\n",
              "    }\n",
              "  </style>\n",
              "\n",
              "      <script>\n",
              "        const buttonEl =\n",
              "          document.querySelector('#df-eee4469a-aa4f-42a4-9f74-e833b507604c button.colab-df-convert');\n",
              "        buttonEl.style.display =\n",
              "          google.colab.kernel.accessAllowed ? 'block' : 'none';\n",
              "\n",
              "        async function convertToInteractive(key) {\n",
              "          const element = document.querySelector('#df-eee4469a-aa4f-42a4-9f74-e833b507604c');\n",
              "          const dataTable =\n",
              "            await google.colab.kernel.invokeFunction('convertToInteractive',\n",
              "                                                     [key], {});\n",
              "          if (!dataTable) return;\n",
              "\n",
              "          const docLinkHtml = 'Like what you see? Visit the ' +\n",
              "            '<a target=\"_blank\" href=https://colab.research.google.com/notebooks/data_table.ipynb>data table notebook</a>'\n",
              "            + ' to learn more about interactive tables.';\n",
              "          element.innerHTML = '';\n",
              "          dataTable['output_type'] = 'display_data';\n",
              "          await google.colab.output.renderOutput(dataTable, element);\n",
              "          const docLink = document.createElement('div');\n",
              "          docLink.innerHTML = docLinkHtml;\n",
              "          element.appendChild(docLink);\n",
              "        }\n",
              "      </script>\n",
              "    </div>\n",
              "  </div>\n"
            ]
          },
          "metadata": {},
          "execution_count": 21
        }
      ],
      "source": [
        "# from learn_datasets in github\n",
        "pd.read_csv('consumer_purchase_history.csv')"
      ]
    },
    {
      "cell_type": "code",
      "execution_count": 22,
      "id": "69fa247d",
      "metadata": {
        "id": "69fa247d"
      },
      "outputs": [],
      "source": [
        "df1 = pd.read_csv('Data03.csv')"
      ]
    },
    {
      "cell_type": "markdown",
      "id": "9ee0ee40",
      "metadata": {
        "id": "9ee0ee40"
      },
      "source": [
        "**One Sample T Test (일표본 평균검정)**\n",
        "\n",
        "- 귀무가설 : A값은 집단의 평균과 같다.\n",
        "- 대립가설 : A값은 집단의 평균과 다르다."
      ]
    },
    {
      "cell_type": "code",
      "execution_count": 23,
      "id": "3ee9766c",
      "metadata": {
        "colab": {
          "base_uri": "https://localhost:8080/"
        },
        "id": "3ee9766c",
        "outputId": "bf1c7bae-dd88-4893-c087-0597c3d688cc"
      },
      "outputs": [
        {
          "output_type": "execute_result",
          "data": {
            "text/plain": [
              "93994.98002105099"
            ]
          },
          "metadata": {},
          "execution_count": 23
        }
      ],
      "source": [
        "df1['amount'].mean()"
      ]
    },
    {
      "cell_type": "code",
      "execution_count": 24,
      "id": "8812243b",
      "metadata": {
        "colab": {
          "base_uri": "https://localhost:8080/"
        },
        "id": "8812243b",
        "outputId": "c12bdb27-9dd7-45de-ff3a-92744e82f2a8"
      },
      "outputs": [
        {
          "output_type": "execute_result",
          "data": {
            "text/plain": [
              "96900.0"
            ]
          },
          "metadata": {},
          "execution_count": 24
        }
      ],
      "source": [
        "df1['amount'].median()"
      ]
    },
    {
      "cell_type": "code",
      "execution_count": 25,
      "id": "57a4dad8",
      "metadata": {
        "id": "57a4dad8"
      },
      "outputs": [],
      "source": [
        "cond1 = (df1['type_of_contract']=='멤버십')\n",
        "df1_member = df1.loc[cond1]"
      ]
    },
    {
      "cell_type": "code",
      "execution_count": 26,
      "id": "05fc483e",
      "metadata": {
        "colab": {
          "base_uri": "https://localhost:8080/"
        },
        "id": "05fc483e",
        "outputId": "9a1ed531-7bba-4ff4-ced0-508880ddca64"
      },
      "outputs": [
        {
          "output_type": "execute_result",
          "data": {
            "text/plain": [
              "TtestResult(statistic=-367.36586622285733, pvalue=0.0, df=4818)"
            ]
          },
          "metadata": {},
          "execution_count": 26
        }
      ],
      "source": [
        "# 귀무가설 : 96900원은 집단의 평균과 같다.\n",
        "# 대립가설 : 96900원은 집단의 평균과 다르다.\n",
        "stats.ttest_1samp(df1_member['amount'], 96900)"
      ]
    },
    {
      "cell_type": "code",
      "execution_count": 27,
      "id": "1150af70",
      "metadata": {
        "colab": {
          "base_uri": "https://localhost:8080/"
        },
        "id": "1150af70",
        "outputId": "71f26519-defc-4b94-97bf-c1e05ae4b3eb"
      },
      "outputs": [
        {
          "output_type": "execute_result",
          "data": {
            "text/plain": [
              "63075.94625440963"
            ]
          },
          "metadata": {},
          "execution_count": 27
        }
      ],
      "source": [
        "# p.value < 0.05 (귀무가설기각, 대립가설 참)\n",
        "df1_member['amount'].mean()"
      ]
    },
    {
      "cell_type": "markdown",
      "id": "91e679e8",
      "metadata": {
        "id": "91e679e8"
      },
      "source": [
        "**Two Sample T Test (이표본 평균검정)**\n",
        "\n",
        "- 두 집단 평균의 차이가 있는지 검정\n",
        "- 집단이 서로 등분산성을 보이지 않을 때\n",
        "\n",
        "- Levene Test : 두 집단 분산의 차이가 있는지 검정\n",
        "    - 귀무 가설 : 두 집단의 분산이 같다.\n",
        "    - 대립 가설 : 두 집단의 분산이 다르다."
      ]
    },
    {
      "cell_type": "code",
      "execution_count": 28,
      "id": "d65f95e9",
      "metadata": {
        "collapsed": true,
        "colab": {
          "base_uri": "https://localhost:8080/"
        },
        "id": "d65f95e9",
        "outputId": "af3e0e96-6010-4e2f-95bf-a6c0f2a02c85"
      },
      "outputs": [
        {
          "output_type": "execute_result",
          "data": {
            "text/plain": [
              "렌탈     46481\n",
              "멤버십     4819\n",
              "Name: type_of_contract, dtype: int64"
            ]
          },
          "metadata": {},
          "execution_count": 28
        }
      ],
      "source": [
        "df1['type_of_contract'].value_counts()"
      ]
    },
    {
      "cell_type": "code",
      "execution_count": 29,
      "id": "c67120c3",
      "metadata": {
        "id": "c67120c3"
      },
      "outputs": [],
      "source": [
        "cond1 = (df1['type_of_contract']=='렌탈')\n",
        "\n",
        "df1_rental = df1.loc[cond1]\n",
        "df1_member = df1.loc[~cond1].dropna()"
      ]
    },
    {
      "cell_type": "code",
      "execution_count": 30,
      "id": "75358659",
      "metadata": {
        "colab": {
          "base_uri": "https://localhost:8080/"
        },
        "id": "75358659",
        "outputId": "e6596a72-a988-4d19-d3ec-51df7ca7549d"
      },
      "outputs": [
        {
          "output_type": "execute_result",
          "data": {
            "text/plain": [
              "LeveneResult(statistic=952.8818778814929, pvalue=3.2088467868188773e-207)"
            ]
          },
          "metadata": {},
          "execution_count": 30
        }
      ],
      "source": [
        "# 두 집단의 등분산 검정\n",
        "# 귀무 가설 : 렌탈 그룹과 멤버십 그룹의 amount 값의 분산의 차이가 없다.\n",
        "# 대립 가설 : 렌탈 그룹과 멤버십 그룹의 amount 값의 분산의 차이가 있다.\n",
        "stats.levene(df1_rental['amount'], df1_member['amount'])"
      ]
    },
    {
      "cell_type": "code",
      "execution_count": 31,
      "id": "8663c0c6",
      "metadata": {
        "colab": {
          "base_uri": "https://localhost:8080/"
        },
        "id": "8663c0c6",
        "outputId": "37aee56b-518d-4184-8459-b9b52a1faa7c"
      },
      "outputs": [
        {
          "output_type": "stream",
          "name": "stdout",
          "text": [
            "144928790.04453442\n",
            "14989768.519927813\n"
          ]
        }
      ],
      "source": [
        "# p.value < 0.05 (귀무가설 기각, 대립가설 참 )\n",
        "# 렌탈 그룹과 멤버십 그룹의 amount 값의 분산의 차이가 있다.\n",
        "print(df1_rental['amount'].var())\n",
        "print(df1_member['amount'].var())"
      ]
    },
    {
      "cell_type": "code",
      "execution_count": 32,
      "id": "68ae549b",
      "metadata": {
        "colab": {
          "base_uri": "https://localhost:8080/"
        },
        "id": "68ae549b",
        "outputId": "1a532c80-af58-4e69-d458-26d3ddce9e33"
      },
      "outputs": [
        {
          "output_type": "execute_result",
          "data": {
            "text/plain": [
              "Ttest_indResult(statistic=112.53349600842841, pvalue=0.0)"
            ]
          },
          "metadata": {},
          "execution_count": 32
        }
      ],
      "source": [
        "# 이표본 평균검정\n",
        "# 귀무가설 : 렌탈그룹과 멤버십 그룹의 amount 평균값의 차이가 없다.\n",
        "# 귀무가설 : 렌탈그룹과 멤버십 그룹의 amount 평균값의 차이가 있다.\n",
        "stats.ttest_ind(df1_rental['amount'], df1_member['amount'])"
      ]
    },
    {
      "cell_type": "code",
      "execution_count": 33,
      "id": "c1c14202",
      "metadata": {
        "colab": {
          "base_uri": "https://localhost:8080/"
        },
        "id": "c1c14202",
        "outputId": "e6bb02b8-9a8b-454c-d9e9-20bbf169267c"
      },
      "outputs": [
        {
          "output_type": "stream",
          "name": "stdout",
          "text": [
            "97200.31561283105\n",
            "67100.63882063882\n"
          ]
        }
      ],
      "source": [
        "# P.value < 0.05 (귀무가설기각, 대립가설 참)\n",
        "# 렌탈그룹과 멤버십 그룹의 amount 평균값의 차이가 있다.\n",
        "print(df1_rental['amount'].mean())\n",
        "print(df1_member['amount'].mean())"
      ]
    },
    {
      "cell_type": "markdown",
      "id": "54796213",
      "metadata": {
        "id": "54796213"
      },
      "source": [
        "**Chi Square Test**\n",
        "\n",
        "- 두 범주형 집단의 독립성 검정\n",
        "- 귀무가설 : A 항목과 B항목은 서로 독립적 이다. (연관성이 없다.)\n",
        "- 대립가설 : A 항목과 B항목은 서로 의존적 이다. (연관성이 있다.)"
      ]
    },
    {
      "cell_type": "code",
      "execution_count": 34,
      "id": "6cd2f34e",
      "metadata": {
        "colab": {
          "base_uri": "https://localhost:8080/"
        },
        "id": "6cd2f34e",
        "outputId": "63f5150d-eb61-4943-a377-8fa61c07eb26"
      },
      "outputs": [
        {
          "output_type": "execute_result",
          "data": {
            "text/plain": [
              "렌탈     46481\n",
              "멤버십     4819\n",
              "Name: type_of_contract, dtype: int64"
            ]
          },
          "metadata": {},
          "execution_count": 34
        }
      ],
      "source": [
        "df1['type_of_contract'].value_counts()"
      ]
    },
    {
      "cell_type": "code",
      "execution_count": 35,
      "id": "2e7c1a5a",
      "metadata": {
        "colab": {
          "base_uri": "https://localhost:8080/"
        },
        "id": "2e7c1a5a",
        "outputId": "3d116fea-905d-40f0-abbb-bfb05c09f416"
      },
      "outputs": [
        {
          "output_type": "execute_result",
          "data": {
            "text/plain": [
              "K1    39134\n",
              "K2     8995\n",
              "K3     2082\n",
              "K5      645\n",
              "K4      327\n",
              "K6      120\n",
              "Name: product, dtype: int64"
            ]
          },
          "metadata": {},
          "execution_count": 35
        }
      ],
      "source": [
        "df1['product'].value_counts()"
      ]
    },
    {
      "cell_type": "markdown",
      "id": "20a34d22",
      "metadata": {
        "id": "20a34d22"
      },
      "source": [
        "- Contingency Table"
      ]
    },
    {
      "cell_type": "code",
      "execution_count": 36,
      "id": "32ed0854",
      "metadata": {
        "colab": {
          "base_uri": "https://localhost:8080/",
          "height": 143
        },
        "id": "32ed0854",
        "outputId": "04518e80-c47c-4440-bb55-f3ba3b8203b8"
      },
      "outputs": [
        {
          "output_type": "execute_result",
          "data": {
            "text/plain": [
              "product              K1    K2    K3   K4   K5   K6\n",
              "type_of_contract                                  \n",
              "렌탈                34427  8892  2076  320  645  120\n",
              "멤버십                4704   103     5    7    0    0"
            ],
            "text/html": [
              "\n",
              "\n",
              "  <div id=\"df-333fd7b5-c8c6-483f-9eb8-fe5a01e7e32a\">\n",
              "    <div class=\"colab-df-container\">\n",
              "      <div>\n",
              "<style scoped>\n",
              "    .dataframe tbody tr th:only-of-type {\n",
              "        vertical-align: middle;\n",
              "    }\n",
              "\n",
              "    .dataframe tbody tr th {\n",
              "        vertical-align: top;\n",
              "    }\n",
              "\n",
              "    .dataframe thead th {\n",
              "        text-align: right;\n",
              "    }\n",
              "</style>\n",
              "<table border=\"1\" class=\"dataframe\">\n",
              "  <thead>\n",
              "    <tr style=\"text-align: right;\">\n",
              "      <th>product</th>\n",
              "      <th>K1</th>\n",
              "      <th>K2</th>\n",
              "      <th>K3</th>\n",
              "      <th>K4</th>\n",
              "      <th>K5</th>\n",
              "      <th>K6</th>\n",
              "    </tr>\n",
              "    <tr>\n",
              "      <th>type_of_contract</th>\n",
              "      <th></th>\n",
              "      <th></th>\n",
              "      <th></th>\n",
              "      <th></th>\n",
              "      <th></th>\n",
              "      <th></th>\n",
              "    </tr>\n",
              "  </thead>\n",
              "  <tbody>\n",
              "    <tr>\n",
              "      <th>렌탈</th>\n",
              "      <td>34427</td>\n",
              "      <td>8892</td>\n",
              "      <td>2076</td>\n",
              "      <td>320</td>\n",
              "      <td>645</td>\n",
              "      <td>120</td>\n",
              "    </tr>\n",
              "    <tr>\n",
              "      <th>멤버십</th>\n",
              "      <td>4704</td>\n",
              "      <td>103</td>\n",
              "      <td>5</td>\n",
              "      <td>7</td>\n",
              "      <td>0</td>\n",
              "      <td>0</td>\n",
              "    </tr>\n",
              "  </tbody>\n",
              "</table>\n",
              "</div>\n",
              "      <button class=\"colab-df-convert\" onclick=\"convertToInteractive('df-333fd7b5-c8c6-483f-9eb8-fe5a01e7e32a')\"\n",
              "              title=\"Convert this dataframe to an interactive table.\"\n",
              "              style=\"display:none;\">\n",
              "\n",
              "  <svg xmlns=\"http://www.w3.org/2000/svg\" height=\"24px\"viewBox=\"0 0 24 24\"\n",
              "       width=\"24px\">\n",
              "    <path d=\"M0 0h24v24H0V0z\" fill=\"none\"/>\n",
              "    <path d=\"M18.56 5.44l.94 2.06.94-2.06 2.06-.94-2.06-.94-.94-2.06-.94 2.06-2.06.94zm-11 1L8.5 8.5l.94-2.06 2.06-.94-2.06-.94L8.5 2.5l-.94 2.06-2.06.94zm10 10l.94 2.06.94-2.06 2.06-.94-2.06-.94-.94-2.06-.94 2.06-2.06.94z\"/><path d=\"M17.41 7.96l-1.37-1.37c-.4-.4-.92-.59-1.43-.59-.52 0-1.04.2-1.43.59L10.3 9.45l-7.72 7.72c-.78.78-.78 2.05 0 2.83L4 21.41c.39.39.9.59 1.41.59.51 0 1.02-.2 1.41-.59l7.78-7.78 2.81-2.81c.8-.78.8-2.07 0-2.86zM5.41 20L4 18.59l7.72-7.72 1.47 1.35L5.41 20z\"/>\n",
              "  </svg>\n",
              "      </button>\n",
              "\n",
              "\n",
              "\n",
              "    <div id=\"df-a12fa241-e700-4cb8-9945-5e3581c7404f\">\n",
              "      <button class=\"colab-df-quickchart\" onclick=\"quickchart('df-a12fa241-e700-4cb8-9945-5e3581c7404f')\"\n",
              "              title=\"Suggest charts.\"\n",
              "              style=\"display:none;\">\n",
              "\n",
              "<svg xmlns=\"http://www.w3.org/2000/svg\" height=\"24px\"viewBox=\"0 0 24 24\"\n",
              "     width=\"24px\">\n",
              "    <g>\n",
              "        <path d=\"M19 3H5c-1.1 0-2 .9-2 2v14c0 1.1.9 2 2 2h14c1.1 0 2-.9 2-2V5c0-1.1-.9-2-2-2zM9 17H7v-7h2v7zm4 0h-2V7h2v10zm4 0h-2v-4h2v4z\"/>\n",
              "    </g>\n",
              "</svg>\n",
              "      </button>\n",
              "    </div>\n",
              "\n",
              "<style>\n",
              "  .colab-df-quickchart {\n",
              "    background-color: #E8F0FE;\n",
              "    border: none;\n",
              "    border-radius: 50%;\n",
              "    cursor: pointer;\n",
              "    display: none;\n",
              "    fill: #1967D2;\n",
              "    height: 32px;\n",
              "    padding: 0 0 0 0;\n",
              "    width: 32px;\n",
              "  }\n",
              "\n",
              "  .colab-df-quickchart:hover {\n",
              "    background-color: #E2EBFA;\n",
              "    box-shadow: 0px 1px 2px rgba(60, 64, 67, 0.3), 0px 1px 3px 1px rgba(60, 64, 67, 0.15);\n",
              "    fill: #174EA6;\n",
              "  }\n",
              "\n",
              "  [theme=dark] .colab-df-quickchart {\n",
              "    background-color: #3B4455;\n",
              "    fill: #D2E3FC;\n",
              "  }\n",
              "\n",
              "  [theme=dark] .colab-df-quickchart:hover {\n",
              "    background-color: #434B5C;\n",
              "    box-shadow: 0px 1px 3px 1px rgba(0, 0, 0, 0.15);\n",
              "    filter: drop-shadow(0px 1px 2px rgba(0, 0, 0, 0.3));\n",
              "    fill: #FFFFFF;\n",
              "  }\n",
              "</style>\n",
              "\n",
              "    <script>\n",
              "      async function quickchart(key) {\n",
              "        const containerElement = document.querySelector('#' + key);\n",
              "        const charts = await google.colab.kernel.invokeFunction(\n",
              "            'suggestCharts', [key], {});\n",
              "      }\n",
              "    </script>\n",
              "\n",
              "      <script>\n",
              "\n",
              "function displayQuickchartButton(domScope) {\n",
              "  let quickchartButtonEl =\n",
              "    domScope.querySelector('#df-a12fa241-e700-4cb8-9945-5e3581c7404f button.colab-df-quickchart');\n",
              "  quickchartButtonEl.style.display =\n",
              "    google.colab.kernel.accessAllowed ? 'block' : 'none';\n",
              "}\n",
              "\n",
              "        displayQuickchartButton(document);\n",
              "      </script>\n",
              "      <style>\n",
              "    .colab-df-container {\n",
              "      display:flex;\n",
              "      flex-wrap:wrap;\n",
              "      gap: 12px;\n",
              "    }\n",
              "\n",
              "    .colab-df-convert {\n",
              "      background-color: #E8F0FE;\n",
              "      border: none;\n",
              "      border-radius: 50%;\n",
              "      cursor: pointer;\n",
              "      display: none;\n",
              "      fill: #1967D2;\n",
              "      height: 32px;\n",
              "      padding: 0 0 0 0;\n",
              "      width: 32px;\n",
              "    }\n",
              "\n",
              "    .colab-df-convert:hover {\n",
              "      background-color: #E2EBFA;\n",
              "      box-shadow: 0px 1px 2px rgba(60, 64, 67, 0.3), 0px 1px 3px 1px rgba(60, 64, 67, 0.15);\n",
              "      fill: #174EA6;\n",
              "    }\n",
              "\n",
              "    [theme=dark] .colab-df-convert {\n",
              "      background-color: #3B4455;\n",
              "      fill: #D2E3FC;\n",
              "    }\n",
              "\n",
              "    [theme=dark] .colab-df-convert:hover {\n",
              "      background-color: #434B5C;\n",
              "      box-shadow: 0px 1px 3px 1px rgba(0, 0, 0, 0.15);\n",
              "      filter: drop-shadow(0px 1px 2px rgba(0, 0, 0, 0.3));\n",
              "      fill: #FFFFFF;\n",
              "    }\n",
              "  </style>\n",
              "\n",
              "      <script>\n",
              "        const buttonEl =\n",
              "          document.querySelector('#df-333fd7b5-c8c6-483f-9eb8-fe5a01e7e32a button.colab-df-convert');\n",
              "        buttonEl.style.display =\n",
              "          google.colab.kernel.accessAllowed ? 'block' : 'none';\n",
              "\n",
              "        async function convertToInteractive(key) {\n",
              "          const element = document.querySelector('#df-333fd7b5-c8c6-483f-9eb8-fe5a01e7e32a');\n",
              "          const dataTable =\n",
              "            await google.colab.kernel.invokeFunction('convertToInteractive',\n",
              "                                                     [key], {});\n",
              "          if (!dataTable) return;\n",
              "\n",
              "          const docLinkHtml = 'Like what you see? Visit the ' +\n",
              "            '<a target=\"_blank\" href=https://colab.research.google.com/notebooks/data_table.ipynb>data table notebook</a>'\n",
              "            + ' to learn more about interactive tables.';\n",
              "          element.innerHTML = '';\n",
              "          dataTable['output_type'] = 'display_data';\n",
              "          await google.colab.output.renderOutput(dataTable, element);\n",
              "          const docLink = document.createElement('div');\n",
              "          docLink.innerHTML = docLinkHtml;\n",
              "          element.appendChild(docLink);\n",
              "        }\n",
              "      </script>\n",
              "    </div>\n",
              "  </div>\n"
            ]
          },
          "metadata": {},
          "execution_count": 36
        }
      ],
      "source": [
        "df1_crosstable = pd.crosstab(df1['type_of_contract'], df1['product'])\n",
        "df1_crosstable"
      ]
    },
    {
      "cell_type": "code",
      "execution_count": 37,
      "id": "52125705",
      "metadata": {
        "colab": {
          "base_uri": "https://localhost:8080/"
        },
        "id": "52125705",
        "outputId": "5ea552e7-c4e6-4ba1-8a4a-226dcf109916"
      },
      "outputs": [
        {
          "output_type": "execute_result",
          "data": {
            "text/plain": [
              "Chi2ContingencyResult(statistic=1340.8053403924034, pvalue=9.218461328024673e-288, dof=5, expected_freq=array([[3.54550553e+04, 8.15001462e+03, 1.88551200e+03, 2.96281799e+02,\n",
              "        5.84409053e+02, 1.08727266e+02],\n",
              "       [3.67594474e+03, 8.44985380e+02, 1.95488002e+02, 3.07182011e+01,\n",
              "        6.05909472e+01, 1.12727344e+01]]))"
            ]
          },
          "metadata": {},
          "execution_count": 37
        }
      ],
      "source": [
        "# 귀무가설 : 계약유형에 따라 제품군의 차이가 없다. (계약유형과 제품군은 서로 독립)\n",
        "# 대립가설 : 계약유형에 따라 제품군의 차이가 있다. (계약유형과 제품군은 서로 연관)\n",
        "stats.chi2_contingency(df1_crosstable)"
      ]
    },
    {
      "cell_type": "code",
      "execution_count": 38,
      "id": "710c6027",
      "metadata": {
        "id": "710c6027"
      },
      "outputs": [],
      "source": [
        "# P.value < 0.05 (귀무가설기각, 대립가설 참)\n",
        "# 계약유형에 따라 제품군의 차이가 있다."
      ]
    },
    {
      "cell_type": "markdown",
      "id": "c6be3b8c",
      "metadata": {
        "id": "c6be3b8c"
      },
      "source": [
        "- One smaple t Test : 하나의 값과 하나의 집단의 평균 검정\n",
        "- Two sample t Test : 두 집단 간 평균검정\n",
        "- Levene Test : 두 집단 간 분산검정\n",
        "- Chi^2 Test  : 두 항목 간 독립검정"
      ]
    }
  ],
  "metadata": {
    "kernelspec": {
      "display_name": "Python 3",
      "language": "python",
      "name": "python3"
    },
    "language_info": {
      "codemirror_mode": {
        "name": "ipython",
        "version": 3
      },
      "file_extension": ".py",
      "mimetype": "text/x-python",
      "name": "python",
      "nbconvert_exporter": "python",
      "pygments_lexer": "ipython3",
      "version": "3.8.8"
    },
    "colab": {
      "provenance": [],
      "include_colab_link": true
    }
  },
  "nbformat": 4,
  "nbformat_minor": 5
}