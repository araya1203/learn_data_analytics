{
  "nbformat": 4,
  "nbformat_minor": 0,
  "metadata": {
    "colab": {
      "provenance": [],
      "authorship_tag": "ABX9TyOY69yDb45Tmuhwn9i0c0rl",
      "include_colab_link": true
    },
    "kernelspec": {
      "name": "python3",
      "display_name": "Python 3"
    },
    "language_info": {
      "name": "python"
    }
  },
  "cells": [
    {
      "cell_type": "markdown",
      "metadata": {
        "id": "view-in-github",
        "colab_type": "text"
      },
      "source": [
        "<a href=\"https://colab.research.google.com/github/yojulab/learn_data_analytics/blob/main/codes/cases/R04_Regression_pipeline_Manufacture_Wafers.ipynb\" target=\"_parent\"><img src=\"https://colab.research.google.com/assets/colab-badge.svg\" alt=\"Open In Colab\"/></a>"
      ]
    },
    {
      "cell_type": "code",
      "execution_count": null,
      "metadata": {
        "id": "vLhMuSpiOpsl"
      },
      "outputs": [],
      "source": [
        "import pandas as pd # import: 라이브러리를 해당 스크립트로 호출하는 함수\n",
        "df1 = pd.read_csv('preprocessing_data.csv')\n",
        "# read csv : csv 파일을 불러오는 함수\n",
        "df1.head(6) # head( ) : 상위 7개의 데이터를 확인"
      ]
    },
    {
      "cell_type": "code",
      "source": [
        "Y = df1['Target'] # Wafer W #8 chip +\n",
        "X = df1[['Temp_OXid', 'Oxid_time', 'thickness', 'Line_CD', 'Etching_rate', 'Temp_Etching']]\n",
        "X.head(5)"
      ],
      "metadata": {
        "id": "9pkr0ItxPhBS"
      },
      "execution_count": null,
      "outputs": []
    },
    {
      "cell_type": "code",
      "source": [
        "from sklearn.model_selection import train_test_split\n",
        "X_train, X_test, Y_train, Y_test = train_test_split(X,Y, random_state=1234)\n",
        "print(X_train.shape)\n",
        "print(X_test.shape)\n",
        "print(Y_train.shape)\n",
        "print(Y_test.shape)\n"
      ],
      "metadata": {
        "id": "5GzAl_6nPh0V"
      },
      "execution_count": null,
      "outputs": []
    },
    {
      "cell_type": "code",
      "source": [
        "from sklearn.metrics import r2_score\n",
        "from sklearn.metrics import mean_squared_error\n",
        "from sklearn.metrics import mean_absolute_error"
      ],
      "metadata": {
        "id": "sGH26yVNPbN8"
      },
      "execution_count": null,
      "outputs": []
    },
    {
      "cell_type": "code",
      "source": [
        "def evaluation_reg(model):\n",
        "    Y_train_pred = model.predict(X_train)\n",
        "    Y_test_pred = model.predict(X_test)\n",
        "    print('학습 데이터 결정계수: ', r2_score(Y_train, Y_train_pred))\n",
        "    print('검증 데이터 결정계수: ',r2_score(Y_test, Y_test_pred))\n",
        "    print('학습 데이터 MSE :', mean_squared_error(Y_train, Y_train_pred))\n",
        "    print('검증 데이터 MSE :', mean_squared_error(Y_test, Y_test_pred))\n",
        "    print('학습 데이터 MAE : ', mean_absolute_error(Y_train, Y_train_pred))\n",
        "    print('검증 데이터 MAE : ', mean_absolute_error(Y_test, Y_test_pred))"
      ],
      "metadata": {
        "id": "5u-H2_F-O9EH"
      },
      "execution_count": null,
      "outputs": []
    },
    {
      "cell_type": "markdown",
      "source": [
        "### 특성 공학 기법 적용 - 결측치 처리\n",
        "- Pipe Line : 학습과 특성공학 기법을 동시에 사용하여, 데이터를 한꺼번에 처리하면서 학 습을 수행하는 함수\n"
      ],
      "metadata": {
        "id": "4JQLBeSaD7wV"
      }
    },
    {
      "cell_type": "code",
      "source": [
        "from sklearn.pipeline import Pipeline # 학습 + 특성공학\n",
        "from sklearn.impute import SimpleImputer # 결측값 처리 함수\n",
        "from sklearn.linear_model import LinearRegression"
      ],
      "metadata": {
        "id": "4iuXchmZPW7_"
      },
      "execution_count": null,
      "outputs": []
    },
    {
      "cell_type": "code",
      "source": [
        "pipe_list = [('imputer', SimpleImputer() ), ('model', LinearRegression())]\n",
        "pipe_model = Pipeline(pipe_list)\n",
        "pipe_model\n"
      ],
      "metadata": {
        "id": "WiLFWv9mEDHB"
      },
      "execution_count": null,
      "outputs": []
    },
    {
      "cell_type": "code",
      "source": [
        "pipe_model.fit(X_train, Y_train)\n",
        "evaluation_reg(pipe_model)"
      ],
      "metadata": {
        "id": "Y_ZNo8WXEJ2k"
      },
      "execution_count": null,
      "outputs": []
    },
    {
      "cell_type": "code",
      "source": [
        "# **새로운 값을 직접 입력하여 예측**\n",
        "# x1 = input('Temp_OXid을 입력하시오 :')\n",
        "# x2 = input('Oxid_time을 입력하시오:')\n",
        "# x3 = input(' thickness 입력하시오 : ')\n",
        "# x4 = input(' Line_co 입력하시오 : ')\n",
        "# x5 = input('Etching_rate 입력하시오 : ')\n",
        "# x6 = input('Temp_Etching 입력하시오 : ')\n",
        "x1 = 1138.979159\n",
        "x2 = 137.0\n",
        "x3 = 705.471\n",
        "x4 = 28.063\n",
        "x5 = 2.74825\n",
        "x6 = 71.174\n",
        "\n",
        "input_new_data = pd. DataFrame([[x1,x2,x3,x4, x5, x6]])\n",
        "pipe_model.predict(input_new_data)"
      ],
      "metadata": {
        "id": "unuoxlRhQwDB"
      },
      "execution_count": null,
      "outputs": []
    },
    {
      "cell_type": "code",
      "source": [
        "#**결측값이 있어도, Pipe Line 함수로 인해 오류 없이 예측값이 계산되어 출력**\n",
        "import numpy as np\n",
        "input_new_data2 = pd.DataFrame([[x1, np.nan, x3,x4, x5, x6]], columns=X.columns. tolist())\n",
        "input_new_data2"
      ],
      "metadata": {
        "id": "RWAklDOvQw2l"
      },
      "execution_count": null,
      "outputs": []
    },
    {
      "cell_type": "code",
      "source": [
        "pipe_model.predict(input_new_data2)"
      ],
      "metadata": {
        "id": "p4jqTIBbQ2kD"
      },
      "execution_count": null,
      "outputs": []
    },
    {
      "cell_type": "markdown",
      "source": [
        "### 특성 공학 기법 적용 - scaling & encoding\n",
        "- [youtube - refer tutorial [Python 활용 제조/공정 데이터 마이닝] 14 파이프라인을 이용한 스케일링 및 인코딩 (Pipeline & Scaling Encoding)\n",
        "](https://youtu.be/5D33ZhcTups)\n",
        "- Scal ing -> 연속형\n",
        "- Encoding -> 범주형\n",
        "- Imputat ion -> 연속/ 범주\n"
      ],
      "metadata": {
        "id": "AhkSEBXDGlqi"
      }
    },
    {
      "cell_type": "code",
      "source": [
        "Y = df1['Target']\n",
        "X = df1[['Oxid_time', 'thickness', 'Vapor', 'resist_target', 'Line_CD', 'Etching_rate', 'UV_type' ]]"
      ],
      "metadata": {
        "id": "gucoq-TdGe1o"
      },
      "execution_count": null,
      "outputs": []
    },
    {
      "cell_type": "code",
      "source": [
        "X_train, X_test, Y_train, Y_test = train_test_split (X,Y, random_state= 1234)"
      ],
      "metadata": {
        "id": "JFyVcMBiJTsT"
      },
      "execution_count": null,
      "outputs": []
    },
    {
      "cell_type": "code",
      "source": [
        "# 운자데이터와 숫자데이터를 구분하여 처리하는 프로세스를 구축할 때 사용하는 함수\n",
        "from sklearn.compose import make_column_transformer\n",
        "# 특성공학 + 학습\n",
        "from sklearn.pipeline import make_pipeline\n",
        "# Scaling & Encoding\n",
        "from sklearn.preprocessing import MinMaxScaler\n",
        "from sklearn.preprocessing import OneHotEncoder\n",
        "# 연속형/범주형 데이터 항목영을 리스트로 선언\n",
        "numeric_list = ['Oxid_time', 'thickness', 'resist_target', 'Line_CD', 'Etching_rate']\n",
        "category_list = ['Vapor', 'UV_type']"
      ],
      "metadata": {
        "id": "ExoSwEElJZhF"
      },
      "execution_count": null,
      "outputs": []
    },
    {
      "cell_type": "code",
      "source": [
        "# 연속형 데이터가 처리되는 Process Pipe\n",
        "# 결측값을 평균으로 대치한 다음, Scale을 최소 0/ 최대 1으로 변환\n",
        "numeric_pipe = make_pipeline( SimpleImputer(strategy='mean'),  MinMaxScaler () )\n",
        "numeric_pipe"
      ],
      "metadata": {
        "id": "h0GXe3ycIgoe"
      },
      "execution_count": null,
      "outputs": []
    },
    {
      "cell_type": "code",
      "source": [
        "# 범주형 데이터가 처리되는 Process Pipe\n",
        "# 결수값을 최빈값으로 대치한 다음, 문자데이터를 Onatot 1인코딩 변환\n",
        "category_pipe= make_pipeline( SimpleImputer (strategy='most_frequent'), OneHotEncoder ( ))\n",
        "category_pipe"
      ],
      "metadata": {
        "id": "5WAgYmWKJ3Mw"
      },
      "execution_count": null,
      "outputs": []
    },
    {
      "cell_type": "code",
      "source": [
        "# 연속형과 범주형을 나누어 처리하는 Pipe을 구성\n",
        "preprocessing_pipe = make_column_transformer ( (numeric_pipe, numeric_list), (category_pipe, category_list) )\n",
        "preprocessing_pipe"
      ],
      "metadata": {
        "id": "ZPR8vaSfIlKc"
      },
      "execution_count": null,
      "outputs": []
    },
    {
      "cell_type": "code",
      "source": [
        "pipe_model = make_pipeline (preprocessing_pipe, LinearRegression () )\n",
        "pipe_model.fit (X_train, Y_train)\n",
        "evaluation_reg(pipe_model)"
      ],
      "metadata": {
        "id": "XkATMs2zKcKi"
      },
      "execution_count": null,
      "outputs": []
    },
    {
      "cell_type": "markdown",
      "source": [
        "### 특성공학 - Cross Validation\n",
        "- [youtube - tutorial [Python 활용 제조/공정 데이터 마이닝] 15 파이프라인을 이용한 교차 검증 (Pipeline & Cross Validation)](https://youtu.be/OH5nEK0b0uA)\n"
      ],
      "metadata": {
        "id": "1Ca-9L_tLB5L"
      }
    },
    {
      "cell_type": "code",
      "source": [
        "from sklearn.model_selection import GridSearchCV"
      ],
      "metadata": {
        "id": "B5y4e_gKKfcZ"
      },
      "execution_count": null,
      "outputs": []
    },
    {
      "cell_type": "code",
      "source": [
        "# 5회 교차검증 실시하며 학습 수행\n",
        "grid_model = GridSearchCV(pipe_model, param_grid={}, cv=5)\n",
        "grid_model.fit(X_train,Y_train)\n"
      ],
      "metadata": {
        "id": "cqwbaMQhOdqI"
      },
      "execution_count": null,
      "outputs": []
    },
    {
      "cell_type": "code",
      "source": [
        "# 교자검증 이후 가장 성능이 좋은 1agel 선택\n",
        "best_model = grid_model.best_estimator_\n",
        "evaluation_reg(best_model)"
      ],
      "metadata": {
        "id": "jQw7tAceOUss"
      },
      "execution_count": null,
      "outputs": []
    },
    {
      "cell_type": "markdown",
      "source": [
        "### Feature Enginnering\n",
        "- [youtube - tutorial [Python 활용 제조/공정 데이터 마이닝] 16 모델 하이퍼파라미터 튜닝 (Pipeline & Hyper Parameter Tuning)](https://youtu.be/TCC-ZSjAW-c)"
      ],
      "metadata": {
        "id": "oJSD5WNKRJ8Q"
      }
    },
    {
      "cell_type": "code",
      "source": [
        "# 의사결정나무 알고리증\n",
        "from sklearn.tree import DecisionTreeRegressor"
      ],
      "metadata": {
        "id": "r9KWxTnFO0Q9"
      },
      "execution_count": null,
      "outputs": []
    },
    {
      "cell_type": "code",
      "source": [
        "# 연속형과 범주형을 나누어 처리하는 Pipe를 구성\n",
        "preprocessing_pipe = make_column_transformer ( (numeric_pipe, numeric_list), (category_pipe, category_list) )\n",
        "pipe_model = make_pipeline (preprocessing_pipe, DecisionTreeRegressor () )\n",
        "pipe_model"
      ],
      "metadata": {
        "id": "ngE6pj0MS7zI"
      },
      "execution_count": null,
      "outputs": []
    },
    {
      "cell_type": "code",
      "source": [
        "# deoth : 5~10 5개 / s011t : 1~10 10개 / /eaf : 5~10 5개 -> 250가지 경우의 수\n",
        "hyperparameter = {'decisiontreeregressor__max_depth': range (5, 11)\n",
        "                , 'decisiontreeregressor__min_samples_split':range (1, 11)\n",
        "                , 'decisiontreeregressor__min_samples_leaf':range(5, 11)}\n",
        "grid_model = GridSearchCV (pipe_model, param_grid=hyperparameter, cv=5)\n",
        "# 5회의 교차검증 수행\n",
        "grid_model.fit(X_train, Y_train)"
      ],
      "metadata": {
        "id": "7EWKZ5zLTFAW"
      },
      "execution_count": null,
      "outputs": []
    },
    {
      "cell_type": "code",
      "source": [
        "# 가장 적절한 모델을 선택\n",
        "best_model = grid_model.best_estimator_\n",
        "print(best_model)"
      ],
      "metadata": {
        "id": "YOYiiX-vTR8q"
      },
      "execution_count": null,
      "outputs": []
    },
    {
      "cell_type": "code",
      "source": [
        "evaluation_reg(best_model)"
      ],
      "metadata": {
        "id": "n14Rkl_GTkgq"
      },
      "execution_count": null,
      "outputs": []
    },
    {
      "cell_type": "markdown",
      "source": [],
      "metadata": {
        "id": "JTS7Qr9sUQtN"
      }
    },
    {
      "cell_type": "code",
      "source": [],
      "metadata": {
        "id": "XbNxi4MQTlDb"
      },
      "execution_count": null,
      "outputs": []
    }
  ]
}