{
  "nbformat": 4,
  "nbformat_minor": 0,
  "metadata": {
    "colab": {
      "provenance": [],
      "authorship_tag": "ABX9TyM1yyOY3WKrWtSXlQiD//bh",
      "include_colab_link": true
    },
    "kernelspec": {
      "name": "python3",
      "display_name": "Python 3"
    },
    "language_info": {
      "name": "python"
    }
  },
  "cells": [
    {
      "cell_type": "markdown",
      "metadata": {
        "id": "view-in-github",
        "colab_type": "text"
      },
      "source": [
        "<a href=\"https://colab.research.google.com/github/yojulab/learn_data_analytics/blob/main/codes/cases/R03_Regression_Manufacture_Wafers.ipynb\" target=\"_parent\"><img src=\"https://colab.research.google.com/assets/colab-badge.svg\" alt=\"Open In Colab\"/></a>"
      ]
    },
    {
      "cell_type": "code",
      "execution_count": null,
      "metadata": {
        "id": "oFl-N7WHFjBN"
      },
      "outputs": [],
      "source": [
        " import pandas as pd # import: 라이브러리를 해당 스크립트로 호출하는 함수"
      ]
    },
    {
      "cell_type": "code",
      "source": [
        "# COlE =497\n",
        "df1 = pd.read_csv('preprocessing_data.csv')\n",
        "# read csv : csv 파일을 불러오는 함수\n",
        "df1.head(3) # head( ) : 상위 7개의 데이터를 확인"
      ],
      "metadata": {
        "colab": {
          "base_uri": "https://localhost:8080/",
          "height": 254
        },
        "id": "sC0A71SQFsy8",
        "outputId": "474e465a-c64a-45e2-d558-490ddb5d76e4"
      },
      "execution_count": null,
      "outputs": [
        {
          "output_type": "execute_result",
          "data": {
            "text/plain": [
              "   Unnamed: 0  Ox_Chamber    process type    Temp_OXid Vapor    ppm  Pressure  \\\n",
              "0           0           1  Oxidation  dry  1138.979159    O2  32.80     0.200   \n",
              "1           1           1  Oxidation  dry  1218.184551    O2  31.86     0.194   \n",
              "2           2           1  Oxidation  dry  1062.467808    O2  39.51     0.217   \n",
              "\n",
              "   Oxid_time  thickness  ...      Flux480s      Flux840s  input_Energy  \\\n",
              "0       62.0    699.443  ...  3.002593e+17  6.000007e+17     31574.410   \n",
              "1      137.0    696.792  ...  3.017903e+17  6.000012e+17     31580.213   \n",
              "2      128.0    705.471  ...  2.994231e+17  6.000002e+17     32162.414   \n",
              "\n",
              "   Temp_implantation Furance_Temp  RTA_Temp  Target  Error_message  \\\n",
              "0            102.847        885.0       154      96           none   \n",
              "1            104.323        919.0       154     102           none   \n",
              "2            100.605        916.0       155      95           none   \n",
              "\n",
              "   target_binom  Chamber_Route  \n",
              "0           0.0    route_11133  \n",
              "1           0.0    route_11222  \n",
              "2           0.0    route_11311  \n",
              "\n",
              "[3 rows x 60 columns]"
            ],
            "text/html": [
              "\n",
              "\n",
              "  <div id=\"df-f5d45560-7d1a-44b7-a345-cc65d3eb4d65\">\n",
              "    <div class=\"colab-df-container\">\n",
              "      <div>\n",
              "<style scoped>\n",
              "    .dataframe tbody tr th:only-of-type {\n",
              "        vertical-align: middle;\n",
              "    }\n",
              "\n",
              "    .dataframe tbody tr th {\n",
              "        vertical-align: top;\n",
              "    }\n",
              "\n",
              "    .dataframe thead th {\n",
              "        text-align: right;\n",
              "    }\n",
              "</style>\n",
              "<table border=\"1\" class=\"dataframe\">\n",
              "  <thead>\n",
              "    <tr style=\"text-align: right;\">\n",
              "      <th></th>\n",
              "      <th>Unnamed: 0</th>\n",
              "      <th>Ox_Chamber</th>\n",
              "      <th>process</th>\n",
              "      <th>type</th>\n",
              "      <th>Temp_OXid</th>\n",
              "      <th>Vapor</th>\n",
              "      <th>ppm</th>\n",
              "      <th>Pressure</th>\n",
              "      <th>Oxid_time</th>\n",
              "      <th>thickness</th>\n",
              "      <th>...</th>\n",
              "      <th>Flux480s</th>\n",
              "      <th>Flux840s</th>\n",
              "      <th>input_Energy</th>\n",
              "      <th>Temp_implantation</th>\n",
              "      <th>Furance_Temp</th>\n",
              "      <th>RTA_Temp</th>\n",
              "      <th>Target</th>\n",
              "      <th>Error_message</th>\n",
              "      <th>target_binom</th>\n",
              "      <th>Chamber_Route</th>\n",
              "    </tr>\n",
              "  </thead>\n",
              "  <tbody>\n",
              "    <tr>\n",
              "      <th>0</th>\n",
              "      <td>0</td>\n",
              "      <td>1</td>\n",
              "      <td>Oxidation</td>\n",
              "      <td>dry</td>\n",
              "      <td>1138.979159</td>\n",
              "      <td>O2</td>\n",
              "      <td>32.80</td>\n",
              "      <td>0.200</td>\n",
              "      <td>62.0</td>\n",
              "      <td>699.443</td>\n",
              "      <td>...</td>\n",
              "      <td>3.002593e+17</td>\n",
              "      <td>6.000007e+17</td>\n",
              "      <td>31574.410</td>\n",
              "      <td>102.847</td>\n",
              "      <td>885.0</td>\n",
              "      <td>154</td>\n",
              "      <td>96</td>\n",
              "      <td>none</td>\n",
              "      <td>0.0</td>\n",
              "      <td>route_11133</td>\n",
              "    </tr>\n",
              "    <tr>\n",
              "      <th>1</th>\n",
              "      <td>1</td>\n",
              "      <td>1</td>\n",
              "      <td>Oxidation</td>\n",
              "      <td>dry</td>\n",
              "      <td>1218.184551</td>\n",
              "      <td>O2</td>\n",
              "      <td>31.86</td>\n",
              "      <td>0.194</td>\n",
              "      <td>137.0</td>\n",
              "      <td>696.792</td>\n",
              "      <td>...</td>\n",
              "      <td>3.017903e+17</td>\n",
              "      <td>6.000012e+17</td>\n",
              "      <td>31580.213</td>\n",
              "      <td>104.323</td>\n",
              "      <td>919.0</td>\n",
              "      <td>154</td>\n",
              "      <td>102</td>\n",
              "      <td>none</td>\n",
              "      <td>0.0</td>\n",
              "      <td>route_11222</td>\n",
              "    </tr>\n",
              "    <tr>\n",
              "      <th>2</th>\n",
              "      <td>2</td>\n",
              "      <td>1</td>\n",
              "      <td>Oxidation</td>\n",
              "      <td>dry</td>\n",
              "      <td>1062.467808</td>\n",
              "      <td>O2</td>\n",
              "      <td>39.51</td>\n",
              "      <td>0.217</td>\n",
              "      <td>128.0</td>\n",
              "      <td>705.471</td>\n",
              "      <td>...</td>\n",
              "      <td>2.994231e+17</td>\n",
              "      <td>6.000002e+17</td>\n",
              "      <td>32162.414</td>\n",
              "      <td>100.605</td>\n",
              "      <td>916.0</td>\n",
              "      <td>155</td>\n",
              "      <td>95</td>\n",
              "      <td>none</td>\n",
              "      <td>0.0</td>\n",
              "      <td>route_11311</td>\n",
              "    </tr>\n",
              "  </tbody>\n",
              "</table>\n",
              "<p>3 rows × 60 columns</p>\n",
              "</div>\n",
              "      <button class=\"colab-df-convert\" onclick=\"convertToInteractive('df-f5d45560-7d1a-44b7-a345-cc65d3eb4d65')\"\n",
              "              title=\"Convert this dataframe to an interactive table.\"\n",
              "              style=\"display:none;\">\n",
              "\n",
              "  <svg xmlns=\"http://www.w3.org/2000/svg\" height=\"24px\"viewBox=\"0 0 24 24\"\n",
              "       width=\"24px\">\n",
              "    <path d=\"M0 0h24v24H0V0z\" fill=\"none\"/>\n",
              "    <path d=\"M18.56 5.44l.94 2.06.94-2.06 2.06-.94-2.06-.94-.94-2.06-.94 2.06-2.06.94zm-11 1L8.5 8.5l.94-2.06 2.06-.94-2.06-.94L8.5 2.5l-.94 2.06-2.06.94zm10 10l.94 2.06.94-2.06 2.06-.94-2.06-.94-.94-2.06-.94 2.06-2.06.94z\"/><path d=\"M17.41 7.96l-1.37-1.37c-.4-.4-.92-.59-1.43-.59-.52 0-1.04.2-1.43.59L10.3 9.45l-7.72 7.72c-.78.78-.78 2.05 0 2.83L4 21.41c.39.39.9.59 1.41.59.51 0 1.02-.2 1.41-.59l7.78-7.78 2.81-2.81c.8-.78.8-2.07 0-2.86zM5.41 20L4 18.59l7.72-7.72 1.47 1.35L5.41 20z\"/>\n",
              "  </svg>\n",
              "      </button>\n",
              "\n",
              "\n",
              "\n",
              "    <div id=\"df-2993c31e-8ee6-4819-a73e-b54d2d0f2203\">\n",
              "      <button class=\"colab-df-quickchart\" onclick=\"quickchart('df-2993c31e-8ee6-4819-a73e-b54d2d0f2203')\"\n",
              "              title=\"Suggest charts.\"\n",
              "              style=\"display:none;\">\n",
              "\n",
              "<svg xmlns=\"http://www.w3.org/2000/svg\" height=\"24px\"viewBox=\"0 0 24 24\"\n",
              "     width=\"24px\">\n",
              "    <g>\n",
              "        <path d=\"M19 3H5c-1.1 0-2 .9-2 2v14c0 1.1.9 2 2 2h14c1.1 0 2-.9 2-2V5c0-1.1-.9-2-2-2zM9 17H7v-7h2v7zm4 0h-2V7h2v10zm4 0h-2v-4h2v4z\"/>\n",
              "    </g>\n",
              "</svg>\n",
              "      </button>\n",
              "    </div>\n",
              "\n",
              "<style>\n",
              "  .colab-df-quickchart {\n",
              "    background-color: #E8F0FE;\n",
              "    border: none;\n",
              "    border-radius: 50%;\n",
              "    cursor: pointer;\n",
              "    display: none;\n",
              "    fill: #1967D2;\n",
              "    height: 32px;\n",
              "    padding: 0 0 0 0;\n",
              "    width: 32px;\n",
              "  }\n",
              "\n",
              "  .colab-df-quickchart:hover {\n",
              "    background-color: #E2EBFA;\n",
              "    box-shadow: 0px 1px 2px rgba(60, 64, 67, 0.3), 0px 1px 3px 1px rgba(60, 64, 67, 0.15);\n",
              "    fill: #174EA6;\n",
              "  }\n",
              "\n",
              "  [theme=dark] .colab-df-quickchart {\n",
              "    background-color: #3B4455;\n",
              "    fill: #D2E3FC;\n",
              "  }\n",
              "\n",
              "  [theme=dark] .colab-df-quickchart:hover {\n",
              "    background-color: #434B5C;\n",
              "    box-shadow: 0px 1px 3px 1px rgba(0, 0, 0, 0.15);\n",
              "    filter: drop-shadow(0px 1px 2px rgba(0, 0, 0, 0.3));\n",
              "    fill: #FFFFFF;\n",
              "  }\n",
              "</style>\n",
              "\n",
              "    <script>\n",
              "      async function quickchart(key) {\n",
              "        const containerElement = document.querySelector('#' + key);\n",
              "        const charts = await google.colab.kernel.invokeFunction(\n",
              "            'suggestCharts', [key], {});\n",
              "      }\n",
              "    </script>\n",
              "\n",
              "      <script>\n",
              "\n",
              "function displayQuickchartButton(domScope) {\n",
              "  let quickchartButtonEl =\n",
              "    domScope.querySelector('#df-2993c31e-8ee6-4819-a73e-b54d2d0f2203 button.colab-df-quickchart');\n",
              "  quickchartButtonEl.style.display =\n",
              "    google.colab.kernel.accessAllowed ? 'block' : 'none';\n",
              "}\n",
              "\n",
              "        displayQuickchartButton(document);\n",
              "      </script>\n",
              "      <style>\n",
              "    .colab-df-container {\n",
              "      display:flex;\n",
              "      flex-wrap:wrap;\n",
              "      gap: 12px;\n",
              "    }\n",
              "\n",
              "    .colab-df-convert {\n",
              "      background-color: #E8F0FE;\n",
              "      border: none;\n",
              "      border-radius: 50%;\n",
              "      cursor: pointer;\n",
              "      display: none;\n",
              "      fill: #1967D2;\n",
              "      height: 32px;\n",
              "      padding: 0 0 0 0;\n",
              "      width: 32px;\n",
              "    }\n",
              "\n",
              "    .colab-df-convert:hover {\n",
              "      background-color: #E2EBFA;\n",
              "      box-shadow: 0px 1px 2px rgba(60, 64, 67, 0.3), 0px 1px 3px 1px rgba(60, 64, 67, 0.15);\n",
              "      fill: #174EA6;\n",
              "    }\n",
              "\n",
              "    [theme=dark] .colab-df-convert {\n",
              "      background-color: #3B4455;\n",
              "      fill: #D2E3FC;\n",
              "    }\n",
              "\n",
              "    [theme=dark] .colab-df-convert:hover {\n",
              "      background-color: #434B5C;\n",
              "      box-shadow: 0px 1px 3px 1px rgba(0, 0, 0, 0.15);\n",
              "      filter: drop-shadow(0px 1px 2px rgba(0, 0, 0, 0.3));\n",
              "      fill: #FFFFFF;\n",
              "    }\n",
              "  </style>\n",
              "\n",
              "      <script>\n",
              "        const buttonEl =\n",
              "          document.querySelector('#df-f5d45560-7d1a-44b7-a345-cc65d3eb4d65 button.colab-df-convert');\n",
              "        buttonEl.style.display =\n",
              "          google.colab.kernel.accessAllowed ? 'block' : 'none';\n",
              "\n",
              "        async function convertToInteractive(key) {\n",
              "          const element = document.querySelector('#df-f5d45560-7d1a-44b7-a345-cc65d3eb4d65');\n",
              "          const dataTable =\n",
              "            await google.colab.kernel.invokeFunction('convertToInteractive',\n",
              "                                                     [key], {});\n",
              "          if (!dataTable) return;\n",
              "\n",
              "          const docLinkHtml = 'Like what you see? Visit the ' +\n",
              "            '<a target=\"_blank\" href=https://colab.research.google.com/notebooks/data_table.ipynb>data table notebook</a>'\n",
              "            + ' to learn more about interactive tables.';\n",
              "          element.innerHTML = '';\n",
              "          dataTable['output_type'] = 'display_data';\n",
              "          await google.colab.output.renderOutput(dataTable, element);\n",
              "          const docLink = document.createElement('div');\n",
              "          docLink.innerHTML = docLinkHtml;\n",
              "          element.appendChild(docLink);\n",
              "        }\n",
              "      </script>\n",
              "    </div>\n",
              "  </div>\n"
            ]
          },
          "metadata": {},
          "execution_count": 3
        }
      ]
    },
    {
      "cell_type": "code",
      "source": [
        "df1.columns"
      ],
      "metadata": {
        "colab": {
          "base_uri": "https://localhost:8080/"
        },
        "id": "qRmaXZ78F2Fh",
        "outputId": "6415c43c-e332-4de1-c4d1-7cfaabbc9cca"
      },
      "execution_count": null,
      "outputs": [
        {
          "output_type": "execute_result",
          "data": {
            "text/plain": [
              "Index(['Unnamed: 0', 'Ox_Chamber', 'process', 'type', 'Temp_OXid', 'Vapor',\n",
              "       'ppm', 'Pressure', 'Oxid_time', 'thickness', 'No_Die', 'Reinforcement',\n",
              "       'Unnamed: 0_x', 'photo_soft_Chamber', 'process 2', 'resist_target',\n",
              "       'N2_HMDS', 'pressure_HMDS', 'temp_HMDS', 'temp_HMDS_bake',\n",
              "       'time_HMDS_bake', 'spin1', 'spin2', 'spin3', 'photoresist_bake',\n",
              "       'temp_softbake', 'time_softbake', 'lithography_Chamber', 'Line_CD',\n",
              "       'UV_type', 'Wavelength', 'Resolution', 'Energy_Exposure', 'Range_check',\n",
              "       'Unnamed: 0_y', 'Etching_Chamber', 'Process 3', 'Temp_Etching',\n",
              "       'Source_Power', 'Selectivity', 'Thin Film 4', 'Thin Film 3',\n",
              "       'Thin Film 2', 'Thin Film 1', 'Etching_rate', 'Chamber_Num', 'process4',\n",
              "       'Flux60s', 'Flux90s', 'Flux160s', 'Flux480s', 'Flux840s',\n",
              "       'input_Energy', 'Temp_implantation', 'Furance_Temp', 'RTA_Temp',\n",
              "       'Target', 'Error_message', 'target_binom', 'Chamber_Route'],\n",
              "      dtype='object')"
            ]
          },
          "metadata": {},
          "execution_count": 6
        }
      ]
    },
    {
      "cell_type": "code",
      "source": [
        "Y = df1['Target'] # Wafer W #8 chip +\n",
        "X = df1[['Temp_OXid', 'Oxid_time', 'thickness', 'Line_CD', 'Etching_rate', 'Temp_Etching']]"
      ],
      "metadata": {
        "id": "xLi3BvlOF2hK"
      },
      "execution_count": null,
      "outputs": []
    },
    {
      "cell_type": "code",
      "source": [
        "from sklearn.model_selection import train_test_split\n",
        "X_train, X_test, Y_train, Y_test = train_test_split (X,Y, random_state=1234)\n",
        "print (X_train.shape)\n",
        "print (X_test .shape)\n",
        "print (Y_train.shape)\n",
        "print (Y_test.shape)\n"
      ],
      "metadata": {
        "colab": {
          "base_uri": "https://localhost:8080/"
        },
        "id": "p8v2yDxAHHqx",
        "outputId": "c799a9f9-1d9e-4f08-957a-6813e1eb57b7"
      },
      "execution_count": null,
      "outputs": [
        {
          "output_type": "stream",
          "name": "stdout",
          "text": [
            "(564, 6)\n",
            "(188, 6)\n",
            "(564,)\n",
            "(188,)\n"
          ]
        }
      ]
    },
    {
      "cell_type": "code",
      "source": [
        "from sklearn.linear_model import LinearRegression\n",
        "model = LinearRegression ()\n",
        "model. fit (X_train, Y_train)"
      ],
      "metadata": {
        "colab": {
          "base_uri": "https://localhost:8080/",
          "height": 75
        },
        "id": "YykKUa4ZHKNQ",
        "outputId": "8df377f3-21bf-4180-b463-29733f0a8426"
      },
      "execution_count": null,
      "outputs": [
        {
          "output_type": "execute_result",
          "data": {
            "text/plain": [
              "LinearRegression()"
            ],
            "text/html": [
              "<style>#sk-container-id-1 {color: black;background-color: white;}#sk-container-id-1 pre{padding: 0;}#sk-container-id-1 div.sk-toggleable {background-color: white;}#sk-container-id-1 label.sk-toggleable__label {cursor: pointer;display: block;width: 100%;margin-bottom: 0;padding: 0.3em;box-sizing: border-box;text-align: center;}#sk-container-id-1 label.sk-toggleable__label-arrow:before {content: \"▸\";float: left;margin-right: 0.25em;color: #696969;}#sk-container-id-1 label.sk-toggleable__label-arrow:hover:before {color: black;}#sk-container-id-1 div.sk-estimator:hover label.sk-toggleable__label-arrow:before {color: black;}#sk-container-id-1 div.sk-toggleable__content {max-height: 0;max-width: 0;overflow: hidden;text-align: left;background-color: #f0f8ff;}#sk-container-id-1 div.sk-toggleable__content pre {margin: 0.2em;color: black;border-radius: 0.25em;background-color: #f0f8ff;}#sk-container-id-1 input.sk-toggleable__control:checked~div.sk-toggleable__content {max-height: 200px;max-width: 100%;overflow: auto;}#sk-container-id-1 input.sk-toggleable__control:checked~label.sk-toggleable__label-arrow:before {content: \"▾\";}#sk-container-id-1 div.sk-estimator input.sk-toggleable__control:checked~label.sk-toggleable__label {background-color: #d4ebff;}#sk-container-id-1 div.sk-label input.sk-toggleable__control:checked~label.sk-toggleable__label {background-color: #d4ebff;}#sk-container-id-1 input.sk-hidden--visually {border: 0;clip: rect(1px 1px 1px 1px);clip: rect(1px, 1px, 1px, 1px);height: 1px;margin: -1px;overflow: hidden;padding: 0;position: absolute;width: 1px;}#sk-container-id-1 div.sk-estimator {font-family: monospace;background-color: #f0f8ff;border: 1px dotted black;border-radius: 0.25em;box-sizing: border-box;margin-bottom: 0.5em;}#sk-container-id-1 div.sk-estimator:hover {background-color: #d4ebff;}#sk-container-id-1 div.sk-parallel-item::after {content: \"\";width: 100%;border-bottom: 1px solid gray;flex-grow: 1;}#sk-container-id-1 div.sk-label:hover label.sk-toggleable__label {background-color: #d4ebff;}#sk-container-id-1 div.sk-serial::before {content: \"\";position: absolute;border-left: 1px solid gray;box-sizing: border-box;top: 0;bottom: 0;left: 50%;z-index: 0;}#sk-container-id-1 div.sk-serial {display: flex;flex-direction: column;align-items: center;background-color: white;padding-right: 0.2em;padding-left: 0.2em;position: relative;}#sk-container-id-1 div.sk-item {position: relative;z-index: 1;}#sk-container-id-1 div.sk-parallel {display: flex;align-items: stretch;justify-content: center;background-color: white;position: relative;}#sk-container-id-1 div.sk-item::before, #sk-container-id-1 div.sk-parallel-item::before {content: \"\";position: absolute;border-left: 1px solid gray;box-sizing: border-box;top: 0;bottom: 0;left: 50%;z-index: -1;}#sk-container-id-1 div.sk-parallel-item {display: flex;flex-direction: column;z-index: 1;position: relative;background-color: white;}#sk-container-id-1 div.sk-parallel-item:first-child::after {align-self: flex-end;width: 50%;}#sk-container-id-1 div.sk-parallel-item:last-child::after {align-self: flex-start;width: 50%;}#sk-container-id-1 div.sk-parallel-item:only-child::after {width: 0;}#sk-container-id-1 div.sk-dashed-wrapped {border: 1px dashed gray;margin: 0 0.4em 0.5em 0.4em;box-sizing: border-box;padding-bottom: 0.4em;background-color: white;}#sk-container-id-1 div.sk-label label {font-family: monospace;font-weight: bold;display: inline-block;line-height: 1.2em;}#sk-container-id-1 div.sk-label-container {text-align: center;}#sk-container-id-1 div.sk-container {/* jupyter's `normalize.less` sets `[hidden] { display: none; }` but bootstrap.min.css set `[hidden] { display: none !important; }` so we also need the `!important` here to be able to override the default hidden behavior on the sphinx rendered scikit-learn.org. See: https://github.com/scikit-learn/scikit-learn/issues/21755 */display: inline-block !important;position: relative;}#sk-container-id-1 div.sk-text-repr-fallback {display: none;}</style><div id=\"sk-container-id-1\" class=\"sk-top-container\"><div class=\"sk-text-repr-fallback\"><pre>LinearRegression()</pre><b>In a Jupyter environment, please rerun this cell to show the HTML representation or trust the notebook. <br />On GitHub, the HTML representation is unable to render, please try loading this page with nbviewer.org.</b></div><div class=\"sk-container\" hidden><div class=\"sk-item\"><div class=\"sk-estimator sk-toggleable\"><input class=\"sk-toggleable__control sk-hidden--visually\" id=\"sk-estimator-id-1\" type=\"checkbox\" checked><label for=\"sk-estimator-id-1\" class=\"sk-toggleable__label sk-toggleable__label-arrow\">LinearRegression</label><div class=\"sk-toggleable__content\"><pre>LinearRegression()</pre></div></div></div></div></div>"
            ]
          },
          "metadata": {},
          "execution_count": 11
        }
      ]
    },
    {
      "cell_type": "code",
      "source": [
        "from sklearn.metrics import r2_score\n",
        "from sklearn.metrics import mean_squared_error\n",
        "from sklearn.metrics import mean_absolute_error"
      ],
      "metadata": {
        "id": "h8iihs2sHk8E"
      },
      "execution_count": null,
      "outputs": []
    },
    {
      "cell_type": "code",
      "source": [
        "Y_train_pred = model.predict (X_train)\n",
        "Y_test_pred = model .predict (X_test)"
      ],
      "metadata": {
        "id": "QXSFUNuzH1hR"
      },
      "execution_count": null,
      "outputs": []
    },
    {
      "cell_type": "code",
      "source": [
        "r2_score(Y_train, Y_train_pred)"
      ],
      "metadata": {
        "colab": {
          "base_uri": "https://localhost:8080/"
        },
        "id": "Vz9HTE5bH3sM",
        "outputId": "7c27e7fe-1a63-4918-b84d-b65813691746"
      },
      "execution_count": null,
      "outputs": [
        {
          "output_type": "execute_result",
          "data": {
            "text/plain": [
              "0.3458237902299184"
            ]
          },
          "metadata": {},
          "execution_count": 14
        }
      ]
    },
    {
      "cell_type": "code",
      "source": [
        "r2_score(Y_test, Y_test_pred)"
      ],
      "metadata": {
        "colab": {
          "base_uri": "https://localhost:8080/"
        },
        "id": "CVZ6ZZNuH6JB",
        "outputId": "a4845880-c824-4cbe-c2f5-43b4e60ecc45"
      },
      "execution_count": null,
      "outputs": [
        {
          "output_type": "execute_result",
          "data": {
            "text/plain": [
              "0.2939680114254155"
            ]
          },
          "metadata": {},
          "execution_count": 16
        }
      ]
    },
    {
      "cell_type": "code",
      "source": [
        "mean_squared_error (Y_train, Y_train_pred)"
      ],
      "metadata": {
        "colab": {
          "base_uri": "https://localhost:8080/"
        },
        "id": "m6McQm2vH7M2",
        "outputId": "0299602f-6827-44c4-a48d-031e99ca4e56"
      },
      "execution_count": null,
      "outputs": [
        {
          "output_type": "execute_result",
          "data": {
            "text/plain": [
              "2684.955321336233"
            ]
          },
          "metadata": {},
          "execution_count": 17
        }
      ]
    },
    {
      "cell_type": "code",
      "source": [
        "mean_squared_error (Y_test, Y_test_pred)"
      ],
      "metadata": {
        "colab": {
          "base_uri": "https://localhost:8080/"
        },
        "id": "WzEFshxCH-Lu",
        "outputId": "899c86f5-97fb-4adb-da4e-96cb04754794"
      },
      "execution_count": null,
      "outputs": [
        {
          "output_type": "execute_result",
          "data": {
            "text/plain": [
              "2089.478577922484"
            ]
          },
          "metadata": {},
          "execution_count": 18
        }
      ]
    },
    {
      "cell_type": "markdown",
      "source": [],
      "metadata": {
        "id": "BSkrN3PWOiN3"
      }
    },
    {
      "cell_type": "code",
      "source": [],
      "metadata": {
        "id": "B_lm_cWYH-k3"
      },
      "execution_count": null,
      "outputs": []
    }
  ]
}