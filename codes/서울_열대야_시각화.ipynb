{
  "nbformat": 4,
  "nbformat_minor": 0,
  "metadata": {
    "colab": {
      "name": "서울 열대야 시각화.ipynb",
      "provenance": [],
      "collapsed_sections": [],
      "include_colab_link": true
    },
    "kernelspec": {
      "name": "python3",
      "display_name": "Python 3"
    },
    "language_info": {
      "name": "python"
    }
  },
  "cells": [
    {
      "cell_type": "markdown",
      "metadata": {
        "id": "view-in-github",
        "colab_type": "text"
      },
      "source": [
        "<a href=\"https://colab.research.google.com/github/SanghunOh/with_data_analytics/blob/main/codes/%EC%84%9C%EC%9A%B8_%EC%97%B4%EB%8C%80%EC%95%BC_%EC%8B%9C%EA%B0%81%ED%99%94.ipynb\" target=\"_parent\"><img src=\"https://colab.research.google.com/assets/colab-badge.svg\" alt=\"Open In Colab\"/></a>"
      ]
    },
    {
      "cell_type": "markdown",
      "source": [
        "##Connect google Drive"
      ],
      "metadata": {
        "id": "uWoRiKEZTbe9"
      }
    },
    {
      "cell_type": "code",
      "source": [
        "from google.colab import drive\n",
        "drive.mount('/content/drive')"
      ],
      "metadata": {
        "colab": {
          "base_uri": "https://localhost:8080/"
        },
        "id": "hkkFQ-vxIkn4",
        "outputId": "58aa71c4-3020-4fd9-9e36-033dd9569bc8"
      },
      "execution_count": 1,
      "outputs": [
        {
          "output_type": "stream",
          "name": "stdout",
          "text": [
            "Drive already mounted at /content/drive; to attempt to forcibly remount, call drive.mount(\"/content/drive\", force_remount=True).\n"
          ]
        }
      ]
    },
    {
      "cell_type": "code",
      "source": [
        "path_root = '/content/drive/MyDrive/datas/'\n",
        "\n",
        "# 작업 경로 설정\n",
        "import os\n",
        "os.chdir(path_root)\n",
        "!pwd"
      ],
      "metadata": {
        "colab": {
          "base_uri": "https://localhost:8080/"
        },
        "id": "02oWGnwTTe4Q",
        "outputId": "b559411d-7480-4f14-f5c8-dd5be4f6b5f1"
      },
      "execution_count": 2,
      "outputs": [
        {
          "output_type": "stream",
          "name": "stdout",
          "text": [
            "/content/drive/.shortcut-targets-by-id/1tHYgEz3lQF-LmtFPXRgMBDh4UN54qeAs/datas\n"
          ]
        }
      ]
    },
    {
      "cell_type": "code",
      "source": [
        "import glob\n",
        "\n",
        "filename_list = []\n",
        "for file_name in glob.glob(\"./OBS_ASOS_DD_2012_2021.csv\"):\n",
        "    filename_list.append(file_name)\n",
        "filename_list"
      ],
      "metadata": {
        "colab": {
          "base_uri": "https://localhost:8080/"
        },
        "id": "K1w3joZRODfE",
        "outputId": "c45faad0-620f-4cda-847a-9778707350ca"
      },
      "execution_count": 3,
      "outputs": [
        {
          "output_type": "execute_result",
          "data": {
            "text/plain": [
              "['./OBS_ASOS_DD_2012_2021.csv']"
            ]
          },
          "metadata": {},
          "execution_count": 3
        }
      ]
    },
    {
      "cell_type": "markdown",
      "source": [
        "##read csv from files and concat DataFrammes"
      ],
      "metadata": {
        "id": "JdYfl8_4UUJ5"
      }
    },
    {
      "cell_type": "code",
      "execution_count": 4,
      "metadata": {
        "id": "3nLb2XpUmdcH"
      },
      "outputs": [],
      "source": [
        "import pandas as pd"
      ]
    },
    {
      "cell_type": "code",
      "source": [
        "df_csv_list = list()\n",
        "for file_name in filename_list:\n",
        "  df_csv_list.append(pd.read_csv(file_name, encoding='cp949'))\n",
        "\n",
        "df_concat = pd.concat(df_csv_list)\n",
        "# df_concat"
      ],
      "metadata": {
        "id": "aTBPwfjpO1Xz"
      },
      "execution_count": 5,
      "outputs": []
    },
    {
      "cell_type": "code",
      "source": [
        "# show all rows\n",
        "# pd.options.display.max_rows = df_concat.shape[0]\n",
        "df_concat"
      ],
      "metadata": {
        "colab": {
          "base_uri": "https://localhost:8080/",
          "height": 424
        },
        "id": "T_KMKG4hUGB-",
        "outputId": "f6d2adbd-9854-4f20-820b-ba6edee878ca"
      },
      "execution_count": 6,
      "outputs": [
        {
          "output_type": "execute_result",
          "data": {
            "text/plain": [
              "         지점 지점명          일시  평균기온(°C)  최저기온(°C)  최저기온 시각(hhmi)  최고기온(°C)  \\\n",
              "0        90  속초  2012-01-01       1.1      -1.5          719.0       4.9   \n",
              "1        90  속초  2012-01-02      -0.3      -2.9          827.0       4.0   \n",
              "2        90  속초  2012-01-03      -0.8      -4.2          357.0       3.7   \n",
              "3        90  속초  2012-01-04      -2.6      -5.6          517.0       1.8   \n",
              "4        90  속초  2012-01-05      -2.3      -5.8          429.0       2.8   \n",
              "...     ...  ..         ...       ...       ...            ...       ...   \n",
              "343867  295  남해  2021-12-27      -0.8      -8.0          333.0       3.9   \n",
              "343868  295  남해  2021-12-28       3.3      -2.5          536.0       8.7   \n",
              "343869  295  남해  2021-12-29       5.8       0.7          235.0      10.6   \n",
              "343870  295  남해  2021-12-30       3.4       1.2         2359.0       5.6   \n",
              "343871  295  남해  2021-12-31       0.1      -3.5         2202.0       3.9   \n",
              "\n",
              "        최고기온 시각(hhmi)  \n",
              "0              1031.0  \n",
              "1              1236.0  \n",
              "2              1237.0  \n",
              "3              1451.0  \n",
              "4              1357.0  \n",
              "...               ...  \n",
              "343867         1452.0  \n",
              "343868         1512.0  \n",
              "343869         1245.0  \n",
              "343870         1428.0  \n",
              "343871         1441.0  \n",
              "\n",
              "[343872 rows x 8 columns]"
            ],
            "text/html": [
              "\n",
              "  <div id=\"df-3b595077-95d9-4d59-9a63-063a058b562f\">\n",
              "    <div class=\"colab-df-container\">\n",
              "      <div>\n",
              "<style scoped>\n",
              "    .dataframe tbody tr th:only-of-type {\n",
              "        vertical-align: middle;\n",
              "    }\n",
              "\n",
              "    .dataframe tbody tr th {\n",
              "        vertical-align: top;\n",
              "    }\n",
              "\n",
              "    .dataframe thead th {\n",
              "        text-align: right;\n",
              "    }\n",
              "</style>\n",
              "<table border=\"1\" class=\"dataframe\">\n",
              "  <thead>\n",
              "    <tr style=\"text-align: right;\">\n",
              "      <th></th>\n",
              "      <th>지점</th>\n",
              "      <th>지점명</th>\n",
              "      <th>일시</th>\n",
              "      <th>평균기온(°C)</th>\n",
              "      <th>최저기온(°C)</th>\n",
              "      <th>최저기온 시각(hhmi)</th>\n",
              "      <th>최고기온(°C)</th>\n",
              "      <th>최고기온 시각(hhmi)</th>\n",
              "    </tr>\n",
              "  </thead>\n",
              "  <tbody>\n",
              "    <tr>\n",
              "      <th>0</th>\n",
              "      <td>90</td>\n",
              "      <td>속초</td>\n",
              "      <td>2012-01-01</td>\n",
              "      <td>1.1</td>\n",
              "      <td>-1.5</td>\n",
              "      <td>719.0</td>\n",
              "      <td>4.9</td>\n",
              "      <td>1031.0</td>\n",
              "    </tr>\n",
              "    <tr>\n",
              "      <th>1</th>\n",
              "      <td>90</td>\n",
              "      <td>속초</td>\n",
              "      <td>2012-01-02</td>\n",
              "      <td>-0.3</td>\n",
              "      <td>-2.9</td>\n",
              "      <td>827.0</td>\n",
              "      <td>4.0</td>\n",
              "      <td>1236.0</td>\n",
              "    </tr>\n",
              "    <tr>\n",
              "      <th>2</th>\n",
              "      <td>90</td>\n",
              "      <td>속초</td>\n",
              "      <td>2012-01-03</td>\n",
              "      <td>-0.8</td>\n",
              "      <td>-4.2</td>\n",
              "      <td>357.0</td>\n",
              "      <td>3.7</td>\n",
              "      <td>1237.0</td>\n",
              "    </tr>\n",
              "    <tr>\n",
              "      <th>3</th>\n",
              "      <td>90</td>\n",
              "      <td>속초</td>\n",
              "      <td>2012-01-04</td>\n",
              "      <td>-2.6</td>\n",
              "      <td>-5.6</td>\n",
              "      <td>517.0</td>\n",
              "      <td>1.8</td>\n",
              "      <td>1451.0</td>\n",
              "    </tr>\n",
              "    <tr>\n",
              "      <th>4</th>\n",
              "      <td>90</td>\n",
              "      <td>속초</td>\n",
              "      <td>2012-01-05</td>\n",
              "      <td>-2.3</td>\n",
              "      <td>-5.8</td>\n",
              "      <td>429.0</td>\n",
              "      <td>2.8</td>\n",
              "      <td>1357.0</td>\n",
              "    </tr>\n",
              "    <tr>\n",
              "      <th>...</th>\n",
              "      <td>...</td>\n",
              "      <td>...</td>\n",
              "      <td>...</td>\n",
              "      <td>...</td>\n",
              "      <td>...</td>\n",
              "      <td>...</td>\n",
              "      <td>...</td>\n",
              "      <td>...</td>\n",
              "    </tr>\n",
              "    <tr>\n",
              "      <th>343867</th>\n",
              "      <td>295</td>\n",
              "      <td>남해</td>\n",
              "      <td>2021-12-27</td>\n",
              "      <td>-0.8</td>\n",
              "      <td>-8.0</td>\n",
              "      <td>333.0</td>\n",
              "      <td>3.9</td>\n",
              "      <td>1452.0</td>\n",
              "    </tr>\n",
              "    <tr>\n",
              "      <th>343868</th>\n",
              "      <td>295</td>\n",
              "      <td>남해</td>\n",
              "      <td>2021-12-28</td>\n",
              "      <td>3.3</td>\n",
              "      <td>-2.5</td>\n",
              "      <td>536.0</td>\n",
              "      <td>8.7</td>\n",
              "      <td>1512.0</td>\n",
              "    </tr>\n",
              "    <tr>\n",
              "      <th>343869</th>\n",
              "      <td>295</td>\n",
              "      <td>남해</td>\n",
              "      <td>2021-12-29</td>\n",
              "      <td>5.8</td>\n",
              "      <td>0.7</td>\n",
              "      <td>235.0</td>\n",
              "      <td>10.6</td>\n",
              "      <td>1245.0</td>\n",
              "    </tr>\n",
              "    <tr>\n",
              "      <th>343870</th>\n",
              "      <td>295</td>\n",
              "      <td>남해</td>\n",
              "      <td>2021-12-30</td>\n",
              "      <td>3.4</td>\n",
              "      <td>1.2</td>\n",
              "      <td>2359.0</td>\n",
              "      <td>5.6</td>\n",
              "      <td>1428.0</td>\n",
              "    </tr>\n",
              "    <tr>\n",
              "      <th>343871</th>\n",
              "      <td>295</td>\n",
              "      <td>남해</td>\n",
              "      <td>2021-12-31</td>\n",
              "      <td>0.1</td>\n",
              "      <td>-3.5</td>\n",
              "      <td>2202.0</td>\n",
              "      <td>3.9</td>\n",
              "      <td>1441.0</td>\n",
              "    </tr>\n",
              "  </tbody>\n",
              "</table>\n",
              "<p>343872 rows × 8 columns</p>\n",
              "</div>\n",
              "      <button class=\"colab-df-convert\" onclick=\"convertToInteractive('df-3b595077-95d9-4d59-9a63-063a058b562f')\"\n",
              "              title=\"Convert this dataframe to an interactive table.\"\n",
              "              style=\"display:none;\">\n",
              "        \n",
              "  <svg xmlns=\"http://www.w3.org/2000/svg\" height=\"24px\"viewBox=\"0 0 24 24\"\n",
              "       width=\"24px\">\n",
              "    <path d=\"M0 0h24v24H0V0z\" fill=\"none\"/>\n",
              "    <path d=\"M18.56 5.44l.94 2.06.94-2.06 2.06-.94-2.06-.94-.94-2.06-.94 2.06-2.06.94zm-11 1L8.5 8.5l.94-2.06 2.06-.94-2.06-.94L8.5 2.5l-.94 2.06-2.06.94zm10 10l.94 2.06.94-2.06 2.06-.94-2.06-.94-.94-2.06-.94 2.06-2.06.94z\"/><path d=\"M17.41 7.96l-1.37-1.37c-.4-.4-.92-.59-1.43-.59-.52 0-1.04.2-1.43.59L10.3 9.45l-7.72 7.72c-.78.78-.78 2.05 0 2.83L4 21.41c.39.39.9.59 1.41.59.51 0 1.02-.2 1.41-.59l7.78-7.78 2.81-2.81c.8-.78.8-2.07 0-2.86zM5.41 20L4 18.59l7.72-7.72 1.47 1.35L5.41 20z\"/>\n",
              "  </svg>\n",
              "      </button>\n",
              "      \n",
              "  <style>\n",
              "    .colab-df-container {\n",
              "      display:flex;\n",
              "      flex-wrap:wrap;\n",
              "      gap: 12px;\n",
              "    }\n",
              "\n",
              "    .colab-df-convert {\n",
              "      background-color: #E8F0FE;\n",
              "      border: none;\n",
              "      border-radius: 50%;\n",
              "      cursor: pointer;\n",
              "      display: none;\n",
              "      fill: #1967D2;\n",
              "      height: 32px;\n",
              "      padding: 0 0 0 0;\n",
              "      width: 32px;\n",
              "    }\n",
              "\n",
              "    .colab-df-convert:hover {\n",
              "      background-color: #E2EBFA;\n",
              "      box-shadow: 0px 1px 2px rgba(60, 64, 67, 0.3), 0px 1px 3px 1px rgba(60, 64, 67, 0.15);\n",
              "      fill: #174EA6;\n",
              "    }\n",
              "\n",
              "    [theme=dark] .colab-df-convert {\n",
              "      background-color: #3B4455;\n",
              "      fill: #D2E3FC;\n",
              "    }\n",
              "\n",
              "    [theme=dark] .colab-df-convert:hover {\n",
              "      background-color: #434B5C;\n",
              "      box-shadow: 0px 1px 3px 1px rgba(0, 0, 0, 0.15);\n",
              "      filter: drop-shadow(0px 1px 2px rgba(0, 0, 0, 0.3));\n",
              "      fill: #FFFFFF;\n",
              "    }\n",
              "  </style>\n",
              "\n",
              "      <script>\n",
              "        const buttonEl =\n",
              "          document.querySelector('#df-3b595077-95d9-4d59-9a63-063a058b562f button.colab-df-convert');\n",
              "        buttonEl.style.display =\n",
              "          google.colab.kernel.accessAllowed ? 'block' : 'none';\n",
              "\n",
              "        async function convertToInteractive(key) {\n",
              "          const element = document.querySelector('#df-3b595077-95d9-4d59-9a63-063a058b562f');\n",
              "          const dataTable =\n",
              "            await google.colab.kernel.invokeFunction('convertToInteractive',\n",
              "                                                     [key], {});\n",
              "          if (!dataTable) return;\n",
              "\n",
              "          const docLinkHtml = 'Like what you see? Visit the ' +\n",
              "            '<a target=\"_blank\" href=https://colab.research.google.com/notebooks/data_table.ipynb>data table notebook</a>'\n",
              "            + ' to learn more about interactive tables.';\n",
              "          element.innerHTML = '';\n",
              "          dataTable['output_type'] = 'display_data';\n",
              "          await google.colab.output.renderOutput(dataTable, element);\n",
              "          const docLink = document.createElement('div');\n",
              "          docLink.innerHTML = docLinkHtml;\n",
              "          element.appendChild(docLink);\n",
              "        }\n",
              "      </script>\n",
              "    </div>\n",
              "  </div>\n",
              "  "
            ]
          },
          "metadata": {},
          "execution_count": 6
        }
      ]
    },
    {
      "cell_type": "code",
      "source": [
        "df_concat.loc[0]"
      ],
      "metadata": {
        "colab": {
          "base_uri": "https://localhost:8080/"
        },
        "id": "MdUEXK61Jo5p",
        "outputId": "b98f632e-70cd-4272-c95f-2332891ca53f"
      },
      "execution_count": 7,
      "outputs": [
        {
          "output_type": "execute_result",
          "data": {
            "text/plain": [
              "지점                       90\n",
              "지점명                      속초\n",
              "일시               2012-01-01\n",
              "평균기온(°C)                1.1\n",
              "최저기온(°C)               -1.5\n",
              "최저기온 시각(hhmi)         719.0\n",
              "최고기온(°C)                4.9\n",
              "최고기온 시각(hhmi)        1031.0\n",
              "Name: 0, dtype: object"
            ]
          },
          "metadata": {},
          "execution_count": 7
        }
      ]
    },
    {
      "cell_type": "markdown",
      "source": [
        "###데이터타입으로 변경 : 일시 object"
      ],
      "metadata": {
        "id": "YkcXiQl1KRSy"
      }
    },
    {
      "cell_type": "code",
      "source": [
        "df_concat.columns, df_concat.dtypes"
      ],
      "metadata": {
        "colab": {
          "base_uri": "https://localhost:8080/"
        },
        "id": "UczxSZ7xP3b8",
        "outputId": "4add8459-c808-4c15-ec5a-e8303041033f"
      },
      "execution_count": 8,
      "outputs": [
        {
          "output_type": "execute_result",
          "data": {
            "text/plain": [
              "(Index(['지점', '지점명', '일시', '평균기온(°C)', '최저기온(°C)', '최저기온 시각(hhmi)', '최고기온(°C)',\n",
              "        '최고기온 시각(hhmi)'],\n",
              "       dtype='object'), 지점                 int64\n",
              " 지점명               object\n",
              " 일시                object\n",
              " 평균기온(°C)         float64\n",
              " 최저기온(°C)         float64\n",
              " 최저기온 시각(hhmi)    float64\n",
              " 최고기온(°C)         float64\n",
              " 최고기온 시각(hhmi)    float64\n",
              " dtype: object)"
            ]
          },
          "metadata": {},
          "execution_count": 8
        }
      ]
    },
    {
      "cell_type": "code",
      "source": [
        "df_concat['일시'] = pd.to_datetime(df_concat['일시'])\n",
        "df_concat.dtypes"
      ],
      "metadata": {
        "colab": {
          "base_uri": "https://localhost:8080/"
        },
        "id": "uPytwkGrKrnB",
        "outputId": "83976061-be6c-422d-96a8-21a0800a43cd"
      },
      "execution_count": 9,
      "outputs": [
        {
          "output_type": "execute_result",
          "data": {
            "text/plain": [
              "지점                        int64\n",
              "지점명                      object\n",
              "일시               datetime64[ns]\n",
              "평균기온(°C)                float64\n",
              "최저기온(°C)                float64\n",
              "최저기온 시각(hhmi)           float64\n",
              "최고기온(°C)                float64\n",
              "최고기온 시각(hhmi)           float64\n",
              "dtype: object"
            ]
          },
          "metadata": {},
          "execution_count": 9
        }
      ]
    },
    {
      "cell_type": "markdown",
      "source": [
        "##EDA"
      ],
      "metadata": {
        "id": "g3ZV5odxLpK3"
      }
    },
    {
      "cell_type": "code",
      "source": [
        "df_concat.info()"
      ],
      "metadata": {
        "colab": {
          "base_uri": "https://localhost:8080/"
        },
        "id": "WeflCQEmLGdG",
        "outputId": "fc2efe1f-0ac5-4237-828c-06aa3f7db24d"
      },
      "execution_count": 10,
      "outputs": [
        {
          "output_type": "stream",
          "name": "stdout",
          "text": [
            "<class 'pandas.core.frame.DataFrame'>\n",
            "RangeIndex: 343872 entries, 0 to 343871\n",
            "Data columns (total 8 columns):\n",
            " #   Column         Non-Null Count   Dtype         \n",
            "---  ------         --------------   -----         \n",
            " 0   지점             343872 non-null  int64         \n",
            " 1   지점명            343872 non-null  object        \n",
            " 2   일시             343872 non-null  datetime64[ns]\n",
            " 3   평균기온(°C)       343561 non-null  float64       \n",
            " 4   최저기온(°C)       343851 non-null  float64       \n",
            " 5   최저기온 시각(hhmi)  343859 non-null  float64       \n",
            " 6   최고기온(°C)       343849 non-null  float64       \n",
            " 7   최고기온 시각(hhmi)  343855 non-null  float64       \n",
            "dtypes: datetime64[ns](1), float64(5), int64(1), object(1)\n",
            "memory usage: 21.0+ MB\n"
          ]
        }
      ]
    },
    {
      "cell_type": "code",
      "source": [
        "df_concat['지점명'].unique(), #df_concat['지점명'].nunique(), "
      ],
      "metadata": {
        "colab": {
          "base_uri": "https://localhost:8080/"
        },
        "id": "BMdplT55LxrK",
        "outputId": "aaf7cc12-ad70-4931-978b-6b3ef58f6bfa"
      },
      "execution_count": 11,
      "outputs": [
        {
          "output_type": "execute_result",
          "data": {
            "text/plain": [
              "(array(['속초', '북춘천', '철원', '동두천', '파주', '대관령', '춘천', '백령도', '북강릉', '강릉',\n",
              "        '동해', '서울', '인천', '원주', '울릉도', '수원', '영월', '충주', '서산', '울진', '청주',\n",
              "        '대전', '추풍령', '안동', '상주', '포항', '군산', '대구', '전주', '울산', '창원', '광주',\n",
              "        '부산', '통영', '목포', '여수', '흑산도', '완도', '고창', '순천', '진도(첨찰산)',\n",
              "        '대구(기)', '홍성', '제주', '고산', '성산', '서귀포', '진주', '강화', '양평', '이천',\n",
              "        '인제', '홍천', '태백', '정선군', '제천', '보은', '천안', '보령', '부여', '금산', '세종',\n",
              "        '부안', '임실', '정읍', '남원', '장수', '고창군', '영광군', '김해시', '순창군', '북창원',\n",
              "        '주암', '양산시', '보성군', '강진군', '장흥', '해남', '고흥', '의령군', '함양군', '광양시',\n",
              "        '진도군', '봉화', '영주', '문경', '청송군', '영덕', '의성', '구미', '영천', '경주시',\n",
              "        '거창', '합천', '밀양', '산청', '거제', '남해'], dtype=object),)"
            ]
          },
          "metadata": {},
          "execution_count": 11
        }
      ]
    },
    {
      "cell_type": "code",
      "source": [
        "df_concat['일시'].dt.year.unique()"
      ],
      "metadata": {
        "colab": {
          "base_uri": "https://localhost:8080/"
        },
        "id": "LEXzapjtMVQG",
        "outputId": "886e4b98-1fb8-4b58-c707-828406f52ea5"
      },
      "execution_count": 12,
      "outputs": [
        {
          "output_type": "execute_result",
          "data": {
            "text/plain": [
              "array([2012, 2013, 2014, 2015, 2016, 2017, 2018, 2019, 2020, 2021])"
            ]
          },
          "metadata": {},
          "execution_count": 12
        }
      ]
    },
    {
      "cell_type": "code",
      "source": [
        "df_concat['일시'].dt.year.value_counts().sort_index()"
      ],
      "metadata": {
        "colab": {
          "base_uri": "https://localhost:8080/"
        },
        "id": "Ro2uUV7tMjw0",
        "outputId": "5700efbb-e46c-48a0-8d62-e280c6ffbc1e"
      },
      "execution_count": 13,
      "outputs": [
        {
          "output_type": "execute_result",
          "data": {
            "text/plain": [
              "2012    33854\n",
              "2013    33671\n",
              "2014    34181\n",
              "2015    34163\n",
              "2016    34496\n",
              "2017    34668\n",
              "2018    34673\n",
              "2019    34738\n",
              "2020    34767\n",
              "2021    34661\n",
              "Name: 일시, dtype: int64"
            ]
          },
          "metadata": {},
          "execution_count": 13
        }
      ]
    },
    {
      "cell_type": "code",
      "source": [
        "df_concat['지점명'].value_counts().sort_values()"
      ],
      "metadata": {
        "colab": {
          "base_uri": "https://localhost:8080/"
        },
        "id": "fGfZM1T7M7FK",
        "outputId": "7963c2c6-0be3-4c33-aa51-1e60f1b00ee8"
      },
      "execution_count": 14,
      "outputs": [
        {
          "output_type": "execute_result",
          "data": {
            "text/plain": [
              "주암        184\n",
              "대구(기)     619\n",
              "세종        946\n",
              "북춘천      1918\n",
              "홍성       2250\n",
              "         ... \n",
              "영천       3653\n",
              "경주시      3653\n",
              "합천       3653\n",
              "대전       3653\n",
              "청주       3653\n",
              "Name: 지점명, Length: 98, dtype: int64"
            ]
          },
          "metadata": {},
          "execution_count": 14
        }
      ]
    },
    {
      "cell_type": "markdown",
      "source": [
        "##서울 열대야 분석\n"
      ],
      "metadata": {
        "id": "nq7bi_WGO-Yg"
      }
    },
    {
      "cell_type": "code",
      "source": [
        "seoul_df = df_concat[df_concat['지점명']=='서울'].copy()\n",
        "seoul_df.shape"
      ],
      "metadata": {
        "id": "MPPXGJcMZjp1",
        "colab": {
          "base_uri": "https://localhost:8080/"
        },
        "outputId": "5b865af5-bb0a-4517-8214-456b7f2dfe56"
      },
      "execution_count": 15,
      "outputs": [
        {
          "output_type": "execute_result",
          "data": {
            "text/plain": [
              "(3653, 8)"
            ]
          },
          "metadata": {},
          "execution_count": 15
        }
      ]
    },
    {
      "cell_type": "code",
      "source": [
        "seoul_df.isnull().sum()"
      ],
      "metadata": {
        "colab": {
          "base_uri": "https://localhost:8080/"
        },
        "id": "w71tYAAhPlHZ",
        "outputId": "2e46e248-a6c6-473a-cf93-5eeacca0cd65"
      },
      "execution_count": 16,
      "outputs": [
        {
          "output_type": "execute_result",
          "data": {
            "text/plain": [
              "지점               0\n",
              "지점명              0\n",
              "일시               0\n",
              "평균기온(°C)         0\n",
              "최저기온(°C)         0\n",
              "최저기온 시각(hhmi)    0\n",
              "최고기온(°C)         1\n",
              "최고기온 시각(hhmi)    1\n",
              "dtype: int64"
            ]
          },
          "metadata": {},
          "execution_count": 16
        }
      ]
    },
    {
      "cell_type": "markdown",
      "source": [
        "###누락데이터 확인(1951, 1952년)"
      ],
      "metadata": {
        "id": "P9kxa_1KSRax"
      }
    },
    {
      "cell_type": "code",
      "source": [
        "seoul_df['year'] = seoul_df['일시'].dt.year"
      ],
      "metadata": {
        "id": "ST_g4htvj_ki"
      },
      "execution_count": 17,
      "outputs": []
    },
    {
      "cell_type": "code",
      "source": [
        "seoul_df.reset_index(inplace=True)\n",
        "seoul_df"
      ],
      "metadata": {
        "colab": {
          "base_uri": "https://localhost:8080/",
          "height": 424
        },
        "id": "Tg4eLO7-ktPL",
        "outputId": "4943aa0f-2678-49e1-817f-dfbb989e6ca0"
      },
      "execution_count": 18,
      "outputs": [
        {
          "output_type": "execute_result",
          "data": {
            "text/plain": [
              "      index   지점 지점명         일시  평균기온(°C)  최저기온(°C)  최저기온 시각(hhmi)  최고기온(°C)  \\\n",
              "0     38448  108  서울 2012-01-01      -3.0      -6.9         2326.0       0.4   \n",
              "1     38449  108  서울 2012-01-02      -4.8      -8.3          758.0      -1.2   \n",
              "2     38450  108  서울 2012-01-03      -4.5      -6.8          752.0      -0.2   \n",
              "3     38451  108  서울 2012-01-04      -7.4      -9.6          837.0      -4.3   \n",
              "4     38452  108  서울 2012-01-05      -5.7      -9.8          740.0      -1.3   \n",
              "...     ...  ...  ..        ...       ...       ...            ...       ...   \n",
              "3648  42096  108  서울 2021-12-27      -7.6     -12.9          123.0      -3.9   \n",
              "3649  42097  108  서울 2021-12-28      -4.1      -8.5          712.0      -0.9   \n",
              "3650  42098  108  서울 2021-12-29       0.4      -3.8          154.0       5.9   \n",
              "3651  42099  108  서울 2021-12-30      -3.9      -6.8          714.0       0.2   \n",
              "3652  42100  108  서울 2021-12-31      -6.7      -8.8          745.0      -3.9   \n",
              "\n",
              "      최고기온 시각(hhmi)  year  \n",
              "0               1.0  2012  \n",
              "1            1357.0  2012  \n",
              "2            1252.0  2012  \n",
              "3            1552.0  2012  \n",
              "4            1542.0  2012  \n",
              "...             ...   ...  \n",
              "3648         1634.0  2021  \n",
              "3649         1600.0  2021  \n",
              "3650         1518.0  2021  \n",
              "3651         1531.0  2021  \n",
              "3652         1510.0  2021  \n",
              "\n",
              "[3653 rows x 10 columns]"
            ],
            "text/html": [
              "\n",
              "  <div id=\"df-9000470c-c7ff-4c0a-b453-62e738ec43ec\">\n",
              "    <div class=\"colab-df-container\">\n",
              "      <div>\n",
              "<style scoped>\n",
              "    .dataframe tbody tr th:only-of-type {\n",
              "        vertical-align: middle;\n",
              "    }\n",
              "\n",
              "    .dataframe tbody tr th {\n",
              "        vertical-align: top;\n",
              "    }\n",
              "\n",
              "    .dataframe thead th {\n",
              "        text-align: right;\n",
              "    }\n",
              "</style>\n",
              "<table border=\"1\" class=\"dataframe\">\n",
              "  <thead>\n",
              "    <tr style=\"text-align: right;\">\n",
              "      <th></th>\n",
              "      <th>index</th>\n",
              "      <th>지점</th>\n",
              "      <th>지점명</th>\n",
              "      <th>일시</th>\n",
              "      <th>평균기온(°C)</th>\n",
              "      <th>최저기온(°C)</th>\n",
              "      <th>최저기온 시각(hhmi)</th>\n",
              "      <th>최고기온(°C)</th>\n",
              "      <th>최고기온 시각(hhmi)</th>\n",
              "      <th>year</th>\n",
              "    </tr>\n",
              "  </thead>\n",
              "  <tbody>\n",
              "    <tr>\n",
              "      <th>0</th>\n",
              "      <td>38448</td>\n",
              "      <td>108</td>\n",
              "      <td>서울</td>\n",
              "      <td>2012-01-01</td>\n",
              "      <td>-3.0</td>\n",
              "      <td>-6.9</td>\n",
              "      <td>2326.0</td>\n",
              "      <td>0.4</td>\n",
              "      <td>1.0</td>\n",
              "      <td>2012</td>\n",
              "    </tr>\n",
              "    <tr>\n",
              "      <th>1</th>\n",
              "      <td>38449</td>\n",
              "      <td>108</td>\n",
              "      <td>서울</td>\n",
              "      <td>2012-01-02</td>\n",
              "      <td>-4.8</td>\n",
              "      <td>-8.3</td>\n",
              "      <td>758.0</td>\n",
              "      <td>-1.2</td>\n",
              "      <td>1357.0</td>\n",
              "      <td>2012</td>\n",
              "    </tr>\n",
              "    <tr>\n",
              "      <th>2</th>\n",
              "      <td>38450</td>\n",
              "      <td>108</td>\n",
              "      <td>서울</td>\n",
              "      <td>2012-01-03</td>\n",
              "      <td>-4.5</td>\n",
              "      <td>-6.8</td>\n",
              "      <td>752.0</td>\n",
              "      <td>-0.2</td>\n",
              "      <td>1252.0</td>\n",
              "      <td>2012</td>\n",
              "    </tr>\n",
              "    <tr>\n",
              "      <th>3</th>\n",
              "      <td>38451</td>\n",
              "      <td>108</td>\n",
              "      <td>서울</td>\n",
              "      <td>2012-01-04</td>\n",
              "      <td>-7.4</td>\n",
              "      <td>-9.6</td>\n",
              "      <td>837.0</td>\n",
              "      <td>-4.3</td>\n",
              "      <td>1552.0</td>\n",
              "      <td>2012</td>\n",
              "    </tr>\n",
              "    <tr>\n",
              "      <th>4</th>\n",
              "      <td>38452</td>\n",
              "      <td>108</td>\n",
              "      <td>서울</td>\n",
              "      <td>2012-01-05</td>\n",
              "      <td>-5.7</td>\n",
              "      <td>-9.8</td>\n",
              "      <td>740.0</td>\n",
              "      <td>-1.3</td>\n",
              "      <td>1542.0</td>\n",
              "      <td>2012</td>\n",
              "    </tr>\n",
              "    <tr>\n",
              "      <th>...</th>\n",
              "      <td>...</td>\n",
              "      <td>...</td>\n",
              "      <td>...</td>\n",
              "      <td>...</td>\n",
              "      <td>...</td>\n",
              "      <td>...</td>\n",
              "      <td>...</td>\n",
              "      <td>...</td>\n",
              "      <td>...</td>\n",
              "      <td>...</td>\n",
              "    </tr>\n",
              "    <tr>\n",
              "      <th>3648</th>\n",
              "      <td>42096</td>\n",
              "      <td>108</td>\n",
              "      <td>서울</td>\n",
              "      <td>2021-12-27</td>\n",
              "      <td>-7.6</td>\n",
              "      <td>-12.9</td>\n",
              "      <td>123.0</td>\n",
              "      <td>-3.9</td>\n",
              "      <td>1634.0</td>\n",
              "      <td>2021</td>\n",
              "    </tr>\n",
              "    <tr>\n",
              "      <th>3649</th>\n",
              "      <td>42097</td>\n",
              "      <td>108</td>\n",
              "      <td>서울</td>\n",
              "      <td>2021-12-28</td>\n",
              "      <td>-4.1</td>\n",
              "      <td>-8.5</td>\n",
              "      <td>712.0</td>\n",
              "      <td>-0.9</td>\n",
              "      <td>1600.0</td>\n",
              "      <td>2021</td>\n",
              "    </tr>\n",
              "    <tr>\n",
              "      <th>3650</th>\n",
              "      <td>42098</td>\n",
              "      <td>108</td>\n",
              "      <td>서울</td>\n",
              "      <td>2021-12-29</td>\n",
              "      <td>0.4</td>\n",
              "      <td>-3.8</td>\n",
              "      <td>154.0</td>\n",
              "      <td>5.9</td>\n",
              "      <td>1518.0</td>\n",
              "      <td>2021</td>\n",
              "    </tr>\n",
              "    <tr>\n",
              "      <th>3651</th>\n",
              "      <td>42099</td>\n",
              "      <td>108</td>\n",
              "      <td>서울</td>\n",
              "      <td>2021-12-30</td>\n",
              "      <td>-3.9</td>\n",
              "      <td>-6.8</td>\n",
              "      <td>714.0</td>\n",
              "      <td>0.2</td>\n",
              "      <td>1531.0</td>\n",
              "      <td>2021</td>\n",
              "    </tr>\n",
              "    <tr>\n",
              "      <th>3652</th>\n",
              "      <td>42100</td>\n",
              "      <td>108</td>\n",
              "      <td>서울</td>\n",
              "      <td>2021-12-31</td>\n",
              "      <td>-6.7</td>\n",
              "      <td>-8.8</td>\n",
              "      <td>745.0</td>\n",
              "      <td>-3.9</td>\n",
              "      <td>1510.0</td>\n",
              "      <td>2021</td>\n",
              "    </tr>\n",
              "  </tbody>\n",
              "</table>\n",
              "<p>3653 rows × 10 columns</p>\n",
              "</div>\n",
              "      <button class=\"colab-df-convert\" onclick=\"convertToInteractive('df-9000470c-c7ff-4c0a-b453-62e738ec43ec')\"\n",
              "              title=\"Convert this dataframe to an interactive table.\"\n",
              "              style=\"display:none;\">\n",
              "        \n",
              "  <svg xmlns=\"http://www.w3.org/2000/svg\" height=\"24px\"viewBox=\"0 0 24 24\"\n",
              "       width=\"24px\">\n",
              "    <path d=\"M0 0h24v24H0V0z\" fill=\"none\"/>\n",
              "    <path d=\"M18.56 5.44l.94 2.06.94-2.06 2.06-.94-2.06-.94-.94-2.06-.94 2.06-2.06.94zm-11 1L8.5 8.5l.94-2.06 2.06-.94-2.06-.94L8.5 2.5l-.94 2.06-2.06.94zm10 10l.94 2.06.94-2.06 2.06-.94-2.06-.94-.94-2.06-.94 2.06-2.06.94z\"/><path d=\"M17.41 7.96l-1.37-1.37c-.4-.4-.92-.59-1.43-.59-.52 0-1.04.2-1.43.59L10.3 9.45l-7.72 7.72c-.78.78-.78 2.05 0 2.83L4 21.41c.39.39.9.59 1.41.59.51 0 1.02-.2 1.41-.59l7.78-7.78 2.81-2.81c.8-.78.8-2.07 0-2.86zM5.41 20L4 18.59l7.72-7.72 1.47 1.35L5.41 20z\"/>\n",
              "  </svg>\n",
              "      </button>\n",
              "      \n",
              "  <style>\n",
              "    .colab-df-container {\n",
              "      display:flex;\n",
              "      flex-wrap:wrap;\n",
              "      gap: 12px;\n",
              "    }\n",
              "\n",
              "    .colab-df-convert {\n",
              "      background-color: #E8F0FE;\n",
              "      border: none;\n",
              "      border-radius: 50%;\n",
              "      cursor: pointer;\n",
              "      display: none;\n",
              "      fill: #1967D2;\n",
              "      height: 32px;\n",
              "      padding: 0 0 0 0;\n",
              "      width: 32px;\n",
              "    }\n",
              "\n",
              "    .colab-df-convert:hover {\n",
              "      background-color: #E2EBFA;\n",
              "      box-shadow: 0px 1px 2px rgba(60, 64, 67, 0.3), 0px 1px 3px 1px rgba(60, 64, 67, 0.15);\n",
              "      fill: #174EA6;\n",
              "    }\n",
              "\n",
              "    [theme=dark] .colab-df-convert {\n",
              "      background-color: #3B4455;\n",
              "      fill: #D2E3FC;\n",
              "    }\n",
              "\n",
              "    [theme=dark] .colab-df-convert:hover {\n",
              "      background-color: #434B5C;\n",
              "      box-shadow: 0px 1px 3px 1px rgba(0, 0, 0, 0.15);\n",
              "      filter: drop-shadow(0px 1px 2px rgba(0, 0, 0, 0.3));\n",
              "      fill: #FFFFFF;\n",
              "    }\n",
              "  </style>\n",
              "\n",
              "      <script>\n",
              "        const buttonEl =\n",
              "          document.querySelector('#df-9000470c-c7ff-4c0a-b453-62e738ec43ec button.colab-df-convert');\n",
              "        buttonEl.style.display =\n",
              "          google.colab.kernel.accessAllowed ? 'block' : 'none';\n",
              "\n",
              "        async function convertToInteractive(key) {\n",
              "          const element = document.querySelector('#df-9000470c-c7ff-4c0a-b453-62e738ec43ec');\n",
              "          const dataTable =\n",
              "            await google.colab.kernel.invokeFunction('convertToInteractive',\n",
              "                                                     [key], {});\n",
              "          if (!dataTable) return;\n",
              "\n",
              "          const docLinkHtml = 'Like what you see? Visit the ' +\n",
              "            '<a target=\"_blank\" href=https://colab.research.google.com/notebooks/data_table.ipynb>data table notebook</a>'\n",
              "            + ' to learn more about interactive tables.';\n",
              "          element.innerHTML = '';\n",
              "          dataTable['output_type'] = 'display_data';\n",
              "          await google.colab.output.renderOutput(dataTable, element);\n",
              "          const docLink = document.createElement('div');\n",
              "          docLink.innerHTML = docLinkHtml;\n",
              "          element.appendChild(docLink);\n",
              "        }\n",
              "      </script>\n",
              "    </div>\n",
              "  </div>\n",
              "  "
            ]
          },
          "metadata": {},
          "execution_count": 18
        }
      ]
    },
    {
      "cell_type": "code",
      "source": [
        "seoul_df['year'].value_counts().sort_index()"
      ],
      "metadata": {
        "colab": {
          "base_uri": "https://localhost:8080/"
        },
        "id": "HChT4ikXP5yi",
        "outputId": "2ac991ea-e8e1-417a-e237-f34c4ae846e9"
      },
      "execution_count": 19,
      "outputs": [
        {
          "output_type": "execute_result",
          "data": {
            "text/plain": [
              "2012    366\n",
              "2013    365\n",
              "2014    365\n",
              "2015    365\n",
              "2016    366\n",
              "2017    365\n",
              "2018    365\n",
              "2019    365\n",
              "2020    366\n",
              "2021    365\n",
              "Name: year, dtype: int64"
            ]
          },
          "metadata": {},
          "execution_count": 19
        }
      ]
    },
    {
      "cell_type": "code",
      "source": [
        "!sudo apt-get install -y fonts-nanum\n",
        "!sudo fc-cache -fv\n",
        "!rm ~/.cache/matplotlib -rf"
      ],
      "metadata": {
        "id": "ibAL8gihcY36",
        "colab": {
          "base_uri": "https://localhost:8080/"
        },
        "outputId": "580a08e9-6dd9-464f-dc36-6a2abb00c3a9"
      },
      "execution_count": 20,
      "outputs": [
        {
          "output_type": "stream",
          "name": "stdout",
          "text": [
            "Reading package lists... Done\n",
            "Building dependency tree       \n",
            "Reading state information... Done\n",
            "fonts-nanum is already the newest version (20170925-1).\n",
            "The following package was automatically installed and is no longer required:\n",
            "  libnvidia-common-460\n",
            "Use 'sudo apt autoremove' to remove it.\n",
            "0 upgraded, 0 newly installed, 0 to remove and 62 not upgraded.\n",
            "/usr/share/fonts: caching, new cache contents: 0 fonts, 1 dirs\n",
            "/usr/share/fonts/truetype: caching, new cache contents: 0 fonts, 3 dirs\n",
            "/usr/share/fonts/truetype/humor-sans: caching, new cache contents: 1 fonts, 0 dirs\n",
            "/usr/share/fonts/truetype/liberation: caching, new cache contents: 16 fonts, 0 dirs\n",
            "/usr/share/fonts/truetype/nanum: caching, new cache contents: 10 fonts, 0 dirs\n",
            "/usr/local/share/fonts: caching, new cache contents: 0 fonts, 0 dirs\n",
            "/root/.local/share/fonts: skipping, no such directory\n",
            "/root/.fonts: skipping, no such directory\n",
            "/var/cache/fontconfig: cleaning cache directory\n",
            "/root/.cache/fontconfig: not cleaning non-existent cache directory\n",
            "/root/.fontconfig: not cleaning non-existent cache directory\n",
            "fc-cache: succeeded\n"
          ]
        }
      ]
    },
    {
      "cell_type": "code",
      "source": [
        "import matplotlib.pyplot as plt\n",
        "plt.rc('font', family='NanumBarunGothic') \n",
        "\n",
        "plt.figure(figsize=(10,5))\n",
        "plt.bar(seoul_df['일시'], seoul_df['평균기온(°C)'])\n",
        "plt.show()"
      ],
      "metadata": {
        "colab": {
          "base_uri": "https://localhost:8080/",
          "height": 391
        },
        "id": "Shhnf7kVa5ES",
        "outputId": "d1f4b7e1-cb8c-4fb8-d366-88fdd6290eec"
      },
      "execution_count": 21,
      "outputs": [
        {
          "output_type": "stream",
          "name": "stderr",
          "text": [
            "/usr/local/lib/python3.7/dist-packages/matplotlib/backends/backend_agg.py:214: RuntimeWarning: Glyph 8722 missing from current font.\n",
            "  font.set_text(s, 0.0, flags=flags)\n",
            "/usr/local/lib/python3.7/dist-packages/matplotlib/backends/backend_agg.py:183: RuntimeWarning: Glyph 8722 missing from current font.\n",
            "  font.set_text(s, 0, flags=flags)\n"
          ]
        },
        {
          "output_type": "display_data",
          "data": {
            "text/plain": [
              "<Figure size 720x360 with 1 Axes>"
            ],
            "image/png": "[encoded data removed]"
          },
          "metadata": {
            "needs_background": "light"
          }
        }
      ]
    },
    {
      "cell_type": "markdown",
      "source": [
        "##서울 폭염 분석 : 최고 기온 33도 이상"
      ],
      "metadata": {
        "id": "wFltuXBeTWR3"
      }
    },
    {
      "cell_type": "code",
      "source": [
        "seoul_hotday = seoul_df[seoul_df['최고기온(°C)'] >= 33].copy()\n",
        "seoul_hotday"
      ],
      "metadata": {
        "id": "O3d0q7ldR2nR",
        "colab": {
          "base_uri": "https://localhost:8080/",
          "height": 424
        },
        "outputId": "256d116e-d425-4cf8-db51-b036272bdd35"
      },
      "execution_count": 22,
      "outputs": [
        {
          "output_type": "execute_result",
          "data": {
            "text/plain": [
              "      index   지점 지점명         일시  평균기온(°C)  최저기온(°C)  최저기온 시각(hhmi)  최고기온(°C)  \\\n",
              "170   38618  108  서울 2012-06-19      26.0      20.9          537.0      33.5   \n",
              "176   38624  108  서울 2012-06-25      26.5      22.2          519.0      33.2   \n",
              "209   38657  108  서울 2012-07-28      28.5      25.2          318.0      33.2   \n",
              "210   38658  108  서울 2012-07-29      29.2      26.2          233.0      33.2   \n",
              "212   38660  108  서울 2012-07-31      29.0      26.6          513.0      33.0   \n",
              "...     ...  ...  ..        ...       ...       ...            ...       ...   \n",
              "3498  41946  108  서울 2021-07-30      30.5      25.8          559.0      35.4   \n",
              "3499  41947  108  서울 2021-07-31      29.8      26.8          538.0      34.3   \n",
              "3503  41951  108  서울 2021-08-04      28.9      26.3          532.0      33.2   \n",
              "3504  41952  108  서울 2021-08-05      29.4      25.6          407.0      33.7   \n",
              "3508  41956  108  서울 2021-08-09      28.3      23.3          455.0      33.6   \n",
              "\n",
              "      최고기온 시각(hhmi)  year  \n",
              "170          1331.0  2012  \n",
              "176          1437.0  2012  \n",
              "209          1559.0  2012  \n",
              "210          1426.0  2012  \n",
              "212          1522.0  2012  \n",
              "...             ...   ...  \n",
              "3498         1406.0  2021  \n",
              "3499         1457.0  2021  \n",
              "3503         1426.0  2021  \n",
              "3504         1511.0  2021  \n",
              "3508         1530.0  2021  \n",
              "\n",
              "[143 rows x 10 columns]"
            ],
            "text/html": [
              "\n",
              "  <div id=\"df-c01059cb-2307-4c48-914a-cd7716f1197c\">\n",
              "    <div class=\"colab-df-container\">\n",
              "      <div>\n",
              "<style scoped>\n",
              "    .dataframe tbody tr th:only-of-type {\n",
              "        vertical-align: middle;\n",
              "    }\n",
              "\n",
              "    .dataframe tbody tr th {\n",
              "        vertical-align: top;\n",
              "    }\n",
              "\n",
              "    .dataframe thead th {\n",
              "        text-align: right;\n",
              "    }\n",
              "</style>\n",
              "<table border=\"1\" class=\"dataframe\">\n",
              "  <thead>\n",
              "    <tr style=\"text-align: right;\">\n",
              "      <th></th>\n",
              "      <th>index</th>\n",
              "      <th>지점</th>\n",
              "      <th>지점명</th>\n",
              "      <th>일시</th>\n",
              "      <th>평균기온(°C)</th>\n",
              "      <th>최저기온(°C)</th>\n",
              "      <th>최저기온 시각(hhmi)</th>\n",
              "      <th>최고기온(°C)</th>\n",
              "      <th>최고기온 시각(hhmi)</th>\n",
              "      <th>year</th>\n",
              "    </tr>\n",
              "  </thead>\n",
              "  <tbody>\n",
              "    <tr>\n",
              "      <th>170</th>\n",
              "      <td>38618</td>\n",
              "      <td>108</td>\n",
              "      <td>서울</td>\n",
              "      <td>2012-06-19</td>\n",
              "      <td>26.0</td>\n",
              "      <td>20.9</td>\n",
              "      <td>537.0</td>\n",
              "      <td>33.5</td>\n",
              "      <td>1331.0</td>\n",
              "      <td>2012</td>\n",
              "    </tr>\n",
              "    <tr>\n",
              "      <th>176</th>\n",
              "      <td>38624</td>\n",
              "      <td>108</td>\n",
              "      <td>서울</td>\n",
              "      <td>2012-06-25</td>\n",
              "      <td>26.5</td>\n",
              "      <td>22.2</td>\n",
              "      <td>519.0</td>\n",
              "      <td>33.2</td>\n",
              "      <td>1437.0</td>\n",
              "      <td>2012</td>\n",
              "    </tr>\n",
              "    <tr>\n",
              "      <th>209</th>\n",
              "      <td>38657</td>\n",
              "      <td>108</td>\n",
              "      <td>서울</td>\n",
              "      <td>2012-07-28</td>\n",
              "      <td>28.5</td>\n",
              "      <td>25.2</td>\n",
              "      <td>318.0</td>\n",
              "      <td>33.2</td>\n",
              "      <td>1559.0</td>\n",
              "      <td>2012</td>\n",
              "    </tr>\n",
              "    <tr>\n",
              "      <th>210</th>\n",
              "      <td>38658</td>\n",
              "      <td>108</td>\n",
              "      <td>서울</td>\n",
              "      <td>2012-07-29</td>\n",
              "      <td>29.2</td>\n",
              "      <td>26.2</td>\n",
              "      <td>233.0</td>\n",
              "      <td>33.2</td>\n",
              "      <td>1426.0</td>\n",
              "      <td>2012</td>\n",
              "    </tr>\n",
              "    <tr>\n",
              "      <th>212</th>\n",
              "      <td>38660</td>\n",
              "      <td>108</td>\n",
              "      <td>서울</td>\n",
              "      <td>2012-07-31</td>\n",
              "      <td>29.0</td>\n",
              "      <td>26.6</td>\n",
              "      <td>513.0</td>\n",
              "      <td>33.0</td>\n",
              "      <td>1522.0</td>\n",
              "      <td>2012</td>\n",
              "    </tr>\n",
              "    <tr>\n",
              "      <th>...</th>\n",
              "      <td>...</td>\n",
              "      <td>...</td>\n",
              "      <td>...</td>\n",
              "      <td>...</td>\n",
              "      <td>...</td>\n",
              "      <td>...</td>\n",
              "      <td>...</td>\n",
              "      <td>...</td>\n",
              "      <td>...</td>\n",
              "      <td>...</td>\n",
              "    </tr>\n",
              "    <tr>\n",
              "      <th>3498</th>\n",
              "      <td>41946</td>\n",
              "      <td>108</td>\n",
              "      <td>서울</td>\n",
              "      <td>2021-07-30</td>\n",
              "      <td>30.5</td>\n",
              "      <td>25.8</td>\n",
              "      <td>559.0</td>\n",
              "      <td>35.4</td>\n",
              "      <td>1406.0</td>\n",
              "      <td>2021</td>\n",
              "    </tr>\n",
              "    <tr>\n",
              "      <th>3499</th>\n",
              "      <td>41947</td>\n",
              "      <td>108</td>\n",
              "      <td>서울</td>\n",
              "      <td>2021-07-31</td>\n",
              "      <td>29.8</td>\n",
              "      <td>26.8</td>\n",
              "      <td>538.0</td>\n",
              "      <td>34.3</td>\n",
              "      <td>1457.0</td>\n",
              "      <td>2021</td>\n",
              "    </tr>\n",
              "    <tr>\n",
              "      <th>3503</th>\n",
              "      <td>41951</td>\n",
              "      <td>108</td>\n",
              "      <td>서울</td>\n",
              "      <td>2021-08-04</td>\n",
              "      <td>28.9</td>\n",
              "      <td>26.3</td>\n",
              "      <td>532.0</td>\n",
              "      <td>33.2</td>\n",
              "      <td>1426.0</td>\n",
              "      <td>2021</td>\n",
              "    </tr>\n",
              "    <tr>\n",
              "      <th>3504</th>\n",
              "      <td>41952</td>\n",
              "      <td>108</td>\n",
              "      <td>서울</td>\n",
              "      <td>2021-08-05</td>\n",
              "      <td>29.4</td>\n",
              "      <td>25.6</td>\n",
              "      <td>407.0</td>\n",
              "      <td>33.7</td>\n",
              "      <td>1511.0</td>\n",
              "      <td>2021</td>\n",
              "    </tr>\n",
              "    <tr>\n",
              "      <th>3508</th>\n",
              "      <td>41956</td>\n",
              "      <td>108</td>\n",
              "      <td>서울</td>\n",
              "      <td>2021-08-09</td>\n",
              "      <td>28.3</td>\n",
              "      <td>23.3</td>\n",
              "      <td>455.0</td>\n",
              "      <td>33.6</td>\n",
              "      <td>1530.0</td>\n",
              "      <td>2021</td>\n",
              "    </tr>\n",
              "  </tbody>\n",
              "</table>\n",
              "<p>143 rows × 10 columns</p>\n",
              "</div>\n",
              "      <button class=\"colab-df-convert\" onclick=\"convertToInteractive('df-c01059cb-2307-4c48-914a-cd7716f1197c')\"\n",
              "              title=\"Convert this dataframe to an interactive table.\"\n",
              "              style=\"display:none;\">\n",
              "        \n",
              "  <svg xmlns=\"http://www.w3.org/2000/svg\" height=\"24px\"viewBox=\"0 0 24 24\"\n",
              "       width=\"24px\">\n",
              "    <path d=\"M0 0h24v24H0V0z\" fill=\"none\"/>\n",
              "    <path d=\"M18.56 5.44l.94 2.06.94-2.06 2.06-.94-2.06-.94-.94-2.06-.94 2.06-2.06.94zm-11 1L8.5 8.5l.94-2.06 2.06-.94-2.06-.94L8.5 2.5l-.94 2.06-2.06.94zm10 10l.94 2.06.94-2.06 2.06-.94-2.06-.94-.94-2.06-.94 2.06-2.06.94z\"/><path d=\"M17.41 7.96l-1.37-1.37c-.4-.4-.92-.59-1.43-.59-.52 0-1.04.2-1.43.59L10.3 9.45l-7.72 7.72c-.78.78-.78 2.05 0 2.83L4 21.41c.39.39.9.59 1.41.59.51 0 1.02-.2 1.41-.59l7.78-7.78 2.81-2.81c.8-.78.8-2.07 0-2.86zM5.41 20L4 18.59l7.72-7.72 1.47 1.35L5.41 20z\"/>\n",
              "  </svg>\n",
              "      </button>\n",
              "      \n",
              "  <style>\n",
              "    .colab-df-container {\n",
              "      display:flex;\n",
              "      flex-wrap:wrap;\n",
              "      gap: 12px;\n",
              "    }\n",
              "\n",
              "    .colab-df-convert {\n",
              "      background-color: #E8F0FE;\n",
              "      border: none;\n",
              "      border-radius: 50%;\n",
              "      cursor: pointer;\n",
              "      display: none;\n",
              "      fill: #1967D2;\n",
              "      height: 32px;\n",
              "      padding: 0 0 0 0;\n",
              "      width: 32px;\n",
              "    }\n",
              "\n",
              "    .colab-df-convert:hover {\n",
              "      background-color: #E2EBFA;\n",
              "      box-shadow: 0px 1px 2px rgba(60, 64, 67, 0.3), 0px 1px 3px 1px rgba(60, 64, 67, 0.15);\n",
              "      fill: #174EA6;\n",
              "    }\n",
              "\n",
              "    [theme=dark] .colab-df-convert {\n",
              "      background-color: #3B4455;\n",
              "      fill: #D2E3FC;\n",
              "    }\n",
              "\n",
              "    [theme=dark] .colab-df-convert:hover {\n",
              "      background-color: #434B5C;\n",
              "      box-shadow: 0px 1px 3px 1px rgba(0, 0, 0, 0.15);\n",
              "      filter: drop-shadow(0px 1px 2px rgba(0, 0, 0, 0.3));\n",
              "      fill: #FFFFFF;\n",
              "    }\n",
              "  </style>\n",
              "\n",
              "      <script>\n",
              "        const buttonEl =\n",
              "          document.querySelector('#df-c01059cb-2307-4c48-914a-cd7716f1197c button.colab-df-convert');\n",
              "        buttonEl.style.display =\n",
              "          google.colab.kernel.accessAllowed ? 'block' : 'none';\n",
              "\n",
              "        async function convertToInteractive(key) {\n",
              "          const element = document.querySelector('#df-c01059cb-2307-4c48-914a-cd7716f1197c');\n",
              "          const dataTable =\n",
              "            await google.colab.kernel.invokeFunction('convertToInteractive',\n",
              "                                                     [key], {});\n",
              "          if (!dataTable) return;\n",
              "\n",
              "          const docLinkHtml = 'Like what you see? Visit the ' +\n",
              "            '<a target=\"_blank\" href=https://colab.research.google.com/notebooks/data_table.ipynb>data table notebook</a>'\n",
              "            + ' to learn more about interactive tables.';\n",
              "          element.innerHTML = '';\n",
              "          dataTable['output_type'] = 'display_data';\n",
              "          await google.colab.output.renderOutput(dataTable, element);\n",
              "          const docLink = document.createElement('div');\n",
              "          docLink.innerHTML = docLinkHtml;\n",
              "          element.appendChild(docLink);\n",
              "        }\n",
              "      </script>\n",
              "    </div>\n",
              "  </div>\n",
              "  "
            ]
          },
          "metadata": {},
          "execution_count": 22
        }
      ]
    },
    {
      "cell_type": "markdown",
      "source": [
        "###폭염 그래프"
      ],
      "metadata": {
        "id": "AE6zeY2K5O2l"
      }
    },
    {
      "cell_type": "code",
      "source": [
        "plt.rcParams['figure.figsize'] = (15,5)\n",
        "plt.plot(seoul_hotday['일시'], seoul_hotday['최고기온(°C)'], 'r.')\n",
        "plt.xlabel('일시')\n",
        "plt.ylabel('최고기온(°C)', rotation=45)\n",
        "# plt.xticks(range(1945,1964, 1), rotation=45)\n",
        "plt.grid(ls=':')\n",
        "plt.title('연도별 서울시 최고 기온')\n",
        "plt.show()"
      ],
      "metadata": {
        "colab": {
          "base_uri": "https://localhost:8080/",
          "height": 349
        },
        "id": "bmHdCLdDgIaU",
        "outputId": "118ba3ca-7c6e-4b27-ef7d-17e5f9913326"
      },
      "execution_count": 23,
      "outputs": [
        {
          "output_type": "display_data",
          "data": {
            "text/plain": [
              "<Figure size 1080x360 with 1 Axes>"
            ],
            "image/png": "[encoded data removed]"
          },
          "metadata": {
            "needs_background": "light"
          }
        }
      ]
    },
    {
      "cell_type": "markdown",
      "source": [
        "###열대야 그래프"
      ],
      "metadata": {
        "id": "cWdX-pOA5UtI"
      }
    },
    {
      "cell_type": "code",
      "source": [
        "seoul_hotnight = seoul_df[seoul_df['최고기온(°C)'] >= 25].copy()\n",
        "plt.plot(seoul_hotnight['일시'], seoul_hotnight['최고기온(°C)'], 'r.')\n",
        "plt.xlabel('일시')\n",
        "plt.ylabel('최고기온(°C)')\n",
        "plt.grid(ls=':')\n",
        "plt.title('연도별 서울시 열대야')\n",
        "plt.show()"
      ],
      "metadata": {
        "colab": {
          "base_uri": "https://localhost:8080/",
          "height": 349
        },
        "id": "-pfuRAYC4w6U",
        "outputId": "ea08a6e7-aac6-4fd5-82f3-68252807ca18"
      },
      "execution_count": 24,
      "outputs": [
        {
          "output_type": "display_data",
          "data": {
            "text/plain": [
              "<Figure size 1080x360 with 1 Axes>"
            ],
            "image/png": "[encoded data removed]"
          },
          "metadata": {
            "needs_background": "light"
          }
        }
      ]
    },
    {
      "cell_type": "markdown",
      "source": [
        "##Best 10 : 폭염, 열대야 "
      ],
      "metadata": {
        "id": "YFTQ_WRq7Ra5"
      }
    },
    {
      "cell_type": "code",
      "source": [
        "seoul_hotday_best = seoul_hotday.nlargest(10, '최고기온(°C)')\n",
        "seoul_hotday_best"
      ],
      "metadata": {
        "colab": {
          "base_uri": "https://localhost:8080/",
          "height": 363
        },
        "id": "t1nrM4ea5w97",
        "outputId": "9494a7b0-cde3-4b6b-9024-e543fad95f8f"
      },
      "execution_count": 39,
      "outputs": [
        {
          "output_type": "execute_result",
          "data": {
            "text/plain": [
              "      index   지점 지점명         일시  평균기온(°C)  최저기온(°C)  최저기온 시각(hhmi)  최고기온(°C)  \\\n",
              "2404  40852  108  서울 2018-08-01      33.6      27.8          556.0      39.6   \n",
              "2403  40851  108  서울 2018-07-31      32.6      27.8          604.0      38.3   \n",
              "2394  40842  108  서울 2018-07-22      31.8      25.3          536.0      38.0   \n",
              "2418  40866  108  서울 2018-08-15      31.7      28.3          608.0      38.0   \n",
              "2405  40853  108  서울 2018-08-02      33.7      30.3          607.0      37.9   \n",
              "2406  40854  108  서울 2018-08-03      33.1      30.0         2342.0      37.9   \n",
              "2425  40873  108  서울 2018-08-22      30.7      23.4          453.0      37.6   \n",
              "2417  40865  108  서울 2018-08-14      31.7      27.7          608.0      37.2   \n",
              "2393  40841  108  서울 2018-07-21      30.6      24.9          524.0      36.9   \n",
              "2402  40850  108  서울 2018-07-30      31.7      26.2          529.0      36.9   \n",
              "\n",
              "      최고기온 시각(hhmi)  year  \n",
              "2404         1536.0  2018  \n",
              "2403         1519.0  2018  \n",
              "2394         1527.0  2018  \n",
              "2418         1417.0  2018  \n",
              "2405         1558.0  2018  \n",
              "2406         1415.0  2018  \n",
              "2425         1608.0  2018  \n",
              "2417         1456.0  2018  \n",
              "2393         1548.0  2018  \n",
              "2402         1624.0  2018  "
            ],
            "text/html": [
              "\n",
              "  <div id=\"df-210147d7-d614-44f4-8cb4-23bd8609e517\">\n",
              "    <div class=\"colab-df-container\">\n",
              "      <div>\n",
              "<style scoped>\n",
              "    .dataframe tbody tr th:only-of-type {\n",
              "        vertical-align: middle;\n",
              "    }\n",
              "\n",
              "    .dataframe tbody tr th {\n",
              "        vertical-align: top;\n",
              "    }\n",
              "\n",
              "    .dataframe thead th {\n",
              "        text-align: right;\n",
              "    }\n",
              "</style>\n",
              "<table border=\"1\" class=\"dataframe\">\n",
              "  <thead>\n",
              "    <tr style=\"text-align: right;\">\n",
              "      <th></th>\n",
              "      <th>index</th>\n",
              "      <th>지점</th>\n",
              "      <th>지점명</th>\n",
              "      <th>일시</th>\n",
              "      <th>평균기온(°C)</th>\n",
              "      <th>최저기온(°C)</th>\n",
              "      <th>최저기온 시각(hhmi)</th>\n",
              "      <th>최고기온(°C)</th>\n",
              "      <th>최고기온 시각(hhmi)</th>\n",
              "      <th>year</th>\n",
              "    </tr>\n",
              "  </thead>\n",
              "  <tbody>\n",
              "    <tr>\n",
              "      <th>2404</th>\n",
              "      <td>40852</td>\n",
              "      <td>108</td>\n",
              "      <td>서울</td>\n",
              "      <td>2018-08-01</td>\n",
              "      <td>33.6</td>\n",
              "      <td>27.8</td>\n",
              "      <td>556.0</td>\n",
              "      <td>39.6</td>\n",
              "      <td>1536.0</td>\n",
              "      <td>2018</td>\n",
              "    </tr>\n",
              "    <tr>\n",
              "      <th>2403</th>\n",
              "      <td>40851</td>\n",
              "      <td>108</td>\n",
              "      <td>서울</td>\n",
              "      <td>2018-07-31</td>\n",
              "      <td>32.6</td>\n",
              "      <td>27.8</td>\n",
              "      <td>604.0</td>\n",
              "      <td>38.3</td>\n",
              "      <td>1519.0</td>\n",
              "      <td>2018</td>\n",
              "    </tr>\n",
              "    <tr>\n",
              "      <th>2394</th>\n",
              "      <td>40842</td>\n",
              "      <td>108</td>\n",
              "      <td>서울</td>\n",
              "      <td>2018-07-22</td>\n",
              "      <td>31.8</td>\n",
              "      <td>25.3</td>\n",
              "      <td>536.0</td>\n",
              "      <td>38.0</td>\n",
              "      <td>1527.0</td>\n",
              "      <td>2018</td>\n",
              "    </tr>\n",
              "    <tr>\n",
              "      <th>2418</th>\n",
              "      <td>40866</td>\n",
              "      <td>108</td>\n",
              "      <td>서울</td>\n",
              "      <td>2018-08-15</td>\n",
              "      <td>31.7</td>\n",
              "      <td>28.3</td>\n",
              "      <td>608.0</td>\n",
              "      <td>38.0</td>\n",
              "      <td>1417.0</td>\n",
              "      <td>2018</td>\n",
              "    </tr>\n",
              "    <tr>\n",
              "      <th>2405</th>\n",
              "      <td>40853</td>\n",
              "      <td>108</td>\n",
              "      <td>서울</td>\n",
              "      <td>2018-08-02</td>\n",
              "      <td>33.7</td>\n",
              "      <td>30.3</td>\n",
              "      <td>607.0</td>\n",
              "      <td>37.9</td>\n",
              "      <td>1558.0</td>\n",
              "      <td>2018</td>\n",
              "    </tr>\n",
              "    <tr>\n",
              "      <th>2406</th>\n",
              "      <td>40854</td>\n",
              "      <td>108</td>\n",
              "      <td>서울</td>\n",
              "      <td>2018-08-03</td>\n",
              "      <td>33.1</td>\n",
              "      <td>30.0</td>\n",
              "      <td>2342.0</td>\n",
              "      <td>37.9</td>\n",
              "      <td>1415.0</td>\n",
              "      <td>2018</td>\n",
              "    </tr>\n",
              "    <tr>\n",
              "      <th>2425</th>\n",
              "      <td>40873</td>\n",
              "      <td>108</td>\n",
              "      <td>서울</td>\n",
              "      <td>2018-08-22</td>\n",
              "      <td>30.7</td>\n",
              "      <td>23.4</td>\n",
              "      <td>453.0</td>\n",
              "      <td>37.6</td>\n",
              "      <td>1608.0</td>\n",
              "      <td>2018</td>\n",
              "    </tr>\n",
              "    <tr>\n",
              "      <th>2417</th>\n",
              "      <td>40865</td>\n",
              "      <td>108</td>\n",
              "      <td>서울</td>\n",
              "      <td>2018-08-14</td>\n",
              "      <td>31.7</td>\n",
              "      <td>27.7</td>\n",
              "      <td>608.0</td>\n",
              "      <td>37.2</td>\n",
              "      <td>1456.0</td>\n",
              "      <td>2018</td>\n",
              "    </tr>\n",
              "    <tr>\n",
              "      <th>2393</th>\n",
              "      <td>40841</td>\n",
              "      <td>108</td>\n",
              "      <td>서울</td>\n",
              "      <td>2018-07-21</td>\n",
              "      <td>30.6</td>\n",
              "      <td>24.9</td>\n",
              "      <td>524.0</td>\n",
              "      <td>36.9</td>\n",
              "      <td>1548.0</td>\n",
              "      <td>2018</td>\n",
              "    </tr>\n",
              "    <tr>\n",
              "      <th>2402</th>\n",
              "      <td>40850</td>\n",
              "      <td>108</td>\n",
              "      <td>서울</td>\n",
              "      <td>2018-07-30</td>\n",
              "      <td>31.7</td>\n",
              "      <td>26.2</td>\n",
              "      <td>529.0</td>\n",
              "      <td>36.9</td>\n",
              "      <td>1624.0</td>\n",
              "      <td>2018</td>\n",
              "    </tr>\n",
              "  </tbody>\n",
              "</table>\n",
              "</div>\n",
              "      <button class=\"colab-df-convert\" onclick=\"convertToInteractive('df-210147d7-d614-44f4-8cb4-23bd8609e517')\"\n",
              "              title=\"Convert this dataframe to an interactive table.\"\n",
              "              style=\"display:none;\">\n",
              "        \n",
              "  <svg xmlns=\"http://www.w3.org/2000/svg\" height=\"24px\"viewBox=\"0 0 24 24\"\n",
              "       width=\"24px\">\n",
              "    <path d=\"M0 0h24v24H0V0z\" fill=\"none\"/>\n",
              "    <path d=\"M18.56 5.44l.94 2.06.94-2.06 2.06-.94-2.06-.94-.94-2.06-.94 2.06-2.06.94zm-11 1L8.5 8.5l.94-2.06 2.06-.94-2.06-.94L8.5 2.5l-.94 2.06-2.06.94zm10 10l.94 2.06.94-2.06 2.06-.94-2.06-.94-.94-2.06-.94 2.06-2.06.94z\"/><path d=\"M17.41 7.96l-1.37-1.37c-.4-.4-.92-.59-1.43-.59-.52 0-1.04.2-1.43.59L10.3 9.45l-7.72 7.72c-.78.78-.78 2.05 0 2.83L4 21.41c.39.39.9.59 1.41.59.51 0 1.02-.2 1.41-.59l7.78-7.78 2.81-2.81c.8-.78.8-2.07 0-2.86zM5.41 20L4 18.59l7.72-7.72 1.47 1.35L5.41 20z\"/>\n",
              "  </svg>\n",
              "      </button>\n",
              "      \n",
              "  <style>\n",
              "    .colab-df-container {\n",
              "      display:flex;\n",
              "      flex-wrap:wrap;\n",
              "      gap: 12px;\n",
              "    }\n",
              "\n",
              "    .colab-df-convert {\n",
              "      background-color: #E8F0FE;\n",
              "      border: none;\n",
              "      border-radius: 50%;\n",
              "      cursor: pointer;\n",
              "      display: none;\n",
              "      fill: #1967D2;\n",
              "      height: 32px;\n",
              "      padding: 0 0 0 0;\n",
              "      width: 32px;\n",
              "    }\n",
              "\n",
              "    .colab-df-convert:hover {\n",
              "      background-color: #E2EBFA;\n",
              "      box-shadow: 0px 1px 2px rgba(60, 64, 67, 0.3), 0px 1px 3px 1px rgba(60, 64, 67, 0.15);\n",
              "      fill: #174EA6;\n",
              "    }\n",
              "\n",
              "    [theme=dark] .colab-df-convert {\n",
              "      background-color: #3B4455;\n",
              "      fill: #D2E3FC;\n",
              "    }\n",
              "\n",
              "    [theme=dark] .colab-df-convert:hover {\n",
              "      background-color: #434B5C;\n",
              "      box-shadow: 0px 1px 3px 1px rgba(0, 0, 0, 0.15);\n",
              "      filter: drop-shadow(0px 1px 2px rgba(0, 0, 0, 0.3));\n",
              "      fill: #FFFFFF;\n",
              "    }\n",
              "  </style>\n",
              "\n",
              "      <script>\n",
              "        const buttonEl =\n",
              "          document.querySelector('#df-210147d7-d614-44f4-8cb4-23bd8609e517 button.colab-df-convert');\n",
              "        buttonEl.style.display =\n",
              "          google.colab.kernel.accessAllowed ? 'block' : 'none';\n",
              "\n",
              "        async function convertToInteractive(key) {\n",
              "          const element = document.querySelector('#df-210147d7-d614-44f4-8cb4-23bd8609e517');\n",
              "          const dataTable =\n",
              "            await google.colab.kernel.invokeFunction('convertToInteractive',\n",
              "                                                     [key], {});\n",
              "          if (!dataTable) return;\n",
              "\n",
              "          const docLinkHtml = 'Like what you see? Visit the ' +\n",
              "            '<a target=\"_blank\" href=https://colab.research.google.com/notebooks/data_table.ipynb>data table notebook</a>'\n",
              "            + ' to learn more about interactive tables.';\n",
              "          element.innerHTML = '';\n",
              "          dataTable['output_type'] = 'display_data';\n",
              "          await google.colab.output.renderOutput(dataTable, element);\n",
              "          const docLink = document.createElement('div');\n",
              "          docLink.innerHTML = docLinkHtml;\n",
              "          element.appendChild(docLink);\n",
              "        }\n",
              "      </script>\n",
              "    </div>\n",
              "  </div>\n",
              "  "
            ]
          },
          "metadata": {},
          "execution_count": 39
        }
      ]
    },
    {
      "cell_type": "markdown",
      "source": [
        "###날짜별 확인"
      ],
      "metadata": {
        "id": "QzxnuxOL8bbm"
      }
    },
    {
      "cell_type": "code",
      "source": [
        "# seoul_hotday_best.loc[:,'일시']"
      ],
      "metadata": {
        "colab": {
          "base_uri": "https://localhost:8080/"
        },
        "id": "aIQG-GSC9KPe",
        "outputId": "532041b2-3320-4e73-bb2f-2e926dd07d65"
      },
      "execution_count": 34,
      "outputs": [
        {
          "output_type": "execute_result",
          "data": {
            "text/plain": [
              "2404   2018-08-01\n",
              "2403   2018-07-31\n",
              "2394   2018-07-22\n",
              "2418   2018-08-15\n",
              "2405   2018-08-02\n",
              "2406   2018-08-03\n",
              "2425   2018-08-22\n",
              "2417   2018-08-14\n",
              "2393   2018-07-21\n",
              "2402   2018-07-30\n",
              "Name: 일시, dtype: datetime64[ns]"
            ]
          },
          "metadata": {},
          "execution_count": 34
        }
      ]
    },
    {
      "cell_type": "code",
      "source": [
        "seoul_hotday_bestest = seoul_hotday_best.iloc[[0]]\n",
        "seoul_hotday_bestest"
      ],
      "metadata": {
        "colab": {
          "base_uri": "https://localhost:8080/",
          "height": 81
        },
        "id": "eNb8wyD_7kjM",
        "outputId": "2452be19-d64d-4a40-b6da-2521b2102297"
      },
      "execution_count": 42,
      "outputs": [
        {
          "output_type": "execute_result",
          "data": {
            "text/plain": [
              "      index   지점 지점명         일시  평균기온(°C)  최저기온(°C)  최저기온 시각(hhmi)  최고기온(°C)  \\\n",
              "2404  40852  108  서울 2018-08-01      33.6      27.8          556.0      39.6   \n",
              "\n",
              "      최고기온 시각(hhmi)  year  \n",
              "2404         1536.0  2018  "
            ],
            "text/html": [
              "\n",
              "  <div id=\"df-d2160b37-6945-42cc-b918-8335142297f6\">\n",
              "    <div class=\"colab-df-container\">\n",
              "      <div>\n",
              "<style scoped>\n",
              "    .dataframe tbody tr th:only-of-type {\n",
              "        vertical-align: middle;\n",
              "    }\n",
              "\n",
              "    .dataframe tbody tr th {\n",
              "        vertical-align: top;\n",
              "    }\n",
              "\n",
              "    .dataframe thead th {\n",
              "        text-align: right;\n",
              "    }\n",
              "</style>\n",
              "<table border=\"1\" class=\"dataframe\">\n",
              "  <thead>\n",
              "    <tr style=\"text-align: right;\">\n",
              "      <th></th>\n",
              "      <th>index</th>\n",
              "      <th>지점</th>\n",
              "      <th>지점명</th>\n",
              "      <th>일시</th>\n",
              "      <th>평균기온(°C)</th>\n",
              "      <th>최저기온(°C)</th>\n",
              "      <th>최저기온 시각(hhmi)</th>\n",
              "      <th>최고기온(°C)</th>\n",
              "      <th>최고기온 시각(hhmi)</th>\n",
              "      <th>year</th>\n",
              "    </tr>\n",
              "  </thead>\n",
              "  <tbody>\n",
              "    <tr>\n",
              "      <th>2404</th>\n",
              "      <td>40852</td>\n",
              "      <td>108</td>\n",
              "      <td>서울</td>\n",
              "      <td>2018-08-01</td>\n",
              "      <td>33.6</td>\n",
              "      <td>27.8</td>\n",
              "      <td>556.0</td>\n",
              "      <td>39.6</td>\n",
              "      <td>1536.0</td>\n",
              "      <td>2018</td>\n",
              "    </tr>\n",
              "  </tbody>\n",
              "</table>\n",
              "</div>\n",
              "      <button class=\"colab-df-convert\" onclick=\"convertToInteractive('df-d2160b37-6945-42cc-b918-8335142297f6')\"\n",
              "              title=\"Convert this dataframe to an interactive table.\"\n",
              "              style=\"display:none;\">\n",
              "        \n",
              "  <svg xmlns=\"http://www.w3.org/2000/svg\" height=\"24px\"viewBox=\"0 0 24 24\"\n",
              "       width=\"24px\">\n",
              "    <path d=\"M0 0h24v24H0V0z\" fill=\"none\"/>\n",
              "    <path d=\"M18.56 5.44l.94 2.06.94-2.06 2.06-.94-2.06-.94-.94-2.06-.94 2.06-2.06.94zm-11 1L8.5 8.5l.94-2.06 2.06-.94-2.06-.94L8.5 2.5l-.94 2.06-2.06.94zm10 10l.94 2.06.94-2.06 2.06-.94-2.06-.94-.94-2.06-.94 2.06-2.06.94z\"/><path d=\"M17.41 7.96l-1.37-1.37c-.4-.4-.92-.59-1.43-.59-.52 0-1.04.2-1.43.59L10.3 9.45l-7.72 7.72c-.78.78-.78 2.05 0 2.83L4 21.41c.39.39.9.59 1.41.59.51 0 1.02-.2 1.41-.59l7.78-7.78 2.81-2.81c.8-.78.8-2.07 0-2.86zM5.41 20L4 18.59l7.72-7.72 1.47 1.35L5.41 20z\"/>\n",
              "  </svg>\n",
              "      </button>\n",
              "      \n",
              "  <style>\n",
              "    .colab-df-container {\n",
              "      display:flex;\n",
              "      flex-wrap:wrap;\n",
              "      gap: 12px;\n",
              "    }\n",
              "\n",
              "    .colab-df-convert {\n",
              "      background-color: #E8F0FE;\n",
              "      border: none;\n",
              "      border-radius: 50%;\n",
              "      cursor: pointer;\n",
              "      display: none;\n",
              "      fill: #1967D2;\n",
              "      height: 32px;\n",
              "      padding: 0 0 0 0;\n",
              "      width: 32px;\n",
              "    }\n",
              "\n",
              "    .colab-df-convert:hover {\n",
              "      background-color: #E2EBFA;\n",
              "      box-shadow: 0px 1px 2px rgba(60, 64, 67, 0.3), 0px 1px 3px 1px rgba(60, 64, 67, 0.15);\n",
              "      fill: #174EA6;\n",
              "    }\n",
              "\n",
              "    [theme=dark] .colab-df-convert {\n",
              "      background-color: #3B4455;\n",
              "      fill: #D2E3FC;\n",
              "    }\n",
              "\n",
              "    [theme=dark] .colab-df-convert:hover {\n",
              "      background-color: #434B5C;\n",
              "      box-shadow: 0px 1px 3px 1px rgba(0, 0, 0, 0.15);\n",
              "      filter: drop-shadow(0px 1px 2px rgba(0, 0, 0, 0.3));\n",
              "      fill: #FFFFFF;\n",
              "    }\n",
              "  </style>\n",
              "\n",
              "      <script>\n",
              "        const buttonEl =\n",
              "          document.querySelector('#df-d2160b37-6945-42cc-b918-8335142297f6 button.colab-df-convert');\n",
              "        buttonEl.style.display =\n",
              "          google.colab.kernel.accessAllowed ? 'block' : 'none';\n",
              "\n",
              "        async function convertToInteractive(key) {\n",
              "          const element = document.querySelector('#df-d2160b37-6945-42cc-b918-8335142297f6');\n",
              "          const dataTable =\n",
              "            await google.colab.kernel.invokeFunction('convertToInteractive',\n",
              "                                                     [key], {});\n",
              "          if (!dataTable) return;\n",
              "\n",
              "          const docLinkHtml = 'Like what you see? Visit the ' +\n",
              "            '<a target=\"_blank\" href=https://colab.research.google.com/notebooks/data_table.ipynb>data table notebook</a>'\n",
              "            + ' to learn more about interactive tables.';\n",
              "          element.innerHTML = '';\n",
              "          dataTable['output_type'] = 'display_data';\n",
              "          await google.colab.output.renderOutput(dataTable, element);\n",
              "          const docLink = document.createElement('div');\n",
              "          docLink.innerHTML = docLinkHtml;\n",
              "          element.appendChild(docLink);\n",
              "        }\n",
              "      </script>\n",
              "    </div>\n",
              "  </div>\n",
              "  "
            ]
          },
          "metadata": {},
          "execution_count": 42
        }
      ]
    },
    {
      "cell_type": "code",
      "source": [
        "seoul_hotday_bestest_day = seoul_hotday_bestest.iloc[0,3].date()\n",
        "seoul_hotday_bestest_temporate = seoul_hotday_bestest.iloc[0,7]\n",
        "seoul_hotday_bestest_day, seoul_hotday_bestest_temporate"
      ],
      "metadata": {
        "colab": {
          "base_uri": "https://localhost:8080/"
        },
        "id": "VPFbmrds-RgE",
        "outputId": "acd86559-2331-4c59-bac8-597de201768b"
      },
      "execution_count": 45,
      "outputs": [
        {
          "output_type": "execute_result",
          "data": {
            "text/plain": [
              "(datetime.date(2018, 8, 1), 39.6)"
            ]
          },
          "metadata": {},
          "execution_count": 45
        }
      ]
    },
    {
      "cell_type": "code",
      "source": [
        "# 열대야 그래프 사용\n",
        "seoul_hotnight = seoul_df[seoul_df['최고기온(°C)'] >= 25].copy()\n",
        "plt.plot(seoul_hotnight['일시'], seoul_hotnight['최고기온(°C)'], 'g.')\n",
        "plt.xlabel('일시')\n",
        "plt.ylabel('최고기온(°C)')\n",
        "plt.grid(ls=':')\n",
        "plt.title('연도별 서울시 열대야')\n",
        "\n",
        "plt.plot(seoul_hotday_bestest_day, seoul_hotday_bestest_temporate, 'r^')\n",
        "bestest_text = '{0}-{1:.1f}도'.format(seoul_hotday_bestest_day, seoul_hotday_bestest_temporate)\n",
        "plt.text(seoul_hotday_bestest_day, seoul_hotday_bestest_temporate-1,bestest_text, ha='center')\n",
        "plt.yticks(range(33,42))\n",
        "plt.show()"
      ],
      "metadata": {
        "colab": {
          "base_uri": "https://localhost:8080/",
          "height": 349
        },
        "id": "Oe59j2Yy_IM_",
        "outputId": "eb769702-6e0b-4e33-be90-cf2b9828f9a0"
      },
      "execution_count": 61,
      "outputs": [
        {
          "output_type": "display_data",
          "data": {
            "text/plain": [
              "<Figure size 1080x360 with 1 Axes>"
            ],
            "image/png": "[encoded data removed]"
          },
          "metadata": {
            "needs_background": "light"
          }
        }
      ]
    },
    {
      "cell_type": "markdown",
      "source": [
        "##연도별 폭염, 열대야 일수 추출"
      ],
      "metadata": {
        "id": "sLHmi7DdDL4U"
      }
    },
    {
      "cell_type": "code",
      "source": [
        ""
      ],
      "metadata": {
        "id": "QcvFWiy-__Fg"
      },
      "execution_count": null,
      "outputs": []
    }
  ]
}