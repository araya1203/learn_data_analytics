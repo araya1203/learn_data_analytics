{
  "nbformat": 4,
  "nbformat_minor": 0,
  "metadata": {
    "colab": {
      "name": "주택실거래가_전국.ipynb",
      "provenance": [],
      "include_colab_link": true
    },
    "kernelspec": {
      "name": "python3",
      "display_name": "Python 3"
    },
    "language_info": {
      "name": "python"
    }
  },
  "cells": [
    {
      "cell_type": "markdown",
      "metadata": {
        "id": "view-in-github",
        "colab_type": "text"
      },
      "source": [
        "<a href=\"https://colab.research.google.com/github/SanghunOh/with_data_analytics/blob/main/codes/%EC%A3%BC%ED%83%9D%EC%8B%A4%EA%B1%B0%EB%9E%98%EA%B0%80_%EC%84%9C%EC%9A%B8.ipynb\" target=\"_parent\"><img src=\"https://colab.research.google.com/assets/colab-badge.svg\" alt=\"Open In Colab\"/></a>"
      ]
    },
    {
      "cell_type": "markdown",
      "source": [
        "###from : http://rtdown.molit.go.kr/"
      ],
      "metadata": {
        "id": "LMWPsZ-ZwYWo"
      }
    },
    {
      "cell_type": "code",
      "source": [
        "from google.colab import drive\n",
        "drive.mount('/content/drive')"
      ],
      "metadata": {
        "colab": {
          "base_uri": "https://localhost:8080/"
        },
        "id": "Ym-_GC7kwyRl",
        "outputId": "e202d57b-d380-452c-9eb4-b22978ae2465"
      },
      "execution_count": 1,
      "outputs": [
        {
          "output_type": "stream",
          "name": "stdout",
          "text": [
            "Drive already mounted at /content/drive; to attempt to forcibly remount, call drive.mount(\"/content/drive\", force_remount=True).\n"
          ]
        }
      ]
    },
    {
      "cell_type": "code",
      "source": [
        "path_root = '/content/drive/MyDrive/datas/'\n",
        "\n",
        "# 작업 경로 설정\n",
        "import os\n",
        "os.chdir(path_root)\n",
        "!pwd"
      ],
      "metadata": {
        "colab": {
          "base_uri": "https://localhost:8080/"
        },
        "id": "qmdKnVRPxGOa",
        "outputId": "bced3368-f707-4d5c-825d-acd7cf1b6c11"
      },
      "execution_count": 2,
      "outputs": [
        {
          "output_type": "stream",
          "name": "stdout",
          "text": [
            "/content/drive/.shortcut-targets-by-id/1tHYgEz3lQF-LmtFPXRgMBDh4UN54qeAs/datas\n"
          ]
        }
      ]
    },
    {
      "cell_type": "code",
      "execution_count": 3,
      "metadata": {
        "id": "s_bnaTuF020B"
      },
      "outputs": [],
      "source": [
        "import pandas as pd\n"
      ]
    },
    {
      "cell_type": "code",
      "source": [
        "data_df = pd.read_csv('./아파트(매매)__실거래가_20220712230621.csv', encoding='cp949', header=15)\n",
        "\n",
        "data_df"
      ],
      "metadata": {
        "colab": {
          "base_uri": "https://localhost:8080/",
          "height": 468
        },
        "id": "DfXlMspP0952",
        "outputId": "858f9dd0-0e9a-4cc5-b283-f82a00d40081"
      },
      "execution_count": 4,
      "outputs": [
        {
          "output_type": "execute_result",
          "data": {
            "text/plain": [
              "                시군구      번지    본번  부번            단지명  전용면적(㎡)    계약년월  계약일  \\\n",
              "0       강원도 강릉시 견소동     202  0202   0           송정한신   39.080  202205    7   \n",
              "1       강원도 강릉시 견소동     202  0202   0           송정한신   84.945  202205   24   \n",
              "2       강원도 강릉시 견소동     289  0289   0   송정해변신도브래뉴아파트   84.990  202205    2   \n",
              "3       강원도 강릉시 견소동     289  0289   0   송정해변신도브래뉴아파트   84.990  202205   19   \n",
              "4       강원도 강릉시 견소동     289  0289   0   송정해변신도브래뉴아파트   84.990  202205   23   \n",
              "...             ...     ...   ...  ..            ...      ...     ...  ...   \n",
              "31781  충청북도 충주시 호암동    1063  1063   0  충주호암두진하트리움아파트   77.946  202205   27   \n",
              "31782  충청북도 충주시 호암동  558-16  0558  16             한양   59.840  202205   10   \n",
              "31783  충청북도 충주시 호암동   547-6  0547   6           호반현대   59.760  202205    7   \n",
              "31784  충청북도 충주시 호암동  221-23  0221  23     호암리버빌(1단지)   84.680  202205   27   \n",
              "31785  충청북도 충주시 호암동    1191  1191   0        호암힐데스하임   84.940  202205   17   \n",
              "\n",
              "      거래금액(만원)   층  건축년도           도로명  해제사유발생일  거래유형  중개사소재지  \n",
              "0       16,000  10  1997   경강로2539번길 8      NaN  중개거래  강원 강릉시  \n",
              "1       26,700  13  1997   경강로2539번길 8      NaN  중개거래  강원 강릉시  \n",
              "2       33,800  14  2005  경강로2539번길 22      NaN   직거래       -  \n",
              "3       33,700   3  2005  경강로2539번길 22      NaN  중개거래  강원 강릉시  \n",
              "4       30,000   2  2005  경강로2539번길 22      NaN   직거래       -  \n",
              "...        ...  ..   ...           ...      ...   ...     ...  \n",
              "31781   38,000   1  2019     호암수청2로 78      NaN   직거래       -  \n",
              "31782    7,000   5  1994         예성로 9      NaN  중개거래  충북 충주시  \n",
              "31783   12,000  10  1994       신촌2길 29      NaN  중개거래  충북 충주시  \n",
              "31784   19,800   1  2002      원호암5길 32      NaN  중개거래  충북 충주시  \n",
              "31785   50,000  10  2019      호암토성2로 1      NaN  중개거래  충북 충주시  \n",
              "\n",
              "[31786 rows x 15 columns]"
            ],
            "text/html": [
              "\n",
              "  <div id=\"df-5a519b17-d5ce-4399-bdfe-489c43910a69\">\n",
              "    <div class=\"colab-df-container\">\n",
              "      <div>\n",
              "<style scoped>\n",
              "    .dataframe tbody tr th:only-of-type {\n",
              "        vertical-align: middle;\n",
              "    }\n",
              "\n",
              "    .dataframe tbody tr th {\n",
              "        vertical-align: top;\n",
              "    }\n",
              "\n",
              "    .dataframe thead th {\n",
              "        text-align: right;\n",
              "    }\n",
              "</style>\n",
              "<table border=\"1\" class=\"dataframe\">\n",
              "  <thead>\n",
              "    <tr style=\"text-align: right;\">\n",
              "      <th></th>\n",
              "      <th>시군구</th>\n",
              "      <th>번지</th>\n",
              "      <th>본번</th>\n",
              "      <th>부번</th>\n",
              "      <th>단지명</th>\n",
              "      <th>전용면적(㎡)</th>\n",
              "      <th>계약년월</th>\n",
              "      <th>계약일</th>\n",
              "      <th>거래금액(만원)</th>\n",
              "      <th>층</th>\n",
              "      <th>건축년도</th>\n",
              "      <th>도로명</th>\n",
              "      <th>해제사유발생일</th>\n",
              "      <th>거래유형</th>\n",
              "      <th>중개사소재지</th>\n",
              "    </tr>\n",
              "  </thead>\n",
              "  <tbody>\n",
              "    <tr>\n",
              "      <th>0</th>\n",
              "      <td>강원도 강릉시 견소동</td>\n",
              "      <td>202</td>\n",
              "      <td>0202</td>\n",
              "      <td>0</td>\n",
              "      <td>송정한신</td>\n",
              "      <td>39.080</td>\n",
              "      <td>202205</td>\n",
              "      <td>7</td>\n",
              "      <td>16,000</td>\n",
              "      <td>10</td>\n",
              "      <td>1997</td>\n",
              "      <td>경강로2539번길 8</td>\n",
              "      <td>NaN</td>\n",
              "      <td>중개거래</td>\n",
              "      <td>강원 강릉시</td>\n",
              "    </tr>\n",
              "    <tr>\n",
              "      <th>1</th>\n",
              "      <td>강원도 강릉시 견소동</td>\n",
              "      <td>202</td>\n",
              "      <td>0202</td>\n",
              "      <td>0</td>\n",
              "      <td>송정한신</td>\n",
              "      <td>84.945</td>\n",
              "      <td>202205</td>\n",
              "      <td>24</td>\n",
              "      <td>26,700</td>\n",
              "      <td>13</td>\n",
              "      <td>1997</td>\n",
              "      <td>경강로2539번길 8</td>\n",
              "      <td>NaN</td>\n",
              "      <td>중개거래</td>\n",
              "      <td>강원 강릉시</td>\n",
              "    </tr>\n",
              "    <tr>\n",
              "      <th>2</th>\n",
              "      <td>강원도 강릉시 견소동</td>\n",
              "      <td>289</td>\n",
              "      <td>0289</td>\n",
              "      <td>0</td>\n",
              "      <td>송정해변신도브래뉴아파트</td>\n",
              "      <td>84.990</td>\n",
              "      <td>202205</td>\n",
              "      <td>2</td>\n",
              "      <td>33,800</td>\n",
              "      <td>14</td>\n",
              "      <td>2005</td>\n",
              "      <td>경강로2539번길 22</td>\n",
              "      <td>NaN</td>\n",
              "      <td>직거래</td>\n",
              "      <td>-</td>\n",
              "    </tr>\n",
              "    <tr>\n",
              "      <th>3</th>\n",
              "      <td>강원도 강릉시 견소동</td>\n",
              "      <td>289</td>\n",
              "      <td>0289</td>\n",
              "      <td>0</td>\n",
              "      <td>송정해변신도브래뉴아파트</td>\n",
              "      <td>84.990</td>\n",
              "      <td>202205</td>\n",
              "      <td>19</td>\n",
              "      <td>33,700</td>\n",
              "      <td>3</td>\n",
              "      <td>2005</td>\n",
              "      <td>경강로2539번길 22</td>\n",
              "      <td>NaN</td>\n",
              "      <td>중개거래</td>\n",
              "      <td>강원 강릉시</td>\n",
              "    </tr>\n",
              "    <tr>\n",
              "      <th>4</th>\n",
              "      <td>강원도 강릉시 견소동</td>\n",
              "      <td>289</td>\n",
              "      <td>0289</td>\n",
              "      <td>0</td>\n",
              "      <td>송정해변신도브래뉴아파트</td>\n",
              "      <td>84.990</td>\n",
              "      <td>202205</td>\n",
              "      <td>23</td>\n",
              "      <td>30,000</td>\n",
              "      <td>2</td>\n",
              "      <td>2005</td>\n",
              "      <td>경강로2539번길 22</td>\n",
              "      <td>NaN</td>\n",
              "      <td>직거래</td>\n",
              "      <td>-</td>\n",
              "    </tr>\n",
              "    <tr>\n",
              "      <th>...</th>\n",
              "      <td>...</td>\n",
              "      <td>...</td>\n",
              "      <td>...</td>\n",
              "      <td>...</td>\n",
              "      <td>...</td>\n",
              "      <td>...</td>\n",
              "      <td>...</td>\n",
              "      <td>...</td>\n",
              "      <td>...</td>\n",
              "      <td>...</td>\n",
              "      <td>...</td>\n",
              "      <td>...</td>\n",
              "      <td>...</td>\n",
              "      <td>...</td>\n",
              "      <td>...</td>\n",
              "    </tr>\n",
              "    <tr>\n",
              "      <th>31781</th>\n",
              "      <td>충청북도 충주시 호암동</td>\n",
              "      <td>1063</td>\n",
              "      <td>1063</td>\n",
              "      <td>0</td>\n",
              "      <td>충주호암두진하트리움아파트</td>\n",
              "      <td>77.946</td>\n",
              "      <td>202205</td>\n",
              "      <td>27</td>\n",
              "      <td>38,000</td>\n",
              "      <td>1</td>\n",
              "      <td>2019</td>\n",
              "      <td>호암수청2로 78</td>\n",
              "      <td>NaN</td>\n",
              "      <td>직거래</td>\n",
              "      <td>-</td>\n",
              "    </tr>\n",
              "    <tr>\n",
              "      <th>31782</th>\n",
              "      <td>충청북도 충주시 호암동</td>\n",
              "      <td>558-16</td>\n",
              "      <td>0558</td>\n",
              "      <td>16</td>\n",
              "      <td>한양</td>\n",
              "      <td>59.840</td>\n",
              "      <td>202205</td>\n",
              "      <td>10</td>\n",
              "      <td>7,000</td>\n",
              "      <td>5</td>\n",
              "      <td>1994</td>\n",
              "      <td>예성로 9</td>\n",
              "      <td>NaN</td>\n",
              "      <td>중개거래</td>\n",
              "      <td>충북 충주시</td>\n",
              "    </tr>\n",
              "    <tr>\n",
              "      <th>31783</th>\n",
              "      <td>충청북도 충주시 호암동</td>\n",
              "      <td>547-6</td>\n",
              "      <td>0547</td>\n",
              "      <td>6</td>\n",
              "      <td>호반현대</td>\n",
              "      <td>59.760</td>\n",
              "      <td>202205</td>\n",
              "      <td>7</td>\n",
              "      <td>12,000</td>\n",
              "      <td>10</td>\n",
              "      <td>1994</td>\n",
              "      <td>신촌2길 29</td>\n",
              "      <td>NaN</td>\n",
              "      <td>중개거래</td>\n",
              "      <td>충북 충주시</td>\n",
              "    </tr>\n",
              "    <tr>\n",
              "      <th>31784</th>\n",
              "      <td>충청북도 충주시 호암동</td>\n",
              "      <td>221-23</td>\n",
              "      <td>0221</td>\n",
              "      <td>23</td>\n",
              "      <td>호암리버빌(1단지)</td>\n",
              "      <td>84.680</td>\n",
              "      <td>202205</td>\n",
              "      <td>27</td>\n",
              "      <td>19,800</td>\n",
              "      <td>1</td>\n",
              "      <td>2002</td>\n",
              "      <td>원호암5길 32</td>\n",
              "      <td>NaN</td>\n",
              "      <td>중개거래</td>\n",
              "      <td>충북 충주시</td>\n",
              "    </tr>\n",
              "    <tr>\n",
              "      <th>31785</th>\n",
              "      <td>충청북도 충주시 호암동</td>\n",
              "      <td>1191</td>\n",
              "      <td>1191</td>\n",
              "      <td>0</td>\n",
              "      <td>호암힐데스하임</td>\n",
              "      <td>84.940</td>\n",
              "      <td>202205</td>\n",
              "      <td>17</td>\n",
              "      <td>50,000</td>\n",
              "      <td>10</td>\n",
              "      <td>2019</td>\n",
              "      <td>호암토성2로 1</td>\n",
              "      <td>NaN</td>\n",
              "      <td>중개거래</td>\n",
              "      <td>충북 충주시</td>\n",
              "    </tr>\n",
              "  </tbody>\n",
              "</table>\n",
              "<p>31786 rows × 15 columns</p>\n",
              "</div>\n",
              "      <button class=\"colab-df-convert\" onclick=\"convertToInteractive('df-5a519b17-d5ce-4399-bdfe-489c43910a69')\"\n",
              "              title=\"Convert this dataframe to an interactive table.\"\n",
              "              style=\"display:none;\">\n",
              "        \n",
              "  <svg xmlns=\"http://www.w3.org/2000/svg\" height=\"24px\"viewBox=\"0 0 24 24\"\n",
              "       width=\"24px\">\n",
              "    <path d=\"M0 0h24v24H0V0z\" fill=\"none\"/>\n",
              "    <path d=\"M18.56 5.44l.94 2.06.94-2.06 2.06-.94-2.06-.94-.94-2.06-.94 2.06-2.06.94zm-11 1L8.5 8.5l.94-2.06 2.06-.94-2.06-.94L8.5 2.5l-.94 2.06-2.06.94zm10 10l.94 2.06.94-2.06 2.06-.94-2.06-.94-.94-2.06-.94 2.06-2.06.94z\"/><path d=\"M17.41 7.96l-1.37-1.37c-.4-.4-.92-.59-1.43-.59-.52 0-1.04.2-1.43.59L10.3 9.45l-7.72 7.72c-.78.78-.78 2.05 0 2.83L4 21.41c.39.39.9.59 1.41.59.51 0 1.02-.2 1.41-.59l7.78-7.78 2.81-2.81c.8-.78.8-2.07 0-2.86zM5.41 20L4 18.59l7.72-7.72 1.47 1.35L5.41 20z\"/>\n",
              "  </svg>\n",
              "      </button>\n",
              "      \n",
              "  <style>\n",
              "    .colab-df-container {\n",
              "      display:flex;\n",
              "      flex-wrap:wrap;\n",
              "      gap: 12px;\n",
              "    }\n",
              "\n",
              "    .colab-df-convert {\n",
              "      background-color: #E8F0FE;\n",
              "      border: none;\n",
              "      border-radius: 50%;\n",
              "      cursor: pointer;\n",
              "      display: none;\n",
              "      fill: #1967D2;\n",
              "      height: 32px;\n",
              "      padding: 0 0 0 0;\n",
              "      width: 32px;\n",
              "    }\n",
              "\n",
              "    .colab-df-convert:hover {\n",
              "      background-color: #E2EBFA;\n",
              "      box-shadow: 0px 1px 2px rgba(60, 64, 67, 0.3), 0px 1px 3px 1px rgba(60, 64, 67, 0.15);\n",
              "      fill: #174EA6;\n",
              "    }\n",
              "\n",
              "    [theme=dark] .colab-df-convert {\n",
              "      background-color: #3B4455;\n",
              "      fill: #D2E3FC;\n",
              "    }\n",
              "\n",
              "    [theme=dark] .colab-df-convert:hover {\n",
              "      background-color: #434B5C;\n",
              "      box-shadow: 0px 1px 3px 1px rgba(0, 0, 0, 0.15);\n",
              "      filter: drop-shadow(0px 1px 2px rgba(0, 0, 0, 0.3));\n",
              "      fill: #FFFFFF;\n",
              "    }\n",
              "  </style>\n",
              "\n",
              "      <script>\n",
              "        const buttonEl =\n",
              "          document.querySelector('#df-5a519b17-d5ce-4399-bdfe-489c43910a69 button.colab-df-convert');\n",
              "        buttonEl.style.display =\n",
              "          google.colab.kernel.accessAllowed ? 'block' : 'none';\n",
              "\n",
              "        async function convertToInteractive(key) {\n",
              "          const element = document.querySelector('#df-5a519b17-d5ce-4399-bdfe-489c43910a69');\n",
              "          const dataTable =\n",
              "            await google.colab.kernel.invokeFunction('convertToInteractive',\n",
              "                                                     [key], {});\n",
              "          if (!dataTable) return;\n",
              "\n",
              "          const docLinkHtml = 'Like what you see? Visit the ' +\n",
              "            '<a target=\"_blank\" href=https://colab.research.google.com/notebooks/data_table.ipynb>data table notebook</a>'\n",
              "            + ' to learn more about interactive tables.';\n",
              "          element.innerHTML = '';\n",
              "          dataTable['output_type'] = 'display_data';\n",
              "          await google.colab.output.renderOutput(dataTable, element);\n",
              "          const docLink = document.createElement('div');\n",
              "          docLink.innerHTML = docLinkHtml;\n",
              "          element.appendChild(docLink);\n",
              "        }\n",
              "      </script>\n",
              "    </div>\n",
              "  </div>\n",
              "  "
            ]
          },
          "metadata": {},
          "execution_count": 4
        }
      ]
    },
    {
      "cell_type": "code",
      "source": [
        "data_df.columns"
      ],
      "metadata": {
        "colab": {
          "base_uri": "https://localhost:8080/"
        },
        "id": "WLJ-JEMhxmus",
        "outputId": "240efa69-b33d-4c2d-f781-f32bcad520f9"
      },
      "execution_count": 5,
      "outputs": [
        {
          "output_type": "execute_result",
          "data": {
            "text/plain": [
              "Index(['시군구', '번지', '본번', '부번', '단지명', '전용면적(㎡)', '계약년월', '계약일', '거래금액(만원)',\n",
              "       '층', '건축년도', '도로명', '해제사유발생일', '거래유형', '중개사소재지'],\n",
              "      dtype='object')"
            ]
          },
          "metadata": {},
          "execution_count": 5
        }
      ]
    },
    {
      "cell_type": "markdown",
      "source": [
        "##해제사유건 삭제"
      ],
      "metadata": {
        "id": "OXwG-9qJxhaH"
      }
    },
    {
      "cell_type": "code",
      "source": [
        "data_df = data_df.drop(index=data_df[data_df['해제사유발생일'].notnull()].index)"
      ],
      "metadata": {
        "id": "rivzGgRjxyZV"
      },
      "execution_count": 6,
      "outputs": []
    },
    {
      "cell_type": "code",
      "source": [
        "data_df[data_df['해제사유발생일'].notnull()]"
      ],
      "metadata": {
        "colab": {
          "base_uri": "https://localhost:8080/",
          "height": 49
        },
        "id": "_dLOEvIKyOUd",
        "outputId": "21afd7a3-3046-4523-86ae-4542cc4dc4a7"
      },
      "execution_count": 7,
      "outputs": [
        {
          "output_type": "execute_result",
          "data": {
            "text/plain": [
              "Empty DataFrame\n",
              "Columns: [시군구, 번지, 본번, 부번, 단지명, 전용면적(㎡), 계약년월, 계약일, 거래금액(만원), 층, 건축년도, 도로명, 해제사유발생일, 거래유형, 중개사소재지]\n",
              "Index: []"
            ],
            "text/html": [
              "\n",
              "  <div id=\"df-06f929ae-cdb9-488b-b5e0-7ffeee8be7da\">\n",
              "    <div class=\"colab-df-container\">\n",
              "      <div>\n",
              "<style scoped>\n",
              "    .dataframe tbody tr th:only-of-type {\n",
              "        vertical-align: middle;\n",
              "    }\n",
              "\n",
              "    .dataframe tbody tr th {\n",
              "        vertical-align: top;\n",
              "    }\n",
              "\n",
              "    .dataframe thead th {\n",
              "        text-align: right;\n",
              "    }\n",
              "</style>\n",
              "<table border=\"1\" class=\"dataframe\">\n",
              "  <thead>\n",
              "    <tr style=\"text-align: right;\">\n",
              "      <th></th>\n",
              "      <th>시군구</th>\n",
              "      <th>번지</th>\n",
              "      <th>본번</th>\n",
              "      <th>부번</th>\n",
              "      <th>단지명</th>\n",
              "      <th>전용면적(㎡)</th>\n",
              "      <th>계약년월</th>\n",
              "      <th>계약일</th>\n",
              "      <th>거래금액(만원)</th>\n",
              "      <th>층</th>\n",
              "      <th>건축년도</th>\n",
              "      <th>도로명</th>\n",
              "      <th>해제사유발생일</th>\n",
              "      <th>거래유형</th>\n",
              "      <th>중개사소재지</th>\n",
              "    </tr>\n",
              "  </thead>\n",
              "  <tbody>\n",
              "  </tbody>\n",
              "</table>\n",
              "</div>\n",
              "      <button class=\"colab-df-convert\" onclick=\"convertToInteractive('df-06f929ae-cdb9-488b-b5e0-7ffeee8be7da')\"\n",
              "              title=\"Convert this dataframe to an interactive table.\"\n",
              "              style=\"display:none;\">\n",
              "        \n",
              "  <svg xmlns=\"http://www.w3.org/2000/svg\" height=\"24px\"viewBox=\"0 0 24 24\"\n",
              "       width=\"24px\">\n",
              "    <path d=\"M0 0h24v24H0V0z\" fill=\"none\"/>\n",
              "    <path d=\"M18.56 5.44l.94 2.06.94-2.06 2.06-.94-2.06-.94-.94-2.06-.94 2.06-2.06.94zm-11 1L8.5 8.5l.94-2.06 2.06-.94-2.06-.94L8.5 2.5l-.94 2.06-2.06.94zm10 10l.94 2.06.94-2.06 2.06-.94-2.06-.94-.94-2.06-.94 2.06-2.06.94z\"/><path d=\"M17.41 7.96l-1.37-1.37c-.4-.4-.92-.59-1.43-.59-.52 0-1.04.2-1.43.59L10.3 9.45l-7.72 7.72c-.78.78-.78 2.05 0 2.83L4 21.41c.39.39.9.59 1.41.59.51 0 1.02-.2 1.41-.59l7.78-7.78 2.81-2.81c.8-.78.8-2.07 0-2.86zM5.41 20L4 18.59l7.72-7.72 1.47 1.35L5.41 20z\"/>\n",
              "  </svg>\n",
              "      </button>\n",
              "      \n",
              "  <style>\n",
              "    .colab-df-container {\n",
              "      display:flex;\n",
              "      flex-wrap:wrap;\n",
              "      gap: 12px;\n",
              "    }\n",
              "\n",
              "    .colab-df-convert {\n",
              "      background-color: #E8F0FE;\n",
              "      border: none;\n",
              "      border-radius: 50%;\n",
              "      cursor: pointer;\n",
              "      display: none;\n",
              "      fill: #1967D2;\n",
              "      height: 32px;\n",
              "      padding: 0 0 0 0;\n",
              "      width: 32px;\n",
              "    }\n",
              "\n",
              "    .colab-df-convert:hover {\n",
              "      background-color: #E2EBFA;\n",
              "      box-shadow: 0px 1px 2px rgba(60, 64, 67, 0.3), 0px 1px 3px 1px rgba(60, 64, 67, 0.15);\n",
              "      fill: #174EA6;\n",
              "    }\n",
              "\n",
              "    [theme=dark] .colab-df-convert {\n",
              "      background-color: #3B4455;\n",
              "      fill: #D2E3FC;\n",
              "    }\n",
              "\n",
              "    [theme=dark] .colab-df-convert:hover {\n",
              "      background-color: #434B5C;\n",
              "      box-shadow: 0px 1px 3px 1px rgba(0, 0, 0, 0.15);\n",
              "      filter: drop-shadow(0px 1px 2px rgba(0, 0, 0, 0.3));\n",
              "      fill: #FFFFFF;\n",
              "    }\n",
              "  </style>\n",
              "\n",
              "      <script>\n",
              "        const buttonEl =\n",
              "          document.querySelector('#df-06f929ae-cdb9-488b-b5e0-7ffeee8be7da button.colab-df-convert');\n",
              "        buttonEl.style.display =\n",
              "          google.colab.kernel.accessAllowed ? 'block' : 'none';\n",
              "\n",
              "        async function convertToInteractive(key) {\n",
              "          const element = document.querySelector('#df-06f929ae-cdb9-488b-b5e0-7ffeee8be7da');\n",
              "          const dataTable =\n",
              "            await google.colab.kernel.invokeFunction('convertToInteractive',\n",
              "                                                     [key], {});\n",
              "          if (!dataTable) return;\n",
              "\n",
              "          const docLinkHtml = 'Like what you see? Visit the ' +\n",
              "            '<a target=\"_blank\" href=https://colab.research.google.com/notebooks/data_table.ipynb>data table notebook</a>'\n",
              "            + ' to learn more about interactive tables.';\n",
              "          element.innerHTML = '';\n",
              "          dataTable['output_type'] = 'display_data';\n",
              "          await google.colab.output.renderOutput(dataTable, element);\n",
              "          const docLink = document.createElement('div');\n",
              "          docLink.innerHTML = docLinkHtml;\n",
              "          element.appendChild(docLink);\n",
              "        }\n",
              "      </script>\n",
              "    </div>\n",
              "  </div>\n",
              "  "
            ]
          },
          "metadata": {},
          "execution_count": 7
        }
      ]
    },
    {
      "cell_type": "markdown",
      "source": [
        "##필요 컬럼만 사용과 단위 처리"
      ],
      "metadata": {
        "id": "SSl4VdGey0Y2"
      }
    },
    {
      "cell_type": "code",
      "source": [
        "columns = ['시군구', '전용면적(㎡)', '거래금액(만원)', '층', '건축년도']\n",
        "contents_df = data_df[columns].copy()\n",
        "contents_df.head()"
      ],
      "metadata": {
        "colab": {
          "base_uri": "https://localhost:8080/",
          "height": 206
        },
        "id": "uakbr5M7y7vM",
        "outputId": "9bd927e0-f3cc-4d5e-fdda-5bea12bf5bdc"
      },
      "execution_count": 8,
      "outputs": [
        {
          "output_type": "execute_result",
          "data": {
            "text/plain": [
              "           시군구  전용면적(㎡) 거래금액(만원)   층  건축년도\n",
              "0  강원도 강릉시 견소동   39.080   16,000  10  1997\n",
              "1  강원도 강릉시 견소동   84.945   26,700  13  1997\n",
              "2  강원도 강릉시 견소동   84.990   33,800  14  2005\n",
              "3  강원도 강릉시 견소동   84.990   33,700   3  2005\n",
              "4  강원도 강릉시 견소동   84.990   30,000   2  2005"
            ],
            "text/html": [
              "\n",
              "  <div id=\"df-74f5460e-3c9c-4cd7-bc7c-fd15ee4f53e6\">\n",
              "    <div class=\"colab-df-container\">\n",
              "      <div>\n",
              "<style scoped>\n",
              "    .dataframe tbody tr th:only-of-type {\n",
              "        vertical-align: middle;\n",
              "    }\n",
              "\n",
              "    .dataframe tbody tr th {\n",
              "        vertical-align: top;\n",
              "    }\n",
              "\n",
              "    .dataframe thead th {\n",
              "        text-align: right;\n",
              "    }\n",
              "</style>\n",
              "<table border=\"1\" class=\"dataframe\">\n",
              "  <thead>\n",
              "    <tr style=\"text-align: right;\">\n",
              "      <th></th>\n",
              "      <th>시군구</th>\n",
              "      <th>전용면적(㎡)</th>\n",
              "      <th>거래금액(만원)</th>\n",
              "      <th>층</th>\n",
              "      <th>건축년도</th>\n",
              "    </tr>\n",
              "  </thead>\n",
              "  <tbody>\n",
              "    <tr>\n",
              "      <th>0</th>\n",
              "      <td>강원도 강릉시 견소동</td>\n",
              "      <td>39.080</td>\n",
              "      <td>16,000</td>\n",
              "      <td>10</td>\n",
              "      <td>1997</td>\n",
              "    </tr>\n",
              "    <tr>\n",
              "      <th>1</th>\n",
              "      <td>강원도 강릉시 견소동</td>\n",
              "      <td>84.945</td>\n",
              "      <td>26,700</td>\n",
              "      <td>13</td>\n",
              "      <td>1997</td>\n",
              "    </tr>\n",
              "    <tr>\n",
              "      <th>2</th>\n",
              "      <td>강원도 강릉시 견소동</td>\n",
              "      <td>84.990</td>\n",
              "      <td>33,800</td>\n",
              "      <td>14</td>\n",
              "      <td>2005</td>\n",
              "    </tr>\n",
              "    <tr>\n",
              "      <th>3</th>\n",
              "      <td>강원도 강릉시 견소동</td>\n",
              "      <td>84.990</td>\n",
              "      <td>33,700</td>\n",
              "      <td>3</td>\n",
              "      <td>2005</td>\n",
              "    </tr>\n",
              "    <tr>\n",
              "      <th>4</th>\n",
              "      <td>강원도 강릉시 견소동</td>\n",
              "      <td>84.990</td>\n",
              "      <td>30,000</td>\n",
              "      <td>2</td>\n",
              "      <td>2005</td>\n",
              "    </tr>\n",
              "  </tbody>\n",
              "</table>\n",
              "</div>\n",
              "      <button class=\"colab-df-convert\" onclick=\"convertToInteractive('df-74f5460e-3c9c-4cd7-bc7c-fd15ee4f53e6')\"\n",
              "              title=\"Convert this dataframe to an interactive table.\"\n",
              "              style=\"display:none;\">\n",
              "        \n",
              "  <svg xmlns=\"http://www.w3.org/2000/svg\" height=\"24px\"viewBox=\"0 0 24 24\"\n",
              "       width=\"24px\">\n",
              "    <path d=\"M0 0h24v24H0V0z\" fill=\"none\"/>\n",
              "    <path d=\"M18.56 5.44l.94 2.06.94-2.06 2.06-.94-2.06-.94-.94-2.06-.94 2.06-2.06.94zm-11 1L8.5 8.5l.94-2.06 2.06-.94-2.06-.94L8.5 2.5l-.94 2.06-2.06.94zm10 10l.94 2.06.94-2.06 2.06-.94-2.06-.94-.94-2.06-.94 2.06-2.06.94z\"/><path d=\"M17.41 7.96l-1.37-1.37c-.4-.4-.92-.59-1.43-.59-.52 0-1.04.2-1.43.59L10.3 9.45l-7.72 7.72c-.78.78-.78 2.05 0 2.83L4 21.41c.39.39.9.59 1.41.59.51 0 1.02-.2 1.41-.59l7.78-7.78 2.81-2.81c.8-.78.8-2.07 0-2.86zM5.41 20L4 18.59l7.72-7.72 1.47 1.35L5.41 20z\"/>\n",
              "  </svg>\n",
              "      </button>\n",
              "      \n",
              "  <style>\n",
              "    .colab-df-container {\n",
              "      display:flex;\n",
              "      flex-wrap:wrap;\n",
              "      gap: 12px;\n",
              "    }\n",
              "\n",
              "    .colab-df-convert {\n",
              "      background-color: #E8F0FE;\n",
              "      border: none;\n",
              "      border-radius: 50%;\n",
              "      cursor: pointer;\n",
              "      display: none;\n",
              "      fill: #1967D2;\n",
              "      height: 32px;\n",
              "      padding: 0 0 0 0;\n",
              "      width: 32px;\n",
              "    }\n",
              "\n",
              "    .colab-df-convert:hover {\n",
              "      background-color: #E2EBFA;\n",
              "      box-shadow: 0px 1px 2px rgba(60, 64, 67, 0.3), 0px 1px 3px 1px rgba(60, 64, 67, 0.15);\n",
              "      fill: #174EA6;\n",
              "    }\n",
              "\n",
              "    [theme=dark] .colab-df-convert {\n",
              "      background-color: #3B4455;\n",
              "      fill: #D2E3FC;\n",
              "    }\n",
              "\n",
              "    [theme=dark] .colab-df-convert:hover {\n",
              "      background-color: #434B5C;\n",
              "      box-shadow: 0px 1px 3px 1px rgba(0, 0, 0, 0.15);\n",
              "      filter: drop-shadow(0px 1px 2px rgba(0, 0, 0, 0.3));\n",
              "      fill: #FFFFFF;\n",
              "    }\n",
              "  </style>\n",
              "\n",
              "      <script>\n",
              "        const buttonEl =\n",
              "          document.querySelector('#df-74f5460e-3c9c-4cd7-bc7c-fd15ee4f53e6 button.colab-df-convert');\n",
              "        buttonEl.style.display =\n",
              "          google.colab.kernel.accessAllowed ? 'block' : 'none';\n",
              "\n",
              "        async function convertToInteractive(key) {\n",
              "          const element = document.querySelector('#df-74f5460e-3c9c-4cd7-bc7c-fd15ee4f53e6');\n",
              "          const dataTable =\n",
              "            await google.colab.kernel.invokeFunction('convertToInteractive',\n",
              "                                                     [key], {});\n",
              "          if (!dataTable) return;\n",
              "\n",
              "          const docLinkHtml = 'Like what you see? Visit the ' +\n",
              "            '<a target=\"_blank\" href=https://colab.research.google.com/notebooks/data_table.ipynb>data table notebook</a>'\n",
              "            + ' to learn more about interactive tables.';\n",
              "          element.innerHTML = '';\n",
              "          dataTable['output_type'] = 'display_data';\n",
              "          await google.colab.output.renderOutput(dataTable, element);\n",
              "          const docLink = document.createElement('div');\n",
              "          docLink.innerHTML = docLinkHtml;\n",
              "          element.appendChild(docLink);\n",
              "        }\n",
              "      </script>\n",
              "    </div>\n",
              "  </div>\n",
              "  "
            ]
          },
          "metadata": {},
          "execution_count": 8
        }
      ]
    },
    {
      "cell_type": "code",
      "source": [
        "contents_df.dtypes"
      ],
      "metadata": {
        "colab": {
          "base_uri": "https://localhost:8080/"
        },
        "id": "dGb0t3Et21kH",
        "outputId": "8f36a31f-146f-4212-95f9-0d5d66475f50"
      },
      "execution_count": 9,
      "outputs": [
        {
          "output_type": "execute_result",
          "data": {
            "text/plain": [
              "시군구          object\n",
              "전용면적(㎡)     float64\n",
              "거래금액(만원)     object\n",
              "층             int64\n",
              "건축년도          int64\n",
              "dtype: object"
            ]
          },
          "metadata": {},
          "execution_count": 9
        }
      ]
    },
    {
      "cell_type": "code",
      "source": [
        "contents_df['전용면적'] = contents_df['전용면적(㎡)'].astype('int32')"
      ],
      "metadata": {
        "id": "Yz1JTEj81fvq"
      },
      "execution_count": 10,
      "outputs": []
    },
    {
      "cell_type": "code",
      "source": [
        "contents_df['거래금액'] = contents_df['거래금액(만원)'].str.replace(',','').astype('int64')"
      ],
      "metadata": {
        "id": "2osDmZQp2xX3"
      },
      "execution_count": 11,
      "outputs": []
    },
    {
      "cell_type": "markdown",
      "source": [
        "##관심 지역 매매가 분석"
      ],
      "metadata": {
        "id": "HlT0Ko7V0NhF"
      }
    },
    {
      "cell_type": "code",
      "source": [
        "contents_df['시도'] = contents_df['시군구'].str.split(' ').str[0]\n",
        "contents_df['시도'].nunique(), contents_df['시도'].unique(), "
      ],
      "metadata": {
        "id": "4U3rlSI5_qxN",
        "colab": {
          "base_uri": "https://localhost:8080/"
        },
        "outputId": "8933f4b0-b197-4f72-bcf3-6ede9ee598e9"
      },
      "execution_count": 12,
      "outputs": [
        {
          "output_type": "execute_result",
          "data": {
            "text/plain": [
              "(17, array(['강원도', '경기도', '경상남도', '경상북도', '광주광역시', '대구광역시', '대전광역시', '부산광역시',\n",
              "        '서울특별시', '세종특별자치시', '울산광역시', '인천광역시', '전라남도', '전라북도', '제주특별자치도',\n",
              "        '충청남도', '충청북도'], dtype=object))"
            ]
          },
          "metadata": {},
          "execution_count": 12
        }
      ]
    },
    {
      "cell_type": "code",
      "source": [
        "area = '서울특별시'\n",
        "square_size = 84\n",
        "condition = (contents_df['시도'] == area) & (contents_df['전용면적'] == square_size)\n",
        "curious_area = contents_df[condition].copy()\n",
        "curious_area"
      ],
      "metadata": {
        "id": "avESyR9bujkz",
        "outputId": "0b580c5b-3f14-42f7-e960-dca47d0cf7dc",
        "colab": {
          "base_uri": "https://localhost:8080/",
          "height": 424
        }
      },
      "execution_count": 13,
      "outputs": [
        {
          "output_type": "execute_result",
          "data": {
            "text/plain": [
              "                 시군구  전용면적(㎡) 거래금액(만원)   층  건축년도  전용면적    거래금액     시도\n",
              "19262  서울특별시 강남구 논현동  84.9400  172,500   2  2004    84  172500  서울특별시\n",
              "19273  서울특별시 강남구 대치동  84.4300  277,000  13  1979    84  277000  서울특별시\n",
              "19283  서울특별시 강남구 도곡동  84.9984  313,000   3  2006    84  313000  서울특별시\n",
              "19287  서울특별시 강남구 도곡동  84.8300  225,000  11  1986    84  225000  서울특별시\n",
              "19291  서울특별시 강남구 도곡동  84.9700  235,500   7  1995    84  235500  서울특별시\n",
              "...              ...      ...      ...  ..   ...   ...     ...    ...\n",
              "20875  서울특별시 중랑구 면목동  84.0900   75,000   3  1994    84   75000  서울특별시\n",
              "20879   서울특별시 중랑구 묵동  84.0800   76,000   5  1999    84   76000  서울특별시\n",
              "20885   서울특별시 중랑구 묵동  84.8900   82,000   9  1998    84   82000  서울특별시\n",
              "21030  서울특별시 중랑구 신내동  84.9700   68,500   5  1996    84   68500  서울특별시\n",
              "21034  서울특별시 중랑구 중화동  84.8200   83,000   7  2004    84   83000  서울특별시\n",
              "\n",
              "[371 rows x 8 columns]"
            ],
            "text/html": [
              "\n",
              "  <div id=\"df-57dfcf87-55bd-4410-a2bc-8c4abb122580\">\n",
              "    <div class=\"colab-df-container\">\n",
              "      <div>\n",
              "<style scoped>\n",
              "    .dataframe tbody tr th:only-of-type {\n",
              "        vertical-align: middle;\n",
              "    }\n",
              "\n",
              "    .dataframe tbody tr th {\n",
              "        vertical-align: top;\n",
              "    }\n",
              "\n",
              "    .dataframe thead th {\n",
              "        text-align: right;\n",
              "    }\n",
              "</style>\n",
              "<table border=\"1\" class=\"dataframe\">\n",
              "  <thead>\n",
              "    <tr style=\"text-align: right;\">\n",
              "      <th></th>\n",
              "      <th>시군구</th>\n",
              "      <th>전용면적(㎡)</th>\n",
              "      <th>거래금액(만원)</th>\n",
              "      <th>층</th>\n",
              "      <th>건축년도</th>\n",
              "      <th>전용면적</th>\n",
              "      <th>거래금액</th>\n",
              "      <th>시도</th>\n",
              "    </tr>\n",
              "  </thead>\n",
              "  <tbody>\n",
              "    <tr>\n",
              "      <th>19262</th>\n",
              "      <td>서울특별시 강남구 논현동</td>\n",
              "      <td>84.9400</td>\n",
              "      <td>172,500</td>\n",
              "      <td>2</td>\n",
              "      <td>2004</td>\n",
              "      <td>84</td>\n",
              "      <td>172500</td>\n",
              "      <td>서울특별시</td>\n",
              "    </tr>\n",
              "    <tr>\n",
              "      <th>19273</th>\n",
              "      <td>서울특별시 강남구 대치동</td>\n",
              "      <td>84.4300</td>\n",
              "      <td>277,000</td>\n",
              "      <td>13</td>\n",
              "      <td>1979</td>\n",
              "      <td>84</td>\n",
              "      <td>277000</td>\n",
              "      <td>서울특별시</td>\n",
              "    </tr>\n",
              "    <tr>\n",
              "      <th>19283</th>\n",
              "      <td>서울특별시 강남구 도곡동</td>\n",
              "      <td>84.9984</td>\n",
              "      <td>313,000</td>\n",
              "      <td>3</td>\n",
              "      <td>2006</td>\n",
              "      <td>84</td>\n",
              "      <td>313000</td>\n",
              "      <td>서울특별시</td>\n",
              "    </tr>\n",
              "    <tr>\n",
              "      <th>19287</th>\n",
              "      <td>서울특별시 강남구 도곡동</td>\n",
              "      <td>84.8300</td>\n",
              "      <td>225,000</td>\n",
              "      <td>11</td>\n",
              "      <td>1986</td>\n",
              "      <td>84</td>\n",
              "      <td>225000</td>\n",
              "      <td>서울특별시</td>\n",
              "    </tr>\n",
              "    <tr>\n",
              "      <th>19291</th>\n",
              "      <td>서울특별시 강남구 도곡동</td>\n",
              "      <td>84.9700</td>\n",
              "      <td>235,500</td>\n",
              "      <td>7</td>\n",
              "      <td>1995</td>\n",
              "      <td>84</td>\n",
              "      <td>235500</td>\n",
              "      <td>서울특별시</td>\n",
              "    </tr>\n",
              "    <tr>\n",
              "      <th>...</th>\n",
              "      <td>...</td>\n",
              "      <td>...</td>\n",
              "      <td>...</td>\n",
              "      <td>...</td>\n",
              "      <td>...</td>\n",
              "      <td>...</td>\n",
              "      <td>...</td>\n",
              "      <td>...</td>\n",
              "    </tr>\n",
              "    <tr>\n",
              "      <th>20875</th>\n",
              "      <td>서울특별시 중랑구 면목동</td>\n",
              "      <td>84.0900</td>\n",
              "      <td>75,000</td>\n",
              "      <td>3</td>\n",
              "      <td>1994</td>\n",
              "      <td>84</td>\n",
              "      <td>75000</td>\n",
              "      <td>서울특별시</td>\n",
              "    </tr>\n",
              "    <tr>\n",
              "      <th>20879</th>\n",
              "      <td>서울특별시 중랑구 묵동</td>\n",
              "      <td>84.0800</td>\n",
              "      <td>76,000</td>\n",
              "      <td>5</td>\n",
              "      <td>1999</td>\n",
              "      <td>84</td>\n",
              "      <td>76000</td>\n",
              "      <td>서울특별시</td>\n",
              "    </tr>\n",
              "    <tr>\n",
              "      <th>20885</th>\n",
              "      <td>서울특별시 중랑구 묵동</td>\n",
              "      <td>84.8900</td>\n",
              "      <td>82,000</td>\n",
              "      <td>9</td>\n",
              "      <td>1998</td>\n",
              "      <td>84</td>\n",
              "      <td>82000</td>\n",
              "      <td>서울특별시</td>\n",
              "    </tr>\n",
              "    <tr>\n",
              "      <th>21030</th>\n",
              "      <td>서울특별시 중랑구 신내동</td>\n",
              "      <td>84.9700</td>\n",
              "      <td>68,500</td>\n",
              "      <td>5</td>\n",
              "      <td>1996</td>\n",
              "      <td>84</td>\n",
              "      <td>68500</td>\n",
              "      <td>서울특별시</td>\n",
              "    </tr>\n",
              "    <tr>\n",
              "      <th>21034</th>\n",
              "      <td>서울특별시 중랑구 중화동</td>\n",
              "      <td>84.8200</td>\n",
              "      <td>83,000</td>\n",
              "      <td>7</td>\n",
              "      <td>2004</td>\n",
              "      <td>84</td>\n",
              "      <td>83000</td>\n",
              "      <td>서울특별시</td>\n",
              "    </tr>\n",
              "  </tbody>\n",
              "</table>\n",
              "<p>371 rows × 8 columns</p>\n",
              "</div>\n",
              "      <button class=\"colab-df-convert\" onclick=\"convertToInteractive('df-57dfcf87-55bd-4410-a2bc-8c4abb122580')\"\n",
              "              title=\"Convert this dataframe to an interactive table.\"\n",
              "              style=\"display:none;\">\n",
              "        \n",
              "  <svg xmlns=\"http://www.w3.org/2000/svg\" height=\"24px\"viewBox=\"0 0 24 24\"\n",
              "       width=\"24px\">\n",
              "    <path d=\"M0 0h24v24H0V0z\" fill=\"none\"/>\n",
              "    <path d=\"M18.56 5.44l.94 2.06.94-2.06 2.06-.94-2.06-.94-.94-2.06-.94 2.06-2.06.94zm-11 1L8.5 8.5l.94-2.06 2.06-.94-2.06-.94L8.5 2.5l-.94 2.06-2.06.94zm10 10l.94 2.06.94-2.06 2.06-.94-2.06-.94-.94-2.06-.94 2.06-2.06.94z\"/><path d=\"M17.41 7.96l-1.37-1.37c-.4-.4-.92-.59-1.43-.59-.52 0-1.04.2-1.43.59L10.3 9.45l-7.72 7.72c-.78.78-.78 2.05 0 2.83L4 21.41c.39.39.9.59 1.41.59.51 0 1.02-.2 1.41-.59l7.78-7.78 2.81-2.81c.8-.78.8-2.07 0-2.86zM5.41 20L4 18.59l7.72-7.72 1.47 1.35L5.41 20z\"/>\n",
              "  </svg>\n",
              "      </button>\n",
              "      \n",
              "  <style>\n",
              "    .colab-df-container {\n",
              "      display:flex;\n",
              "      flex-wrap:wrap;\n",
              "      gap: 12px;\n",
              "    }\n",
              "\n",
              "    .colab-df-convert {\n",
              "      background-color: #E8F0FE;\n",
              "      border: none;\n",
              "      border-radius: 50%;\n",
              "      cursor: pointer;\n",
              "      display: none;\n",
              "      fill: #1967D2;\n",
              "      height: 32px;\n",
              "      padding: 0 0 0 0;\n",
              "      width: 32px;\n",
              "    }\n",
              "\n",
              "    .colab-df-convert:hover {\n",
              "      background-color: #E2EBFA;\n",
              "      box-shadow: 0px 1px 2px rgba(60, 64, 67, 0.3), 0px 1px 3px 1px rgba(60, 64, 67, 0.15);\n",
              "      fill: #174EA6;\n",
              "    }\n",
              "\n",
              "    [theme=dark] .colab-df-convert {\n",
              "      background-color: #3B4455;\n",
              "      fill: #D2E3FC;\n",
              "    }\n",
              "\n",
              "    [theme=dark] .colab-df-convert:hover {\n",
              "      background-color: #434B5C;\n",
              "      box-shadow: 0px 1px 3px 1px rgba(0, 0, 0, 0.15);\n",
              "      filter: drop-shadow(0px 1px 2px rgba(0, 0, 0, 0.3));\n",
              "      fill: #FFFFFF;\n",
              "    }\n",
              "  </style>\n",
              "\n",
              "      <script>\n",
              "        const buttonEl =\n",
              "          document.querySelector('#df-57dfcf87-55bd-4410-a2bc-8c4abb122580 button.colab-df-convert');\n",
              "        buttonEl.style.display =\n",
              "          google.colab.kernel.accessAllowed ? 'block' : 'none';\n",
              "\n",
              "        async function convertToInteractive(key) {\n",
              "          const element = document.querySelector('#df-57dfcf87-55bd-4410-a2bc-8c4abb122580');\n",
              "          const dataTable =\n",
              "            await google.colab.kernel.invokeFunction('convertToInteractive',\n",
              "                                                     [key], {});\n",
              "          if (!dataTable) return;\n",
              "\n",
              "          const docLinkHtml = 'Like what you see? Visit the ' +\n",
              "            '<a target=\"_blank\" href=https://colab.research.google.com/notebooks/data_table.ipynb>data table notebook</a>'\n",
              "            + ' to learn more about interactive tables.';\n",
              "          element.innerHTML = '';\n",
              "          dataTable['output_type'] = 'display_data';\n",
              "          await google.colab.output.renderOutput(dataTable, element);\n",
              "          const docLink = document.createElement('div');\n",
              "          docLink.innerHTML = docLinkHtml;\n",
              "          element.appendChild(docLink);\n",
              "        }\n",
              "      </script>\n",
              "    </div>\n",
              "  </div>\n",
              "  "
            ]
          },
          "metadata": {},
          "execution_count": 13
        }
      ]
    },
    {
      "cell_type": "code",
      "source": [
        "curious_area['구'] = curious_area['시군구'].str.split(' ').str[1]\n",
        "curious_area['구'].unique()"
      ],
      "metadata": {
        "id": "ErqXt37WvcVS",
        "outputId": "ae1c30db-5f57-4b49-f6d9-5f8f9844153e",
        "colab": {
          "base_uri": "https://localhost:8080/"
        }
      },
      "execution_count": 14,
      "outputs": [
        {
          "output_type": "execute_result",
          "data": {
            "text/plain": [
              "array(['강남구', '강동구', '강북구', '강서구', '관악구', '광진구', '구로구', '금천구', '노원구',\n",
              "       '도봉구', '동대문구', '동작구', '마포구', '서대문구', '서초구', '성동구', '성북구', '송파구',\n",
              "       '양천구', '영등포구', '용산구', '은평구', '종로구', '중구', '중랑구'], dtype=object)"
            ]
          },
          "metadata": {},
          "execution_count": 14
        }
      ]
    },
    {
      "cell_type": "markdown",
      "source": [
        "###박스플롯 시각화\n",
        "\n"
      ],
      "metadata": {
        "id": "_6uZgse75B7D"
      }
    },
    {
      "cell_type": "code",
      "source": [
        "!sudo apt-get install -y fonts-nanum\n",
        "!sudo fc-cache -fv\n",
        "!rm ~/.cache/matplotlib -rf"
      ],
      "metadata": {
        "colab": {
          "base_uri": "https://localhost:8080/"
        },
        "id": "JeL5XfXl4HKx",
        "outputId": "6ca6cc36-4f5c-47d7-bdc4-d2d821c44cf9"
      },
      "execution_count": 15,
      "outputs": [
        {
          "output_type": "stream",
          "name": "stdout",
          "text": [
            "Reading package lists... Done\n",
            "Building dependency tree       \n",
            "Reading state information... Done\n",
            "fonts-nanum is already the newest version (20170925-1).\n",
            "The following package was automatically installed and is no longer required:\n",
            "  libnvidia-common-460\n",
            "Use 'sudo apt autoremove' to remove it.\n",
            "0 upgraded, 0 newly installed, 0 to remove and 62 not upgraded.\n",
            "/usr/share/fonts: caching, new cache contents: 0 fonts, 1 dirs\n",
            "/usr/share/fonts/truetype: caching, new cache contents: 0 fonts, 3 dirs\n",
            "/usr/share/fonts/truetype/humor-sans: caching, new cache contents: 1 fonts, 0 dirs\n",
            "/usr/share/fonts/truetype/liberation: caching, new cache contents: 16 fonts, 0 dirs\n",
            "/usr/share/fonts/truetype/nanum: caching, new cache contents: 10 fonts, 0 dirs\n",
            "/usr/local/share/fonts: caching, new cache contents: 0 fonts, 0 dirs\n",
            "/root/.local/share/fonts: skipping, no such directory\n",
            "/root/.fonts: skipping, no such directory\n",
            "/var/cache/fontconfig: cleaning cache directory\n",
            "/root/.cache/fontconfig: not cleaning non-existent cache directory\n",
            "/root/.fontconfig: not cleaning non-existent cache directory\n",
            "fc-cache: succeeded\n"
          ]
        }
      ]
    },
    {
      "cell_type": "code",
      "source": [
        "import matplotlib.pyplot as plt\n",
        "plt.rc('font', family='NanumBarunGothic') "
      ],
      "metadata": {
        "id": "QSJCNCKe5da7"
      },
      "execution_count": 16,
      "outputs": []
    },
    {
      "cell_type": "code",
      "source": [
        "gu_names_list = curious_area['구'].unique()"
      ],
      "metadata": {
        "id": "2X61KRfV7Lni"
      },
      "execution_count": 17,
      "outputs": []
    },
    {
      "cell_type": "code",
      "source": [
        "gus_list = list()\n",
        "for gu_name in gu_names_list:\n",
        "  gus_list.append(curious_area.groupby('구')['거래금액'].get_group(gu_name))"
      ],
      "metadata": {
        "id": "oelV6YXp5yEq"
      },
      "execution_count": 18,
      "outputs": []
    },
    {
      "cell_type": "code",
      "source": [
        "len(gus_list), type(gus_list[0]), gus_list[0]"
      ],
      "metadata": {
        "id": "nlKEWBd5xokM",
        "outputId": "97e73ca5-0693-4b8b-e07f-5e5ca68cf47f",
        "colab": {
          "base_uri": "https://localhost:8080/"
        }
      },
      "execution_count": 19,
      "outputs": [
        {
          "output_type": "execute_result",
          "data": {
            "text/plain": [
              "(25, pandas.core.series.Series, 19262    172500\n",
              " 19273    277000\n",
              " 19283    313000\n",
              " 19287    225000\n",
              " 19291    235500\n",
              " 19299    270000\n",
              " 19303    275000\n",
              " 19304    275000\n",
              " 19307    187000\n",
              " 19313    264000\n",
              " 19315    201000\n",
              " 19318    186500\n",
              " 19322    103000\n",
              " 19325    430000\n",
              " 19329    250000\n",
              " 19338    230000\n",
              " 19343    180000\n",
              " 19344    159000\n",
              " 19348    245000\n",
              " 19350    288000\n",
              " Name: 거래금액, dtype: int64)"
            ]
          },
          "metadata": {},
          "execution_count": 19
        }
      ]
    },
    {
      "cell_type": "code",
      "source": [
        "plt.rcParams['figure.figsize'] = (15,5)\n",
        "plt.boxplot(gus_list, labels=gu_names_list, showmeans=True)\n",
        "plt.xticks(rotation=45)\n",
        "plt.ylabel('매매가(만원)')\n",
        "plt.title('특정 지역 분석')\n",
        "plt.show()"
      ],
      "metadata": {
        "id": "ckJTjrFAx9gq",
        "outputId": "2b4cfaa9-1471-4424-c0b8-2ff58fe3ce7b",
        "colab": {
          "base_uri": "https://localhost:8080/",
          "height": 413
        }
      },
      "execution_count": 20,
      "outputs": [
        {
          "output_type": "stream",
          "name": "stderr",
          "text": [
            "/usr/local/lib/python3.7/dist-packages/matplotlib/cbook/__init__.py:1376: VisibleDeprecationWarning: Creating an ndarray from ragged nested sequences (which is a list-or-tuple of lists-or-tuples-or ndarrays with different lengths or shapes) is deprecated. If you meant to do this, you must specify 'dtype=object' when creating the ndarray.\n",
            "  X = np.atleast_1d(X.T if isinstance(X, np.ndarray) else np.asarray(X))\n"
          ]
        },
        {
          "output_type": "display_data",
          "data": {
            "text/plain": [
              "<Figure size 1080x360 with 1 Axes>"
            ],
            "image/png": "[encoded data removed]"
          },
          "metadata": {
            "needs_background": "light"
          }
        }
      ]
    },
    {
      "cell_type": "markdown",
      "source": [
        "##평균 매매가, 거래건수"
      ],
      "metadata": {
        "id": "2OrmVP9E0N4M"
      }
    },
    {
      "cell_type": "code",
      "source": [
        "curious_area_means = round(curious_area.groupby('구')['거래금액'].mean(), 1)\n",
        "curious_area_means"
      ],
      "metadata": {
        "id": "wcAoOPtyydf7",
        "outputId": "0754171e-8947-41e2-85b9-3e6a2990f590",
        "colab": {
          "base_uri": "https://localhost:8080/"
        }
      },
      "execution_count": 22,
      "outputs": [
        {
          "output_type": "execute_result",
          "data": {
            "text/plain": [
              "구\n",
              "강남구     238325.0\n",
              "강동구     126687.0\n",
              "강북구      79500.0\n",
              "강서구      93012.5\n",
              "관악구     100985.0\n",
              "광진구     151200.0\n",
              "구로구      86854.5\n",
              "금천구      82800.0\n",
              "노원구      81954.5\n",
              "도봉구      68876.3\n",
              "동대문구    104019.0\n",
              "동작구     112410.0\n",
              "마포구     132333.3\n",
              "서대문구    113550.0\n",
              "서초구     303615.8\n",
              "성동구     162478.3\n",
              "성북구      95677.3\n",
              "송파구     177272.7\n",
              "양천구     113681.8\n",
              "영등포구    133100.0\n",
              "용산구     157777.8\n",
              "은평구      85986.7\n",
              "종로구     148625.0\n",
              "중구      132500.0\n",
              "중랑구      84625.0\n",
              "Name: 거래금액, dtype: float64"
            ]
          },
          "metadata": {},
          "execution_count": 22
        }
      ]
    },
    {
      "cell_type": "code",
      "source": [
        "curious_area_counts = curious_area.groupby('구')['거래금액'].count()\n",
        "curious_area_counts.sort_values(ascending=False)"
      ],
      "metadata": {
        "id": "h3gujr_117pW",
        "outputId": "c06d1991-ce44-4376-b23c-4cd6c88cab57",
        "colab": {
          "base_uri": "https://localhost:8080/"
        }
      },
      "execution_count": 26,
      "outputs": [
        {
          "output_type": "execute_result",
          "data": {
            "text/plain": [
              "구\n",
              "성동구     23\n",
              "강동구     23\n",
              "송파구     22\n",
              "성북구     22\n",
              "구로구     22\n",
              "동대문구    21\n",
              "강남구     20\n",
              "동작구     20\n",
              "서초구     19\n",
              "도봉구     19\n",
              "서대문구    18\n",
              "마포구     18\n",
              "강서구     16\n",
              "은평구     15\n",
              "영등포구    12\n",
              "노원구     11\n",
              "광진구     11\n",
              "양천구     11\n",
              "관악구     10\n",
              "용산구      9\n",
              "중랑구      8\n",
              "금천구      7\n",
              "강북구      7\n",
              "종로구      4\n",
              "중구       3\n",
              "Name: 거래금액, dtype: int64"
            ]
          },
          "metadata": {},
          "execution_count": 26
        }
      ]
    },
    {
      "cell_type": "code",
      "source": [
        "curious_area_df = pd.concat([curious_area_means, curious_area_counts], axis=1)\n",
        "curious_area_df"
      ],
      "metadata": {
        "id": "hqY1MaSZ2Om2",
        "outputId": "32c82da6-e626-428d-bf2e-4e295b12ff20",
        "colab": {
          "base_uri": "https://localhost:8080/",
          "height": 865
        }
      },
      "execution_count": 29,
      "outputs": [
        {
          "output_type": "execute_result",
          "data": {
            "text/plain": [
              "          거래금액  거래금액\n",
              "구                   \n",
              "강남구   238325.0    20\n",
              "강동구   126687.0    23\n",
              "강북구    79500.0     7\n",
              "강서구    93012.5    16\n",
              "관악구   100985.0    10\n",
              "광진구   151200.0    11\n",
              "구로구    86854.5    22\n",
              "금천구    82800.0     7\n",
              "노원구    81954.5    11\n",
              "도봉구    68876.3    19\n",
              "동대문구  104019.0    21\n",
              "동작구   112410.0    20\n",
              "마포구   132333.3    18\n",
              "서대문구  113550.0    18\n",
              "서초구   303615.8    19\n",
              "성동구   162478.3    23\n",
              "성북구    95677.3    22\n",
              "송파구   177272.7    22\n",
              "양천구   113681.8    11\n",
              "영등포구  133100.0    12\n",
              "용산구   157777.8     9\n",
              "은평구    85986.7    15\n",
              "종로구   148625.0     4\n",
              "중구    132500.0     3\n",
              "중랑구    84625.0     8"
            ],
            "text/html": [
              "\n",
              "  <div id=\"df-9b0d01ea-4921-4cd7-a233-1db23dc80932\">\n",
              "    <div class=\"colab-df-container\">\n",
              "      <div>\n",
              "<style scoped>\n",
              "    .dataframe tbody tr th:only-of-type {\n",
              "        vertical-align: middle;\n",
              "    }\n",
              "\n",
              "    .dataframe tbody tr th {\n",
              "        vertical-align: top;\n",
              "    }\n",
              "\n",
              "    .dataframe thead th {\n",
              "        text-align: right;\n",
              "    }\n",
              "</style>\n",
              "<table border=\"1\" class=\"dataframe\">\n",
              "  <thead>\n",
              "    <tr style=\"text-align: right;\">\n",
              "      <th></th>\n",
              "      <th>거래금액</th>\n",
              "      <th>거래금액</th>\n",
              "    </tr>\n",
              "    <tr>\n",
              "      <th>구</th>\n",
              "      <th></th>\n",
              "      <th></th>\n",
              "    </tr>\n",
              "  </thead>\n",
              "  <tbody>\n",
              "    <tr>\n",
              "      <th>강남구</th>\n",
              "      <td>238325.0</td>\n",
              "      <td>20</td>\n",
              "    </tr>\n",
              "    <tr>\n",
              "      <th>강동구</th>\n",
              "      <td>126687.0</td>\n",
              "      <td>23</td>\n",
              "    </tr>\n",
              "    <tr>\n",
              "      <th>강북구</th>\n",
              "      <td>79500.0</td>\n",
              "      <td>7</td>\n",
              "    </tr>\n",
              "    <tr>\n",
              "      <th>강서구</th>\n",
              "      <td>93012.5</td>\n",
              "      <td>16</td>\n",
              "    </tr>\n",
              "    <tr>\n",
              "      <th>관악구</th>\n",
              "      <td>100985.0</td>\n",
              "      <td>10</td>\n",
              "    </tr>\n",
              "    <tr>\n",
              "      <th>광진구</th>\n",
              "      <td>151200.0</td>\n",
              "      <td>11</td>\n",
              "    </tr>\n",
              "    <tr>\n",
              "      <th>구로구</th>\n",
              "      <td>86854.5</td>\n",
              "      <td>22</td>\n",
              "    </tr>\n",
              "    <tr>\n",
              "      <th>금천구</th>\n",
              "      <td>82800.0</td>\n",
              "      <td>7</td>\n",
              "    </tr>\n",
              "    <tr>\n",
              "      <th>노원구</th>\n",
              "      <td>81954.5</td>\n",
              "      <td>11</td>\n",
              "    </tr>\n",
              "    <tr>\n",
              "      <th>도봉구</th>\n",
              "      <td>68876.3</td>\n",
              "      <td>19</td>\n",
              "    </tr>\n",
              "    <tr>\n",
              "      <th>동대문구</th>\n",
              "      <td>104019.0</td>\n",
              "      <td>21</td>\n",
              "    </tr>\n",
              "    <tr>\n",
              "      <th>동작구</th>\n",
              "      <td>112410.0</td>\n",
              "      <td>20</td>\n",
              "    </tr>\n",
              "    <tr>\n",
              "      <th>마포구</th>\n",
              "      <td>132333.3</td>\n",
              "      <td>18</td>\n",
              "    </tr>\n",
              "    <tr>\n",
              "      <th>서대문구</th>\n",
              "      <td>113550.0</td>\n",
              "      <td>18</td>\n",
              "    </tr>\n",
              "    <tr>\n",
              "      <th>서초구</th>\n",
              "      <td>303615.8</td>\n",
              "      <td>19</td>\n",
              "    </tr>\n",
              "    <tr>\n",
              "      <th>성동구</th>\n",
              "      <td>162478.3</td>\n",
              "      <td>23</td>\n",
              "    </tr>\n",
              "    <tr>\n",
              "      <th>성북구</th>\n",
              "      <td>95677.3</td>\n",
              "      <td>22</td>\n",
              "    </tr>\n",
              "    <tr>\n",
              "      <th>송파구</th>\n",
              "      <td>177272.7</td>\n",
              "      <td>22</td>\n",
              "    </tr>\n",
              "    <tr>\n",
              "      <th>양천구</th>\n",
              "      <td>113681.8</td>\n",
              "      <td>11</td>\n",
              "    </tr>\n",
              "    <tr>\n",
              "      <th>영등포구</th>\n",
              "      <td>133100.0</td>\n",
              "      <td>12</td>\n",
              "    </tr>\n",
              "    <tr>\n",
              "      <th>용산구</th>\n",
              "      <td>157777.8</td>\n",
              "      <td>9</td>\n",
              "    </tr>\n",
              "    <tr>\n",
              "      <th>은평구</th>\n",
              "      <td>85986.7</td>\n",
              "      <td>15</td>\n",
              "    </tr>\n",
              "    <tr>\n",
              "      <th>종로구</th>\n",
              "      <td>148625.0</td>\n",
              "      <td>4</td>\n",
              "    </tr>\n",
              "    <tr>\n",
              "      <th>중구</th>\n",
              "      <td>132500.0</td>\n",
              "      <td>3</td>\n",
              "    </tr>\n",
              "    <tr>\n",
              "      <th>중랑구</th>\n",
              "      <td>84625.0</td>\n",
              "      <td>8</td>\n",
              "    </tr>\n",
              "  </tbody>\n",
              "</table>\n",
              "</div>\n",
              "      <button class=\"colab-df-convert\" onclick=\"convertToInteractive('df-9b0d01ea-4921-4cd7-a233-1db23dc80932')\"\n",
              "              title=\"Convert this dataframe to an interactive table.\"\n",
              "              style=\"display:none;\">\n",
              "        \n",
              "  <svg xmlns=\"http://www.w3.org/2000/svg\" height=\"24px\"viewBox=\"0 0 24 24\"\n",
              "       width=\"24px\">\n",
              "    <path d=\"M0 0h24v24H0V0z\" fill=\"none\"/>\n",
              "    <path d=\"M18.56 5.44l.94 2.06.94-2.06 2.06-.94-2.06-.94-.94-2.06-.94 2.06-2.06.94zm-11 1L8.5 8.5l.94-2.06 2.06-.94-2.06-.94L8.5 2.5l-.94 2.06-2.06.94zm10 10l.94 2.06.94-2.06 2.06-.94-2.06-.94-.94-2.06-.94 2.06-2.06.94z\"/><path d=\"M17.41 7.96l-1.37-1.37c-.4-.4-.92-.59-1.43-.59-.52 0-1.04.2-1.43.59L10.3 9.45l-7.72 7.72c-.78.78-.78 2.05 0 2.83L4 21.41c.39.39.9.59 1.41.59.51 0 1.02-.2 1.41-.59l7.78-7.78 2.81-2.81c.8-.78.8-2.07 0-2.86zM5.41 20L4 18.59l7.72-7.72 1.47 1.35L5.41 20z\"/>\n",
              "  </svg>\n",
              "      </button>\n",
              "      \n",
              "  <style>\n",
              "    .colab-df-container {\n",
              "      display:flex;\n",
              "      flex-wrap:wrap;\n",
              "      gap: 12px;\n",
              "    }\n",
              "\n",
              "    .colab-df-convert {\n",
              "      background-color: #E8F0FE;\n",
              "      border: none;\n",
              "      border-radius: 50%;\n",
              "      cursor: pointer;\n",
              "      display: none;\n",
              "      fill: #1967D2;\n",
              "      height: 32px;\n",
              "      padding: 0 0 0 0;\n",
              "      width: 32px;\n",
              "    }\n",
              "\n",
              "    .colab-df-convert:hover {\n",
              "      background-color: #E2EBFA;\n",
              "      box-shadow: 0px 1px 2px rgba(60, 64, 67, 0.3), 0px 1px 3px 1px rgba(60, 64, 67, 0.15);\n",
              "      fill: #174EA6;\n",
              "    }\n",
              "\n",
              "    [theme=dark] .colab-df-convert {\n",
              "      background-color: #3B4455;\n",
              "      fill: #D2E3FC;\n",
              "    }\n",
              "\n",
              "    [theme=dark] .colab-df-convert:hover {\n",
              "      background-color: #434B5C;\n",
              "      box-shadow: 0px 1px 3px 1px rgba(0, 0, 0, 0.15);\n",
              "      filter: drop-shadow(0px 1px 2px rgba(0, 0, 0, 0.3));\n",
              "      fill: #FFFFFF;\n",
              "    }\n",
              "  </style>\n",
              "\n",
              "      <script>\n",
              "        const buttonEl =\n",
              "          document.querySelector('#df-9b0d01ea-4921-4cd7-a233-1db23dc80932 button.colab-df-convert');\n",
              "        buttonEl.style.display =\n",
              "          google.colab.kernel.accessAllowed ? 'block' : 'none';\n",
              "\n",
              "        async function convertToInteractive(key) {\n",
              "          const element = document.querySelector('#df-9b0d01ea-4921-4cd7-a233-1db23dc80932');\n",
              "          const dataTable =\n",
              "            await google.colab.kernel.invokeFunction('convertToInteractive',\n",
              "                                                     [key], {});\n",
              "          if (!dataTable) return;\n",
              "\n",
              "          const docLinkHtml = 'Like what you see? Visit the ' +\n",
              "            '<a target=\"_blank\" href=https://colab.research.google.com/notebooks/data_table.ipynb>data table notebook</a>'\n",
              "            + ' to learn more about interactive tables.';\n",
              "          element.innerHTML = '';\n",
              "          dataTable['output_type'] = 'display_data';\n",
              "          await google.colab.output.renderOutput(dataTable, element);\n",
              "          const docLink = document.createElement('div');\n",
              "          docLink.innerHTML = docLinkHtml;\n",
              "          element.appendChild(docLink);\n",
              "        }\n",
              "      </script>\n",
              "    </div>\n",
              "  </div>\n",
              "  "
            ]
          },
          "metadata": {},
          "execution_count": 29
        }
      ]
    },
    {
      "cell_type": "code",
      "source": [
        "curious_area_df.columns = ['mean', 'count']\n",
        "curious_area_df.sort_values('mean', ascending=False, inplace=True)"
      ],
      "metadata": {
        "id": "9TzzBr4W26-U"
      },
      "execution_count": 37,
      "outputs": []
    },
    {
      "cell_type": "markdown",
      "source": [
        "###시각화"
      ],
      "metadata": {
        "id": "iszddjXS2jav"
      }
    },
    {
      "cell_type": "code",
      "source": [
        "fig, ax_left = plt.subplots()\n",
        "ax_left.bar(curious_area_df.index, curious_area_df['mean'], label='mean')\n",
        "plt.xticks(rotation=45)\n",
        "ax_left.legend(loc='upper left')\n",
        "ax_left.set_ylabel('금액')\n",
        "\n",
        "ax_right = ax_left.twinx()\n",
        "ax_right.plot(curious_area_df['count'], 'r*--', label='count')\n",
        "ax_right.legend(loc='upper right')\n",
        "ax_right.set_ylabel('건수')\n",
        "\n",
        "plt.title('means and counts', size=20)\n",
        "plt.show()"
      ],
      "metadata": {
        "id": "8rpgPTB03nCs",
        "outputId": "a811e04d-34ed-46a8-b652-772889f10f52",
        "colab": {
          "base_uri": "https://localhost:8080/",
          "height": 364
        }
      },
      "execution_count": 47,
      "outputs": [
        {
          "output_type": "display_data",
          "data": {
            "text/plain": [
              "<Figure size 1080x360 with 2 Axes>"
            ],
            "image/png": "[encoded data removed]"
          },
          "metadata": {
            "needs_background": "light"
          }
        }
      ]
    },
    {
      "cell_type": "code",
      "source": [
        ""
      ],
      "metadata": {
        "id": "nkg248T932Xi"
      },
      "execution_count": null,
      "outputs": []
    }
  ]
}