{
  "nbformat": 4,
  "nbformat_minor": 0,
  "metadata": {
    "colab": {
      "name": "vectorization.ipynb",
      "provenance": [],
      "authorship_tag": "ABX9TyP4zentw+CS8m1pyhdq3BMi",
      "include_colab_link": true
    },
    "kernelspec": {
      "name": "python3",
      "display_name": "Python 3"
    },
    "language_info": {
      "name": "python"
    }
  },
  "cells": [
    {
      "cell_type": "markdown",
      "metadata": {
        "id": "view-in-github",
        "colab_type": "text"
      },
      "source": [
        "<a href=\"https://colab.research.google.com/github/SanghunOh/with_preprocess/blob/main/codes/vectorization.ipynb\" target=\"_parent\"><img src=\"https://colab.research.google.com/assets/colab-badge.svg\" alt=\"Open In Colab\"/></a>"
      ]
    },
    {
      "cell_type": "markdown",
      "source": [
        "##MNIST digit image : 0부터 9까지의 숫자를 손으로 쓴 후에 8x8 해상도"
      ],
      "metadata": {
        "id": "y13AbKxIEN3a"
      }
    },
    {
      "cell_type": "markdown",
      "source": [
        "###2차원 데이터"
      ],
      "metadata": {
        "id": "Tb5J0iFCEUlm"
      }
    },
    {
      "cell_type": "code",
      "execution_count": 3,
      "metadata": {
        "colab": {
          "base_uri": "https://localhost:8080/",
          "height": 131
        },
        "id": "xgw-fbpsDL6k",
        "outputId": "ade93a7c-1c1d-40b9-c2ac-f816176d477a"
      },
      "outputs": [
        {
          "output_type": "display_data",
          "data": {
            "text/plain": [
              "<Figure size 576x144 with 8 Axes>"
            ],
            "image/png": "[encoded data removed]"
          },
          "metadata": {}
        }
      ],
      "source": [
        "from sklearn.datasets import load_digits  # 패키지 임포트\n",
        "\n",
        "digits = load_digits()  # 데이터 로드\n",
        "samples = [0, 10, 20, 30, 1, 11, 21, 31]  # 선택된 이미지 0과 1 번호\n",
        "d = []\n",
        "for i in range(8):\n",
        "    d.append(digits.images[samples[i]])\n",
        "\n",
        "import matplotlib.pyplot as plt\n",
        "plt.figure(figsize=(8, 2))\n",
        "for i in range(8):\n",
        "    plt.subplot(1, 8, i + 1)\n",
        "    plt.imshow(d[i], interpolation='nearest', cmap=plt.cm.bone_r)\n",
        "    plt.grid(False); plt.xticks([]); plt.yticks([])\n",
        "    plt.title(\"image {}\".format(i + 1))\n",
        "plt.suptitle(\"number images 0 and 1\")\n",
        "plt.tight_layout()\n",
        "plt.show()"
      ]
    },
    {
      "cell_type": "markdown",
      "source": [
        "##2차원 데이터 : 일부 머신 러닝 모델 입력 위해 변환"
      ],
      "metadata": {
        "id": "k9gcV_deEg4l"
      }
    },
    {
      "cell_type": "code",
      "source": [
        "v = []\n",
        "for i in range(8):\n",
        "    v.append(d[i].reshape(64, 1))  # 벡터화\n",
        "    \n",
        "plt.figure(figsize=(8, 3))\n",
        "for i in range(8):\n",
        "    plt.subplot(1, 8, i + 1)\n",
        "    plt.imshow(v[i], aspect=0.4,\n",
        "               interpolation='nearest', cmap=plt.cm.bone_r)\n",
        "    plt.grid(False); plt.xticks([]); plt.yticks([])\n",
        "    plt.title(\"Vecotr {}\".format(i + 1))\n",
        "plt.suptitle(\"Image Vactorization\", y=1.05)\n",
        "plt.tight_layout(w_pad=7)\n",
        "plt.show()"
      ],
      "metadata": {
        "colab": {
          "base_uri": "https://localhost:8080/",
          "height": 233
        },
        "id": "J9ym3DgEDWkU",
        "outputId": "8904d5c9-8173-48e4-c1c1-f954fceebb2a"
      },
      "execution_count": 5,
      "outputs": [
        {
          "output_type": "display_data",
          "data": {
            "text/plain": [
              "<Figure size 576x216 with 8 Axes>"
            ],
            "image/png": "[encoded data removed]"
          },
          "metadata": {}
        }
      ]
    },
    {
      "cell_type": "code",
      "source": [
        ""
      ],
      "metadata": {
        "id": "pc7LPTxBDxyv"
      },
      "execution_count": null,
      "outputs": []
    }
  ]
}