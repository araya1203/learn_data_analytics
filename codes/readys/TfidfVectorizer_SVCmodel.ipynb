{
 "cells": [
  {
   "cell_type": "code",
   "execution_count": 1,
   "id": "7df1eaae-ab9d-4e77-9d5e-aa9bce49484e",
   "metadata": {},
   "outputs": [],
   "source": [
    "# 한글 문장 데이터\n",
    "sentences = [\n",
    "    '안녕하세요, 반갑습니다.',\n",
    "    '오늘 날씨가 좋네요.',\n",
    "    '내일은 비가 올 것 같아요.',\n",
    "    '저는 공부를 좋아합니다.'\n",
    "    '저는 공부를 좋아합니다.'\n",
    "]\n",
    "\n",
    "# 각 문장에 대한 레이블\n",
    "categories = ['인사', '날씨', '날씨', '취미']\n",
    "\n",
    "\n",
    "# 추가 연습 예제\n",
    "sentences = [\n",
    "    \"오늘 날씨가 좋아서 나들이 가고 싶다.\",\n",
    "    \"이 영화는 정말 재미있었어요.\",\n",
    "    \"맛있는 음식을 먹으러 갈까요?\",\n",
    "    \"운동을 하면 건강에 좋아지는 것 같아요.\",\n",
    "    \"공부하기 싫어서 미루고 있어요.\",\n",
    "    \"여행 계획을 세우고 있는데 어디로 갈까요?\",\n",
    "    \"좋은 책을 읽으면 마음이 편안해져요.\",\n",
    "    \"오늘은 친구들과 만나서 재미있게 놀았어요.\",\n",
    "    \"새로운 언어를 배우는 것은 어려워도 흥미로워요.\",\n",
    "    \"주말에 가족들과 함께 시간을 보내기로 했습니다.\"\n",
    "]\n",
    "\n",
    "categories = [\n",
    "    \"여행/레저\",\n",
    "    \"엔터테인먼트/영화\",\n",
    "    \"식음료/레스토랑\",\n",
    "    \"건강/운동\",\n",
    "    \"교육/학습\",\n",
    "\t\"여행/계획\",\n",
    "\t\"엔터테인먼트/도서\",\n",
    "\t\"인간관계/친구\",\n",
    "\t\"교육/언어학습\",\n",
    "\t\"가족 / 가정\"\n",
    "]"
   ]
  },
  {
   "cell_type": "markdown",
   "id": "7bd8af32-90eb-41d4-9387-a55ff217af74",
   "metadata": {},
   "source": [
    "## TfidfVectorizer"
   ]
  },
  {
   "cell_type": "code",
   "execution_count": 2,
   "id": "c7760025-a4ac-4554-82c0-2ce35c5db4a2",
   "metadata": {},
   "outputs": [
    {
     "data": {
      "text/plain": [
       "(10, 10)"
      ]
     },
     "execution_count": 2,
     "metadata": {},
     "output_type": "execute_result"
    }
   ],
   "source": [
    "len(sentences), len(categories)"
   ]
  },
  {
   "cell_type": "code",
   "execution_count": 3,
   "id": "644d7b48-82a0-4bb5-8be5-c2343a22756b",
   "metadata": {
    "tags": []
   },
   "outputs": [],
   "source": [
    "# from sklearn.feature_extraction.text import CountVectorizer\n",
    "from sklearn.feature_extraction.text import TfidfVectorizer\n",
    "from sklearn.model_selection import train_test_split\n",
    "from sklearn.svm import SVC\n",
    "\n",
    "# TF-IDF 벡터화 객체 생성\n",
    "# vectorizer = CountVectorizer(use_idf=True, stop_words=['저는'])\n",
    "vectorizer = TfidfVectorizer(use_idf=True, stop_words=['저는'])\n",
    "\n",
    "# 문장을 벡터로 변환\n",
    "X = vectorizer.fit_transform(sentences)"
   ]
  },
  {
   "cell_type": "code",
   "execution_count": 4,
   "id": "11aeb297-e744-4a50-910e-164d288f29af",
   "metadata": {
    "collapsed": true,
    "jupyter": {
     "outputs_hidden": true
    },
    "tags": []
   },
   "outputs": [
    {
     "data": {
      "text/plain": [
       "({'오늘': 28,\n",
       "  '날씨가': 9,\n",
       "  '좋아서': 38,\n",
       "  '나들이': 8,\n",
       "  '가고': 0,\n",
       "  '싶다': 22,\n",
       "  '영화는': 27,\n",
       "  '정말': 37,\n",
       "  '재미있었어요': 36,\n",
       "  '맛있는': 13,\n",
       "  '음식을': 31,\n",
       "  '먹으러': 14,\n",
       "  '갈까요': 2,\n",
       "  '운동을': 30,\n",
       "  '하면': 45,\n",
       "  '건강에': 4,\n",
       "  '좋아지는': 39,\n",
       "  '같아요': 3,\n",
       "  '공부하기': 7,\n",
       "  '싫어서': 21,\n",
       "  '미루고': 15,\n",
       "  '있어요': 34,\n",
       "  '여행': 26,\n",
       "  '계획을': 6,\n",
       "  '세우고': 19,\n",
       "  '있는데': 33,\n",
       "  '어디로': 23,\n",
       "  '좋은': 40,\n",
       "  '책을': 42,\n",
       "  '읽으면': 32,\n",
       "  '마음이': 11,\n",
       "  '편안해져요': 44,\n",
       "  '오늘은': 29,\n",
       "  '친구들과': 43,\n",
       "  '만나서': 12,\n",
       "  '재미있게': 35,\n",
       "  '놀았어요': 10,\n",
       "  '새로운': 18,\n",
       "  '언어를': 25,\n",
       "  '배우는': 16,\n",
       "  '것은': 5,\n",
       "  '어려워도': 24,\n",
       "  '흥미로워요': 48,\n",
       "  '주말에': 41,\n",
       "  '가족들과': 1,\n",
       "  '함께': 46,\n",
       "  '시간을': 20,\n",
       "  '보내기로': 17,\n",
       "  '했습니다': 47},\n",
       " array([2.70474809, 2.70474809, 2.29928298, 2.70474809, 2.70474809,\n",
       "        2.70474809, 2.70474809, 2.70474809, 2.70474809, 2.70474809,\n",
       "        2.70474809, 2.70474809, 2.70474809, 2.70474809, 2.70474809,\n",
       "        2.70474809, 2.70474809, 2.70474809, 2.70474809, 2.70474809,\n",
       "        2.70474809, 2.70474809, 2.70474809, 2.70474809, 2.70474809,\n",
       "        2.70474809, 2.70474809, 2.70474809, 2.70474809, 2.70474809,\n",
       "        2.70474809, 2.70474809, 2.70474809, 2.70474809, 2.70474809,\n",
       "        2.70474809, 2.70474809, 2.70474809, 2.70474809, 2.70474809,\n",
       "        2.70474809, 2.70474809, 2.70474809, 2.70474809, 2.70474809,\n",
       "        2.70474809, 2.70474809, 2.70474809, 2.70474809]),\n",
       " set())"
      ]
     },
     "execution_count": 4,
     "metadata": {},
     "output_type": "execute_result"
    }
   ],
   "source": [
    "vectorizer.vocabulary_, vectorizer.idf_, vectorizer.stop_words_"
   ]
  },
  {
   "cell_type": "code",
   "execution_count": null,
   "id": "814cc9f9-6491-49af-aaf4-2fd753dc7abe",
   "metadata": {},
   "outputs": [],
   "source": [
    "categories, type(X), X.toarray()"
   ]
  },
  {
   "cell_type": "markdown",
   "id": "1a82432b-2c93-4101-89a8-e9a661f3aab9",
   "metadata": {},
   "source": [
    "## 모델(SVC) 학습과 예측"
   ]
  },
  {
   "cell_type": "code",
   "execution_count": 5,
   "id": "4609b399-8f8a-494f-902d-ef1d6f86bb8a",
   "metadata": {},
   "outputs": [
    {
     "name": "stdout",
     "output_type": "stream",
     "text": [
      "입력: 오늘 날씨가 좋아서 나들이 가고 싶다. / 예측된 레이블: 인간관계/친구\n",
      "입력: 이 영화는 정말 재미있었어요. / 예측된 레이블: 인간관계/친구\n"
     ]
    }
   ],
   "source": [
    "# 학습 데이터와 테스트 데이터로 분할\n",
    "X_train, X_test, y_train, y_test = train_test_split(X, categories, test_size=0.2)\n",
    "\n",
    "# SVM 분류기 모델 생성 및 학습\n",
    "svm_model = SVC()\n",
    "svm_model.fit(X_train, y_train)\n",
    "\n",
    "# 테스트 데이터에 대한 예측 수행\n",
    "predictions = svm_model.predict(X_test)\n",
    "\n",
    "# 결과 출력\n",
    "for sentence, label in zip(sentences, predictions):\n",
    "    print(f'입력: {sentence} / 예측된 레이블: {label}')\n"
   ]
  },
  {
   "cell_type": "code",
   "execution_count": null,
   "id": "5b48857d-3846-4c9a-b174-e985cb9c14f3",
   "metadata": {},
   "outputs": [],
   "source": []
  }
 ],
 "metadata": {
  "kernelspec": {
   "display_name": "Python 3",
   "language": "python",
   "name": "python3"
  },
  "language_info": {
   "codemirror_mode": {
    "name": "ipython",
    "version": 3
   },
   "file_extension": ".py",
   "mimetype": "text/x-python",
   "name": "python",
   "nbconvert_exporter": "python",
   "pygments_lexer": "ipython3",
   "version": "3.8.8"
  }
 },
 "nbformat": 4,
 "nbformat_minor": 5
}
