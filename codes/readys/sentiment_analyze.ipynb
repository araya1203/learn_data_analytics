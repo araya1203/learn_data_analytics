{
 "cells": [
  {
   "cell_type": "code",
   "execution_count": 27,
   "id": "7df1eaae-ab9d-4e77-9d5e-aa9bce49484e",
   "metadata": {},
   "outputs": [],
   "source": [
    "comments_positive = [\n",
    "    \"맛이 정말 풍부하고, 재료도 신선해서 좋았어요. 서비스도 훌륭했습니다.\",  # 음식\n",
    "    \"해변이 너무 깨끗하고 아름다웠습니다. 다음 여행에서는 더 오래 머물고 싶네요.\",  # 여행지\n",
    "    \"연기력이 대단했고, 스토리 전개가 매우 재미있었습니다. 강력 추천합니다!\",  # 영화\n",
    "    \"노래의 가사와 멜로디가 너무 좋아요, 계속 듣게 되네요.\",  # 음악\n",
    "    \"핸들링이 매우 부드럽고 연비도 좋습니다. 차량 내부 디자인도 세련되었어요.\",  # 자동차\n",
    "    \"배터리 수명이 길고 카메라 기능이 우수합니다. 사용하기 편리한 UI가 마음에 듭니다.\",  # 스마트폰\n",
    "    \"교수님 설명이 명확하시고 이해하기 쉽습니다, 추가 자료도 유용했습니다.\",  # 강의\n",
    "    \"성능 대비 가격이 아주 만족스러워요, 게임을 할 때 지연 없이 부드럽게 실행됩니다.\",  # 컴퓨터 \n",
    "    \"분위기가 정말 좋아서 친구들과 수다 떨기 좋아요, 커피 맛도 최상입니다!\",   #카페 \n",
    "     \"글쓰기 스타일과 주제 모두 제 취향에 딱 맞아서 한 번 읽기 시작하면 멈출 수 없어요.\"   #서적 \n",
    "]\n",
    "\n",
    "comments_negative = [\n",
    "    \"음식이 너무 짜고, 서비스도 별로였어요. 다시 가고 싶지 않네요.\",  # 음식\n",
    "    \"해변이 너무 더러웠고, 주변 시설도 부족했습니다. 다시는 방문하고 싶지 않아요.\",  # 여행지\n",
    "    \"연기력이 별로였고, 스토리 전개도 지루했습니다. 비추합니다!\",  # 영화\n",
    "    \"노래 가사가 이해가 안 가고, 멜로디도 재미없어요. 듣기 싫네요.\",  # 음악\n",
    "    \"핸들링이 너무 뻑뻑하고 연비도 나쁩니다. 차량 내부 디자인도 구식이에요.\",  # 자동차\n",
    "    \"배터리 수명이 짧고 카메라 기능도 별로입니다. 사용하기 어렵습니다.\",  # 스마트폰\n",
    "    \"교수님 설명이 애매하시고 이해하기 어렵습니다, 추가 자료도 도움되지 않았어요.\",  # 강의\n",
    "    \"성능 대비 가격이 너무 비싸요, 게임을 할 때 계속 지연됩니다.\",  # 컴퓨터 \n",
    "    \"분위기가 시끄럽서 친구들과 수다 떨기 힘들었어요, 커피 맛도 그다지...\",   #카페 \n",
    "     \"글쓰기 스타일과 주제 모두 제 취향과 맞지 않아서 한 페이지 읽는 것조차 힘들었어요.\"   #서적 \n",
    "]\n"
   ]
  },
  {
   "cell_type": "markdown",
   "id": "2f438868-74e3-42cb-99a0-cff80ca60111",
   "metadata": {},
   "source": [
    "## unsupervised learning 감성분석"
   ]
  },
  {
   "cell_type": "code",
   "execution_count": 2,
   "id": "a1442470-aa91-440d-a454-466faf4395c5",
   "metadata": {},
   "outputs": [
    {
     "name": "stdout",
     "output_type": "stream",
     "text": [
      "Collecting textblob\n",
      "  Downloading textblob-0.17.1-py2.py3-none-any.whl (636 kB)\n",
      "\u001b[K     |████████████████████████████████| 636 kB 11.1 MB/s eta 0:00:01\n",
      "\u001b[?25hRequirement already satisfied: nltk>=3.1 in /opt/homebrew/anaconda3/lib/python3.8/site-packages (from textblob) (3.6.1)\n",
      "Requirement already satisfied: tqdm in /opt/homebrew/anaconda3/lib/python3.8/site-packages (from nltk>=3.1->textblob) (4.59.0)\n",
      "Requirement already satisfied: click in /opt/homebrew/anaconda3/lib/python3.8/site-packages (from nltk>=3.1->textblob) (7.1.2)\n",
      "Requirement already satisfied: joblib in /opt/homebrew/anaconda3/lib/python3.8/site-packages (from nltk>=3.1->textblob) (1.0.1)\n",
      "Requirement already satisfied: regex in /opt/homebrew/anaconda3/lib/python3.8/site-packages (from nltk>=3.1->textblob) (2021.4.4)\n",
      "Installing collected packages: textblob\n",
      "Successfully installed textblob-0.17.1\n"
     ]
    }
   ],
   "source": [
    "!pip install textblob"
   ]
  },
  {
   "cell_type": "markdown",
   "id": "a004f3ea-f823-493f-8bcc-ed84fd7c8e12",
   "metadata": {},
   "source": [
    "### 영어 사전 활용"
   ]
  },
  {
   "cell_type": "code",
   "execution_count": 3,
   "id": "062ca8a7-cdd1-43f4-b89c-e7dc8adeea98",
   "metadata": {},
   "outputs": [
    {
     "name": "stdout",
     "output_type": "stream",
     "text": [
      "Sentiment(polarity=0.5, subjectivity=0.55)\n"
     ]
    }
   ],
   "source": [
    "from textblob import TextBlob\n",
    "\n",
    "text = \"I love this place! Everyone is so friendly and welcoming.\"\n",
    "blob = TextBlob(text)\n",
    "\n",
    "print(blob.sentiment)"
   ]
  },
  {
   "cell_type": "markdown",
   "id": "19d382d7-693e-4bd1-993b-8541f3489316",
   "metadata": {},
   "source": [
    "### ? 한글 사전 활용\n",
    "한국어 감성 분석에 사용할 수 있는 감성 사전은 여러 가지가 있습니다. 다음은 그 중 일부입니다: \n",
    "예제 파일) http://datascience.khu.ac.kr/board/bbs/board.php?bo_table=05_01&wr_id=91\n",
    "\n",
    "KOSAC: KAIST에서 제공하는 한국어 감성 사전입니다. 'Polarity(극성)', 'Intensity(강도)', 'Reliability(신뢰도)' 등 다양한 차원에서 단어의 감성 정보를 제공합니다.\n",
    "NSMC (Naver Sentiment Movie Corpus): 네이버 영화 리뷰 데이터를 기반으로 만든 한국어 감성 분석 데이터셋입니다. 긍정적인 리뷰와 부정적인 리뷰가 레이블링되어 있으며, 이를 통해 자체 감성 사전을 구축하거나 학습 데이터로 사용할 수 있습니다.\n",
    "SentiWordNet-ko: SentiWordNet은 워드넷(WordNet)의 synset에 대해 긍정, 부정, 중립 점수를 부여한 것으로, 영어에 기반합니다. SentiWordNet-ko는 이를 한국어로 번역하여 활용한 자료입니다.\n",
    "KNU 한국어 감성사전: 경북대학교 인공지능연구실에서 개발하였으며, 약 14만여 개의 한글 단/양음절과 그들의 세종 품사 태그에 대해 긍부정 점수가 매겨져 있습니다.\n",
    "SKT KoBERT NSMC 학습 모델: SKTBrain에서 제공하는 BERT 기반의 한글 자연어 처리 모델인 KoBERT을 NSMC 데이터로 학습시킨 모델입니다."
   ]
  },
  {
   "cell_type": "code",
   "execution_count": 47,
   "id": "0ef588f8-c5e2-4c62-a16a-5c0a1b6b6565",
   "metadata": {},
   "outputs": [
    {
     "data": {
      "text/html": [
       "<div>\n",
       "<style scoped>\n",
       "    .dataframe tbody tr th:only-of-type {\n",
       "        vertical-align: middle;\n",
       "    }\n",
       "\n",
       "    .dataframe tbody tr th {\n",
       "        vertical-align: top;\n",
       "    }\n",
       "\n",
       "    .dataframe thead th {\n",
       "        text-align: right;\n",
       "    }\n",
       "</style>\n",
       "<table border=\"1\" class=\"dataframe\">\n",
       "  <thead>\n",
       "    <tr style=\"text-align: right;\">\n",
       "      <th></th>\n",
       "      <th>word</th>\n",
       "      <th>word_root</th>\n",
       "      <th>polarity</th>\n",
       "    </tr>\n",
       "  </thead>\n",
       "  <tbody>\n",
       "    <tr>\n",
       "      <th>0</th>\n",
       "      <td>(-;</td>\n",
       "      <td>(</td>\n",
       "      <td>1</td>\n",
       "    </tr>\n",
       "    <tr>\n",
       "      <th>1</th>\n",
       "      <td>(;_;)</td>\n",
       "      <td>(;_;)</td>\n",
       "      <td>-1</td>\n",
       "    </tr>\n",
       "    <tr>\n",
       "      <th>2</th>\n",
       "      <td>(^^)</td>\n",
       "      <td>(^^)</td>\n",
       "      <td>1</td>\n",
       "    </tr>\n",
       "    <tr>\n",
       "      <th>3</th>\n",
       "      <td>(^-^)</td>\n",
       "      <td>(^-^)</td>\n",
       "      <td>1</td>\n",
       "    </tr>\n",
       "    <tr>\n",
       "      <th>4</th>\n",
       "      <td>(^^*</td>\n",
       "      <td>(</td>\n",
       "      <td>1</td>\n",
       "    </tr>\n",
       "    <tr>\n",
       "      <th>...</th>\n",
       "      <td>...</td>\n",
       "      <td>...</td>\n",
       "      <td>...</td>\n",
       "    </tr>\n",
       "    <tr>\n",
       "      <th>14849</th>\n",
       "      <td>반신반의하다</td>\n",
       "      <td>반신반의</td>\n",
       "      <td>0</td>\n",
       "    </tr>\n",
       "    <tr>\n",
       "      <th>14850</th>\n",
       "      <td>신비롭다</td>\n",
       "      <td>신비</td>\n",
       "      <td>1</td>\n",
       "    </tr>\n",
       "    <tr>\n",
       "      <th>14851</th>\n",
       "      <td>아리송하다</td>\n",
       "      <td>아리송</td>\n",
       "      <td>-1</td>\n",
       "    </tr>\n",
       "    <tr>\n",
       "      <th>14852</th>\n",
       "      <td>알쏭하다</td>\n",
       "      <td>알쏭하</td>\n",
       "      <td>-1</td>\n",
       "    </tr>\n",
       "    <tr>\n",
       "      <th>14853</th>\n",
       "      <td>알쏭달쏭하다</td>\n",
       "      <td>알쏭달쏭</td>\n",
       "      <td>-1</td>\n",
       "    </tr>\n",
       "  </tbody>\n",
       "</table>\n",
       "<p>14854 rows × 3 columns</p>\n",
       "</div>"
      ],
      "text/plain": [
       "         word word_root  polarity\n",
       "0         (-;         (         1\n",
       "1       (;_;)     (;_;)        -1\n",
       "2        (^^)      (^^)         1\n",
       "3       (^-^)     (^-^)         1\n",
       "4        (^^*         (         1\n",
       "...       ...       ...       ...\n",
       "14849  반신반의하다      반신반의         0\n",
       "14850    신비롭다        신비         1\n",
       "14851   아리송하다       아리송        -1\n",
       "14852    알쏭하다       알쏭하        -1\n",
       "14853  알쏭달쏭하다      알쏭달쏭        -1\n",
       "\n",
       "[14854 rows x 3 columns]"
      ]
     },
     "execution_count": 47,
     "metadata": {},
     "output_type": "execute_result"
    }
   ],
   "source": [
    "# download from https://github.com/park1200656/KnuSentiLex/blob/master/data/SentiWord_info.json\n",
    "import pandas as pd\n",
    "from konlpy.tag import Okt\n",
    "\n",
    "# 1. 데이터 로딩\n",
    "# df_senti_dict = pd.read_csv('SentiWord_Dict.txt', sep='\\t', header=None)\n",
    "df_sentiment_dict = pd.read_json('SentiWord_info.json')\n",
    "df_sentiment_dict"
   ]
  },
  {
   "cell_type": "code",
   "execution_count": 48,
   "id": "7ddf9f4b-ee52-403f-b8af-8351a5c5f6a8",
   "metadata": {},
   "outputs": [],
   "source": [
    "# 2. 단어-감성 점수 매핑 딕셔너리 생성\n",
    "senti_dict = dict(zip(df_sentiment_dict.word, df_sentiment_dict.polarity))\n",
    "# 텍스트 전처리 및 형태소 분석기 준비\n",
    "okt = Okt()"
   ]
  },
  {
   "cell_type": "code",
   "execution_count": 50,
   "id": "2971d916-674c-4185-aefc-c5869e3baa57",
   "metadata": {},
   "outputs": [
    {
     "name": "stdout",
     "output_type": "stream",
     "text": [
      "긍정 점수: 0, 부정 점수: 0\n",
      "None\n"
     ]
    }
   ],
   "source": [
    "#????? 동작 확인 필요\n",
    "def analyze_sentiment(text):\n",
    "    # 5. 형태소 분석 및 품사 태깅\n",
    "    words_pos = okt.pos(text)\n",
    "\n",
    "    # 6. 단어별로 긍부정 점수 합산\n",
    "    positive_score = 0\n",
    "    negative_score = 0\n",
    "\n",
    "    for word, pos in words_pos:\n",
    "        # 해당 단어/품사의 극성 점수 가져오기 \n",
    "        if word in senti_dict.keys():\n",
    "            polarity_score = senti_dict[word]\n",
    "            if polarity_score > 0:\n",
    "                positive_score += polarity_score\n",
    "            elif polarity_score < 0:\n",
    "                negative_score += abs(polarity_score)\n",
    "\n",
    "    print(f\"긍정 점수: {positive_score}, 부정 점수: {negative_score}\")\n",
    "\n",
    "# 예시 문장에 대한 감성 점수 계산\n",
    "# 4. 예시 문장\n",
    "text = comments_positive[2]\n",
    "text = comments_negative[2]\n",
    "\n",
    "# text = \"이 영화 정말 재미있었고, 배우들의 연기도 멋졌습니다.\"\n",
    "print(analyze_sentiment(text))\n"
   ]
  },
  {
   "cell_type": "markdown",
   "id": "62f5905f-7103-457e-b567-f9478424b7b2",
   "metadata": {},
   "source": [
    "## supervised learning 감성분석"
   ]
  },
  {
   "cell_type": "code",
   "execution_count": 32,
   "id": "e3fd4611-4e7b-492f-b06d-093d5dbe0488",
   "metadata": {},
   "outputs": [],
   "source": [
    "# !pip install lightgbm"
   ]
  },
  {
   "cell_type": "code",
   "execution_count": 34,
   "id": "76da86cb-b8b5-4c26-a1ea-6765bdabdd58",
   "metadata": {},
   "outputs": [
    {
     "name": "stdout",
     "output_type": "stream",
     "text": [
      "Accuracy:  0.25\n"
     ]
    }
   ],
   "source": [
    "from sklearn.feature_extraction.text import TfidfVectorizer\n",
    "# from lightgbm import LGBMClassifier\n",
    "from sklearn.svm import SVC\n",
    "from sklearn.model_selection import train_test_split\n",
    "\n",
    "\n",
    "comments = comments_positive + comments_negative\n",
    "\n",
    "# 1은 긍정적인 감성, 0은 부정적인 감성을 나타내는 타겟 벡터 생성\n",
    "targets = [1]*len(comments_positive) + [0]*len(comments_negative)\n",
    "\n",
    "# 문장을 TF-IDF 형태로 변환\n",
    "vectorizer = TfidfVectorizer()\n",
    "features = vectorizer.fit_transform(comments)\n",
    "\n",
    "# 데이터셋 분할: 학습셋과 테스트셋\n",
    "X_train, X_test, y_train, y_test = train_test_split(features, targets, test_size=0.2)\n",
    "\n",
    "# LightGBM 모델 학습 (Gradient Boosting Decision Tree)\n",
    "# model = LGBMClassifier()\n",
    "model = SVC()\n",
    "model.fit(X_train.toarray(), y_train)  # LightGBM은 입력으로 dense matrix를 필요로 하므로 toarray() 사용\n",
    "\n",
    "# 테스트 데이터에 대한 예측 및 정확도 확인\n",
    "print(\"Accuracy: \", model.score(X_test.toarray(), y_test))\n"
   ]
  },
  {
   "cell_type": "code",
   "execution_count": null,
   "id": "607f24e5-86f0-4e0e-a5da-061b5e346fa4",
   "metadata": {},
   "outputs": [],
   "source": []
  }
 ],
 "metadata": {
  "kernelspec": {
   "display_name": "Python 3",
   "language": "python",
   "name": "python3"
  },
  "language_info": {
   "codemirror_mode": {
    "name": "ipython",
    "version": 3
   },
   "file_extension": ".py",
   "mimetype": "text/x-python",
   "name": "python",
   "nbconvert_exporter": "python",
   "pygments_lexer": "ipython3",
   "version": "3.8.8"
  }
 },
 "nbformat": 4,
 "nbformat_minor": 5
}
