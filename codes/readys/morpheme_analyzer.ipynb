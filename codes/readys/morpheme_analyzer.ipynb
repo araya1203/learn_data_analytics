{
 "cells": [
  {
   "cell_type": "code",
   "execution_count": 2,
   "id": "7df1eaae-ab9d-4e77-9d5e-aa9bce49484e",
   "metadata": {},
   "outputs": [],
   "source": [
    "# 한글 문장 데이터\n",
    "sentences = [\n",
    "    '안녕하세요, 반갑습니다.',\n",
    "    '오늘 날씨가 좋네요.',\n",
    "    '내일은 비가 올 것 같아요.',\n",
    "    '저는 공부를 좋아합니다.'\n",
    "    '저는 공부를 좋아합니다.'\n",
    "]\n",
    "\n",
    "# 각 문장에 대한 레이블\n",
    "categories = ['인사', '날씨', '날씨', '취미']\n",
    "\n",
    "\n",
    "# 추가 연습 예제\n",
    "sentences = [\n",
    "    \"오늘 날씨가 좋아서 나들이 가고 싶다.\",\n",
    "    \"이 영화는 정말 재미있었어요.\",\n",
    "    \"맛있는 음식을 먹으러 갈까요?\",\n",
    "    \"운동을 하면 건강에 좋아지는 것 같아요.\",\n",
    "    \"공부하기 싫어서 미루고 있어요.\",\n",
    "    \"여행 계획을 세우고 있는데 어디로 갈까요?\",\n",
    "    \"좋은 책을 읽으면 마음이 편안해져요.\",\n",
    "    \"오늘은 친구들과 만나서 재미있게 놀았어요.\",\n",
    "    \"새로운 언어를 배우는 것은 어려워도 흥미로워요.\",\n",
    "    \"주말에 가족들과 함께 시간을 보내기로 했습니다.\"\n",
    "]\n",
    "\n",
    "categories = [\n",
    "    \"여행/레저\",\n",
    "    \"엔터테인먼트/영화\",\n",
    "    \"식음료/레스토랑\",\n",
    "    \"건강/운동\",\n",
    "    \"교육/학습\",\n",
    "\t\"여행/계획\",\n",
    "\t\"엔터테인먼트/도서\",\n",
    "\t\"인간관계/친구\",\n",
    "\t\"교육/언어학습\",\n",
    "\t\"가족 / 가정\"\n",
    "]"
   ]
  },
  {
   "cell_type": "code",
   "execution_count": 6,
   "id": "00fcd6aa-be13-43ca-a53d-72e6e251ff37",
   "metadata": {},
   "outputs": [
    {
     "name": "stdout",
     "output_type": "stream",
     "text": [
      "Collecting konlpy\n",
      "  Downloading konlpy-0.6.0-py2.py3-none-any.whl (19.4 MB)\n",
      "\u001b[K     |████████████████████████████████| 19.4 MB 9.9 MB/s eta 0:00:01\n",
      "\u001b[?25hRequirement already satisfied: lxml>=4.1.0 in /opt/homebrew/anaconda3/lib/python3.8/site-packages (from konlpy) (4.6.3)\n",
      "Collecting JPype1>=0.7.0\n",
      "  Downloading JPype1-1.4.1-cp38-cp38-macosx_10_9_x86_64.whl (381 kB)\n",
      "\u001b[K     |████████████████████████████████| 381 kB 12.8 MB/s eta 0:00:01\n",
      "\u001b[?25hRequirement already satisfied: numpy>=1.6 in /opt/homebrew/anaconda3/lib/python3.8/site-packages (from konlpy) (1.20.1)\n",
      "Requirement already satisfied: packaging in /opt/homebrew/anaconda3/lib/python3.8/site-packages (from JPype1>=0.7.0->konlpy) (20.9)\n",
      "Requirement already satisfied: pyparsing>=2.0.2 in /opt/homebrew/anaconda3/lib/python3.8/site-packages (from packaging->JPype1>=0.7.0->konlpy) (2.4.7)\n",
      "Installing collected packages: JPype1, konlpy\n",
      "Successfully installed JPype1-1.4.1 konlpy-0.6.0\n"
     ]
    }
   ],
   "source": [
    "!pip install konlpy"
   ]
  },
  {
   "cell_type": "code",
   "execution_count": 15,
   "id": "5b48857d-3846-4c9a-b174-e985cb9c14f3",
   "metadata": {
    "tags": []
   },
   "outputs": [
    {
     "data": {
      "text/plain": [
       "(Counter({'오늘': 2,\n",
       "          '날씨': 1,\n",
       "          '나들이': 1,\n",
       "          '영화': 1,\n",
       "          '정말': 1,\n",
       "          '음식': 1,\n",
       "          '운동': 1,\n",
       "          '건강': 1,\n",
       "          '공부': 1,\n",
       "          '여행': 1,\n",
       "          '계획': 1,\n",
       "          '어디': 1,\n",
       "          '마음': 1,\n",
       "          '친구': 1,\n",
       "          '언어': 1,\n",
       "          '주말': 1,\n",
       "          '가족': 1,\n",
       "          '시간': 1}),\n",
       " {'오늘': 2,\n",
       "  '날씨': 1,\n",
       "  '나들이': 1,\n",
       "  '영화': 1,\n",
       "  '정말': 1,\n",
       "  '음식': 1,\n",
       "  '운동': 1,\n",
       "  '건강': 1,\n",
       "  '공부': 1,\n",
       "  '여행': 1,\n",
       "  '계획': 1,\n",
       "  '어디': 1,\n",
       "  '마음': 1,\n",
       "  '친구': 1,\n",
       "  '언어': 1,\n",
       "  '주말': 1,\n",
       "  '가족': 1,\n",
       "  '시간': 1})"
      ]
     },
     "execution_count": 15,
     "metadata": {},
     "output_type": "execute_result"
    }
   ],
   "source": [
    "# from konlpy.tag import Mecab\n",
    "# # 형태소 분석기 초기화\n",
    "# mecab = Mecab()\n",
    "\n",
    "from konlpy.tag import Okt\n",
    "okt = Okt()\n",
    "\n",
    "# 단어 빈도수 사전 초기화\n",
    "word_freq = {}\n",
    "\n",
    "# 해결 1. 문장 리스트 순회하며 형태소 분석 및 단어 빈도수 계산\n",
    "# for sentence in sentences:\n",
    "#     # 형태소 분석하여 명사 추출\n",
    "# #     nouns = mecab.nouns(sentence)\n",
    "#     nouns = okt.nouns(sentence)\n",
    "    \n",
    "#     # 단어의 등장 횟수 계산 및 사전 업데이트\n",
    "#     for noun in nouns:\n",
    "#         if noun in word_freq:\n",
    "#             word_freq[noun] += 1\n",
    "#         else:\n",
    "#             word_freq[noun] = 1\n",
    "\n",
    "# 해결 2. Counter\n",
    "nouns = okt.nouns(' '.join(sentences))\n",
    "\n",
    "words = [n for n in nouns if len(n) > 1] # 단어의 길이가 1개인 것은 제외\n",
    "\n",
    "from collections import Counter\n",
    "word_freq = Counter(words) # 위에서 얻은 words를 처리하여 단어별 빈도수 형태의 딕셔너리 데이터를 구함\n",
    "word_freq, dict(word_freq)"
   ]
  },
  {
   "cell_type": "code",
   "execution_count": null,
   "id": "a2ad531d-0f1d-466d-92ce-df85394ce10c",
   "metadata": {},
   "outputs": [],
   "source": []
  }
 ],
 "metadata": {
  "kernelspec": {
   "display_name": "Python 3",
   "language": "python",
   "name": "python3"
  },
  "language_info": {
   "codemirror_mode": {
    "name": "ipython",
    "version": 3
   },
   "file_extension": ".py",
   "mimetype": "text/x-python",
   "name": "python",
   "nbconvert_exporter": "python",
   "pygments_lexer": "ipython3",
   "version": "3.8.8"
  }
 },
 "nbformat": 4,
 "nbformat_minor": 5
}
