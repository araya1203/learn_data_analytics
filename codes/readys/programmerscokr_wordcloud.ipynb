{
 "cells": [
  {
   "cell_type": "markdown",
   "id": "7f3b732b-30aa-4bd5-89e5-577b41630288",
   "metadata": {},
   "source": [
    "## refer : https://velog.io/@limdy/%EC%8B%9C%EA%B0%81%ED%99%94%EB%A1%9C-%EA%B2%B0%EA%B3%BC-%EC%9A%94%EC%95%BD%ED%95%98%EA%B8%B0-Seaborn-4-5.-%EC%9B%8C%EB%93%9C%ED%81%B4%EB%9D%BC%EC%9A%B0%EB%93%9C-%EB%A7%8C%EB%93%A4%EA%B8%B0"
   ]
  },
  {
   "cell_type": "code",
   "execution_count": 2,
   "id": "2a3c450b-cfc3-4cb9-9dde-e22ff3f19064",
   "metadata": {},
   "outputs": [],
   "source": [
    "user_agent = {\"User-Agent\": \"Mozilla/5.0 (Macintosh; Intel Mac OS X 10_15_4) AppleWebKit/537.36 (KHTML, like Gecko) Chrome/83.0.4103.97 Safari/537.36\"}\n"
   ]
  },
  {
   "cell_type": "code",
   "execution_count": 8,
   "id": "36fbf4a9-d7d6-4d4b-ba9a-568398360e1f",
   "metadata": {},
   "outputs": [
    {
     "data": {
      "text/plain": [
       "['c언어 단순 질문',\n",
       " '선행 프로세스가 죽으면서 메모리 객체를 후행 프로세스로 넘기는 Fancy한 방법',\n",
       " '아무것도 모르는 신입사원 도와주세요 ㅠㅠ any admin 게시판 설치파일을 구할수 있는 방법이 있나요?',\n",
       " 'cv2 설치 오류 해결 방법 알려주실수 있나요?',\n",
       " '좌클과 우클 동시에 클릭하게하는법이 궁금해요',\n",
       " 'vs code를 이용하는데 windows환경 파일 경로 인식이 안됩니다.ㅠㅠ',\n",
       " 'C# 인터페이스를 상속 받은  클래스를 구별할 수 있나요 ?',\n",
       " '[스프링부트] 컨트롤러와 매핑된 핸들러가 없는 오류',\n",
       " '포트번호를 firewall 로 인바운드&아웃바운드를 차단 설정하면 보안상 안전하다고 할 수 있을까요?',\n",
       " '이미지를 크롤링하여 다운로드 할때 생기는 오류']"
      ]
     },
     "execution_count": 8,
     "metadata": {},
     "output_type": "execute_result"
    }
   ],
   "source": [
    "import time\n",
    "import requests\n",
    "from bs4 import BeautifulSoup\n",
    "\n",
    "questions = []\n",
    "\n",
    "for i in range(1,5):\n",
    "    res = requests.get(\"https://qna.programmers.co.kr/?page={}\".format(i), user_agent)\n",
    "    soup = BeautifulSoup(res.text, \"html.parser\")\n",
    "  \n",
    "    parsed_datas = soup.find_all(\"li\", \"question-list-item\")\n",
    "    for data in parsed_datas:\n",
    "        questions.append(data.h4.text.strip())\n",
    "   \n",
    "    time.sleep(0.5)\n",
    "   \n",
    "questions[:10]"
   ]
  },
  {
   "cell_type": "code",
   "execution_count": 4,
   "id": "1c65f3a4-01ce-485e-8b88-f972a6f9e7cf",
   "metadata": {},
   "outputs": [],
   "source": [
    "from konlpy.tag import Hannanum\n",
    "\n",
    "# 횟수를 기반으로 딕셔너리 생성\n",
    "from collections import Counter\n",
    "\n",
    "# 시각화에 쓰이는 라이브러리\n",
    "import matplotlib.pyplot as plt\n",
    "from wordcloud import WordCloud"
   ]
  },
  {
   "cell_type": "code",
   "execution_count": 5,
   "id": "f0d280b9-e58e-4062-9a17-4106da0bace6",
   "metadata": {},
   "outputs": [
    {
     "name": "stdout",
     "output_type": "stream",
     "text": [
      "894\n"
     ]
    }
   ],
   "source": [
    "words = []\n",
    "\n",
    "hannanum = Hannanum()\n",
    "for question in questions:\n",
    "    nouns = hannanum.nouns(question)\n",
    "    words += nouns\n",
    "   \n",
    "print(len(words))"
   ]
  },
  {
   "cell_type": "code",
   "execution_count": 6,
   "id": "de3c8963-26e4-440b-9281-4c4b5941defb",
   "metadata": {},
   "outputs": [
    {
     "name": "stdout",
     "output_type": "stream",
     "text": [
      "Counter({'질문': 41, '파이썬': 37, '문제': 21, '수': 15, '오류': 14, '코드': 14, '방법': 12, '저장': 10, '언어': 9, '때': 9, '코딩테스트': 9, '중': 8, '자바': 8, '관련': 7, '질문드': 7, '발생': 7, '출력': 7, '식': 6, '에러': 6, '구현': 6, '프로그램': 6, '사용': 6, '해결': 5, '파': 5, '문': 5, '프로그래머스': 5, '파일': 5, '부분': 5, '자바스크립트': 5, '이용': 4, '이미지': 4, '기초': 4, '방식': 4, '배열': 4, '공부': 4, '합': 4, '코딩': 4, '한': 4, 'ㅠㅠ': 3, '설치': 3, '법': 3, '웹사이트': 3, '진짜': 3, '판다스': 3, '엑셀': 3, '후': 3, '입력': 3, '결과': 3, '함수': 3, '모듈': 3, '실행': 3, '값': 3, '덧셈': 3, '시간': 3, '생성': 3, '특정': 3, '데이터': 3, '프로세스': 2, '객체': 2, '게시판': 2, '궁금': 2, '환경': 2, '경': 2, 'C#': 2, '인터페이스': 2, '클래스': 2, '로': 2, '설정': 2, '제작': 2, '개발': 2, '개': 2, '텍스트': 2, '평균': 2, '단어': 2, '응시': 2, '고민': 2, '런타': 2, '분리': 2, '크롤링': 2, '전달': 2, '딕셔너리': 2, '예제': 2, '사이트': 2, '드': 2, '날짜': 2, '이해': 2, '백준': 2, '분': 2, '의미': 2, '지': 2, '초보': 2, '0': 2, '고수님': 2, '접근': 2, '군데': 2, '저': 2, '문자열': 2, '연습': 2, '내': 2, 'scanf_s': 2, '짝수': 2, '홀수': 2, '다항식': 2, '매개변수화': 2, '작성': 2, '자동': 2, '문구': 2, '작동': 2, '분류': 2, '다람쥐': 2, '가변': 2, '자': 2, '동영상': 2, '재생': 2, '코드좀': 2, '시': 2, '주석': 2, '뭐': 2, '쿼리': 2, '것': 2, '소수점': 2, '변환': 2, '1': 2, '웹크롤링': 2, '2': 2, '질문이요': 2, '배치': 2, '프린터': 2, '사진': 2, '문제점': 2, '카테고리': 2, '단순': 1, '선행': 1, '메모리': 1, '후행': 1, '아무것': 1, '신입사원': 1, '설치파일': 1, 'cv2': 1, '좌클': 1, '우클': 1, '클릭': 1, '상속': 1, '구별': 1, '[스프링부트]': 1, '컨트롤러': 1, '매핑': 1, '핸들러': 1, '포트번호': 1, '인바운드&아웃바운드': 1, '차': 1, '보안상': 1, '안전': 1, '크롤링하': 1, '다운로드': 1, '유니티': 1, '리듬': 1, '메트로놈': 1, '질문가능': 1, '웹': 1, '스크래핑': 1, '독학': 1, '초렙': 1, \"'_lib'\": 1, '현업': 1, '궁금증': 1, '코드에디터': 1, '불편함': 1, '업로드': 1, '포인터': 1, '마크': 1, '형식': 1, '벨로그': 1, '복사': 1, '과제중인데요': 1, '길': 1, '규정': 1, '진로': 1, '해결방안': 1, '[파이썬]': 1, '페이지별': 1, '관리': 1, 'ㅜ': 1, \"linear_model'에서\": 1, '이름': 1, '행님덜~~네이버': 1, '플레이스리뷰': 1, 'S3)': 1, '파라미터': 1, '로컬': 1, '배포서버': 1, '캐치': 1, '예외': 1, '쿼': 1, '구축': 1, '나': 1, '교육': 1, '모바일': 1, '(뉴비': 1, '아나콘다': 1, '주피터': 1, '노트북': 1, '이동': 1, '년월일': 1, '숫자들': 1, '소': 1, '숫자': 1, '깃': 1, '플로우': 1, '관련질문': 1, '배치파': 1, '지정': 1, '풀이중': 1, '문제(bfs)': 1, '표': 1, '조건부': 1, '서식': 1, '색조': 1, '데': 1, '다중공선성': 1, 'j2ee.': 1, 'j2ee': 1, '에러메시지': 1, '못잡겠네요': 1, '5': 1, '스택': 1, '오버플로우': 1, '경로': 1, '처음이': 1, '좀': 1, '공원': 1, '산책': 1, '원': 1, '프로그래밍': 1, '시작': 1, '어려움': 1, '전역변수': 1, '안가서요': 1, '답변': 1, '입출력': 1, '10': 1, '어떤의미': 1, '3가지': 1, '쿠키': 1, '확장': 1, '칼만필터': 1, '드립니다ㅠㅠ': 1, '공부법': 1, '에러(ModuleNotFoundError': 1, '학습': 1, '구글코랩Google': 1, '객체생성': 1, '제출': 1, '쓰레기': 1, '일주일': 1, '못풀면': 1, '컨트롤': 1, '제트': 1, 'ojdbc6': 1, '추가': 1, 'c++질문': 1, '답안': 1, '인텔리제이에서': 1, 'm1': 1, 'centOS7': 1, '올리브영': 1, '동작': 1, '구간별': 1, '문의사항': 1, '하이퍼파라미터': 1, '정수': 1, '입력모드': 1, '일반모드': 1, '전환': 1, '프로젝트': 1, '구조체': 1, '사진파일': 1, '코으': 1, '메서드': 1, '별그리': 1, '마름모': 1, '컴퓨터': 1, '기준': 1, '타이핑': 1, '4종류': 1, '강아지': 1, '청설모': 1, '마지막': 1, '평균값': 1, '알려주시ㅣ': 1, '한번': 1, 'ㅠㅠㅠ': 1, '를': 1, 'get_average_score': 1, '구현하기': 1, '데이터프레': 1, '헤더파일': 1, 'int&': 1, '오브젝트': 1, '쪽': 1, '왼쪽': 1, '판별': 1, '휴대폰': 1, '전원': 1, '일시': 1, '중지': 1, '반복분': 1, '깔끔': 1, '페이징': 1, '으': 1, '막대그래프': 1, '선그래프': 1, '그리기': 1, '연결': 1, '리스트': 1, '공백삭제': 1, '관련질문드': 1, '여러개': 1, '3*3': 1, '틱텍토': 1, '게임': 1, '구성': 1, '엔진': 1, '철학': 1, '메소드': 1, '조언': 1, '객체선언': 1, '유니코드오류': 1, '모르겠어': 1, '#define': 1, '상수': 1, '선언떄': 1, '우분투': 1, '가상머신': 1, '멀티스레딩': 1, '읽기': 1, '머쓱': 1, '스탬프': 1, '답보기요': 1, '무관한지': 1, '25206': 1, '확인': 1, '고수분': 1, '제너레이터화': 1, '리액트': 1, 'js통해서': 1, '아두이노': 1, '통신관련': 1, '정규표현식': 1, '패턴': 1, '추출': 1, \"'MODULE_NOT_FOUND'\": 1, '데이터베이스': 1, '다른방법없을까요': 1, '첫번': 1, '폰켓몬': 1, '멀티프로세싱': 1, '실행시': 1, '수십개': 1, '이용해서': 1, '앱': 1, '(생초보)': 1, '매개변수': 1, '개수': 1, '로지스틱': 1, '회귀': 1, '2단계': 1, '구명보트': 1, '구분': 1, '다음': 1, '변형': 1, '과정': 1, '이': 1, '해석': 1, '재정의': 1, '뭔지좀': 1, '출력하기': 1, 'spy++,': 1, '[python질문]': 1, '처음보는데': 1, '타입에러': 1, '있을까요ㅠㅠ': 1, 'level0': 1, '어디': 1, '한달': 1, '1byte': 1, '스킬': 1, '체크': 1, '테스트': 1, '무한루프': 1, '문의드': 1, '제목': 1, '세션': 1, '스토리지': 1, '발': 1, '저장법': 1, '단점': 1, '뭘까요': 1, 'BeautifulSoup4': 1, '분수': 1, '맥': 1, '터미널': 1, '파이썬3': 1, '2차원배열': 1, '입력하기': 1, '마우스': 1, '이벤트': 1, '처리': 1, '31': 1, '4': 1, '||': 1, '둘다': 1, '같은의미아닌가요': 1, '질문이욧': 1, '의': 1, '재귀함수': 1, 'c++': 1, '동적할당': 1, '생성자': 1, '스프링': 1, 'C++': 1, '구현부분': 1, '하기': 1, '[python3]': 1, '문제해결': 1, '동적배열': 1, '선언': 1, '이유': 1, '디자이너': 1, '사용해서': 1, '출력시': 1, '메': 1, '윈도우': 1, '창': 1, '전체': 1, 'Q&A': 1, '작성글': 1, '보기': 1, '서블릿': 1, '기초적': 1, '질문할께요ㅠ': 1, '[코틀린]': 1, '거기': 1, '안나와요': 1, '관련하': 1, '두': 1, '매칭하려': 1, '영상': 1, '프레임별': 1, '라즈베리파이': 1, '캡쳐': 1, '넘버링': 1, '동기적': 1, '통신': 1, '자료구조': 1, '함수들': 1, '활용법': 1, '儆儆儆儆儆': 1, '아코디언': 1, '갤러리': 1, '좌표': 1, '테이블': 1, 'read_excel()': 1, '마방진': 1, '장고(django)': 1, '프레임웍': 1, '로그': 1, '타이머': 1, '버튼': 1, '엑셀파': 1, '부탁드': 1, '직전': 1, '직후': 1, '구매': 1, '예측': 1, '[판다스]': 1, '원천': 1, '프레임': 1, '안': 1, '문자': 1, '프레': 1, '파이선': 1, '체크박스': 1, '&': 1})\n"
     ]
    }
   ],
   "source": [
    "counter = Counter(words)\n",
    "print(counter)"
   ]
  },
  {
   "cell_type": "code",
   "execution_count": 7,
   "id": "01fa43dc-0a9e-4289-a329-70e9d8a5e686",
   "metadata": {},
   "outputs": [
    {
     "ename": "OSError",
     "evalue": "cannot open resource",
     "output_type": "error",
     "traceback": [
      "\u001b[0;31m---------------------------------------------------------------------------\u001b[0m",
      "\u001b[0;31mOSError\u001b[0m                                   Traceback (most recent call last)",
      "\u001b[0;32m<ipython-input-7-61e6c83b2bd1>\u001b[0m in \u001b[0;36m<module>\u001b[0;34m\u001b[0m\n\u001b[1;32m      6\u001b[0m )\n\u001b[1;32m      7\u001b[0m \u001b[0;34m\u001b[0m\u001b[0m\n\u001b[0;32m----> 8\u001b[0;31m \u001b[0mimg\u001b[0m \u001b[0;34m=\u001b[0m \u001b[0mwordcloud\u001b[0m\u001b[0;34m.\u001b[0m\u001b[0mgenerate_from_frequencies\u001b[0m\u001b[0;34m(\u001b[0m\u001b[0mcounter\u001b[0m\u001b[0;34m)\u001b[0m\u001b[0;34m\u001b[0m\u001b[0;34m\u001b[0m\u001b[0m\n\u001b[0m\u001b[1;32m      9\u001b[0m \u001b[0;34m\u001b[0m\u001b[0m\n\u001b[1;32m     10\u001b[0m \u001b[0mplt\u001b[0m\u001b[0;34m.\u001b[0m\u001b[0mimshow\u001b[0m\u001b[0;34m(\u001b[0m\u001b[0mimg\u001b[0m\u001b[0;34m)\u001b[0m\u001b[0;34m\u001b[0m\u001b[0;34m\u001b[0m\u001b[0m\n",
      "\u001b[0;32m/opt/homebrew/anaconda3/lib/python3.8/site-packages/wordcloud/wordcloud.py\u001b[0m in \u001b[0;36mgenerate_from_frequencies\u001b[0;34m(self, frequencies, max_font_size)\u001b[0m\n\u001b[1;32m    451\u001b[0m                 \u001b[0mfont_size\u001b[0m \u001b[0;34m=\u001b[0m \u001b[0mself\u001b[0m\u001b[0;34m.\u001b[0m\u001b[0mheight\u001b[0m\u001b[0;34m\u001b[0m\u001b[0;34m\u001b[0m\u001b[0m\n\u001b[1;32m    452\u001b[0m             \u001b[0;32melse\u001b[0m\u001b[0;34m:\u001b[0m\u001b[0;34m\u001b[0m\u001b[0;34m\u001b[0m\u001b[0m\n\u001b[0;32m--> 453\u001b[0;31m                 self.generate_from_frequencies(dict(frequencies[:2]),\n\u001b[0m\u001b[1;32m    454\u001b[0m                                                max_font_size=self.height)\n\u001b[1;32m    455\u001b[0m                 \u001b[0;31m# find font sizes\u001b[0m\u001b[0;34m\u001b[0m\u001b[0;34m\u001b[0m\u001b[0;34m\u001b[0m\u001b[0m\n",
      "\u001b[0;32m/opt/homebrew/anaconda3/lib/python3.8/site-packages/wordcloud/wordcloud.py\u001b[0m in \u001b[0;36mgenerate_from_frequencies\u001b[0;34m(self, frequencies, max_font_size)\u001b[0m\n\u001b[1;32m    501\u001b[0m             \u001b[0;32mwhile\u001b[0m \u001b[0;32mTrue\u001b[0m\u001b[0;34m:\u001b[0m\u001b[0;34m\u001b[0m\u001b[0;34m\u001b[0m\u001b[0m\n\u001b[1;32m    502\u001b[0m                 \u001b[0;31m# try to find a position\u001b[0m\u001b[0;34m\u001b[0m\u001b[0;34m\u001b[0m\u001b[0;34m\u001b[0m\u001b[0m\n\u001b[0;32m--> 503\u001b[0;31m                 \u001b[0mfont\u001b[0m \u001b[0;34m=\u001b[0m \u001b[0mImageFont\u001b[0m\u001b[0;34m.\u001b[0m\u001b[0mtruetype\u001b[0m\u001b[0;34m(\u001b[0m\u001b[0mself\u001b[0m\u001b[0;34m.\u001b[0m\u001b[0mfont_path\u001b[0m\u001b[0;34m,\u001b[0m \u001b[0mfont_size\u001b[0m\u001b[0;34m)\u001b[0m\u001b[0;34m\u001b[0m\u001b[0;34m\u001b[0m\u001b[0m\n\u001b[0m\u001b[1;32m    504\u001b[0m                 \u001b[0;31m# transpose font optionally\u001b[0m\u001b[0;34m\u001b[0m\u001b[0;34m\u001b[0m\u001b[0;34m\u001b[0m\u001b[0m\n\u001b[1;32m    505\u001b[0m                 transposed_font = ImageFont.TransposedFont(\n",
      "\u001b[0;32m/opt/homebrew/anaconda3/lib/python3.8/site-packages/PIL/ImageFont.py\u001b[0m in \u001b[0;36mtruetype\u001b[0;34m(font, size, index, encoding, layout_engine)\u001b[0m\n\u001b[1;32m    851\u001b[0m \u001b[0;34m\u001b[0m\u001b[0m\n\u001b[1;32m    852\u001b[0m     \u001b[0;32mtry\u001b[0m\u001b[0;34m:\u001b[0m\u001b[0;34m\u001b[0m\u001b[0;34m\u001b[0m\u001b[0m\n\u001b[0;32m--> 853\u001b[0;31m         \u001b[0;32mreturn\u001b[0m \u001b[0mfreetype\u001b[0m\u001b[0;34m(\u001b[0m\u001b[0mfont\u001b[0m\u001b[0;34m)\u001b[0m\u001b[0;34m\u001b[0m\u001b[0;34m\u001b[0m\u001b[0m\n\u001b[0m\u001b[1;32m    854\u001b[0m     \u001b[0;32mexcept\u001b[0m \u001b[0mOSError\u001b[0m\u001b[0;34m:\u001b[0m\u001b[0;34m\u001b[0m\u001b[0;34m\u001b[0m\u001b[0m\n\u001b[1;32m    855\u001b[0m         \u001b[0;32mif\u001b[0m \u001b[0;32mnot\u001b[0m \u001b[0misPath\u001b[0m\u001b[0;34m(\u001b[0m\u001b[0mfont\u001b[0m\u001b[0;34m)\u001b[0m\u001b[0;34m:\u001b[0m\u001b[0;34m\u001b[0m\u001b[0;34m\u001b[0m\u001b[0m\n",
      "\u001b[0;32m/opt/homebrew/anaconda3/lib/python3.8/site-packages/PIL/ImageFont.py\u001b[0m in \u001b[0;36mfreetype\u001b[0;34m(font)\u001b[0m\n\u001b[1;32m    848\u001b[0m \u001b[0;34m\u001b[0m\u001b[0m\n\u001b[1;32m    849\u001b[0m     \u001b[0;32mdef\u001b[0m \u001b[0mfreetype\u001b[0m\u001b[0;34m(\u001b[0m\u001b[0mfont\u001b[0m\u001b[0;34m)\u001b[0m\u001b[0;34m:\u001b[0m\u001b[0;34m\u001b[0m\u001b[0;34m\u001b[0m\u001b[0m\n\u001b[0;32m--> 850\u001b[0;31m         \u001b[0;32mreturn\u001b[0m \u001b[0mFreeTypeFont\u001b[0m\u001b[0;34m(\u001b[0m\u001b[0mfont\u001b[0m\u001b[0;34m,\u001b[0m \u001b[0msize\u001b[0m\u001b[0;34m,\u001b[0m \u001b[0mindex\u001b[0m\u001b[0;34m,\u001b[0m \u001b[0mencoding\u001b[0m\u001b[0;34m,\u001b[0m \u001b[0mlayout_engine\u001b[0m\u001b[0;34m)\u001b[0m\u001b[0;34m\u001b[0m\u001b[0;34m\u001b[0m\u001b[0m\n\u001b[0m\u001b[1;32m    851\u001b[0m \u001b[0;34m\u001b[0m\u001b[0m\n\u001b[1;32m    852\u001b[0m     \u001b[0;32mtry\u001b[0m\u001b[0;34m:\u001b[0m\u001b[0;34m\u001b[0m\u001b[0;34m\u001b[0m\u001b[0m\n",
      "\u001b[0;32m/opt/homebrew/anaconda3/lib/python3.8/site-packages/PIL/ImageFont.py\u001b[0m in \u001b[0;36m__init__\u001b[0;34m(self, font, size, index, encoding, layout_engine)\u001b[0m\n\u001b[1;32m    207\u001b[0m                         \u001b[0mload_from_bytes\u001b[0m\u001b[0;34m(\u001b[0m\u001b[0mf\u001b[0m\u001b[0;34m)\u001b[0m\u001b[0;34m\u001b[0m\u001b[0;34m\u001b[0m\u001b[0m\n\u001b[1;32m    208\u001b[0m                     \u001b[0;32mreturn\u001b[0m\u001b[0;34m\u001b[0m\u001b[0;34m\u001b[0m\u001b[0m\n\u001b[0;32m--> 209\u001b[0;31m             self.font = core.getfont(\n\u001b[0m\u001b[1;32m    210\u001b[0m                 \u001b[0mfont\u001b[0m\u001b[0;34m,\u001b[0m \u001b[0msize\u001b[0m\u001b[0;34m,\u001b[0m \u001b[0mindex\u001b[0m\u001b[0;34m,\u001b[0m \u001b[0mencoding\u001b[0m\u001b[0;34m,\u001b[0m \u001b[0mlayout_engine\u001b[0m\u001b[0;34m=\u001b[0m\u001b[0mlayout_engine\u001b[0m\u001b[0;34m\u001b[0m\u001b[0;34m\u001b[0m\u001b[0m\n\u001b[1;32m    211\u001b[0m             )\n",
      "\u001b[0;31mOSError\u001b[0m: cannot open resource"
     ]
    }
   ],
   "source": [
    "wordcloud = WordCloud(\n",
    "    font_path = \"C:\\Windows\\Fonts/H2GPRM.TTF\",\n",
    "    background_color = \"white\",\n",
    "    width = 1000,\n",
    "    height = 1000,\n",
    ")\n",
    "\n",
    "img = wordcloud.generate_from_frequencies(counter)\n",
    "\n",
    "plt.imshow(img)"
   ]
  },
  {
   "cell_type": "code",
   "execution_count": null,
   "id": "81c8b4a0-4feb-45a7-a51f-7b1e72ce4e9e",
   "metadata": {},
   "outputs": [],
   "source": []
  }
 ],
 "metadata": {
  "kernelspec": {
   "display_name": "Python 3",
   "language": "python",
   "name": "python3"
  },
  "language_info": {
   "codemirror_mode": {
    "name": "ipython",
    "version": 3
   },
   "file_extension": ".py",
   "mimetype": "text/x-python",
   "name": "python",
   "nbconvert_exporter": "python",
   "pygments_lexer": "ipython3",
   "version": "3.8.8"
  }
 },
 "nbformat": 4,
 "nbformat_minor": 5
}
