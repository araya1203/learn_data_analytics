{
  "nbformat": 4,
  "nbformat_minor": 0,
  "metadata": {
    "colab": {
      "name": "지점별 연 기온변화.ipynb",
      "provenance": [],
      "collapsed_sections": [],
      "include_colab_link": true
    },
    "kernelspec": {
      "name": "python3",
      "display_name": "Python 3"
    },
    "language_info": {
      "name": "python"
    }
  },
  "cells": [
    {
      "cell_type": "markdown",
      "metadata": {
        "id": "view-in-github",
        "colab_type": "text"
      },
      "source": [
        "<a href=\"https://colab.research.google.com/github/SanghunOh/with_data_analytics/blob/main/codes/%EC%A7%80%EC%A0%90%EB%B3%84_%EC%97%B0_%EA%B8%B0%EC%98%A8%EB%B3%80%ED%99%94.ipynb\" target=\"_parent\"><img src=\"https://colab.research.google.com/assets/colab-badge.svg\" alt=\"Open In Colab\"/></a>"
      ]
    },
    {
      "cell_type": "markdown",
      "source": [
        "##Connect google Drive"
      ],
      "metadata": {
        "id": "uWoRiKEZTbe9"
      }
    },
    {
      "cell_type": "code",
      "source": [
        "from google.colab import drive\n",
        "drive.mount('/content/drive')"
      ],
      "metadata": {
        "colab": {
          "base_uri": "https://localhost:8080/"
        },
        "id": "hkkFQ-vxIkn4",
        "outputId": "b439f5cb-a25d-4d4e-a3aa-d4bf50c295cc"
      },
      "execution_count": 1,
      "outputs": [
        {
          "output_type": "stream",
          "name": "stdout",
          "text": [
            "Drive already mounted at /content/drive; to attempt to forcibly remount, call drive.mount(\"/content/drive\", force_remount=True).\n"
          ]
        }
      ]
    },
    {
      "cell_type": "code",
      "source": [
        "path_root = '/content/drive/MyDrive/datas/'\n",
        "\n",
        "# 작업 경로 설정\n",
        "import os\n",
        "os.chdir(path_root)\n",
        "!pwd"
      ],
      "metadata": {
        "colab": {
          "base_uri": "https://localhost:8080/"
        },
        "id": "02oWGnwTTe4Q",
        "outputId": "0f0ab1cf-5b89-4832-e045-e82f6937efa8"
      },
      "execution_count": 2,
      "outputs": [
        {
          "output_type": "stream",
          "name": "stdout",
          "text": [
            "/content/drive/.shortcut-targets-by-id/1tHYgEz3lQF-LmtFPXRgMBDh4UN54qeAs/datas\n"
          ]
        }
      ]
    },
    {
      "cell_type": "code",
      "source": [
        "import glob\n",
        "\n",
        "filename_list = []\n",
        "for file_name in glob.glob(\"./kma_ASOS_*.csv\"):\n",
        "    filename_list.append(file_name)\n",
        "filename_list"
      ],
      "metadata": {
        "colab": {
          "base_uri": "https://localhost:8080/"
        },
        "id": "K1w3joZRODfE",
        "outputId": "2347eedc-0531-41df-cd65-b2f1a2f26b24"
      },
      "execution_count": 3,
      "outputs": [
        {
          "output_type": "execute_result",
          "data": {
            "text/plain": [
              "['./kma_ASOS_1945_1954.csv', './kma_ASOS_1955_1964.csv']"
            ]
          },
          "metadata": {},
          "execution_count": 3
        }
      ]
    },
    {
      "cell_type": "markdown",
      "source": [
        "##read csv from files and concat DataFrammes"
      ],
      "metadata": {
        "id": "JdYfl8_4UUJ5"
      }
    },
    {
      "cell_type": "code",
      "execution_count": 4,
      "metadata": {
        "id": "3nLb2XpUmdcH"
      },
      "outputs": [],
      "source": [
        "import pandas as pd"
      ]
    },
    {
      "cell_type": "code",
      "source": [
        "df_csv_list = list()\n",
        "for file_name in filename_list:\n",
        "  df_csv_list.append(pd.read_csv(file_name, encoding='cp949'))\n",
        "\n",
        "df_concat = pd.concat(df_csv_list)\n",
        "# df_concat"
      ],
      "metadata": {
        "id": "aTBPwfjpO1Xz"
      },
      "execution_count": 5,
      "outputs": []
    },
    {
      "cell_type": "code",
      "source": [
        "# show all rows\n",
        "# pd.options.display.max_rows = df_concat.shape[0]\n",
        "df_concat"
      ],
      "metadata": {
        "colab": {
          "base_uri": "https://localhost:8080/",
          "height": 424
        },
        "id": "T_KMKG4hUGB-",
        "outputId": "29e1da6e-7394-4f34-d432-f66864bc7caa"
      },
      "execution_count": 6,
      "outputs": [
        {
          "output_type": "execute_result",
          "data": {
            "text/plain": [
              "        지점  지점명          일시  평균기온(°C)  최저기온(°C)  최저기온 시각(hhmi)  최고기온(°C)  \\\n",
              "0      105   강릉  1945-01-01      -3.2      -6.8            NaN       0.7   \n",
              "1      105   강릉  1945-01-02      -3.6      -8.4            NaN       0.5   \n",
              "2      105   강릉  1945-01-03       0.9      -4.0            NaN       5.0   \n",
              "3      105   강릉  1945-01-04       1.1      -3.2            NaN       4.9   \n",
              "4      105   강릉  1945-01-05      -5.7      -9.1            NaN      -1.4   \n",
              "...    ...  ...         ...       ...       ...            ...       ...   \n",
              "52963  189  서귀포  1964-12-27       9.3       4.4         2307.0      14.1   \n",
              "52964  189  서귀포  1964-12-28       8.6       3.2          323.0      13.2   \n",
              "52965  189  서귀포  1964-12-29       8.4       3.6          602.0      15.1   \n",
              "52966  189  서귀포  1964-12-30      10.1       3.8         2348.0      14.5   \n",
              "52967  189  서귀포  1964-12-31       7.0       3.2           36.0      10.4   \n",
              "\n",
              "       최고기온 시각(hhmi)  \n",
              "0                NaN  \n",
              "1                NaN  \n",
              "2                NaN  \n",
              "3                NaN  \n",
              "4                NaN  \n",
              "...              ...  \n",
              "52963         1227.0  \n",
              "52964         1238.0  \n",
              "52965         1318.0  \n",
              "52966         1328.0  \n",
              "52967         1115.0  \n",
              "\n",
              "[97719 rows x 8 columns]"
            ],
            "text/html": [
              "\n",
              "  <div id=\"df-60672a02-2f0b-439c-a473-d61b6b33b6ab\">\n",
              "    <div class=\"colab-df-container\">\n",
              "      <div>\n",
              "<style scoped>\n",
              "    .dataframe tbody tr th:only-of-type {\n",
              "        vertical-align: middle;\n",
              "    }\n",
              "\n",
              "    .dataframe tbody tr th {\n",
              "        vertical-align: top;\n",
              "    }\n",
              "\n",
              "    .dataframe thead th {\n",
              "        text-align: right;\n",
              "    }\n",
              "</style>\n",
              "<table border=\"1\" class=\"dataframe\">\n",
              "  <thead>\n",
              "    <tr style=\"text-align: right;\">\n",
              "      <th></th>\n",
              "      <th>지점</th>\n",
              "      <th>지점명</th>\n",
              "      <th>일시</th>\n",
              "      <th>평균기온(°C)</th>\n",
              "      <th>최저기온(°C)</th>\n",
              "      <th>최저기온 시각(hhmi)</th>\n",
              "      <th>최고기온(°C)</th>\n",
              "      <th>최고기온 시각(hhmi)</th>\n",
              "    </tr>\n",
              "  </thead>\n",
              "  <tbody>\n",
              "    <tr>\n",
              "      <th>0</th>\n",
              "      <td>105</td>\n",
              "      <td>강릉</td>\n",
              "      <td>1945-01-01</td>\n",
              "      <td>-3.2</td>\n",
              "      <td>-6.8</td>\n",
              "      <td>NaN</td>\n",
              "      <td>0.7</td>\n",
              "      <td>NaN</td>\n",
              "    </tr>\n",
              "    <tr>\n",
              "      <th>1</th>\n",
              "      <td>105</td>\n",
              "      <td>강릉</td>\n",
              "      <td>1945-01-02</td>\n",
              "      <td>-3.6</td>\n",
              "      <td>-8.4</td>\n",
              "      <td>NaN</td>\n",
              "      <td>0.5</td>\n",
              "      <td>NaN</td>\n",
              "    </tr>\n",
              "    <tr>\n",
              "      <th>2</th>\n",
              "      <td>105</td>\n",
              "      <td>강릉</td>\n",
              "      <td>1945-01-03</td>\n",
              "      <td>0.9</td>\n",
              "      <td>-4.0</td>\n",
              "      <td>NaN</td>\n",
              "      <td>5.0</td>\n",
              "      <td>NaN</td>\n",
              "    </tr>\n",
              "    <tr>\n",
              "      <th>3</th>\n",
              "      <td>105</td>\n",
              "      <td>강릉</td>\n",
              "      <td>1945-01-04</td>\n",
              "      <td>1.1</td>\n",
              "      <td>-3.2</td>\n",
              "      <td>NaN</td>\n",
              "      <td>4.9</td>\n",
              "      <td>NaN</td>\n",
              "    </tr>\n",
              "    <tr>\n",
              "      <th>4</th>\n",
              "      <td>105</td>\n",
              "      <td>강릉</td>\n",
              "      <td>1945-01-05</td>\n",
              "      <td>-5.7</td>\n",
              "      <td>-9.1</td>\n",
              "      <td>NaN</td>\n",
              "      <td>-1.4</td>\n",
              "      <td>NaN</td>\n",
              "    </tr>\n",
              "    <tr>\n",
              "      <th>...</th>\n",
              "      <td>...</td>\n",
              "      <td>...</td>\n",
              "      <td>...</td>\n",
              "      <td>...</td>\n",
              "      <td>...</td>\n",
              "      <td>...</td>\n",
              "      <td>...</td>\n",
              "      <td>...</td>\n",
              "    </tr>\n",
              "    <tr>\n",
              "      <th>52963</th>\n",
              "      <td>189</td>\n",
              "      <td>서귀포</td>\n",
              "      <td>1964-12-27</td>\n",
              "      <td>9.3</td>\n",
              "      <td>4.4</td>\n",
              "      <td>2307.0</td>\n",
              "      <td>14.1</td>\n",
              "      <td>1227.0</td>\n",
              "    </tr>\n",
              "    <tr>\n",
              "      <th>52964</th>\n",
              "      <td>189</td>\n",
              "      <td>서귀포</td>\n",
              "      <td>1964-12-28</td>\n",
              "      <td>8.6</td>\n",
              "      <td>3.2</td>\n",
              "      <td>323.0</td>\n",
              "      <td>13.2</td>\n",
              "      <td>1238.0</td>\n",
              "    </tr>\n",
              "    <tr>\n",
              "      <th>52965</th>\n",
              "      <td>189</td>\n",
              "      <td>서귀포</td>\n",
              "      <td>1964-12-29</td>\n",
              "      <td>8.4</td>\n",
              "      <td>3.6</td>\n",
              "      <td>602.0</td>\n",
              "      <td>15.1</td>\n",
              "      <td>1318.0</td>\n",
              "    </tr>\n",
              "    <tr>\n",
              "      <th>52966</th>\n",
              "      <td>189</td>\n",
              "      <td>서귀포</td>\n",
              "      <td>1964-12-30</td>\n",
              "      <td>10.1</td>\n",
              "      <td>3.8</td>\n",
              "      <td>2348.0</td>\n",
              "      <td>14.5</td>\n",
              "      <td>1328.0</td>\n",
              "    </tr>\n",
              "    <tr>\n",
              "      <th>52967</th>\n",
              "      <td>189</td>\n",
              "      <td>서귀포</td>\n",
              "      <td>1964-12-31</td>\n",
              "      <td>7.0</td>\n",
              "      <td>3.2</td>\n",
              "      <td>36.0</td>\n",
              "      <td>10.4</td>\n",
              "      <td>1115.0</td>\n",
              "    </tr>\n",
              "  </tbody>\n",
              "</table>\n",
              "<p>97719 rows × 8 columns</p>\n",
              "</div>\n",
              "      <button class=\"colab-df-convert\" onclick=\"convertToInteractive('df-60672a02-2f0b-439c-a473-d61b6b33b6ab')\"\n",
              "              title=\"Convert this dataframe to an interactive table.\"\n",
              "              style=\"display:none;\">\n",
              "        \n",
              "  <svg xmlns=\"http://www.w3.org/2000/svg\" height=\"24px\"viewBox=\"0 0 24 24\"\n",
              "       width=\"24px\">\n",
              "    <path d=\"M0 0h24v24H0V0z\" fill=\"none\"/>\n",
              "    <path d=\"M18.56 5.44l.94 2.06.94-2.06 2.06-.94-2.06-.94-.94-2.06-.94 2.06-2.06.94zm-11 1L8.5 8.5l.94-2.06 2.06-.94-2.06-.94L8.5 2.5l-.94 2.06-2.06.94zm10 10l.94 2.06.94-2.06 2.06-.94-2.06-.94-.94-2.06-.94 2.06-2.06.94z\"/><path d=\"M17.41 7.96l-1.37-1.37c-.4-.4-.92-.59-1.43-.59-.52 0-1.04.2-1.43.59L10.3 9.45l-7.72 7.72c-.78.78-.78 2.05 0 2.83L4 21.41c.39.39.9.59 1.41.59.51 0 1.02-.2 1.41-.59l7.78-7.78 2.81-2.81c.8-.78.8-2.07 0-2.86zM5.41 20L4 18.59l7.72-7.72 1.47 1.35L5.41 20z\"/>\n",
              "  </svg>\n",
              "      </button>\n",
              "      \n",
              "  <style>\n",
              "    .colab-df-container {\n",
              "      display:flex;\n",
              "      flex-wrap:wrap;\n",
              "      gap: 12px;\n",
              "    }\n",
              "\n",
              "    .colab-df-convert {\n",
              "      background-color: #E8F0FE;\n",
              "      border: none;\n",
              "      border-radius: 50%;\n",
              "      cursor: pointer;\n",
              "      display: none;\n",
              "      fill: #1967D2;\n",
              "      height: 32px;\n",
              "      padding: 0 0 0 0;\n",
              "      width: 32px;\n",
              "    }\n",
              "\n",
              "    .colab-df-convert:hover {\n",
              "      background-color: #E2EBFA;\n",
              "      box-shadow: 0px 1px 2px rgba(60, 64, 67, 0.3), 0px 1px 3px 1px rgba(60, 64, 67, 0.15);\n",
              "      fill: #174EA6;\n",
              "    }\n",
              "\n",
              "    [theme=dark] .colab-df-convert {\n",
              "      background-color: #3B4455;\n",
              "      fill: #D2E3FC;\n",
              "    }\n",
              "\n",
              "    [theme=dark] .colab-df-convert:hover {\n",
              "      background-color: #434B5C;\n",
              "      box-shadow: 0px 1px 3px 1px rgba(0, 0, 0, 0.15);\n",
              "      filter: drop-shadow(0px 1px 2px rgba(0, 0, 0, 0.3));\n",
              "      fill: #FFFFFF;\n",
              "    }\n",
              "  </style>\n",
              "\n",
              "      <script>\n",
              "        const buttonEl =\n",
              "          document.querySelector('#df-60672a02-2f0b-439c-a473-d61b6b33b6ab button.colab-df-convert');\n",
              "        buttonEl.style.display =\n",
              "          google.colab.kernel.accessAllowed ? 'block' : 'none';\n",
              "\n",
              "        async function convertToInteractive(key) {\n",
              "          const element = document.querySelector('#df-60672a02-2f0b-439c-a473-d61b6b33b6ab');\n",
              "          const dataTable =\n",
              "            await google.colab.kernel.invokeFunction('convertToInteractive',\n",
              "                                                     [key], {});\n",
              "          if (!dataTable) return;\n",
              "\n",
              "          const docLinkHtml = 'Like what you see? Visit the ' +\n",
              "            '<a target=\"_blank\" href=https://colab.research.google.com/notebooks/data_table.ipynb>data table notebook</a>'\n",
              "            + ' to learn more about interactive tables.';\n",
              "          element.innerHTML = '';\n",
              "          dataTable['output_type'] = 'display_data';\n",
              "          await google.colab.output.renderOutput(dataTable, element);\n",
              "          const docLink = document.createElement('div');\n",
              "          docLink.innerHTML = docLinkHtml;\n",
              "          element.appendChild(docLink);\n",
              "        }\n",
              "      </script>\n",
              "    </div>\n",
              "  </div>\n",
              "  "
            ]
          },
          "metadata": {},
          "execution_count": 6
        }
      ]
    },
    {
      "cell_type": "code",
      "source": [
        "df_concat.loc[0]"
      ],
      "metadata": {
        "colab": {
          "base_uri": "https://localhost:8080/",
          "height": 112
        },
        "id": "MdUEXK61Jo5p",
        "outputId": "08aa3612-b9e1-4ca9-a4de-8ab4c7bab537"
      },
      "execution_count": 7,
      "outputs": [
        {
          "output_type": "execute_result",
          "data": {
            "text/plain": [
              "    지점 지점명          일시  평균기온(°C)  최저기온(°C)  최저기온 시각(hhmi)  최고기온(°C)  \\\n",
              "0  105  강릉  1945-01-01      -3.2      -6.8            NaN       0.7   \n",
              "0  105  강릉  1955-01-01       0.0      -4.7            NaN       5.6   \n",
              "\n",
              "   최고기온 시각(hhmi)  \n",
              "0            NaN  \n",
              "0            NaN  "
            ],
            "text/html": [
              "\n",
              "  <div id=\"df-5e4fa75e-7b30-4393-a5ae-d2b447379528\">\n",
              "    <div class=\"colab-df-container\">\n",
              "      <div>\n",
              "<style scoped>\n",
              "    .dataframe tbody tr th:only-of-type {\n",
              "        vertical-align: middle;\n",
              "    }\n",
              "\n",
              "    .dataframe tbody tr th {\n",
              "        vertical-align: top;\n",
              "    }\n",
              "\n",
              "    .dataframe thead th {\n",
              "        text-align: right;\n",
              "    }\n",
              "</style>\n",
              "<table border=\"1\" class=\"dataframe\">\n",
              "  <thead>\n",
              "    <tr style=\"text-align: right;\">\n",
              "      <th></th>\n",
              "      <th>지점</th>\n",
              "      <th>지점명</th>\n",
              "      <th>일시</th>\n",
              "      <th>평균기온(°C)</th>\n",
              "      <th>최저기온(°C)</th>\n",
              "      <th>최저기온 시각(hhmi)</th>\n",
              "      <th>최고기온(°C)</th>\n",
              "      <th>최고기온 시각(hhmi)</th>\n",
              "    </tr>\n",
              "  </thead>\n",
              "  <tbody>\n",
              "    <tr>\n",
              "      <th>0</th>\n",
              "      <td>105</td>\n",
              "      <td>강릉</td>\n",
              "      <td>1945-01-01</td>\n",
              "      <td>-3.2</td>\n",
              "      <td>-6.8</td>\n",
              "      <td>NaN</td>\n",
              "      <td>0.7</td>\n",
              "      <td>NaN</td>\n",
              "    </tr>\n",
              "    <tr>\n",
              "      <th>0</th>\n",
              "      <td>105</td>\n",
              "      <td>강릉</td>\n",
              "      <td>1955-01-01</td>\n",
              "      <td>0.0</td>\n",
              "      <td>-4.7</td>\n",
              "      <td>NaN</td>\n",
              "      <td>5.6</td>\n",
              "      <td>NaN</td>\n",
              "    </tr>\n",
              "  </tbody>\n",
              "</table>\n",
              "</div>\n",
              "      <button class=\"colab-df-convert\" onclick=\"convertToInteractive('df-5e4fa75e-7b30-4393-a5ae-d2b447379528')\"\n",
              "              title=\"Convert this dataframe to an interactive table.\"\n",
              "              style=\"display:none;\">\n",
              "        \n",
              "  <svg xmlns=\"http://www.w3.org/2000/svg\" height=\"24px\"viewBox=\"0 0 24 24\"\n",
              "       width=\"24px\">\n",
              "    <path d=\"M0 0h24v24H0V0z\" fill=\"none\"/>\n",
              "    <path d=\"M18.56 5.44l.94 2.06.94-2.06 2.06-.94-2.06-.94-.94-2.06-.94 2.06-2.06.94zm-11 1L8.5 8.5l.94-2.06 2.06-.94-2.06-.94L8.5 2.5l-.94 2.06-2.06.94zm10 10l.94 2.06.94-2.06 2.06-.94-2.06-.94-.94-2.06-.94 2.06-2.06.94z\"/><path d=\"M17.41 7.96l-1.37-1.37c-.4-.4-.92-.59-1.43-.59-.52 0-1.04.2-1.43.59L10.3 9.45l-7.72 7.72c-.78.78-.78 2.05 0 2.83L4 21.41c.39.39.9.59 1.41.59.51 0 1.02-.2 1.41-.59l7.78-7.78 2.81-2.81c.8-.78.8-2.07 0-2.86zM5.41 20L4 18.59l7.72-7.72 1.47 1.35L5.41 20z\"/>\n",
              "  </svg>\n",
              "      </button>\n",
              "      \n",
              "  <style>\n",
              "    .colab-df-container {\n",
              "      display:flex;\n",
              "      flex-wrap:wrap;\n",
              "      gap: 12px;\n",
              "    }\n",
              "\n",
              "    .colab-df-convert {\n",
              "      background-color: #E8F0FE;\n",
              "      border: none;\n",
              "      border-radius: 50%;\n",
              "      cursor: pointer;\n",
              "      display: none;\n",
              "      fill: #1967D2;\n",
              "      height: 32px;\n",
              "      padding: 0 0 0 0;\n",
              "      width: 32px;\n",
              "    }\n",
              "\n",
              "    .colab-df-convert:hover {\n",
              "      background-color: #E2EBFA;\n",
              "      box-shadow: 0px 1px 2px rgba(60, 64, 67, 0.3), 0px 1px 3px 1px rgba(60, 64, 67, 0.15);\n",
              "      fill: #174EA6;\n",
              "    }\n",
              "\n",
              "    [theme=dark] .colab-df-convert {\n",
              "      background-color: #3B4455;\n",
              "      fill: #D2E3FC;\n",
              "    }\n",
              "\n",
              "    [theme=dark] .colab-df-convert:hover {\n",
              "      background-color: #434B5C;\n",
              "      box-shadow: 0px 1px 3px 1px rgba(0, 0, 0, 0.15);\n",
              "      filter: drop-shadow(0px 1px 2px rgba(0, 0, 0, 0.3));\n",
              "      fill: #FFFFFF;\n",
              "    }\n",
              "  </style>\n",
              "\n",
              "      <script>\n",
              "        const buttonEl =\n",
              "          document.querySelector('#df-5e4fa75e-7b30-4393-a5ae-d2b447379528 button.colab-df-convert');\n",
              "        buttonEl.style.display =\n",
              "          google.colab.kernel.accessAllowed ? 'block' : 'none';\n",
              "\n",
              "        async function convertToInteractive(key) {\n",
              "          const element = document.querySelector('#df-5e4fa75e-7b30-4393-a5ae-d2b447379528');\n",
              "          const dataTable =\n",
              "            await google.colab.kernel.invokeFunction('convertToInteractive',\n",
              "                                                     [key], {});\n",
              "          if (!dataTable) return;\n",
              "\n",
              "          const docLinkHtml = 'Like what you see? Visit the ' +\n",
              "            '<a target=\"_blank\" href=https://colab.research.google.com/notebooks/data_table.ipynb>data table notebook</a>'\n",
              "            + ' to learn more about interactive tables.';\n",
              "          element.innerHTML = '';\n",
              "          dataTable['output_type'] = 'display_data';\n",
              "          await google.colab.output.renderOutput(dataTable, element);\n",
              "          const docLink = document.createElement('div');\n",
              "          docLink.innerHTML = docLinkHtml;\n",
              "          element.appendChild(docLink);\n",
              "        }\n",
              "      </script>\n",
              "    </div>\n",
              "  </div>\n",
              "  "
            ]
          },
          "metadata": {},
          "execution_count": 7
        }
      ]
    },
    {
      "cell_type": "markdown",
      "source": [
        "###데이터타입으로 변경 : 일시 object"
      ],
      "metadata": {
        "id": "YkcXiQl1KRSy"
      }
    },
    {
      "cell_type": "code",
      "source": [
        "df_concat.columns, df_concat.dtypes"
      ],
      "metadata": {
        "colab": {
          "base_uri": "https://localhost:8080/"
        },
        "id": "UczxSZ7xP3b8",
        "outputId": "5e02d373-a127-43f4-d9d9-17f2b810bc0c"
      },
      "execution_count": 8,
      "outputs": [
        {
          "output_type": "execute_result",
          "data": {
            "text/plain": [
              "(Index(['지점', '지점명', '일시', '평균기온(°C)', '최저기온(°C)', '최저기온 시각(hhmi)', '최고기온(°C)',\n",
              "        '최고기온 시각(hhmi)'],\n",
              "       dtype='object'), 지점                 int64\n",
              " 지점명               object\n",
              " 일시                object\n",
              " 평균기온(°C)         float64\n",
              " 최저기온(°C)         float64\n",
              " 최저기온 시각(hhmi)    float64\n",
              " 최고기온(°C)         float64\n",
              " 최고기온 시각(hhmi)    float64\n",
              " dtype: object)"
            ]
          },
          "metadata": {},
          "execution_count": 8
        }
      ]
    },
    {
      "cell_type": "code",
      "source": [
        "df_concat['일시'] = pd.to_datetime(df_concat['일시'])\n",
        "df_concat.dtypes"
      ],
      "metadata": {
        "colab": {
          "base_uri": "https://localhost:8080/"
        },
        "id": "uPytwkGrKrnB",
        "outputId": "35968c85-51ff-4255-82a6-cc45918459a7"
      },
      "execution_count": 9,
      "outputs": [
        {
          "output_type": "execute_result",
          "data": {
            "text/plain": [
              "지점                        int64\n",
              "지점명                      object\n",
              "일시               datetime64[ns]\n",
              "평균기온(°C)                float64\n",
              "최저기온(°C)                float64\n",
              "최저기온 시각(hhmi)           float64\n",
              "최고기온(°C)                float64\n",
              "최고기온 시각(hhmi)           float64\n",
              "dtype: object"
            ]
          },
          "metadata": {},
          "execution_count": 9
        }
      ]
    },
    {
      "cell_type": "markdown",
      "source": [
        "##EDA"
      ],
      "metadata": {
        "id": "g3ZV5odxLpK3"
      }
    },
    {
      "cell_type": "code",
      "source": [
        "df_concat.info()"
      ],
      "metadata": {
        "colab": {
          "base_uri": "https://localhost:8080/"
        },
        "id": "WeflCQEmLGdG",
        "outputId": "cc3e4d53-d34c-40f1-cb8c-948828d4279e"
      },
      "execution_count": 10,
      "outputs": [
        {
          "output_type": "stream",
          "name": "stdout",
          "text": [
            "<class 'pandas.core.frame.DataFrame'>\n",
            "Int64Index: 97719 entries, 0 to 52967\n",
            "Data columns (total 8 columns):\n",
            " #   Column         Non-Null Count  Dtype         \n",
            "---  ------         --------------  -----         \n",
            " 0   지점             97719 non-null  int64         \n",
            " 1   지점명            97719 non-null  object        \n",
            " 2   일시             97719 non-null  datetime64[ns]\n",
            " 3   평균기온(°C)       97715 non-null  float64       \n",
            " 4   최저기온(°C)       97652 non-null  float64       \n",
            " 5   최저기온 시각(hhmi)  63242 non-null  float64       \n",
            " 6   최고기온(°C)       97673 non-null  float64       \n",
            " 7   최고기온 시각(hhmi)  63264 non-null  float64       \n",
            "dtypes: datetime64[ns](1), float64(5), int64(1), object(1)\n",
            "memory usage: 8.7+ MB\n"
          ]
        }
      ]
    },
    {
      "cell_type": "code",
      "source": [
        "df_concat['지점명'].unique(), #df_concat['지점명'].nunique(), "
      ],
      "metadata": {
        "colab": {
          "base_uri": "https://localhost:8080/"
        },
        "id": "BMdplT55LxrK",
        "outputId": "84af1be7-3f9a-4da8-a958-cb8256b7a646"
      },
      "execution_count": 11,
      "outputs": [
        {
          "output_type": "execute_result",
          "data": {
            "text/plain": [
              "(array(['강릉', '서울', '인천', '울릉도', '추풍령', '포항', '대구', '전주', '울산', '광주', '부산',\n",
              "        '목포', '여수', '제주', '수원', '서귀포'], dtype=object),)"
            ]
          },
          "metadata": {},
          "execution_count": 11
        }
      ]
    },
    {
      "cell_type": "code",
      "source": [
        "df_concat['일시'].dt.year.unique()"
      ],
      "metadata": {
        "colab": {
          "base_uri": "https://localhost:8080/"
        },
        "id": "LEXzapjtMVQG",
        "outputId": "8d01c49f-00ad-479d-a007-94a564bc63e6"
      },
      "execution_count": 12,
      "outputs": [
        {
          "output_type": "execute_result",
          "data": {
            "text/plain": [
              "array([1945, 1946, 1947, 1948, 1949, 1950, 1951, 1952, 1953, 1954, 1955,\n",
              "       1956, 1957, 1958, 1959, 1960, 1961, 1962, 1963, 1964])"
            ]
          },
          "metadata": {},
          "execution_count": 12
        }
      ]
    },
    {
      "cell_type": "code",
      "source": [
        "df_concat['일시'].dt.year.value_counts().sort_index()"
      ],
      "metadata": {
        "colab": {
          "base_uri": "https://localhost:8080/"
        },
        "id": "Ro2uUV7tMjw0",
        "outputId": "07318d1c-db9d-4853-bd4e-927edd7d8587"
      },
      "execution_count": 13,
      "outputs": [
        {
          "output_type": "execute_result",
          "data": {
            "text/plain": [
              "1945    4019\n",
              "1946    4380\n",
              "1947    4380\n",
              "1948    4387\n",
              "1949    5110\n",
              "1950    4212\n",
              "1951    3864\n",
              "1952    4513\n",
              "1953    4776\n",
              "1954    5110\n",
              "1955    5110\n",
              "1956    5124\n",
              "1957    5110\n",
              "1958    5110\n",
              "1959    5110\n",
              "1960    5124\n",
              "1961    5474\n",
              "1962    5475\n",
              "1963    5475\n",
              "1964    5856\n",
              "Name: 일시, dtype: int64"
            ]
          },
          "metadata": {},
          "execution_count": 13
        }
      ]
    },
    {
      "cell_type": "code",
      "source": [
        "df_concat['지점명'].value_counts().sort_values()"
      ],
      "metadata": {
        "colab": {
          "base_uri": "https://localhost:8080/"
        },
        "id": "fGfZM1T7M7FK",
        "outputId": "ec1504c6-5e35-4422-a7f3-613973069fea"
      },
      "execution_count": 14,
      "outputs": [
        {
          "output_type": "execute_result",
          "data": {
            "text/plain": [
              "수원      366\n",
              "서귀포    1460\n",
              "추풍령    5020\n",
              "포항     5691\n",
              "서울     6118\n",
              "인천     6818\n",
              "울산     6944\n",
              "강릉     6990\n",
              "여수     7177\n",
              "울릉도    7305\n",
              "대구     7305\n",
              "전주     7305\n",
              "광주     7305\n",
              "부산     7305\n",
              "목포     7305\n",
              "제주     7305\n",
              "Name: 지점명, dtype: int64"
            ]
          },
          "metadata": {},
          "execution_count": 14
        }
      ]
    },
    {
      "cell_type": "code",
      "source": [
        "df_concat['year'] = df_concat['일시'].dt.year\n",
        "df_concat"
      ],
      "metadata": {
        "id": "ST_g4htvj_ki",
        "colab": {
          "base_uri": "https://localhost:8080/",
          "height": 424
        },
        "outputId": "d2d74037-616b-4748-b57c-6e2b1ec1a685"
      },
      "execution_count": 15,
      "outputs": [
        {
          "output_type": "execute_result",
          "data": {
            "text/plain": [
              "        지점  지점명         일시  평균기온(°C)  최저기온(°C)  최저기온 시각(hhmi)  최고기온(°C)  \\\n",
              "0      105   강릉 1945-01-01      -3.2      -6.8            NaN       0.7   \n",
              "1      105   강릉 1945-01-02      -3.6      -8.4            NaN       0.5   \n",
              "2      105   강릉 1945-01-03       0.9      -4.0            NaN       5.0   \n",
              "3      105   강릉 1945-01-04       1.1      -3.2            NaN       4.9   \n",
              "4      105   강릉 1945-01-05      -5.7      -9.1            NaN      -1.4   \n",
              "...    ...  ...        ...       ...       ...            ...       ...   \n",
              "52963  189  서귀포 1964-12-27       9.3       4.4         2307.0      14.1   \n",
              "52964  189  서귀포 1964-12-28       8.6       3.2          323.0      13.2   \n",
              "52965  189  서귀포 1964-12-29       8.4       3.6          602.0      15.1   \n",
              "52966  189  서귀포 1964-12-30      10.1       3.8         2348.0      14.5   \n",
              "52967  189  서귀포 1964-12-31       7.0       3.2           36.0      10.4   \n",
              "\n",
              "       최고기온 시각(hhmi)  year  \n",
              "0                NaN  1945  \n",
              "1                NaN  1945  \n",
              "2                NaN  1945  \n",
              "3                NaN  1945  \n",
              "4                NaN  1945  \n",
              "...              ...   ...  \n",
              "52963         1227.0  1964  \n",
              "52964         1238.0  1964  \n",
              "52965         1318.0  1964  \n",
              "52966         1328.0  1964  \n",
              "52967         1115.0  1964  \n",
              "\n",
              "[97719 rows x 9 columns]"
            ],
            "text/html": [
              "\n",
              "  <div id=\"df-74445b26-e139-4dfc-bbca-6539725b1c05\">\n",
              "    <div class=\"colab-df-container\">\n",
              "      <div>\n",
              "<style scoped>\n",
              "    .dataframe tbody tr th:only-of-type {\n",
              "        vertical-align: middle;\n",
              "    }\n",
              "\n",
              "    .dataframe tbody tr th {\n",
              "        vertical-align: top;\n",
              "    }\n",
              "\n",
              "    .dataframe thead th {\n",
              "        text-align: right;\n",
              "    }\n",
              "</style>\n",
              "<table border=\"1\" class=\"dataframe\">\n",
              "  <thead>\n",
              "    <tr style=\"text-align: right;\">\n",
              "      <th></th>\n",
              "      <th>지점</th>\n",
              "      <th>지점명</th>\n",
              "      <th>일시</th>\n",
              "      <th>평균기온(°C)</th>\n",
              "      <th>최저기온(°C)</th>\n",
              "      <th>최저기온 시각(hhmi)</th>\n",
              "      <th>최고기온(°C)</th>\n",
              "      <th>최고기온 시각(hhmi)</th>\n",
              "      <th>year</th>\n",
              "    </tr>\n",
              "  </thead>\n",
              "  <tbody>\n",
              "    <tr>\n",
              "      <th>0</th>\n",
              "      <td>105</td>\n",
              "      <td>강릉</td>\n",
              "      <td>1945-01-01</td>\n",
              "      <td>-3.2</td>\n",
              "      <td>-6.8</td>\n",
              "      <td>NaN</td>\n",
              "      <td>0.7</td>\n",
              "      <td>NaN</td>\n",
              "      <td>1945</td>\n",
              "    </tr>\n",
              "    <tr>\n",
              "      <th>1</th>\n",
              "      <td>105</td>\n",
              "      <td>강릉</td>\n",
              "      <td>1945-01-02</td>\n",
              "      <td>-3.6</td>\n",
              "      <td>-8.4</td>\n",
              "      <td>NaN</td>\n",
              "      <td>0.5</td>\n",
              "      <td>NaN</td>\n",
              "      <td>1945</td>\n",
              "    </tr>\n",
              "    <tr>\n",
              "      <th>2</th>\n",
              "      <td>105</td>\n",
              "      <td>강릉</td>\n",
              "      <td>1945-01-03</td>\n",
              "      <td>0.9</td>\n",
              "      <td>-4.0</td>\n",
              "      <td>NaN</td>\n",
              "      <td>5.0</td>\n",
              "      <td>NaN</td>\n",
              "      <td>1945</td>\n",
              "    </tr>\n",
              "    <tr>\n",
              "      <th>3</th>\n",
              "      <td>105</td>\n",
              "      <td>강릉</td>\n",
              "      <td>1945-01-04</td>\n",
              "      <td>1.1</td>\n",
              "      <td>-3.2</td>\n",
              "      <td>NaN</td>\n",
              "      <td>4.9</td>\n",
              "      <td>NaN</td>\n",
              "      <td>1945</td>\n",
              "    </tr>\n",
              "    <tr>\n",
              "      <th>4</th>\n",
              "      <td>105</td>\n",
              "      <td>강릉</td>\n",
              "      <td>1945-01-05</td>\n",
              "      <td>-5.7</td>\n",
              "      <td>-9.1</td>\n",
              "      <td>NaN</td>\n",
              "      <td>-1.4</td>\n",
              "      <td>NaN</td>\n",
              "      <td>1945</td>\n",
              "    </tr>\n",
              "    <tr>\n",
              "      <th>...</th>\n",
              "      <td>...</td>\n",
              "      <td>...</td>\n",
              "      <td>...</td>\n",
              "      <td>...</td>\n",
              "      <td>...</td>\n",
              "      <td>...</td>\n",
              "      <td>...</td>\n",
              "      <td>...</td>\n",
              "      <td>...</td>\n",
              "    </tr>\n",
              "    <tr>\n",
              "      <th>52963</th>\n",
              "      <td>189</td>\n",
              "      <td>서귀포</td>\n",
              "      <td>1964-12-27</td>\n",
              "      <td>9.3</td>\n",
              "      <td>4.4</td>\n",
              "      <td>2307.0</td>\n",
              "      <td>14.1</td>\n",
              "      <td>1227.0</td>\n",
              "      <td>1964</td>\n",
              "    </tr>\n",
              "    <tr>\n",
              "      <th>52964</th>\n",
              "      <td>189</td>\n",
              "      <td>서귀포</td>\n",
              "      <td>1964-12-28</td>\n",
              "      <td>8.6</td>\n",
              "      <td>3.2</td>\n",
              "      <td>323.0</td>\n",
              "      <td>13.2</td>\n",
              "      <td>1238.0</td>\n",
              "      <td>1964</td>\n",
              "    </tr>\n",
              "    <tr>\n",
              "      <th>52965</th>\n",
              "      <td>189</td>\n",
              "      <td>서귀포</td>\n",
              "      <td>1964-12-29</td>\n",
              "      <td>8.4</td>\n",
              "      <td>3.6</td>\n",
              "      <td>602.0</td>\n",
              "      <td>15.1</td>\n",
              "      <td>1318.0</td>\n",
              "      <td>1964</td>\n",
              "    </tr>\n",
              "    <tr>\n",
              "      <th>52966</th>\n",
              "      <td>189</td>\n",
              "      <td>서귀포</td>\n",
              "      <td>1964-12-30</td>\n",
              "      <td>10.1</td>\n",
              "      <td>3.8</td>\n",
              "      <td>2348.0</td>\n",
              "      <td>14.5</td>\n",
              "      <td>1328.0</td>\n",
              "      <td>1964</td>\n",
              "    </tr>\n",
              "    <tr>\n",
              "      <th>52967</th>\n",
              "      <td>189</td>\n",
              "      <td>서귀포</td>\n",
              "      <td>1964-12-31</td>\n",
              "      <td>7.0</td>\n",
              "      <td>3.2</td>\n",
              "      <td>36.0</td>\n",
              "      <td>10.4</td>\n",
              "      <td>1115.0</td>\n",
              "      <td>1964</td>\n",
              "    </tr>\n",
              "  </tbody>\n",
              "</table>\n",
              "<p>97719 rows × 9 columns</p>\n",
              "</div>\n",
              "      <button class=\"colab-df-convert\" onclick=\"convertToInteractive('df-74445b26-e139-4dfc-bbca-6539725b1c05')\"\n",
              "              title=\"Convert this dataframe to an interactive table.\"\n",
              "              style=\"display:none;\">\n",
              "        \n",
              "  <svg xmlns=\"http://www.w3.org/2000/svg\" height=\"24px\"viewBox=\"0 0 24 24\"\n",
              "       width=\"24px\">\n",
              "    <path d=\"M0 0h24v24H0V0z\" fill=\"none\"/>\n",
              "    <path d=\"M18.56 5.44l.94 2.06.94-2.06 2.06-.94-2.06-.94-.94-2.06-.94 2.06-2.06.94zm-11 1L8.5 8.5l.94-2.06 2.06-.94-2.06-.94L8.5 2.5l-.94 2.06-2.06.94zm10 10l.94 2.06.94-2.06 2.06-.94-2.06-.94-.94-2.06-.94 2.06-2.06.94z\"/><path d=\"M17.41 7.96l-1.37-1.37c-.4-.4-.92-.59-1.43-.59-.52 0-1.04.2-1.43.59L10.3 9.45l-7.72 7.72c-.78.78-.78 2.05 0 2.83L4 21.41c.39.39.9.59 1.41.59.51 0 1.02-.2 1.41-.59l7.78-7.78 2.81-2.81c.8-.78.8-2.07 0-2.86zM5.41 20L4 18.59l7.72-7.72 1.47 1.35L5.41 20z\"/>\n",
              "  </svg>\n",
              "      </button>\n",
              "      \n",
              "  <style>\n",
              "    .colab-df-container {\n",
              "      display:flex;\n",
              "      flex-wrap:wrap;\n",
              "      gap: 12px;\n",
              "    }\n",
              "\n",
              "    .colab-df-convert {\n",
              "      background-color: #E8F0FE;\n",
              "      border: none;\n",
              "      border-radius: 50%;\n",
              "      cursor: pointer;\n",
              "      display: none;\n",
              "      fill: #1967D2;\n",
              "      height: 32px;\n",
              "      padding: 0 0 0 0;\n",
              "      width: 32px;\n",
              "    }\n",
              "\n",
              "    .colab-df-convert:hover {\n",
              "      background-color: #E2EBFA;\n",
              "      box-shadow: 0px 1px 2px rgba(60, 64, 67, 0.3), 0px 1px 3px 1px rgba(60, 64, 67, 0.15);\n",
              "      fill: #174EA6;\n",
              "    }\n",
              "\n",
              "    [theme=dark] .colab-df-convert {\n",
              "      background-color: #3B4455;\n",
              "      fill: #D2E3FC;\n",
              "    }\n",
              "\n",
              "    [theme=dark] .colab-df-convert:hover {\n",
              "      background-color: #434B5C;\n",
              "      box-shadow: 0px 1px 3px 1px rgba(0, 0, 0, 0.15);\n",
              "      filter: drop-shadow(0px 1px 2px rgba(0, 0, 0, 0.3));\n",
              "      fill: #FFFFFF;\n",
              "    }\n",
              "  </style>\n",
              "\n",
              "      <script>\n",
              "        const buttonEl =\n",
              "          document.querySelector('#df-74445b26-e139-4dfc-bbca-6539725b1c05 button.colab-df-convert');\n",
              "        buttonEl.style.display =\n",
              "          google.colab.kernel.accessAllowed ? 'block' : 'none';\n",
              "\n",
              "        async function convertToInteractive(key) {\n",
              "          const element = document.querySelector('#df-74445b26-e139-4dfc-bbca-6539725b1c05');\n",
              "          const dataTable =\n",
              "            await google.colab.kernel.invokeFunction('convertToInteractive',\n",
              "                                                     [key], {});\n",
              "          if (!dataTable) return;\n",
              "\n",
              "          const docLinkHtml = 'Like what you see? Visit the ' +\n",
              "            '<a target=\"_blank\" href=https://colab.research.google.com/notebooks/data_table.ipynb>data table notebook</a>'\n",
              "            + ' to learn more about interactive tables.';\n",
              "          element.innerHTML = '';\n",
              "          dataTable['output_type'] = 'display_data';\n",
              "          await google.colab.output.renderOutput(dataTable, element);\n",
              "          const docLink = document.createElement('div');\n",
              "          docLink.innerHTML = docLinkHtml;\n",
              "          element.appendChild(docLink);\n",
              "        }\n",
              "      </script>\n",
              "    </div>\n",
              "  </div>\n",
              "  "
            ]
          },
          "metadata": {},
          "execution_count": 15
        }
      ]
    },
    {
      "cell_type": "markdown",
      "source": [
        "##기온 데이터 분석"
      ],
      "metadata": {
        "id": "nq7bi_WGO-Yg"
      }
    },
    {
      "cell_type": "code",
      "source": [
        "df_concat['year'].unique()"
      ],
      "metadata": {
        "id": "W19mbiqWQwdI",
        "outputId": "18d85dd1-d32b-4491-b760-b820fed40049",
        "colab": {
          "base_uri": "https://localhost:8080/"
        }
      },
      "execution_count": 16,
      "outputs": [
        {
          "output_type": "execute_result",
          "data": {
            "text/plain": [
              "array([1945, 1946, 1947, 1948, 1949, 1950, 1951, 1952, 1953, 1954, 1955,\n",
              "       1956, 1957, 1958, 1959, 1960, 1961, 1962, 1963, 1964])"
            ]
          },
          "metadata": {},
          "execution_count": 16
        }
      ]
    },
    {
      "cell_type": "code",
      "source": [
        "all_year_1962 = df_concat[df_concat['year']==1962].copy()\n",
        "all_year_1962"
      ],
      "metadata": {
        "id": "MPPXGJcMZjp1",
        "colab": {
          "base_uri": "https://localhost:8080/",
          "height": 424
        },
        "outputId": "07b0edbf-2196-48cf-e999-1bd16a4d5331"
      },
      "execution_count": 17,
      "outputs": [
        {
          "output_type": "execute_result",
          "data": {
            "text/plain": [
              "        지점  지점명         일시  평균기온(°C)  최저기온(°C)  최저기온 시각(hhmi)  최고기온(°C)  \\\n",
              "2557   105   강릉 1962-01-01       0.5      -2.7            NaN       3.1   \n",
              "2558   105   강릉 1962-01-02      -0.4      -3.9            NaN       3.8   \n",
              "2559   105   강릉 1962-01-03       0.0      -4.6            NaN       4.4   \n",
              "2560   105   강릉 1962-01-04       2.1      -4.7            NaN       5.5   \n",
              "2561   105   강릉 1962-01-05      -4.1      -7.8            NaN       0.8   \n",
              "...    ...  ...        ...       ...       ...            ...       ...   \n",
              "52232  189  서귀포 1962-12-27      13.7      12.2          933.0      14.8   \n",
              "52233  189  서귀포 1962-12-28      13.1      12.0          208.0      15.3   \n",
              "52234  189  서귀포 1962-12-29      13.6      10.8          307.0      17.0   \n",
              "52235  189  서귀포 1962-12-30       3.8       1.7          748.0      13.3   \n",
              "52236  189  서귀포 1962-12-31       3.5       1.0          728.0       5.6   \n",
              "\n",
              "       최고기온 시각(hhmi)  year  \n",
              "2557             NaN  1962  \n",
              "2558             NaN  1962  \n",
              "2559             NaN  1962  \n",
              "2560             NaN  1962  \n",
              "2561             NaN  1962  \n",
              "...              ...   ...  \n",
              "52232         1416.0  1962  \n",
              "52233         1448.0  1962  \n",
              "52234         1253.0  1962  \n",
              "52235           14.0  1962  \n",
              "52236         1515.0  1962  \n",
              "\n",
              "[5475 rows x 9 columns]"
            ],
            "text/html": [
              "\n",
              "  <div id=\"df-9c941eb2-03e4-4264-800d-1e9ba7c88c56\">\n",
              "    <div class=\"colab-df-container\">\n",
              "      <div>\n",
              "<style scoped>\n",
              "    .dataframe tbody tr th:only-of-type {\n",
              "        vertical-align: middle;\n",
              "    }\n",
              "\n",
              "    .dataframe tbody tr th {\n",
              "        vertical-align: top;\n",
              "    }\n",
              "\n",
              "    .dataframe thead th {\n",
              "        text-align: right;\n",
              "    }\n",
              "</style>\n",
              "<table border=\"1\" class=\"dataframe\">\n",
              "  <thead>\n",
              "    <tr style=\"text-align: right;\">\n",
              "      <th></th>\n",
              "      <th>지점</th>\n",
              "      <th>지점명</th>\n",
              "      <th>일시</th>\n",
              "      <th>평균기온(°C)</th>\n",
              "      <th>최저기온(°C)</th>\n",
              "      <th>최저기온 시각(hhmi)</th>\n",
              "      <th>최고기온(°C)</th>\n",
              "      <th>최고기온 시각(hhmi)</th>\n",
              "      <th>year</th>\n",
              "    </tr>\n",
              "  </thead>\n",
              "  <tbody>\n",
              "    <tr>\n",
              "      <th>2557</th>\n",
              "      <td>105</td>\n",
              "      <td>강릉</td>\n",
              "      <td>1962-01-01</td>\n",
              "      <td>0.5</td>\n",
              "      <td>-2.7</td>\n",
              "      <td>NaN</td>\n",
              "      <td>3.1</td>\n",
              "      <td>NaN</td>\n",
              "      <td>1962</td>\n",
              "    </tr>\n",
              "    <tr>\n",
              "      <th>2558</th>\n",
              "      <td>105</td>\n",
              "      <td>강릉</td>\n",
              "      <td>1962-01-02</td>\n",
              "      <td>-0.4</td>\n",
              "      <td>-3.9</td>\n",
              "      <td>NaN</td>\n",
              "      <td>3.8</td>\n",
              "      <td>NaN</td>\n",
              "      <td>1962</td>\n",
              "    </tr>\n",
              "    <tr>\n",
              "      <th>2559</th>\n",
              "      <td>105</td>\n",
              "      <td>강릉</td>\n",
              "      <td>1962-01-03</td>\n",
              "      <td>0.0</td>\n",
              "      <td>-4.6</td>\n",
              "      <td>NaN</td>\n",
              "      <td>4.4</td>\n",
              "      <td>NaN</td>\n",
              "      <td>1962</td>\n",
              "    </tr>\n",
              "    <tr>\n",
              "      <th>2560</th>\n",
              "      <td>105</td>\n",
              "      <td>강릉</td>\n",
              "      <td>1962-01-04</td>\n",
              "      <td>2.1</td>\n",
              "      <td>-4.7</td>\n",
              "      <td>NaN</td>\n",
              "      <td>5.5</td>\n",
              "      <td>NaN</td>\n",
              "      <td>1962</td>\n",
              "    </tr>\n",
              "    <tr>\n",
              "      <th>2561</th>\n",
              "      <td>105</td>\n",
              "      <td>강릉</td>\n",
              "      <td>1962-01-05</td>\n",
              "      <td>-4.1</td>\n",
              "      <td>-7.8</td>\n",
              "      <td>NaN</td>\n",
              "      <td>0.8</td>\n",
              "      <td>NaN</td>\n",
              "      <td>1962</td>\n",
              "    </tr>\n",
              "    <tr>\n",
              "      <th>...</th>\n",
              "      <td>...</td>\n",
              "      <td>...</td>\n",
              "      <td>...</td>\n",
              "      <td>...</td>\n",
              "      <td>...</td>\n",
              "      <td>...</td>\n",
              "      <td>...</td>\n",
              "      <td>...</td>\n",
              "      <td>...</td>\n",
              "    </tr>\n",
              "    <tr>\n",
              "      <th>52232</th>\n",
              "      <td>189</td>\n",
              "      <td>서귀포</td>\n",
              "      <td>1962-12-27</td>\n",
              "      <td>13.7</td>\n",
              "      <td>12.2</td>\n",
              "      <td>933.0</td>\n",
              "      <td>14.8</td>\n",
              "      <td>1416.0</td>\n",
              "      <td>1962</td>\n",
              "    </tr>\n",
              "    <tr>\n",
              "      <th>52233</th>\n",
              "      <td>189</td>\n",
              "      <td>서귀포</td>\n",
              "      <td>1962-12-28</td>\n",
              "      <td>13.1</td>\n",
              "      <td>12.0</td>\n",
              "      <td>208.0</td>\n",
              "      <td>15.3</td>\n",
              "      <td>1448.0</td>\n",
              "      <td>1962</td>\n",
              "    </tr>\n",
              "    <tr>\n",
              "      <th>52234</th>\n",
              "      <td>189</td>\n",
              "      <td>서귀포</td>\n",
              "      <td>1962-12-29</td>\n",
              "      <td>13.6</td>\n",
              "      <td>10.8</td>\n",
              "      <td>307.0</td>\n",
              "      <td>17.0</td>\n",
              "      <td>1253.0</td>\n",
              "      <td>1962</td>\n",
              "    </tr>\n",
              "    <tr>\n",
              "      <th>52235</th>\n",
              "      <td>189</td>\n",
              "      <td>서귀포</td>\n",
              "      <td>1962-12-30</td>\n",
              "      <td>3.8</td>\n",
              "      <td>1.7</td>\n",
              "      <td>748.0</td>\n",
              "      <td>13.3</td>\n",
              "      <td>14.0</td>\n",
              "      <td>1962</td>\n",
              "    </tr>\n",
              "    <tr>\n",
              "      <th>52236</th>\n",
              "      <td>189</td>\n",
              "      <td>서귀포</td>\n",
              "      <td>1962-12-31</td>\n",
              "      <td>3.5</td>\n",
              "      <td>1.0</td>\n",
              "      <td>728.0</td>\n",
              "      <td>5.6</td>\n",
              "      <td>1515.0</td>\n",
              "      <td>1962</td>\n",
              "    </tr>\n",
              "  </tbody>\n",
              "</table>\n",
              "<p>5475 rows × 9 columns</p>\n",
              "</div>\n",
              "      <button class=\"colab-df-convert\" onclick=\"convertToInteractive('df-9c941eb2-03e4-4264-800d-1e9ba7c88c56')\"\n",
              "              title=\"Convert this dataframe to an interactive table.\"\n",
              "              style=\"display:none;\">\n",
              "        \n",
              "  <svg xmlns=\"http://www.w3.org/2000/svg\" height=\"24px\"viewBox=\"0 0 24 24\"\n",
              "       width=\"24px\">\n",
              "    <path d=\"M0 0h24v24H0V0z\" fill=\"none\"/>\n",
              "    <path d=\"M18.56 5.44l.94 2.06.94-2.06 2.06-.94-2.06-.94-.94-2.06-.94 2.06-2.06.94zm-11 1L8.5 8.5l.94-2.06 2.06-.94-2.06-.94L8.5 2.5l-.94 2.06-2.06.94zm10 10l.94 2.06.94-2.06 2.06-.94-2.06-.94-.94-2.06-.94 2.06-2.06.94z\"/><path d=\"M17.41 7.96l-1.37-1.37c-.4-.4-.92-.59-1.43-.59-.52 0-1.04.2-1.43.59L10.3 9.45l-7.72 7.72c-.78.78-.78 2.05 0 2.83L4 21.41c.39.39.9.59 1.41.59.51 0 1.02-.2 1.41-.59l7.78-7.78 2.81-2.81c.8-.78.8-2.07 0-2.86zM5.41 20L4 18.59l7.72-7.72 1.47 1.35L5.41 20z\"/>\n",
              "  </svg>\n",
              "      </button>\n",
              "      \n",
              "  <style>\n",
              "    .colab-df-container {\n",
              "      display:flex;\n",
              "      flex-wrap:wrap;\n",
              "      gap: 12px;\n",
              "    }\n",
              "\n",
              "    .colab-df-convert {\n",
              "      background-color: #E8F0FE;\n",
              "      border: none;\n",
              "      border-radius: 50%;\n",
              "      cursor: pointer;\n",
              "      display: none;\n",
              "      fill: #1967D2;\n",
              "      height: 32px;\n",
              "      padding: 0 0 0 0;\n",
              "      width: 32px;\n",
              "    }\n",
              "\n",
              "    .colab-df-convert:hover {\n",
              "      background-color: #E2EBFA;\n",
              "      box-shadow: 0px 1px 2px rgba(60, 64, 67, 0.3), 0px 1px 3px 1px rgba(60, 64, 67, 0.15);\n",
              "      fill: #174EA6;\n",
              "    }\n",
              "\n",
              "    [theme=dark] .colab-df-convert {\n",
              "      background-color: #3B4455;\n",
              "      fill: #D2E3FC;\n",
              "    }\n",
              "\n",
              "    [theme=dark] .colab-df-convert:hover {\n",
              "      background-color: #434B5C;\n",
              "      box-shadow: 0px 1px 3px 1px rgba(0, 0, 0, 0.15);\n",
              "      filter: drop-shadow(0px 1px 2px rgba(0, 0, 0, 0.3));\n",
              "      fill: #FFFFFF;\n",
              "    }\n",
              "  </style>\n",
              "\n",
              "      <script>\n",
              "        const buttonEl =\n",
              "          document.querySelector('#df-9c941eb2-03e4-4264-800d-1e9ba7c88c56 button.colab-df-convert');\n",
              "        buttonEl.style.display =\n",
              "          google.colab.kernel.accessAllowed ? 'block' : 'none';\n",
              "\n",
              "        async function convertToInteractive(key) {\n",
              "          const element = document.querySelector('#df-9c941eb2-03e4-4264-800d-1e9ba7c88c56');\n",
              "          const dataTable =\n",
              "            await google.colab.kernel.invokeFunction('convertToInteractive',\n",
              "                                                     [key], {});\n",
              "          if (!dataTable) return;\n",
              "\n",
              "          const docLinkHtml = 'Like what you see? Visit the ' +\n",
              "            '<a target=\"_blank\" href=https://colab.research.google.com/notebooks/data_table.ipynb>data table notebook</a>'\n",
              "            + ' to learn more about interactive tables.';\n",
              "          element.innerHTML = '';\n",
              "          dataTable['output_type'] = 'display_data';\n",
              "          await google.colab.output.renderOutput(dataTable, element);\n",
              "          const docLink = document.createElement('div');\n",
              "          docLink.innerHTML = docLinkHtml;\n",
              "          element.appendChild(docLink);\n",
              "        }\n",
              "      </script>\n",
              "    </div>\n",
              "  </div>\n",
              "  "
            ]
          },
          "metadata": {},
          "execution_count": 17
        }
      ]
    },
    {
      "cell_type": "code",
      "source": [
        "all_year_1962['지점명'].value_counts()"
      ],
      "metadata": {
        "colab": {
          "base_uri": "https://localhost:8080/"
        },
        "id": "w71tYAAhPlHZ",
        "outputId": "4fae30d8-2253-4f43-cdac-5373035b7400"
      },
      "execution_count": 18,
      "outputs": [
        {
          "output_type": "execute_result",
          "data": {
            "text/plain": [
              "강릉     365\n",
              "서울     365\n",
              "인천     365\n",
              "울릉도    365\n",
              "추풍령    365\n",
              "포항     365\n",
              "대구     365\n",
              "전주     365\n",
              "울산     365\n",
              "광주     365\n",
              "부산     365\n",
              "목포     365\n",
              "여수     365\n",
              "제주     365\n",
              "서귀포    365\n",
              "Name: 지점명, dtype: int64"
            ]
          },
          "metadata": {},
          "execution_count": 18
        }
      ]
    },
    {
      "cell_type": "markdown",
      "source": [
        "###결측치 확인"
      ],
      "metadata": {
        "id": "ovrRMq5NRpWy"
      }
    },
    {
      "cell_type": "code",
      "source": [
        "all_year_1962.isnull().sum()"
      ],
      "metadata": {
        "id": "rjN-2NiVRoY0",
        "outputId": "61f1d1ab-4675-4d07-d98e-68d2cbc58a47",
        "colab": {
          "base_uri": "https://localhost:8080/"
        }
      },
      "execution_count": 19,
      "outputs": [
        {
          "output_type": "execute_result",
          "data": {
            "text/plain": [
              "지점                 0\n",
              "지점명                0\n",
              "일시                 0\n",
              "평균기온(°C)           0\n",
              "최저기온(°C)           0\n",
              "최저기온 시각(hhmi)    380\n",
              "최고기온(°C)           0\n",
              "최고기온 시각(hhmi)    380\n",
              "year               0\n",
              "dtype: int64"
            ]
          },
          "metadata": {},
          "execution_count": 19
        }
      ]
    },
    {
      "cell_type": "code",
      "source": [
        "codition = all_year_1962['최저기온 시각(hhmi)'].isnull() | all_year_1962['최고기온 시각(hhmi)'].isnull()\n",
        "all_year_1962[codition] #.count()"
      ],
      "metadata": {
        "id": "pABM7spfR2Ww",
        "outputId": "9b452215-f471-4aed-8089-74e40bb7eb4e",
        "colab": {
          "base_uri": "https://localhost:8080/",
          "height": 424
        }
      },
      "execution_count": 20,
      "outputs": [
        {
          "output_type": "execute_result",
          "data": {
            "text/plain": [
              "        지점  지점명         일시  평균기온(°C)  최저기온(°C)  최저기온 시각(hhmi)  최고기온(°C)  \\\n",
              "2557   105   강릉 1962-01-01       0.5      -2.7            NaN       3.1   \n",
              "2558   105   강릉 1962-01-02      -0.4      -3.9            NaN       3.8   \n",
              "2559   105   강릉 1962-01-03       0.0      -4.6            NaN       4.4   \n",
              "2560   105   강릉 1962-01-04       2.1      -4.7            NaN       5.5   \n",
              "2561   105   강릉 1962-01-05      -4.1      -7.8            NaN       0.8   \n",
              "...    ...  ...        ...       ...       ...            ...       ...   \n",
              "51998  189  서귀포 1962-05-07      15.7      12.4            NaN      20.2   \n",
              "52082  189  서귀포 1962-07-30      28.3      26.8            NaN      30.9   \n",
              "52087  189  서귀포 1962-08-04      25.2      23.8            NaN      27.6   \n",
              "52090  189  서귀포 1962-08-07      26.1      25.0            NaN      28.0   \n",
              "52129  189  서귀포 1962-09-15      23.5      20.4            NaN      26.5   \n",
              "\n",
              "       최고기온 시각(hhmi)  year  \n",
              "2557             NaN  1962  \n",
              "2558             NaN  1962  \n",
              "2559             NaN  1962  \n",
              "2560             NaN  1962  \n",
              "2561             NaN  1962  \n",
              "...              ...   ...  \n",
              "51998            NaN  1962  \n",
              "52082            NaN  1962  \n",
              "52087            NaN  1962  \n",
              "52090            NaN  1962  \n",
              "52129            NaN  1962  \n",
              "\n",
              "[380 rows x 9 columns]"
            ],
            "text/html": [
              "\n",
              "  <div id=\"df-a463d1d6-9295-4dec-8389-528bf8b8a2e4\">\n",
              "    <div class=\"colab-df-container\">\n",
              "      <div>\n",
              "<style scoped>\n",
              "    .dataframe tbody tr th:only-of-type {\n",
              "        vertical-align: middle;\n",
              "    }\n",
              "\n",
              "    .dataframe tbody tr th {\n",
              "        vertical-align: top;\n",
              "    }\n",
              "\n",
              "    .dataframe thead th {\n",
              "        text-align: right;\n",
              "    }\n",
              "</style>\n",
              "<table border=\"1\" class=\"dataframe\">\n",
              "  <thead>\n",
              "    <tr style=\"text-align: right;\">\n",
              "      <th></th>\n",
              "      <th>지점</th>\n",
              "      <th>지점명</th>\n",
              "      <th>일시</th>\n",
              "      <th>평균기온(°C)</th>\n",
              "      <th>최저기온(°C)</th>\n",
              "      <th>최저기온 시각(hhmi)</th>\n",
              "      <th>최고기온(°C)</th>\n",
              "      <th>최고기온 시각(hhmi)</th>\n",
              "      <th>year</th>\n",
              "    </tr>\n",
              "  </thead>\n",
              "  <tbody>\n",
              "    <tr>\n",
              "      <th>2557</th>\n",
              "      <td>105</td>\n",
              "      <td>강릉</td>\n",
              "      <td>1962-01-01</td>\n",
              "      <td>0.5</td>\n",
              "      <td>-2.7</td>\n",
              "      <td>NaN</td>\n",
              "      <td>3.1</td>\n",
              "      <td>NaN</td>\n",
              "      <td>1962</td>\n",
              "    </tr>\n",
              "    <tr>\n",
              "      <th>2558</th>\n",
              "      <td>105</td>\n",
              "      <td>강릉</td>\n",
              "      <td>1962-01-02</td>\n",
              "      <td>-0.4</td>\n",
              "      <td>-3.9</td>\n",
              "      <td>NaN</td>\n",
              "      <td>3.8</td>\n",
              "      <td>NaN</td>\n",
              "      <td>1962</td>\n",
              "    </tr>\n",
              "    <tr>\n",
              "      <th>2559</th>\n",
              "      <td>105</td>\n",
              "      <td>강릉</td>\n",
              "      <td>1962-01-03</td>\n",
              "      <td>0.0</td>\n",
              "      <td>-4.6</td>\n",
              "      <td>NaN</td>\n",
              "      <td>4.4</td>\n",
              "      <td>NaN</td>\n",
              "      <td>1962</td>\n",
              "    </tr>\n",
              "    <tr>\n",
              "      <th>2560</th>\n",
              "      <td>105</td>\n",
              "      <td>강릉</td>\n",
              "      <td>1962-01-04</td>\n",
              "      <td>2.1</td>\n",
              "      <td>-4.7</td>\n",
              "      <td>NaN</td>\n",
              "      <td>5.5</td>\n",
              "      <td>NaN</td>\n",
              "      <td>1962</td>\n",
              "    </tr>\n",
              "    <tr>\n",
              "      <th>2561</th>\n",
              "      <td>105</td>\n",
              "      <td>강릉</td>\n",
              "      <td>1962-01-05</td>\n",
              "      <td>-4.1</td>\n",
              "      <td>-7.8</td>\n",
              "      <td>NaN</td>\n",
              "      <td>0.8</td>\n",
              "      <td>NaN</td>\n",
              "      <td>1962</td>\n",
              "    </tr>\n",
              "    <tr>\n",
              "      <th>...</th>\n",
              "      <td>...</td>\n",
              "      <td>...</td>\n",
              "      <td>...</td>\n",
              "      <td>...</td>\n",
              "      <td>...</td>\n",
              "      <td>...</td>\n",
              "      <td>...</td>\n",
              "      <td>...</td>\n",
              "      <td>...</td>\n",
              "    </tr>\n",
              "    <tr>\n",
              "      <th>51998</th>\n",
              "      <td>189</td>\n",
              "      <td>서귀포</td>\n",
              "      <td>1962-05-07</td>\n",
              "      <td>15.7</td>\n",
              "      <td>12.4</td>\n",
              "      <td>NaN</td>\n",
              "      <td>20.2</td>\n",
              "      <td>NaN</td>\n",
              "      <td>1962</td>\n",
              "    </tr>\n",
              "    <tr>\n",
              "      <th>52082</th>\n",
              "      <td>189</td>\n",
              "      <td>서귀포</td>\n",
              "      <td>1962-07-30</td>\n",
              "      <td>28.3</td>\n",
              "      <td>26.8</td>\n",
              "      <td>NaN</td>\n",
              "      <td>30.9</td>\n",
              "      <td>NaN</td>\n",
              "      <td>1962</td>\n",
              "    </tr>\n",
              "    <tr>\n",
              "      <th>52087</th>\n",
              "      <td>189</td>\n",
              "      <td>서귀포</td>\n",
              "      <td>1962-08-04</td>\n",
              "      <td>25.2</td>\n",
              "      <td>23.8</td>\n",
              "      <td>NaN</td>\n",
              "      <td>27.6</td>\n",
              "      <td>NaN</td>\n",
              "      <td>1962</td>\n",
              "    </tr>\n",
              "    <tr>\n",
              "      <th>52090</th>\n",
              "      <td>189</td>\n",
              "      <td>서귀포</td>\n",
              "      <td>1962-08-07</td>\n",
              "      <td>26.1</td>\n",
              "      <td>25.0</td>\n",
              "      <td>NaN</td>\n",
              "      <td>28.0</td>\n",
              "      <td>NaN</td>\n",
              "      <td>1962</td>\n",
              "    </tr>\n",
              "    <tr>\n",
              "      <th>52129</th>\n",
              "      <td>189</td>\n",
              "      <td>서귀포</td>\n",
              "      <td>1962-09-15</td>\n",
              "      <td>23.5</td>\n",
              "      <td>20.4</td>\n",
              "      <td>NaN</td>\n",
              "      <td>26.5</td>\n",
              "      <td>NaN</td>\n",
              "      <td>1962</td>\n",
              "    </tr>\n",
              "  </tbody>\n",
              "</table>\n",
              "<p>380 rows × 9 columns</p>\n",
              "</div>\n",
              "      <button class=\"colab-df-convert\" onclick=\"convertToInteractive('df-a463d1d6-9295-4dec-8389-528bf8b8a2e4')\"\n",
              "              title=\"Convert this dataframe to an interactive table.\"\n",
              "              style=\"display:none;\">\n",
              "        \n",
              "  <svg xmlns=\"http://www.w3.org/2000/svg\" height=\"24px\"viewBox=\"0 0 24 24\"\n",
              "       width=\"24px\">\n",
              "    <path d=\"M0 0h24v24H0V0z\" fill=\"none\"/>\n",
              "    <path d=\"M18.56 5.44l.94 2.06.94-2.06 2.06-.94-2.06-.94-.94-2.06-.94 2.06-2.06.94zm-11 1L8.5 8.5l.94-2.06 2.06-.94-2.06-.94L8.5 2.5l-.94 2.06-2.06.94zm10 10l.94 2.06.94-2.06 2.06-.94-2.06-.94-.94-2.06-.94 2.06-2.06.94z\"/><path d=\"M17.41 7.96l-1.37-1.37c-.4-.4-.92-.59-1.43-.59-.52 0-1.04.2-1.43.59L10.3 9.45l-7.72 7.72c-.78.78-.78 2.05 0 2.83L4 21.41c.39.39.9.59 1.41.59.51 0 1.02-.2 1.41-.59l7.78-7.78 2.81-2.81c.8-.78.8-2.07 0-2.86zM5.41 20L4 18.59l7.72-7.72 1.47 1.35L5.41 20z\"/>\n",
              "  </svg>\n",
              "      </button>\n",
              "      \n",
              "  <style>\n",
              "    .colab-df-container {\n",
              "      display:flex;\n",
              "      flex-wrap:wrap;\n",
              "      gap: 12px;\n",
              "    }\n",
              "\n",
              "    .colab-df-convert {\n",
              "      background-color: #E8F0FE;\n",
              "      border: none;\n",
              "      border-radius: 50%;\n",
              "      cursor: pointer;\n",
              "      display: none;\n",
              "      fill: #1967D2;\n",
              "      height: 32px;\n",
              "      padding: 0 0 0 0;\n",
              "      width: 32px;\n",
              "    }\n",
              "\n",
              "    .colab-df-convert:hover {\n",
              "      background-color: #E2EBFA;\n",
              "      box-shadow: 0px 1px 2px rgba(60, 64, 67, 0.3), 0px 1px 3px 1px rgba(60, 64, 67, 0.15);\n",
              "      fill: #174EA6;\n",
              "    }\n",
              "\n",
              "    [theme=dark] .colab-df-convert {\n",
              "      background-color: #3B4455;\n",
              "      fill: #D2E3FC;\n",
              "    }\n",
              "\n",
              "    [theme=dark] .colab-df-convert:hover {\n",
              "      background-color: #434B5C;\n",
              "      box-shadow: 0px 1px 3px 1px rgba(0, 0, 0, 0.15);\n",
              "      filter: drop-shadow(0px 1px 2px rgba(0, 0, 0, 0.3));\n",
              "      fill: #FFFFFF;\n",
              "    }\n",
              "  </style>\n",
              "\n",
              "      <script>\n",
              "        const buttonEl =\n",
              "          document.querySelector('#df-a463d1d6-9295-4dec-8389-528bf8b8a2e4 button.colab-df-convert');\n",
              "        buttonEl.style.display =\n",
              "          google.colab.kernel.accessAllowed ? 'block' : 'none';\n",
              "\n",
              "        async function convertToInteractive(key) {\n",
              "          const element = document.querySelector('#df-a463d1d6-9295-4dec-8389-528bf8b8a2e4');\n",
              "          const dataTable =\n",
              "            await google.colab.kernel.invokeFunction('convertToInteractive',\n",
              "                                                     [key], {});\n",
              "          if (!dataTable) return;\n",
              "\n",
              "          const docLinkHtml = 'Like what you see? Visit the ' +\n",
              "            '<a target=\"_blank\" href=https://colab.research.google.com/notebooks/data_table.ipynb>data table notebook</a>'\n",
              "            + ' to learn more about interactive tables.';\n",
              "          element.innerHTML = '';\n",
              "          dataTable['output_type'] = 'display_data';\n",
              "          await google.colab.output.renderOutput(dataTable, element);\n",
              "          const docLink = document.createElement('div');\n",
              "          docLink.innerHTML = docLinkHtml;\n",
              "          element.appendChild(docLink);\n",
              "        }\n",
              "      </script>\n",
              "    </div>\n",
              "  </div>\n",
              "  "
            ]
          },
          "metadata": {},
          "execution_count": 20
        }
      ]
    },
    {
      "cell_type": "code",
      "source": [
        "all_year_1962[codition].value_counts('지점명')"
      ],
      "metadata": {
        "id": "5JB8p8DLTIRX",
        "outputId": "82069138-af9a-42ea-9101-489eb2e3a8e5",
        "colab": {
          "base_uri": "https://localhost:8080/"
        }
      },
      "execution_count": 21,
      "outputs": [
        {
          "output_type": "execute_result",
          "data": {
            "text/plain": [
              "지점명\n",
              "강릉     95\n",
              "광주     90\n",
              "목포     90\n",
              "전주     90\n",
              "서귀포     7\n",
              "울릉도     4\n",
              "추풍령     3\n",
              "인천      1\n",
              "dtype: int64"
            ]
          },
          "metadata": {},
          "execution_count": 21
        }
      ]
    },
    {
      "cell_type": "code",
      "source": [
        "!sudo apt-get install -y fonts-nanum\n",
        "!sudo fc-cache -fv\n",
        "!rm ~/.cache/matplotlib -rf"
      ],
      "metadata": {
        "id": "ibAL8gihcY36",
        "colab": {
          "base_uri": "https://localhost:8080/"
        },
        "outputId": "bb7c2679-1948-4bce-be56-0608789cb05d"
      },
      "execution_count": 22,
      "outputs": [
        {
          "output_type": "stream",
          "name": "stdout",
          "text": [
            "Reading package lists... Done\n",
            "Building dependency tree       \n",
            "Reading state information... Done\n",
            "fonts-nanum is already the newest version (20170925-1).\n",
            "The following package was automatically installed and is no longer required:\n",
            "  libnvidia-common-460\n",
            "Use 'sudo apt autoremove' to remove it.\n",
            "0 upgraded, 0 newly installed, 0 to remove and 49 not upgraded.\n",
            "/usr/share/fonts: caching, new cache contents: 0 fonts, 1 dirs\n",
            "/usr/share/fonts/truetype: caching, new cache contents: 0 fonts, 3 dirs\n",
            "/usr/share/fonts/truetype/humor-sans: caching, new cache contents: 1 fonts, 0 dirs\n",
            "/usr/share/fonts/truetype/liberation: caching, new cache contents: 16 fonts, 0 dirs\n",
            "/usr/share/fonts/truetype/nanum: caching, new cache contents: 10 fonts, 0 dirs\n",
            "/usr/local/share/fonts: caching, new cache contents: 0 fonts, 0 dirs\n",
            "/root/.local/share/fonts: skipping, no such directory\n",
            "/root/.fonts: skipping, no such directory\n",
            "/var/cache/fontconfig: cleaning cache directory\n",
            "/root/.cache/fontconfig: not cleaning non-existent cache directory\n",
            "/root/.fontconfig: not cleaning non-existent cache directory\n",
            "fc-cache: succeeded\n"
          ]
        }
      ]
    },
    {
      "cell_type": "code",
      "source": [
        "import matplotlib.pyplot as plt\n",
        "plt.rc('font', family='NanumBarunGothic') "
      ],
      "metadata": {
        "id": "Shhnf7kVa5ES"
      },
      "execution_count": 23,
      "outputs": []
    },
    {
      "cell_type": "markdown",
      "source": [
        "### 지점별 최저, 최고, 평균 시각화"
      ],
      "metadata": {
        "id": "GfUsBMoRb5Mb"
      }
    },
    {
      "cell_type": "code",
      "source": [
        "all_year_mean = all_year_1962.groupby('지점명')['평균기온(°C)'].mean().sort_values(ascending=False)\n",
        "all_year_mean"
      ],
      "metadata": {
        "id": "O3d0q7ldR2nR",
        "colab": {
          "base_uri": "https://localhost:8080/"
        },
        "outputId": "b1fef612-e7a9-4210-f290-bd7f85d8e404"
      },
      "execution_count": 24,
      "outputs": [
        {
          "output_type": "execute_result",
          "data": {
            "text/plain": [
              "지점명\n",
              "제주     15.169041\n",
              "서귀포    15.006301\n",
              "부산     14.061370\n",
              "여수     13.790137\n",
              "목포     13.771781\n",
              "포항     13.467123\n",
              "울산     13.362192\n",
              "대구     13.214521\n",
              "광주     13.016438\n",
              "전주     12.867123\n",
              "강릉     12.729041\n",
              "울릉도    12.091233\n",
              "추풍령    11.837260\n",
              "서울     11.756986\n",
              "인천     11.467945\n",
              "Name: 평균기온(°C), dtype: float64"
            ]
          },
          "metadata": {},
          "execution_count": 24
        }
      ]
    },
    {
      "cell_type": "code",
      "source": [
        "plt.figure(figsize=(15,5))\n",
        "plt.bar(all_year_mean.index, all_year_mean.values)\n",
        "plt.xticks(rotation=45)\n",
        "\n",
        "mean = all_year_mean.mean()\n",
        "plt.axhline(mean, ls='--', color='green',  label='{0}{1:.2f}'.format('mean',mean))\n",
        "max = all_year_mean.max()\n",
        "plt.axhline(max, ls='--', color='red',  label='{0:.2f}'.format(max))\n",
        "min = all_year_mean.min()\n",
        "plt.axhline(min, ls='--', color='yellow',  label='{0:.2f}'.format(min))\n",
        "plt.legend()\n",
        "\n",
        "plt.bar('여수', all_year_mean.loc['여수'])\n",
        "text = '{0}({1:.2f})'.format('여수', all_year_mean.loc['여수'])\n",
        "plt.text('여수', all_year_mean.loc['여수']+0.5, text, ha='center')\n",
        "\n",
        "plt.grid(ls=':')\n",
        "plt.title('All area', size=20)\n",
        "plt.tight_layout()\n",
        "plt.show()"
      ],
      "metadata": {
        "colab": {
          "base_uri": "https://localhost:8080/",
          "height": 369
        },
        "id": "bmHdCLdDgIaU",
        "outputId": "54998049-95ce-46b8-aa25-fdb38ec34046"
      },
      "execution_count": 25,
      "outputs": [
        {
          "output_type": "display_data",
          "data": {
            "text/plain": [
              "<Figure size 1080x360 with 1 Axes>"
            ],
            "image/png": "[encoded data removed]"
          },
          "metadata": {
            "needs_background": "light"
          }
        }
      ]
    },
    {
      "cell_type": "markdown",
      "source": [
        "###지점별 기온분포 시각화 - 히스토그램"
      ],
      "metadata": {
        "id": "_jKiCaa0eDXQ"
      }
    },
    {
      "cell_type": "code",
      "source": [
        "all_year_min = all_year_1962.groupby('지점명')['평균기온(°C)'].min().sort_values(ascending=False)\n",
        "all_year_max = all_year_1962.groupby('지점명')['평균기온(°C)'].max().sort_values(ascending=False)\n"
      ],
      "metadata": {
        "id": "WvZjzmd8cCVs"
      },
      "execution_count": 26,
      "outputs": []
    },
    {
      "cell_type": "code",
      "source": [
        "fig = plt.figure(figsize=(15,5))\n",
        "plt.subplot(1,3,1)\n",
        "plt.plot(all_year_mean)\n",
        "plt.title('Mean', size=15)\n",
        "\n",
        "plt.subplot(1,3,2)\n",
        "plt.plot(all_year_min)\n",
        "plt.title('Min', size=15)\n",
        "\n",
        "plt.subplot(1,3,3)\n",
        "plt.plot(all_year_max)\n",
        "plt.title('Max', size=15)\n",
        "\n",
        "fig.suptitle('Seoul Temperature', size=20)\n",
        "fig.tight_layout()\n",
        "plt.show()"
      ],
      "metadata": {
        "colab": {
          "base_uri": "https://localhost:8080/",
          "height": 444
        },
        "id": "_iASsX73quSC",
        "outputId": "5cce0535-161f-43cd-e9b9-867a5aa0a8db"
      },
      "execution_count": 27,
      "outputs": [
        {
          "output_type": "stream",
          "name": "stderr",
          "text": [
            "/usr/local/lib/python3.7/dist-packages/matplotlib/backends/backend_agg.py:214: RuntimeWarning: Glyph 8722 missing from current font.\n",
            "  font.set_text(s, 0.0, flags=flags)\n",
            "/usr/local/lib/python3.7/dist-packages/matplotlib/backends/backend_agg.py:183: RuntimeWarning: Glyph 8722 missing from current font.\n",
            "  font.set_text(s, 0, flags=flags)\n"
          ]
        },
        {
          "output_type": "display_data",
          "data": {
            "text/plain": [
              "<Figure size 1080x360 with 3 Axes>"
            ],
            "image/png": "[encoded data removed]"
          },
          "metadata": {
            "needs_background": "light"
          }
        }
      ]
    },
    {
      "cell_type": "code",
      "source": [
        "all_year_temperatures = [all_year_mean, all_year_min, all_year_max]"
      ],
      "metadata": {
        "id": "k5HEE4VzrSZP"
      },
      "execution_count": 28,
      "outputs": []
    },
    {
      "cell_type": "code",
      "source": [
        "len(all_year_temperatures)"
      ],
      "metadata": {
        "id": "0jLl1VsJwFYz",
        "colab": {
          "base_uri": "https://localhost:8080/"
        },
        "outputId": "57e1afa4-9037-4be6-ed50-758332cfed45"
      },
      "execution_count": 29,
      "outputs": [
        {
          "output_type": "execute_result",
          "data": {
            "text/plain": [
              "3"
            ]
          },
          "metadata": {},
          "execution_count": 29
        }
      ]
    },
    {
      "cell_type": "code",
      "source": [
        "plt.figure(figsize=(15,7))\n",
        "for index, temperature in enumerate(all_year_temperatures) :\n",
        "  plt.plot(temperature, '.', label='{}'.format(index))\n",
        "  plt.axhline(temperature.min(), color='gray', ls='--')\n",
        "  plt.axhline(temperature.max(), color='gray', ls='--')\n",
        "  \n",
        "plt.grid(ls=':')\n",
        "plt.legend(loc=(0,1.0), ncol=3)\n",
        "plt.title('Seoul Temperature')\n",
        "\n",
        "plt.show()"
      ],
      "metadata": {
        "colab": {
          "base_uri": "https://localhost:8080/",
          "height": 517
        },
        "id": "Cy2J8lTTqUMa",
        "outputId": "d9ebe952-56f3-4de7-8219-7c5dbfc1d267"
      },
      "execution_count": 30,
      "outputs": [
        {
          "output_type": "stream",
          "name": "stderr",
          "text": [
            "/usr/local/lib/python3.7/dist-packages/matplotlib/backends/backend_agg.py:214: RuntimeWarning: Glyph 8722 missing from current font.\n",
            "  font.set_text(s, 0.0, flags=flags)\n",
            "/usr/local/lib/python3.7/dist-packages/matplotlib/backends/backend_agg.py:183: RuntimeWarning: Glyph 8722 missing from current font.\n",
            "  font.set_text(s, 0, flags=flags)\n"
          ]
        },
        {
          "output_type": "display_data",
          "data": {
            "text/plain": [
              "<Figure size 1080x504 with 1 Axes>"
            ],
            "image/png": "[encoded data removed]"
          },
          "metadata": {
            "needs_background": "light"
          }
        }
      ]
    },
    {
      "cell_type": "markdown",
      "source": [
        "##특정 지점별 일 평균 기온 히스토그램"
      ],
      "metadata": {
        "id": "3n7W7-COTYfy"
      }
    },
    {
      "cell_type": "code",
      "source": [
        "all_year_1962.columns"
      ],
      "metadata": {
        "id": "TJPnwAxOs9N_",
        "colab": {
          "base_uri": "https://localhost:8080/"
        },
        "outputId": "076d3901-a3d0-4813-b303-ccf812df1540"
      },
      "execution_count": 32,
      "outputs": [
        {
          "output_type": "execute_result",
          "data": {
            "text/plain": [
              "Index(['지점', '지점명', '일시', '평균기온(°C)', '최저기온(°C)', '최저기온 시각(hhmi)', '최고기온(°C)',\n",
              "       '최고기온 시각(hhmi)', 'year'],\n",
              "      dtype='object')"
            ]
          },
          "metadata": {},
          "execution_count": 32
        }
      ]
    },
    {
      "cell_type": "code",
      "source": [
        "all_year_1962['지점명'].unique()"
      ],
      "metadata": {
        "colab": {
          "base_uri": "https://localhost:8080/"
        },
        "id": "qoMuV5qaTvJ5",
        "outputId": "619f3d2b-4976-4f48-8ab6-f3359a057cf6"
      },
      "execution_count": 33,
      "outputs": [
        {
          "output_type": "execute_result",
          "data": {
            "text/plain": [
              "array(['강릉', '서울', '인천', '울릉도', '추풍령', '포항', '대구', '전주', '울산', '광주', '부산',\n",
              "       '목포', '여수', '제주', '서귀포'], dtype=object)"
            ]
          },
          "metadata": {},
          "execution_count": 33
        }
      ]
    },
    {
      "cell_type": "code",
      "source": [
        "jeju_1962 = all_year_1962[all_year_1962['지점명']=='제주'].copy()\n",
        "# jeju_1962\n",
        "deagu_1962 = all_year_1962[all_year_1962['지점명']=='대구'].copy()\n",
        "incheon_1962 = all_year_1962[all_year_1962['지점명']=='인천'].copy()"
      ],
      "metadata": {
        "id": "QPGD8SsqT8OM"
      },
      "execution_count": 35,
      "outputs": []
    },
    {
      "cell_type": "markdown",
      "source": [
        "###히스토그램"
      ],
      "metadata": {
        "id": "EcWcA_07U-go"
      }
    },
    {
      "cell_type": "code",
      "source": [
        "# plt.rcParams"
      ],
      "metadata": {
        "id": "Qf8BuMC_WGeM"
      },
      "execution_count": 45,
      "outputs": []
    },
    {
      "cell_type": "code",
      "source": [
        "plt.rcParams['hatch.color'] = 'w'\n",
        "fig, ax = plt.subplots(1,3, figsize=(15,5), sharex=True, sharey=True)\n",
        "\n",
        "ax[0].hist(jeju_1962['평균기온(°C)'], rwidth=0.9, hatch='//', )\n",
        "ax[0].set_title('jeju_1962')\n",
        "ax[0].set_xlabel('Temperature')\n",
        "ax[0].set_ylabel('day count')\n",
        "mean = jeju_1962['평균기온(°C)'].mean()\n",
        "ax[0].axvline(mean, color='red', ls=':')\n",
        "# ax[0].text()\n",
        "\n",
        "ax[1].hist(deagu_1962['평균기온(°C)'], rwidth=0.9, hatch='-', )\n",
        "ax[1].set_title('deagu_1962')\n",
        "ax[1].set_xlabel('Temperature')\n",
        "ax[1].set_ylabel('day count')\n",
        "mean = deagu_1962['평균기온(°C)'].mean()\n",
        "ax[1].axvline(mean, color='red', ls=':')\n",
        "\n",
        "ax[2].hist(incheon_1962['평균기온(°C)'], rwidth=0.9, hatch='XX', )\n",
        "ax[2].set_title('incheon_1962')\n",
        "ax[2].set_xlabel('Temperature')\n",
        "ax[2].set_ylabel('day count')\n",
        "mean = incheon_1962['평균기온(°C)'].mean()\n",
        "ax[2].axvline(mean, color='red', ls=':')\n",
        "\n",
        "plt.show()"
      ],
      "metadata": {
        "colab": {
          "base_uri": "https://localhost:8080/",
          "height": 349
        },
        "id": "OD-5f4waUi4O",
        "outputId": "8ed04d3e-4ba8-43b8-f9ca-b42334c7c7ee"
      },
      "execution_count": 60,
      "outputs": [
        {
          "output_type": "display_data",
          "data": {
            "text/plain": [
              "<Figure size 1080x360 with 3 Axes>"
            ],
            "image/png": "[encoded data removed]"
          },
          "metadata": {
            "needs_background": "light"
          }
        }
      ]
    },
    {
      "cell_type": "code",
      "source": [
        ""
      ],
      "metadata": {
        "id": "TnDmnKhbVJxX"
      },
      "execution_count": null,
      "outputs": []
    }
  ]
}